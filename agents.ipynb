{
  "nbformat": 4,
  "nbformat_minor": 0,
  "metadata": {
    "colab": {
      "name": "agents.ipynb",
      "version": "0.3.2",
      "provenance": [],
      "toc_visible": true,
      "include_colab_link": true
    },
    "kernelspec": {
      "display_name": "Python 3",
      "language": "python",
      "name": "python3"
    }
  },
  "cells": [
    {
      "cell_type": "markdown",
      "metadata": {
        "id": "view-in-github",
        "colab_type": "text"
      },
      "source": [
        "<a href=\"https://colab.research.google.com/github/tofighi/aima/blob/master/agents.ipynb\" target=\"_parent\"><img src=\"https://colab.research.google.com/assets/colab-badge.svg\" alt=\"Open In Colab\"/></a>"
      ]
    },
    {
      "metadata": {
        "id": "O23GWZAph8pk",
        "colab_type": "text"
      },
      "cell_type": "markdown",
      "source": [
        "\n",
        "# AGENT #\n",
        "\n",
        "An agent, as defined in 2.1 is anything that can perceive its <b>environment</b> through sensors, and act upon that environment through actuators based on its <b>agent program</b>. This can be a dog, robot, or even you. As long as you can perceive the environment and act on it, you are an agent. This notebook will explain how to implement a simple agent, create an environment, and create a program that helps the agent act on the environment based on its percepts.\n",
        "\n",
        "Before moving on, review the <b>Agent</b> and <b>Environment</b> classes in [<b>agents.py</b>](https://github.com/aimacode/aima-python/blob/master/agents.py).\n",
        "\n",
        "Let's begin by importing all the functions from the agents.py module and creating our first agent - a blind dog."
      ]
    },
    {
      "metadata": {
        "id": "msKkOWbHiAf5",
        "colab_type": "code",
        "colab": {
          "base_uri": "https://localhost:8080/",
          "height": 700
        },
        "outputId": "9a745e26-0ec8-46ff-b85e-723ac48c4518"
      },
      "cell_type": "code",
      "source": [
        "#Colab edition by Ghassem Tofighi\n",
        "#Download and extract all necessary files\n",
        "!rm -rf /content/*\n",
        "!wget https://github.com/aimacode/aima-python/archive/master.zip 2>/dev/null\n",
        "!unzip -q master.zip \n",
        "!mv aima-python-master/* /content \n",
        "!wget https://github.com/aimacode/aima-data/archive/f6cbea61ad0c21c6b7be826d17af5a8d3a7c2c86.zip 2>/dev/null \n",
        "!unzip -q f6cbea61ad0c21c6b7be826d17af5a8d3a7c2c86.zip \n",
        "!rm -rf aima-data \n",
        "!mv aima-data-f6cbea61ad0c21c6b7be826d17af5a8d3a7c2c86 aima-data\n",
        "#Install Libraries\n",
        "!pip install ipythonblocks 2>/dev/null"
      ],
      "execution_count": 1,
      "outputs": [
        {
          "output_type": "stream",
          "text": [
            "Requirement already satisfied: ipythonblocks in /usr/local/lib/python3.6/dist-packages (1.8.0)\n",
            "Requirement already satisfied: ipython>=4.0 in /usr/local/lib/python3.6/dist-packages (from ipythonblocks) (5.5.0)\n",
            "Requirement already satisfied: requests>=1.0 in /usr/local/lib/python3.6/dist-packages (from ipythonblocks) (2.18.4)\n",
            "Requirement already satisfied: notebook>=4.0 in /usr/local/lib/python3.6/dist-packages (from ipythonblocks) (5.2.2)\n",
            "Requirement already satisfied: simplegeneric>0.8 in /usr/local/lib/python3.6/dist-packages (from ipython>=4.0->ipythonblocks) (0.8.1)\n",
            "Requirement already satisfied: pickleshare in /usr/local/lib/python3.6/dist-packages (from ipython>=4.0->ipythonblocks) (0.7.5)\n",
            "Requirement already satisfied: prompt-toolkit<2.0.0,>=1.0.4 in /usr/local/lib/python3.6/dist-packages (from ipython>=4.0->ipythonblocks) (1.0.15)\n",
            "Requirement already satisfied: decorator in /usr/local/lib/python3.6/dist-packages (from ipython>=4.0->ipythonblocks) (4.3.2)\n",
            "Requirement already satisfied: pygments in /usr/local/lib/python3.6/dist-packages (from ipython>=4.0->ipythonblocks) (2.1.3)\n",
            "Requirement already satisfied: setuptools>=18.5 in /usr/local/lib/python3.6/dist-packages (from ipython>=4.0->ipythonblocks) (40.8.0)\n",
            "Requirement already satisfied: traitlets>=4.2 in /usr/local/lib/python3.6/dist-packages (from ipython>=4.0->ipythonblocks) (4.3.2)\n",
            "Requirement already satisfied: pexpect; sys_platform != \"win32\" in /usr/local/lib/python3.6/dist-packages (from ipython>=4.0->ipythonblocks) (4.6.0)\n",
            "Requirement already satisfied: idna<2.7,>=2.5 in /usr/local/lib/python3.6/dist-packages (from requests>=1.0->ipythonblocks) (2.6)\n",
            "Requirement already satisfied: urllib3<1.23,>=1.21.1 in /usr/local/lib/python3.6/dist-packages (from requests>=1.0->ipythonblocks) (1.22)\n",
            "Requirement already satisfied: chardet<3.1.0,>=3.0.2 in /usr/local/lib/python3.6/dist-packages (from requests>=1.0->ipythonblocks) (3.0.4)\n",
            "Requirement already satisfied: certifi>=2017.4.17 in /usr/local/lib/python3.6/dist-packages (from requests>=1.0->ipythonblocks) (2018.11.29)\n",
            "Requirement already satisfied: nbconvert in /usr/local/lib/python3.6/dist-packages (from notebook>=4.0->ipythonblocks) (5.4.1)\n",
            "Requirement already satisfied: jupyter-client in /usr/local/lib/python3.6/dist-packages (from notebook>=4.0->ipythonblocks) (5.2.4)\n",
            "Requirement already satisfied: ipykernel in /usr/local/lib/python3.6/dist-packages (from notebook>=4.0->ipythonblocks) (4.6.1)\n",
            "Requirement already satisfied: jinja2 in /usr/local/lib/python3.6/dist-packages (from notebook>=4.0->ipythonblocks) (2.10)\n",
            "Requirement already satisfied: jupyter-core in /usr/local/lib/python3.6/dist-packages (from notebook>=4.0->ipythonblocks) (4.4.0)\n",
            "Requirement already satisfied: nbformat in /usr/local/lib/python3.6/dist-packages (from notebook>=4.0->ipythonblocks) (4.4.0)\n",
            "Requirement already satisfied: tornado>=4 in /usr/local/lib/python3.6/dist-packages (from notebook>=4.0->ipythonblocks) (4.5.3)\n",
            "Requirement already satisfied: ipython-genutils in /usr/local/lib/python3.6/dist-packages (from notebook>=4.0->ipythonblocks) (0.2.0)\n",
            "Requirement already satisfied: terminado>=0.3.3; sys_platform != \"win32\" in /usr/local/lib/python3.6/dist-packages (from notebook>=4.0->ipythonblocks) (0.8.1)\n",
            "Requirement already satisfied: six>=1.9.0 in /usr/local/lib/python3.6/dist-packages (from prompt-toolkit<2.0.0,>=1.0.4->ipython>=4.0->ipythonblocks) (1.11.0)\n",
            "Requirement already satisfied: wcwidth in /usr/local/lib/python3.6/dist-packages (from prompt-toolkit<2.0.0,>=1.0.4->ipython>=4.0->ipythonblocks) (0.1.7)\n",
            "Requirement already satisfied: ptyprocess>=0.5 in /usr/local/lib/python3.6/dist-packages (from pexpect; sys_platform != \"win32\"->ipython>=4.0->ipythonblocks) (0.6.0)\n",
            "Requirement already satisfied: bleach in /usr/local/lib/python3.6/dist-packages (from nbconvert->notebook>=4.0->ipythonblocks) (3.1.0)\n",
            "Requirement already satisfied: defusedxml in /usr/local/lib/python3.6/dist-packages (from nbconvert->notebook>=4.0->ipythonblocks) (0.5.0)\n",
            "Requirement already satisfied: entrypoints>=0.2.2 in /usr/local/lib/python3.6/dist-packages (from nbconvert->notebook>=4.0->ipythonblocks) (0.3)\n",
            "Requirement already satisfied: testpath in /usr/local/lib/python3.6/dist-packages (from nbconvert->notebook>=4.0->ipythonblocks) (0.4.2)\n",
            "Requirement already satisfied: mistune>=0.8.1 in /usr/local/lib/python3.6/dist-packages (from nbconvert->notebook>=4.0->ipythonblocks) (0.8.4)\n",
            "Requirement already satisfied: pandocfilters>=1.4.1 in /usr/local/lib/python3.6/dist-packages (from nbconvert->notebook>=4.0->ipythonblocks) (1.4.2)\n",
            "Requirement already satisfied: pyzmq>=13 in /usr/local/lib/python3.6/dist-packages (from jupyter-client->notebook>=4.0->ipythonblocks) (17.0.0)\n",
            "Requirement already satisfied: python-dateutil>=2.1 in /usr/local/lib/python3.6/dist-packages (from jupyter-client->notebook>=4.0->ipythonblocks) (2.5.3)\n",
            "Requirement already satisfied: MarkupSafe>=0.23 in /usr/local/lib/python3.6/dist-packages (from jinja2->notebook>=4.0->ipythonblocks) (1.1.0)\n",
            "Requirement already satisfied: jsonschema!=2.5.0,>=2.4 in /usr/local/lib/python3.6/dist-packages (from nbformat->notebook>=4.0->ipythonblocks) (2.6.0)\n",
            "Requirement already satisfied: webencodings in /usr/local/lib/python3.6/dist-packages (from bleach->nbconvert->notebook>=4.0->ipythonblocks) (0.5.1)\n"
          ],
          "name": "stdout"
        }
      ]
    },
    {
      "metadata": {
        "id": "VMXgCZh9h8pm",
        "colab_type": "code",
        "colab": {
          "base_uri": "https://localhost:8080/",
          "height": 34
        },
        "outputId": "6b1c3f64-7fbd-47d1-ab7e-11f873a04500"
      },
      "cell_type": "code",
      "source": [
        "from agents import *\n",
        "\n",
        "class BlindDog(Agent):\n",
        "    def eat(self, thing):\n",
        "        print(\"Dog: Ate food at {}.\".format(self.location))\n",
        "            \n",
        "    def drink(self, thing):\n",
        "        print(\"Dog: Drank water at {}.\".format( self.location))\n",
        "\n",
        "dog = BlindDog()"
      ],
      "execution_count": 2,
      "outputs": [
        {
          "output_type": "stream",
          "text": [
            "Can't find a valid program for BlindDog, falling back to default.\n"
          ],
          "name": "stdout"
        }
      ]
    },
    {
      "metadata": {
        "id": "ppb8xOAvh8pq",
        "colab_type": "text"
      },
      "cell_type": "markdown",
      "source": [
        "What we have just done is create a dog who can only feel what's in his location (since he's blind), and can eat or drink. Let's see if he's alive..."
      ]
    },
    {
      "metadata": {
        "id": "xsQnaV49h8pr",
        "colab_type": "code",
        "colab": {
          "base_uri": "https://localhost:8080/",
          "height": 34
        },
        "outputId": "6c39d5b2-6a24-422e-982e-42d79bfccc6e"
      },
      "cell_type": "code",
      "source": [
        "print(dog.alive)"
      ],
      "execution_count": 3,
      "outputs": [
        {
          "output_type": "stream",
          "text": [
            "True\n"
          ],
          "name": "stdout"
        }
      ]
    },
    {
      "metadata": {
        "id": "jdF4tByMh8pv",
        "colab_type": "text"
      },
      "cell_type": "markdown",
      "source": [
        "![Cool dog](https://gifgun.files.wordpress.com/2015/07/wpid-wp-1435860392895.gif)\n",
        "This is our dog. How cool is he? Well, he's hungry and needs to go search for food. For him to do this, we need to give him a program. But before that, let's create a park for our dog to play in."
      ]
    },
    {
      "metadata": {
        "id": "Xz-bT7Fhh8pv",
        "colab_type": "text"
      },
      "cell_type": "markdown",
      "source": [
        "# ENVIRONMENT #\n",
        "\n",
        "A park is an example of an environment because our dog can perceive and act upon it. The <b>Environment</b> class in agents.py is an abstract class, so we will have to create our own subclass from it before we can use it. The abstract class must contain the following methods:\n",
        "\n",
        "<li><b>percept(self, agent)</b> - returns what the agent perceives</li>\n",
        "<li><b>execute_action(self, agent, action)</b> - changes the state of the environment based on what the agent does.</li>"
      ]
    },
    {
      "metadata": {
        "id": "Qtv_R9Ysh8pv",
        "colab_type": "code",
        "colab": {}
      },
      "cell_type": "code",
      "source": [
        "class Food(Thing):\n",
        "    pass\n",
        "\n",
        "class Water(Thing):\n",
        "    pass\n",
        "\n",
        "class Park(Environment):\n",
        "    def percept(self, agent):\n",
        "        '''return a list of things that are in our agent's location'''\n",
        "        things = self.list_things_at(agent.location)\n",
        "        return things\n",
        "    \n",
        "    def execute_action(self, agent, action):\n",
        "        '''changes the state of the environment based on what the agent does.'''\n",
        "        if action == \"move down\":\n",
        "            print('{} decided to {} at location: {}'.format(str(agent)[1:-1], action, agent.location))\n",
        "            agent.movedown()\n",
        "        elif action == \"eat\":\n",
        "            items = self.list_things_at(agent.location, tclass=Food)\n",
        "            if len(items) != 0:\n",
        "                if agent.eat(items[0]): #Have the dog eat the first item\n",
        "                    print('{} ate {} at location: {}'\n",
        "                          .format(str(agent)[1:-1], str(items[0])[1:-1], agent.location))\n",
        "                    self.delete_thing(items[0]) #Delete it from the Park after.\n",
        "        elif action == \"drink\":\n",
        "            items = self.list_things_at(agent.location, tclass=Water)\n",
        "            if len(items) != 0:\n",
        "                if agent.drink(items[0]): #Have the dog drink the first item\n",
        "                    print('{} drank {} at location: {}'\n",
        "                          .format(str(agent)[1:-1], str(items[0])[1:-1], agent.location))\n",
        "                    self.delete_thing(items[0]) #Delete it from the Park after.\n",
        "\n",
        "    def is_done(self):\n",
        "        '''By default, we're done when we can't find a live agent, \n",
        "        but to prevent killing our cute dog, we will stop before itself - when there is no more food or water'''\n",
        "        no_edibles = not any(isinstance(thing, Food) or isinstance(thing, Water) for thing in self.things)\n",
        "        dead_agents = not any(agent.is_alive() for agent in self.agents)\n",
        "        return dead_agents or no_edibles\n"
      ],
      "execution_count": 0,
      "outputs": []
    },
    {
      "metadata": {
        "collapsed": true,
        "id": "9KxqQAoLh8py",
        "colab_type": "text"
      },
      "cell_type": "markdown",
      "source": [
        "# PROGRAM - BlindDog #\n",
        "Now that we have a <b>Park</b> Class, we need to implement a <b>program</b> module for our dog. A program controls how the dog acts upon it's environment. Our program will be very simple, and is shown in the table below.\n",
        "<table>\n",
        "    <tr>\n",
        "        <td><b>Percept:</b> </td>\n",
        "        <td>Feel Food </td>\n",
        "        <td>Feel Water</td>\n",
        "        <td>Feel Nothing</td>\n",
        "   </tr>\n",
        "   <tr>\n",
        "       <td><b>Action:</b> </td>\n",
        "       <td>eat</td>\n",
        "       <td>drink</td>\n",
        "       <td>move down</td>\n",
        "   </tr>\n",
        "        \n",
        "</table>\n"
      ]
    },
    {
      "metadata": {
        "id": "ra_BiRsXh8pz",
        "colab_type": "code",
        "colab": {}
      },
      "cell_type": "code",
      "source": [
        "class BlindDog(Agent):\n",
        "    location = 1\n",
        "    \n",
        "    def movedown(self):\n",
        "        self.location += 1\n",
        "        \n",
        "    def eat(self, thing):\n",
        "        '''returns True upon success or False otherwise'''\n",
        "        if isinstance(thing, Food):\n",
        "            return True\n",
        "        return False\n",
        "    \n",
        "    def drink(self, thing):\n",
        "        ''' returns True upon success or False otherwise'''\n",
        "        if isinstance(thing, Water):\n",
        "            return True\n",
        "        return False\n",
        "        \n",
        "def program(percepts):\n",
        "    '''Returns an action based on it's percepts'''\n",
        "    for p in percepts:\n",
        "        if isinstance(p, Food):\n",
        "            return 'eat'\n",
        "        elif isinstance(p, Water):\n",
        "            return 'drink'\n",
        "    return 'move down'"
      ],
      "execution_count": 0,
      "outputs": []
    },
    {
      "metadata": {
        "id": "FOPb43Vgh8p1",
        "colab_type": "text"
      },
      "cell_type": "markdown",
      "source": [
        "Let's now run our simulation by creating a park with some food, water, and our dog."
      ]
    },
    {
      "metadata": {
        "id": "exJ3FUmEh8p2",
        "colab_type": "code",
        "colab": {
          "base_uri": "https://localhost:8080/",
          "height": 102
        },
        "outputId": "16a5f77a-b018-4dbc-b2c4-424d6b6613d8"
      },
      "cell_type": "code",
      "source": [
        "park = Park()\n",
        "dog = BlindDog(program)\n",
        "dogfood = Food()\n",
        "water = Water()\n",
        "park.add_thing(dog, 1)\n",
        "park.add_thing(dogfood, 5)\n",
        "park.add_thing(water, 7)\n",
        "\n",
        "park.run(5)"
      ],
      "execution_count": 6,
      "outputs": [
        {
          "output_type": "stream",
          "text": [
            "BlindDog decided to move down at location: 1\n",
            "BlindDog decided to move down at location: 2\n",
            "BlindDog decided to move down at location: 3\n",
            "BlindDog decided to move down at location: 4\n",
            "BlindDog ate Food at location: 5\n"
          ],
          "name": "stdout"
        }
      ]
    },
    {
      "metadata": {
        "id": "rqv8Q9Leh8p5",
        "colab_type": "text"
      },
      "cell_type": "markdown",
      "source": [
        "Notice that the dog moved from location 1 to 4, over 4 steps, and ate food at location 5 in the 5th step.\n",
        "\n",
        "Let's continue this simulation for 5 more steps."
      ]
    },
    {
      "metadata": {
        "id": "1akMRmVBh8p5",
        "colab_type": "code",
        "colab": {
          "base_uri": "https://localhost:8080/",
          "height": 68
        },
        "outputId": "3b5150ce-6287-4df6-f1a5-b5103d0f9205"
      },
      "cell_type": "code",
      "source": [
        "park.run(5)"
      ],
      "execution_count": 7,
      "outputs": [
        {
          "output_type": "stream",
          "text": [
            "BlindDog decided to move down at location: 5\n",
            "BlindDog decided to move down at location: 6\n",
            "BlindDog drank Water at location: 7\n"
          ],
          "name": "stdout"
        }
      ]
    },
    {
      "metadata": {
        "id": "Xcb83rNfh8p9",
        "colab_type": "text"
      },
      "cell_type": "markdown",
      "source": [
        "Perfect! Note how the simulation stopped after the dog drank the water - exhausting all the food and water ends our simulation, as we had defined before. Let's add some more water and see if our dog can reach it."
      ]
    },
    {
      "metadata": {
        "id": "e4ObE78_h8p9",
        "colab_type": "code",
        "colab": {
          "base_uri": "https://localhost:8080/",
          "height": 170
        },
        "outputId": "656d6c4d-0bd6-49e5-d728-289384311826"
      },
      "cell_type": "code",
      "source": [
        "park.add_thing(water, 15)\n",
        "park.run(10)"
      ],
      "execution_count": 8,
      "outputs": [
        {
          "output_type": "stream",
          "text": [
            "BlindDog decided to move down at location: 7\n",
            "BlindDog decided to move down at location: 8\n",
            "BlindDog decided to move down at location: 9\n",
            "BlindDog decided to move down at location: 10\n",
            "BlindDog decided to move down at location: 11\n",
            "BlindDog decided to move down at location: 12\n",
            "BlindDog decided to move down at location: 13\n",
            "BlindDog decided to move down at location: 14\n",
            "BlindDog drank Water at location: 15\n"
          ],
          "name": "stdout"
        }
      ]
    },
    {
      "metadata": {
        "id": "MPTpTwAwh8qA",
        "colab_type": "text"
      },
      "cell_type": "markdown",
      "source": [
        "This is how to implement an agent, its program, and environment. However, this was a very simple case. Let's try a 2-Dimentional environment now with multiple agents.\n",
        "\n",
        "\n",
        "# 2D Environment #\n",
        "To make our Park 2D, we will need to make it a subclass of <b>XYEnvironment</b> instead of Environment. Please note that our park is indexed in the 4th quadrant of the X-Y plane.\n",
        "\n",
        "We will also eventually add a person to pet the dog."
      ]
    },
    {
      "metadata": {
        "id": "DKwy9QSLh8qB",
        "colab_type": "code",
        "colab": {}
      },
      "cell_type": "code",
      "source": [
        "class Park2D(XYEnvironment):\n",
        "    def percept(self, agent):\n",
        "        '''return a list of things that are in our agent's location'''\n",
        "        things = self.list_things_at(agent.location)\n",
        "        return things\n",
        "    \n",
        "    def execute_action(self, agent, action):\n",
        "        '''changes the state of the environment based on what the agent does.'''\n",
        "        if action == \"move down\":\n",
        "            print('{} decided to {} at location: {}'.format(str(agent)[1:-1], action, agent.location))\n",
        "            agent.movedown()\n",
        "        elif action == \"eat\":\n",
        "            items = self.list_things_at(agent.location, tclass=Food)\n",
        "            if len(items) != 0:\n",
        "                if agent.eat(items[0]): #Have the dog eat the first item\n",
        "                    print('{} ate {} at location: {}'\n",
        "                          .format(str(agent)[1:-1], str(items[0])[1:-1], agent.location))\n",
        "                    self.delete_thing(items[0]) #Delete it from the Park after.\n",
        "        elif action == \"drink\":\n",
        "            items = self.list_things_at(agent.location, tclass=Water)\n",
        "            if len(items) != 0:\n",
        "                if agent.drink(items[0]): #Have the dog drink the first item\n",
        "                    print('{} drank {} at location: {}'\n",
        "                          .format(str(agent)[1:-1], str(items[0])[1:-1], agent.location))\n",
        "                    self.delete_thing(items[0]) #Delete it from the Park after.\n",
        "                    \n",
        "    def is_done(self):\n",
        "        '''By default, we're done when we can't find a live agent, \n",
        "        but to prevent killing our cute dog, we will stop before itself - when there is no more food or water'''\n",
        "        no_edibles = not any(isinstance(thing, Food) or isinstance(thing, Water) for thing in self.things)\n",
        "        dead_agents = not any(agent.is_alive() for agent in self.agents)\n",
        "        return dead_agents or no_edibles\n",
        "\n",
        "class BlindDog(Agent):\n",
        "    location = [0,1] # change location to a 2d value\n",
        "    direction = Direction(\"down\") # variable to store the direction our dog is facing\n",
        "    \n",
        "    def movedown(self):\n",
        "        self.location[1] += 1\n",
        "        \n",
        "    def eat(self, thing):\n",
        "        '''returns True upon success or False otherwise'''\n",
        "        if isinstance(thing, Food):\n",
        "            return True\n",
        "        return False\n",
        "    \n",
        "    def drink(self, thing):\n",
        "        ''' returns True upon success or False otherwise'''\n",
        "        if isinstance(thing, Water):\n",
        "            return True\n",
        "        return False\n",
        "        \n",
        "def program(percepts):\n",
        "    '''Returns an action based on it's percepts'''\n",
        "    for p in percepts:\n",
        "        if isinstance(p, Food):\n",
        "            return 'eat'\n",
        "        elif isinstance(p, Water):\n",
        "            return 'drink'\n",
        "    return 'move down'"
      ],
      "execution_count": 0,
      "outputs": []
    },
    {
      "metadata": {
        "id": "RFBWDpS0h8qD",
        "colab_type": "text"
      },
      "cell_type": "markdown",
      "source": [
        "Now let's test this new park with our same dog, food and water"
      ]
    },
    {
      "metadata": {
        "id": "OPJpvLMHh8qE",
        "colab_type": "code",
        "colab": {
          "base_uri": "https://localhost:8080/",
          "height": 306
        },
        "outputId": "ec612070-bf91-47db-9b53-8a72e7d8e747"
      },
      "cell_type": "code",
      "source": [
        "park = Park2D(5,20) # park width is set to 5, and height to 20\n",
        "dog = BlindDog(program)\n",
        "dogfood = Food()\n",
        "water = Water()\n",
        "park.add_thing(dog, [0,1])\n",
        "park.add_thing(dogfood, [0,5])\n",
        "park.add_thing(water, [0,7])\n",
        "morewater = Water()\n",
        "park.add_thing(morewater, [0,15])\n",
        "park.run(20)"
      ],
      "execution_count": 10,
      "outputs": [
        {
          "output_type": "stream",
          "text": [
            "BlindDog decided to move down at location: [0, 1]\n",
            "BlindDog decided to move down at location: [0, 2]\n",
            "BlindDog decided to move down at location: [0, 3]\n",
            "BlindDog decided to move down at location: [0, 4]\n",
            "BlindDog ate Food at location: [0, 5]\n",
            "BlindDog decided to move down at location: [0, 5]\n",
            "BlindDog decided to move down at location: [0, 6]\n",
            "BlindDog drank Water at location: [0, 7]\n",
            "BlindDog decided to move down at location: [0, 7]\n",
            "BlindDog decided to move down at location: [0, 8]\n",
            "BlindDog decided to move down at location: [0, 9]\n",
            "BlindDog decided to move down at location: [0, 10]\n",
            "BlindDog decided to move down at location: [0, 11]\n",
            "BlindDog decided to move down at location: [0, 12]\n",
            "BlindDog decided to move down at location: [0, 13]\n",
            "BlindDog decided to move down at location: [0, 14]\n",
            "BlindDog drank Water at location: [0, 15]\n"
          ],
          "name": "stdout"
        }
      ]
    },
    {
      "metadata": {
        "id": "YCykb7Xbh8qI",
        "colab_type": "text"
      },
      "cell_type": "markdown",
      "source": [
        "This works, but our blind dog doesn't make any use of the 2 dimensional space available to him. Let's make our dog more energetic so that he turns and moves forward, instead of always moving down. We'll also need to make appropriate changes to our environment to be able to handle this extra motion.\n",
        "\n",
        "# PROGRAM - EnergeticBlindDog #\n",
        "\n",
        "Let's make our dog turn or move forwards at random - except when he's at the edge of our park - in which case we make him change his direction explicitly by turning to avoid trying to leave the park. Our dog is blind, however, so he wouldn't know which way to turn - he'd just have to try arbitrarily.\n",
        "\n",
        "<table>\n",
        "    <tr>\n",
        "        <td><b>Percept:</b> </td>\n",
        "        <td>Feel Food </td>\n",
        "        <td>Feel Water</td>\n",
        "        <td>Feel Nothing</td>\n",
        "   </tr>\n",
        "   <tr>\n",
        "       <td><b>Action:</b> </td>\n",
        "       <td>eat</td>\n",
        "       <td>drink</td>\n",
        "       <td>\n",
        "       <table>\n",
        "           <tr>\n",
        "               <td><b>Remember being at Edge : </b></td>\n",
        "               <td>At Edge</td>\n",
        "               <td>Not at Edge</td>\n",
        "           </tr>\n",
        "           <tr>\n",
        "               <td><b>Action : </b></td>\n",
        "               <td>Turn Left / Turn Right <br> ( 50% - 50% chance )</td>\n",
        "               <td>Turn Left / Turn Right / Move Forward <br> ( 25% - 25% - 50% chance )</td>\n",
        "           </tr>\n",
        "       </table>\n",
        "       </td>\n",
        "   </tr>\n",
        "        \n",
        "</table>"
      ]
    },
    {
      "metadata": {
        "id": "Q24h5fndh8qJ",
        "colab_type": "code",
        "colab": {}
      },
      "cell_type": "code",
      "source": [
        "from random import choice\n",
        "\n",
        "turn = False # global variable to remember to turn if our dog hits the boundary\n",
        "class EnergeticBlindDog(Agent):\n",
        "    location = [0,1]\n",
        "    direction = Direction(\"down\")\n",
        "    \n",
        "    def moveforward(self, success=True):\n",
        "        '''moveforward possible only if success (ie valid destination location)'''\n",
        "        global turn\n",
        "        if not success:\n",
        "            turn = True # if edge has been reached, remember to turn\n",
        "            return\n",
        "        if self.direction.direction == Direction.R:\n",
        "            self.location[0] += 1\n",
        "        elif self.direction.direction == Direction.L:\n",
        "            self.location[0] -= 1\n",
        "        elif self.direction.direction == Direction.D:\n",
        "            self.location[1] += 1\n",
        "        elif self.direction.direction == Direction.U:\n",
        "            self.location[1] -= 1\n",
        "    \n",
        "    def turn(self, d):\n",
        "        self.direction = self.direction + d\n",
        "        \n",
        "    def eat(self, thing):\n",
        "        '''returns True upon success or False otherwise'''\n",
        "        if isinstance(thing, Food):\n",
        "            return True\n",
        "        return False\n",
        "    \n",
        "    def drink(self, thing):\n",
        "        ''' returns True upon success or False otherwise'''\n",
        "        if isinstance(thing, Water):\n",
        "            return True\n",
        "        return False\n",
        "        \n",
        "def program(percepts):\n",
        "    '''Returns an action based on it's percepts'''\n",
        "    global turn\n",
        "    for p in percepts: # first eat or drink - you're a dog!\n",
        "        if isinstance(p, Food):\n",
        "            return 'eat'\n",
        "        elif isinstance(p, Water):\n",
        "            return 'drink'\n",
        "    if turn: # then recall if you were at an edge and had to turn\n",
        "        turn = False\n",
        "        choice = random.choice((1,2));\n",
        "    else:\n",
        "        choice = random.choice((1,2,3,4)) # 1-right, 2-left, others-forward\n",
        "    if choice == 1:\n",
        "        return 'turnright'\n",
        "    elif choice == 2:\n",
        "        return 'turnleft'\n",
        "    else:\n",
        "        return 'moveforward'\n",
        "    "
      ],
      "execution_count": 0,
      "outputs": []
    },
    {
      "metadata": {
        "id": "rfnTsTJTh8qL",
        "colab_type": "text"
      },
      "cell_type": "markdown",
      "source": [
        "We also need to modify our park accordingly, in order to be able to handle all the new actions our dog wishes to execute. Additionally, we'll need to prevent our dog from moving to locations beyond our park boundary - it just isn't safe for blind dogs to be outside the park by themselves."
      ]
    },
    {
      "metadata": {
        "id": "ZVXeFnhmh8qM",
        "colab_type": "code",
        "colab": {}
      },
      "cell_type": "code",
      "source": [
        "class Park2D(XYEnvironment):\n",
        "    def percept(self, agent):\n",
        "        '''return a list of things that are in our agent's location'''\n",
        "        things = self.list_things_at(agent.location)\n",
        "        return things\n",
        "    \n",
        "    def execute_action(self, agent, action):\n",
        "        '''changes the state of the environment based on what the agent does.'''\n",
        "        if action == 'turnright':\n",
        "            print('{} decided to {} at location: {}'.format(str(agent)[1:-1], action, agent.location))\n",
        "            agent.turn(Direction.R)\n",
        "        elif action == 'turnleft':\n",
        "            print('{} decided to {} at location: {}'.format(str(agent)[1:-1], action, agent.location))\n",
        "            agent.turn(Direction.L)\n",
        "        elif action == 'moveforward':\n",
        "            loc = copy.deepcopy(agent.location) # find out the target location\n",
        "            if agent.direction.direction == Direction.R:\n",
        "                loc[0] += 1\n",
        "            elif agent.direction.direction == Direction.L:\n",
        "                loc[0] -= 1\n",
        "            elif agent.direction.direction == Direction.D:\n",
        "                loc[1] += 1\n",
        "            elif agent.direction.direction == Direction.U:\n",
        "                loc[1] -= 1\n",
        "            if self.is_inbounds(loc):# move only if the target is a valid location\n",
        "                print('{} decided to move {}wards at location: {}'.format(str(agent)[1:-1], agent.direction.direction, agent.location))\n",
        "                agent.moveforward()\n",
        "            else:\n",
        "                print('{} decided to move {}wards at location: {}, but couldn\\'t'.format(str(agent)[1:-1], agent.direction.direction, agent.location))\n",
        "                agent.moveforward(False)\n",
        "        elif action == \"eat\":\n",
        "            items = self.list_things_at(agent.location, tclass=Food)\n",
        "            if len(items) != 0:\n",
        "                if agent.eat(items[0]):\n",
        "                    print('{} ate {} at location: {}'\n",
        "                          .format(str(agent)[1:-1], str(items[0])[1:-1], agent.location))\n",
        "                    self.delete_thing(items[0])\n",
        "        elif action == \"drink\":\n",
        "            items = self.list_things_at(agent.location, tclass=Water)\n",
        "            if len(items) != 0:\n",
        "                if agent.drink(items[0]):\n",
        "                    print('{} drank {} at location: {}'\n",
        "                          .format(str(agent)[1:-1], str(items[0])[1:-1], agent.location))\n",
        "                    self.delete_thing(items[0])\n",
        "                    \n",
        "    def is_done(self):\n",
        "        '''By default, we're done when we can't find a live agent, \n",
        "        but to prevent killing our cute dog, we will stop before itself - when there is no more food or water'''\n",
        "        no_edibles = not any(isinstance(thing, Food) or isinstance(thing, Water) for thing in self.things)\n",
        "        dead_agents = not any(agent.is_alive() for agent in self.agents)\n",
        "        return dead_agents or no_edibles\n"
      ],
      "execution_count": 0,
      "outputs": []
    },
    {
      "metadata": {
        "id": "i2v8PM_7h8qN",
        "colab_type": "code",
        "colab": {
          "base_uri": "https://localhost:8080/",
          "height": 374
        },
        "outputId": "bbc17309-0c6d-44db-da01-885742cc10b9"
      },
      "cell_type": "code",
      "source": [
        "park = Park2D(3,3)\n",
        "dog = EnergeticBlindDog(program)\n",
        "dogfood = Food()\n",
        "water = Water()\n",
        "park.add_thing(dog, [0,0])\n",
        "park.add_thing(dogfood, [1,2])\n",
        "park.add_thing(water, [2,1])\n",
        "morewater = Water()\n",
        "park.add_thing(morewater, [0,2])\n",
        "print(\"dog started at [0,0], facing down. Let's see if he found any food or water!\")\n",
        "park.run(20)"
      ],
      "execution_count": 13,
      "outputs": [
        {
          "output_type": "stream",
          "text": [
            "dog started at [0,0], facing down. Let's see if he found any food or water!\n",
            "EnergeticBlindDog decided to move downwards at location: [0, 0]\n",
            "EnergeticBlindDog decided to turnright at location: [0, 1]\n",
            "EnergeticBlindDog decided to move leftwards at location: [0, 1], but couldn't\n",
            "EnergeticBlindDog decided to turnright at location: [0, 1]\n",
            "EnergeticBlindDog decided to turnleft at location: [0, 1]\n",
            "EnergeticBlindDog decided to move leftwards at location: [0, 1], but couldn't\n",
            "EnergeticBlindDog decided to turnright at location: [0, 1]\n",
            "EnergeticBlindDog decided to move upwards at location: [0, 1]\n",
            "EnergeticBlindDog decided to turnleft at location: [0, 0]\n",
            "EnergeticBlindDog decided to move leftwards at location: [0, 0], but couldn't\n",
            "EnergeticBlindDog decided to turnright at location: [0, 0]\n",
            "EnergeticBlindDog decided to turnleft at location: [0, 0]\n",
            "EnergeticBlindDog decided to move leftwards at location: [0, 0], but couldn't\n",
            "EnergeticBlindDog decided to turnleft at location: [0, 0]\n",
            "EnergeticBlindDog decided to turnright at location: [0, 0]\n",
            "EnergeticBlindDog decided to turnleft at location: [0, 0]\n",
            "EnergeticBlindDog decided to move downwards at location: [0, 0]\n",
            "EnergeticBlindDog decided to turnright at location: [0, 1]\n",
            "EnergeticBlindDog decided to turnright at location: [0, 1]\n",
            "EnergeticBlindDog decided to turnleft at location: [0, 1]\n"
          ],
          "name": "stdout"
        }
      ]
    },
    {
      "metadata": {
        "id": "BIsT0ntRh8qP",
        "colab_type": "text"
      },
      "cell_type": "markdown",
      "source": [
        "This is good, but it still lacks graphics. What if we wanted to visualize our park as it changed? To do that, all we have to do is make our park a subclass of <b>GraphicEnvironment</b> instead of <b>XYEnvironment</b>. Let's see how this looks."
      ]
    },
    {
      "metadata": {
        "id": "prqkEhMnh8qQ",
        "colab_type": "code",
        "colab": {}
      },
      "cell_type": "code",
      "source": [
        "class GraphicPark(GraphicEnvironment):\n",
        "    def percept(self, agent):\n",
        "        '''return a list of things that are in our agent's location'''\n",
        "        things = self.list_things_at(agent.location)\n",
        "        return things\n",
        "    \n",
        "    def execute_action(self, agent, action):\n",
        "        '''changes the state of the environment based on what the agent does.'''\n",
        "        if action == 'turnright':\n",
        "            print('{} decided to {} at location: {}'.format(str(agent)[1:-1], action, agent.location))\n",
        "            agent.turn(Direction.R)\n",
        "        elif action == 'turnleft':\n",
        "            print('{} decided to {} at location: {}'.format(str(agent)[1:-1], action, agent.location))\n",
        "            agent.turn(Direction.L)\n",
        "        elif action == 'moveforward':\n",
        "            loc = copy.deepcopy(agent.location) # find out the target location\n",
        "            if agent.direction.direction == Direction.R:\n",
        "                loc[0] += 1\n",
        "            elif agent.direction.direction == Direction.L:\n",
        "                loc[0] -= 1\n",
        "            elif agent.direction.direction == Direction.D:\n",
        "                loc[1] += 1\n",
        "            elif agent.direction.direction == Direction.U:\n",
        "                loc[1] -= 1\n",
        "            if self.is_inbounds(loc):# move only if the target is a valid location\n",
        "                print('{} decided to move {}wards at location: {}'.format(str(agent)[1:-1], agent.direction.direction, agent.location))\n",
        "                agent.moveforward()\n",
        "            else:\n",
        "                print('{} decided to move {}wards at location: {}, but couldn\\'t'.format(str(agent)[1:-1], agent.direction.direction, agent.location))\n",
        "                agent.moveforward(False)\n",
        "        elif action == \"eat\":\n",
        "            items = self.list_things_at(agent.location, tclass=Food)\n",
        "            if len(items) != 0:\n",
        "                if agent.eat(items[0]):\n",
        "                    print('{} ate {} at location: {}'\n",
        "                          .format(str(agent)[1:-1], str(items[0])[1:-1], agent.location))\n",
        "                    self.delete_thing(items[0])\n",
        "        elif action == \"drink\":\n",
        "            items = self.list_things_at(agent.location, tclass=Water)\n",
        "            if len(items) != 0:\n",
        "                if agent.drink(items[0]):\n",
        "                    print('{} drank {} at location: {}'\n",
        "                          .format(str(agent)[1:-1], str(items[0])[1:-1], agent.location))\n",
        "                    self.delete_thing(items[0])\n",
        "                    \n",
        "    def is_done(self):\n",
        "        '''By default, we're done when we can't find a live agent, \n",
        "        but to prevent killing our cute dog, we will stop before itself - when there is no more food or water'''\n",
        "        no_edibles = not any(isinstance(thing, Food) or isinstance(thing, Water) for thing in self.things)\n",
        "        dead_agents = not any(agent.is_alive() for agent in self.agents)\n",
        "        return dead_agents or no_edibles\n"
      ],
      "execution_count": 0,
      "outputs": []
    },
    {
      "metadata": {
        "id": "1-bUZZ6eh8qS",
        "colab_type": "text"
      },
      "cell_type": "markdown",
      "source": [
        "That is the only change we make. The rest of our code stays the same. There is a slight difference in usage though. Every time we create a GraphicPark, we need to define the colors of all the things we plan to put into the park. The colors are defined in typical [<b>RGB digital 8-bit format</b>](https://en.wikipedia.org/wiki/RGB_color_model#Numeric_representations), common across the web."
      ]
    },
    {
      "metadata": {
        "scrolled": true,
        "id": "MgVpiqizh8qS",
        "colab_type": "code",
        "colab": {
          "base_uri": "https://localhost:8080/",
          "height": 2936
        },
        "outputId": "f12d9484-c840-43f2-d65a-32be6bced3e5"
      },
      "cell_type": "code",
      "source": [
        "from ipythonblocks import BlockGrid\n",
        "\n",
        "park = GraphicPark(5,5, color={'EnergeticBlindDog': (200,0,0), 'Water': (0, 200, 200), 'Food': (230, 115, 40)})\n",
        "dog = EnergeticBlindDog(program)\n",
        "dogfood = Food()\n",
        "water = Water()\n",
        "park.add_thing(dog, [0,0])\n",
        "park.add_thing(dogfood, [1,2])\n",
        "park.add_thing(water, [0,1])\n",
        "morewater = Water()\n",
        "morefood = Food()\n",
        "park.add_thing(morewater, [2,4])\n",
        "park.add_thing(morefood, [4,3])\n",
        "print(\"dog started at [0,0], facing down. Let's see if he found any food or water!\")\n",
        "park.run(20)"
      ],
      "execution_count": 15,
      "outputs": [
        {
          "output_type": "stream",
          "text": [
            "dog started at [0,0], facing down. Let's see if he found any food or water!\n"
          ],
          "name": "stdout"
        },
        {
          "output_type": "display_data",
          "data": {
            "text/html": [
              "<style type=\"text/css\">table.blockgrid {border: none;} .blockgrid tr {border: none;} .blockgrid td {padding: 0px;} #blocks452aeb21-068f-4e30-ba4c-adcb88d0de3c td {border: 1px solid white;}</style><table id=\"blocks452aeb21-068f-4e30-ba4c-adcb88d0de3c\" class=\"blockgrid\"><tbody><tr><td title=\"Index: [0, 0]&#10;Color: (200, 0, 0)\" style=\"width: 20px; height: 20px;background-color: rgb(200, 0, 0);\"></td><td title=\"Index: [0, 1]&#10;Color: (200, 200, 200)\" style=\"width: 20px; height: 20px;background-color: rgb(200, 200, 200);\"></td><td title=\"Index: [0, 2]&#10;Color: (200, 200, 200)\" style=\"width: 20px; height: 20px;background-color: rgb(200, 200, 200);\"></td><td title=\"Index: [0, 3]&#10;Color: (200, 200, 200)\" style=\"width: 20px; height: 20px;background-color: rgb(200, 200, 200);\"></td><td title=\"Index: [0, 4]&#10;Color: (200, 200, 200)\" style=\"width: 20px; height: 20px;background-color: rgb(200, 200, 200);\"></td></tr><tr><td title=\"Index: [1, 0]&#10;Color: (0, 200, 200)\" style=\"width: 20px; height: 20px;background-color: rgb(0, 200, 200);\"></td><td title=\"Index: [1, 1]&#10;Color: (200, 200, 200)\" style=\"width: 20px; height: 20px;background-color: rgb(200, 200, 200);\"></td><td title=\"Index: [1, 2]&#10;Color: (200, 200, 200)\" style=\"width: 20px; height: 20px;background-color: rgb(200, 200, 200);\"></td><td title=\"Index: [1, 3]&#10;Color: (200, 200, 200)\" style=\"width: 20px; height: 20px;background-color: rgb(200, 200, 200);\"></td><td title=\"Index: [1, 4]&#10;Color: (200, 200, 200)\" style=\"width: 20px; height: 20px;background-color: rgb(200, 200, 200);\"></td></tr><tr><td title=\"Index: [2, 0]&#10;Color: (200, 200, 200)\" style=\"width: 20px; height: 20px;background-color: rgb(200, 200, 200);\"></td><td title=\"Index: [2, 1]&#10;Color: (230, 115, 40)\" style=\"width: 20px; height: 20px;background-color: rgb(230, 115, 40);\"></td><td title=\"Index: [2, 2]&#10;Color: (200, 200, 200)\" style=\"width: 20px; height: 20px;background-color: rgb(200, 200, 200);\"></td><td title=\"Index: [2, 3]&#10;Color: (200, 200, 200)\" style=\"width: 20px; height: 20px;background-color: rgb(200, 200, 200);\"></td><td title=\"Index: [2, 4]&#10;Color: (200, 200, 200)\" style=\"width: 20px; height: 20px;background-color: rgb(200, 200, 200);\"></td></tr><tr><td title=\"Index: [3, 0]&#10;Color: (200, 200, 200)\" style=\"width: 20px; height: 20px;background-color: rgb(200, 200, 200);\"></td><td title=\"Index: [3, 1]&#10;Color: (200, 200, 200)\" style=\"width: 20px; height: 20px;background-color: rgb(200, 200, 200);\"></td><td title=\"Index: [3, 2]&#10;Color: (200, 200, 200)\" style=\"width: 20px; height: 20px;background-color: rgb(200, 200, 200);\"></td><td title=\"Index: [3, 3]&#10;Color: (200, 200, 200)\" style=\"width: 20px; height: 20px;background-color: rgb(200, 200, 200);\"></td><td title=\"Index: [3, 4]&#10;Color: (230, 115, 40)\" style=\"width: 20px; height: 20px;background-color: rgb(230, 115, 40);\"></td></tr><tr><td title=\"Index: [4, 0]&#10;Color: (200, 200, 200)\" style=\"width: 20px; height: 20px;background-color: rgb(200, 200, 200);\"></td><td title=\"Index: [4, 1]&#10;Color: (200, 200, 200)\" style=\"width: 20px; height: 20px;background-color: rgb(200, 200, 200);\"></td><td title=\"Index: [4, 2]&#10;Color: (0, 200, 200)\" style=\"width: 20px; height: 20px;background-color: rgb(0, 200, 200);\"></td><td title=\"Index: [4, 3]&#10;Color: (200, 200, 200)\" style=\"width: 20px; height: 20px;background-color: rgb(200, 200, 200);\"></td><td title=\"Index: [4, 4]&#10;Color: (200, 200, 200)\" style=\"width: 20px; height: 20px;background-color: rgb(200, 200, 200);\"></td></tr></tbody></table>"
            ],
            "text/plain": [
              "<IPython.core.display.HTML object>"
            ]
          },
          "metadata": {
            "tags": []
          }
        },
        {
          "output_type": "stream",
          "text": [
            "EnergeticBlindDog decided to move downwards at location: [0, 0]\n"
          ],
          "name": "stdout"
        },
        {
          "output_type": "display_data",
          "data": {
            "text/html": [
              ""
            ],
            "text/plain": [
              "<IPython.core.display.HTML object>"
            ]
          },
          "metadata": {
            "tags": []
          }
        },
        {
          "output_type": "display_data",
          "data": {
            "text/html": [
              "<style type=\"text/css\">table.blockgrid {border: none;} .blockgrid tr {border: none;} .blockgrid td {padding: 0px;} #blocks76cf3b85-c7e6-4e9c-ae48-1c5042a9f8fa td {border: 1px solid white;}</style><table id=\"blocks76cf3b85-c7e6-4e9c-ae48-1c5042a9f8fa\" class=\"blockgrid\"><tbody><tr><td title=\"Index: [0, 0]&#10;Color: (200, 200, 200)\" style=\"width: 20px; height: 20px;background-color: rgb(200, 200, 200);\"></td><td title=\"Index: [0, 1]&#10;Color: (200, 200, 200)\" style=\"width: 20px; height: 20px;background-color: rgb(200, 200, 200);\"></td><td title=\"Index: [0, 2]&#10;Color: (200, 200, 200)\" style=\"width: 20px; height: 20px;background-color: rgb(200, 200, 200);\"></td><td title=\"Index: [0, 3]&#10;Color: (200, 200, 200)\" style=\"width: 20px; height: 20px;background-color: rgb(200, 200, 200);\"></td><td title=\"Index: [0, 4]&#10;Color: (200, 200, 200)\" style=\"width: 20px; height: 20px;background-color: rgb(200, 200, 200);\"></td></tr><tr><td title=\"Index: [1, 0]&#10;Color: (0, 200, 200)\" style=\"width: 20px; height: 20px;background-color: rgb(0, 200, 200);\"></td><td title=\"Index: [1, 1]&#10;Color: (200, 200, 200)\" style=\"width: 20px; height: 20px;background-color: rgb(200, 200, 200);\"></td><td title=\"Index: [1, 2]&#10;Color: (200, 200, 200)\" style=\"width: 20px; height: 20px;background-color: rgb(200, 200, 200);\"></td><td title=\"Index: [1, 3]&#10;Color: (200, 200, 200)\" style=\"width: 20px; height: 20px;background-color: rgb(200, 200, 200);\"></td><td title=\"Index: [1, 4]&#10;Color: (200, 200, 200)\" style=\"width: 20px; height: 20px;background-color: rgb(200, 200, 200);\"></td></tr><tr><td title=\"Index: [2, 0]&#10;Color: (200, 200, 200)\" style=\"width: 20px; height: 20px;background-color: rgb(200, 200, 200);\"></td><td title=\"Index: [2, 1]&#10;Color: (230, 115, 40)\" style=\"width: 20px; height: 20px;background-color: rgb(230, 115, 40);\"></td><td title=\"Index: [2, 2]&#10;Color: (200, 200, 200)\" style=\"width: 20px; height: 20px;background-color: rgb(200, 200, 200);\"></td><td title=\"Index: [2, 3]&#10;Color: (200, 200, 200)\" style=\"width: 20px; height: 20px;background-color: rgb(200, 200, 200);\"></td><td title=\"Index: [2, 4]&#10;Color: (200, 200, 200)\" style=\"width: 20px; height: 20px;background-color: rgb(200, 200, 200);\"></td></tr><tr><td title=\"Index: [3, 0]&#10;Color: (200, 200, 200)\" style=\"width: 20px; height: 20px;background-color: rgb(200, 200, 200);\"></td><td title=\"Index: [3, 1]&#10;Color: (200, 200, 200)\" style=\"width: 20px; height: 20px;background-color: rgb(200, 200, 200);\"></td><td title=\"Index: [3, 2]&#10;Color: (200, 200, 200)\" style=\"width: 20px; height: 20px;background-color: rgb(200, 200, 200);\"></td><td title=\"Index: [3, 3]&#10;Color: (200, 200, 200)\" style=\"width: 20px; height: 20px;background-color: rgb(200, 200, 200);\"></td><td title=\"Index: [3, 4]&#10;Color: (230, 115, 40)\" style=\"width: 20px; height: 20px;background-color: rgb(230, 115, 40);\"></td></tr><tr><td title=\"Index: [4, 0]&#10;Color: (200, 200, 200)\" style=\"width: 20px; height: 20px;background-color: rgb(200, 200, 200);\"></td><td title=\"Index: [4, 1]&#10;Color: (200, 200, 200)\" style=\"width: 20px; height: 20px;background-color: rgb(200, 200, 200);\"></td><td title=\"Index: [4, 2]&#10;Color: (0, 200, 200)\" style=\"width: 20px; height: 20px;background-color: rgb(0, 200, 200);\"></td><td title=\"Index: [4, 3]&#10;Color: (200, 200, 200)\" style=\"width: 20px; height: 20px;background-color: rgb(200, 200, 200);\"></td><td title=\"Index: [4, 4]&#10;Color: (200, 200, 200)\" style=\"width: 20px; height: 20px;background-color: rgb(200, 200, 200);\"></td></tr></tbody></table>"
            ],
            "text/plain": [
              "<IPython.core.display.HTML object>"
            ]
          },
          "metadata": {
            "tags": []
          }
        },
        {
          "output_type": "stream",
          "text": [
            "EnergeticBlindDog drank Water at location: [0, 1]\n"
          ],
          "name": "stdout"
        },
        {
          "output_type": "display_data",
          "data": {
            "text/html": [
              ""
            ],
            "text/plain": [
              "<IPython.core.display.HTML object>"
            ]
          },
          "metadata": {
            "tags": []
          }
        },
        {
          "output_type": "display_data",
          "data": {
            "text/html": [
              "<style type=\"text/css\">table.blockgrid {border: none;} .blockgrid tr {border: none;} .blockgrid td {padding: 0px;} #blocksbcfffdf0-fd18-43b6-839c-6bbea3cefdab td {border: 1px solid white;}</style><table id=\"blocksbcfffdf0-fd18-43b6-839c-6bbea3cefdab\" class=\"blockgrid\"><tbody><tr><td title=\"Index: [0, 0]&#10;Color: (200, 200, 200)\" style=\"width: 20px; height: 20px;background-color: rgb(200, 200, 200);\"></td><td title=\"Index: [0, 1]&#10;Color: (200, 200, 200)\" style=\"width: 20px; height: 20px;background-color: rgb(200, 200, 200);\"></td><td title=\"Index: [0, 2]&#10;Color: (200, 200, 200)\" style=\"width: 20px; height: 20px;background-color: rgb(200, 200, 200);\"></td><td title=\"Index: [0, 3]&#10;Color: (200, 200, 200)\" style=\"width: 20px; height: 20px;background-color: rgb(200, 200, 200);\"></td><td title=\"Index: [0, 4]&#10;Color: (200, 200, 200)\" style=\"width: 20px; height: 20px;background-color: rgb(200, 200, 200);\"></td></tr><tr><td title=\"Index: [1, 0]&#10;Color: (200, 0, 0)\" style=\"width: 20px; height: 20px;background-color: rgb(200, 0, 0);\"></td><td title=\"Index: [1, 1]&#10;Color: (200, 200, 200)\" style=\"width: 20px; height: 20px;background-color: rgb(200, 200, 200);\"></td><td title=\"Index: [1, 2]&#10;Color: (200, 200, 200)\" style=\"width: 20px; height: 20px;background-color: rgb(200, 200, 200);\"></td><td title=\"Index: [1, 3]&#10;Color: (200, 200, 200)\" style=\"width: 20px; height: 20px;background-color: rgb(200, 200, 200);\"></td><td title=\"Index: [1, 4]&#10;Color: (200, 200, 200)\" style=\"width: 20px; height: 20px;background-color: rgb(200, 200, 200);\"></td></tr><tr><td title=\"Index: [2, 0]&#10;Color: (200, 200, 200)\" style=\"width: 20px; height: 20px;background-color: rgb(200, 200, 200);\"></td><td title=\"Index: [2, 1]&#10;Color: (230, 115, 40)\" style=\"width: 20px; height: 20px;background-color: rgb(230, 115, 40);\"></td><td title=\"Index: [2, 2]&#10;Color: (200, 200, 200)\" style=\"width: 20px; height: 20px;background-color: rgb(200, 200, 200);\"></td><td title=\"Index: [2, 3]&#10;Color: (200, 200, 200)\" style=\"width: 20px; height: 20px;background-color: rgb(200, 200, 200);\"></td><td title=\"Index: [2, 4]&#10;Color: (200, 200, 200)\" style=\"width: 20px; height: 20px;background-color: rgb(200, 200, 200);\"></td></tr><tr><td title=\"Index: [3, 0]&#10;Color: (200, 200, 200)\" style=\"width: 20px; height: 20px;background-color: rgb(200, 200, 200);\"></td><td title=\"Index: [3, 1]&#10;Color: (200, 200, 200)\" style=\"width: 20px; height: 20px;background-color: rgb(200, 200, 200);\"></td><td title=\"Index: [3, 2]&#10;Color: (200, 200, 200)\" style=\"width: 20px; height: 20px;background-color: rgb(200, 200, 200);\"></td><td title=\"Index: [3, 3]&#10;Color: (200, 200, 200)\" style=\"width: 20px; height: 20px;background-color: rgb(200, 200, 200);\"></td><td title=\"Index: [3, 4]&#10;Color: (230, 115, 40)\" style=\"width: 20px; height: 20px;background-color: rgb(230, 115, 40);\"></td></tr><tr><td title=\"Index: [4, 0]&#10;Color: (200, 200, 200)\" style=\"width: 20px; height: 20px;background-color: rgb(200, 200, 200);\"></td><td title=\"Index: [4, 1]&#10;Color: (200, 200, 200)\" style=\"width: 20px; height: 20px;background-color: rgb(200, 200, 200);\"></td><td title=\"Index: [4, 2]&#10;Color: (0, 200, 200)\" style=\"width: 20px; height: 20px;background-color: rgb(0, 200, 200);\"></td><td title=\"Index: [4, 3]&#10;Color: (200, 200, 200)\" style=\"width: 20px; height: 20px;background-color: rgb(200, 200, 200);\"></td><td title=\"Index: [4, 4]&#10;Color: (200, 200, 200)\" style=\"width: 20px; height: 20px;background-color: rgb(200, 200, 200);\"></td></tr></tbody></table>"
            ],
            "text/plain": [
              "<IPython.core.display.HTML object>"
            ]
          },
          "metadata": {
            "tags": []
          }
        },
        {
          "output_type": "stream",
          "text": [
            "EnergeticBlindDog decided to move downwards at location: [0, 1]\n"
          ],
          "name": "stdout"
        },
        {
          "output_type": "display_data",
          "data": {
            "text/html": [
              ""
            ],
            "text/plain": [
              "<IPython.core.display.HTML object>"
            ]
          },
          "metadata": {
            "tags": []
          }
        },
        {
          "output_type": "display_data",
          "data": {
            "text/html": [
              "<style type=\"text/css\">table.blockgrid {border: none;} .blockgrid tr {border: none;} .blockgrid td {padding: 0px;} #blocksb03e76d7-04ec-42e2-b93c-efb9b1497bb4 td {border: 1px solid white;}</style><table id=\"blocksb03e76d7-04ec-42e2-b93c-efb9b1497bb4\" class=\"blockgrid\"><tbody><tr><td title=\"Index: [0, 0]&#10;Color: (200, 200, 200)\" style=\"width: 20px; height: 20px;background-color: rgb(200, 200, 200);\"></td><td title=\"Index: [0, 1]&#10;Color: (200, 200, 200)\" style=\"width: 20px; height: 20px;background-color: rgb(200, 200, 200);\"></td><td title=\"Index: [0, 2]&#10;Color: (200, 200, 200)\" style=\"width: 20px; height: 20px;background-color: rgb(200, 200, 200);\"></td><td title=\"Index: [0, 3]&#10;Color: (200, 200, 200)\" style=\"width: 20px; height: 20px;background-color: rgb(200, 200, 200);\"></td><td title=\"Index: [0, 4]&#10;Color: (200, 200, 200)\" style=\"width: 20px; height: 20px;background-color: rgb(200, 200, 200);\"></td></tr><tr><td title=\"Index: [1, 0]&#10;Color: (200, 200, 200)\" style=\"width: 20px; height: 20px;background-color: rgb(200, 200, 200);\"></td><td title=\"Index: [1, 1]&#10;Color: (200, 200, 200)\" style=\"width: 20px; height: 20px;background-color: rgb(200, 200, 200);\"></td><td title=\"Index: [1, 2]&#10;Color: (200, 200, 200)\" style=\"width: 20px; height: 20px;background-color: rgb(200, 200, 200);\"></td><td title=\"Index: [1, 3]&#10;Color: (200, 200, 200)\" style=\"width: 20px; height: 20px;background-color: rgb(200, 200, 200);\"></td><td title=\"Index: [1, 4]&#10;Color: (200, 200, 200)\" style=\"width: 20px; height: 20px;background-color: rgb(200, 200, 200);\"></td></tr><tr><td title=\"Index: [2, 0]&#10;Color: (200, 0, 0)\" style=\"width: 20px; height: 20px;background-color: rgb(200, 0, 0);\"></td><td title=\"Index: [2, 1]&#10;Color: (230, 115, 40)\" style=\"width: 20px; height: 20px;background-color: rgb(230, 115, 40);\"></td><td title=\"Index: [2, 2]&#10;Color: (200, 200, 200)\" style=\"width: 20px; height: 20px;background-color: rgb(200, 200, 200);\"></td><td title=\"Index: [2, 3]&#10;Color: (200, 200, 200)\" style=\"width: 20px; height: 20px;background-color: rgb(200, 200, 200);\"></td><td title=\"Index: [2, 4]&#10;Color: (200, 200, 200)\" style=\"width: 20px; height: 20px;background-color: rgb(200, 200, 200);\"></td></tr><tr><td title=\"Index: [3, 0]&#10;Color: (200, 200, 200)\" style=\"width: 20px; height: 20px;background-color: rgb(200, 200, 200);\"></td><td title=\"Index: [3, 1]&#10;Color: (200, 200, 200)\" style=\"width: 20px; height: 20px;background-color: rgb(200, 200, 200);\"></td><td title=\"Index: [3, 2]&#10;Color: (200, 200, 200)\" style=\"width: 20px; height: 20px;background-color: rgb(200, 200, 200);\"></td><td title=\"Index: [3, 3]&#10;Color: (200, 200, 200)\" style=\"width: 20px; height: 20px;background-color: rgb(200, 200, 200);\"></td><td title=\"Index: [3, 4]&#10;Color: (230, 115, 40)\" style=\"width: 20px; height: 20px;background-color: rgb(230, 115, 40);\"></td></tr><tr><td title=\"Index: [4, 0]&#10;Color: (200, 200, 200)\" style=\"width: 20px; height: 20px;background-color: rgb(200, 200, 200);\"></td><td title=\"Index: [4, 1]&#10;Color: (200, 200, 200)\" style=\"width: 20px; height: 20px;background-color: rgb(200, 200, 200);\"></td><td title=\"Index: [4, 2]&#10;Color: (0, 200, 200)\" style=\"width: 20px; height: 20px;background-color: rgb(0, 200, 200);\"></td><td title=\"Index: [4, 3]&#10;Color: (200, 200, 200)\" style=\"width: 20px; height: 20px;background-color: rgb(200, 200, 200);\"></td><td title=\"Index: [4, 4]&#10;Color: (200, 200, 200)\" style=\"width: 20px; height: 20px;background-color: rgb(200, 200, 200);\"></td></tr></tbody></table>"
            ],
            "text/plain": [
              "<IPython.core.display.HTML object>"
            ]
          },
          "metadata": {
            "tags": []
          }
        },
        {
          "output_type": "stream",
          "text": [
            "EnergeticBlindDog decided to turnleft at location: [0, 2]\n"
          ],
          "name": "stdout"
        },
        {
          "output_type": "display_data",
          "data": {
            "text/html": [
              ""
            ],
            "text/plain": [
              "<IPython.core.display.HTML object>"
            ]
          },
          "metadata": {
            "tags": []
          }
        },
        {
          "output_type": "display_data",
          "data": {
            "text/html": [
              "<style type=\"text/css\">table.blockgrid {border: none;} .blockgrid tr {border: none;} .blockgrid td {padding: 0px;} #blocks0ca27da2-8a10-4974-9ee8-fb6a128a36ce td {border: 1px solid white;}</style><table id=\"blocks0ca27da2-8a10-4974-9ee8-fb6a128a36ce\" class=\"blockgrid\"><tbody><tr><td title=\"Index: [0, 0]&#10;Color: (200, 200, 200)\" style=\"width: 20px; height: 20px;background-color: rgb(200, 200, 200);\"></td><td title=\"Index: [0, 1]&#10;Color: (200, 200, 200)\" style=\"width: 20px; height: 20px;background-color: rgb(200, 200, 200);\"></td><td title=\"Index: [0, 2]&#10;Color: (200, 200, 200)\" style=\"width: 20px; height: 20px;background-color: rgb(200, 200, 200);\"></td><td title=\"Index: [0, 3]&#10;Color: (200, 200, 200)\" style=\"width: 20px; height: 20px;background-color: rgb(200, 200, 200);\"></td><td title=\"Index: [0, 4]&#10;Color: (200, 200, 200)\" style=\"width: 20px; height: 20px;background-color: rgb(200, 200, 200);\"></td></tr><tr><td title=\"Index: [1, 0]&#10;Color: (200, 200, 200)\" style=\"width: 20px; height: 20px;background-color: rgb(200, 200, 200);\"></td><td title=\"Index: [1, 1]&#10;Color: (200, 200, 200)\" style=\"width: 20px; height: 20px;background-color: rgb(200, 200, 200);\"></td><td title=\"Index: [1, 2]&#10;Color: (200, 200, 200)\" style=\"width: 20px; height: 20px;background-color: rgb(200, 200, 200);\"></td><td title=\"Index: [1, 3]&#10;Color: (200, 200, 200)\" style=\"width: 20px; height: 20px;background-color: rgb(200, 200, 200);\"></td><td title=\"Index: [1, 4]&#10;Color: (200, 200, 200)\" style=\"width: 20px; height: 20px;background-color: rgb(200, 200, 200);\"></td></tr><tr><td title=\"Index: [2, 0]&#10;Color: (200, 0, 0)\" style=\"width: 20px; height: 20px;background-color: rgb(200, 0, 0);\"></td><td title=\"Index: [2, 1]&#10;Color: (230, 115, 40)\" style=\"width: 20px; height: 20px;background-color: rgb(230, 115, 40);\"></td><td title=\"Index: [2, 2]&#10;Color: (200, 200, 200)\" style=\"width: 20px; height: 20px;background-color: rgb(200, 200, 200);\"></td><td title=\"Index: [2, 3]&#10;Color: (200, 200, 200)\" style=\"width: 20px; height: 20px;background-color: rgb(200, 200, 200);\"></td><td title=\"Index: [2, 4]&#10;Color: (200, 200, 200)\" style=\"width: 20px; height: 20px;background-color: rgb(200, 200, 200);\"></td></tr><tr><td title=\"Index: [3, 0]&#10;Color: (200, 200, 200)\" style=\"width: 20px; height: 20px;background-color: rgb(200, 200, 200);\"></td><td title=\"Index: [3, 1]&#10;Color: (200, 200, 200)\" style=\"width: 20px; height: 20px;background-color: rgb(200, 200, 200);\"></td><td title=\"Index: [3, 2]&#10;Color: (200, 200, 200)\" style=\"width: 20px; height: 20px;background-color: rgb(200, 200, 200);\"></td><td title=\"Index: [3, 3]&#10;Color: (200, 200, 200)\" style=\"width: 20px; height: 20px;background-color: rgb(200, 200, 200);\"></td><td title=\"Index: [3, 4]&#10;Color: (230, 115, 40)\" style=\"width: 20px; height: 20px;background-color: rgb(230, 115, 40);\"></td></tr><tr><td title=\"Index: [4, 0]&#10;Color: (200, 200, 200)\" style=\"width: 20px; height: 20px;background-color: rgb(200, 200, 200);\"></td><td title=\"Index: [4, 1]&#10;Color: (200, 200, 200)\" style=\"width: 20px; height: 20px;background-color: rgb(200, 200, 200);\"></td><td title=\"Index: [4, 2]&#10;Color: (0, 200, 200)\" style=\"width: 20px; height: 20px;background-color: rgb(0, 200, 200);\"></td><td title=\"Index: [4, 3]&#10;Color: (200, 200, 200)\" style=\"width: 20px; height: 20px;background-color: rgb(200, 200, 200);\"></td><td title=\"Index: [4, 4]&#10;Color: (200, 200, 200)\" style=\"width: 20px; height: 20px;background-color: rgb(200, 200, 200);\"></td></tr></tbody></table>"
            ],
            "text/plain": [
              "<IPython.core.display.HTML object>"
            ]
          },
          "metadata": {
            "tags": []
          }
        },
        {
          "output_type": "stream",
          "text": [
            "EnergeticBlindDog decided to turnright at location: [0, 2]\n"
          ],
          "name": "stdout"
        },
        {
          "output_type": "display_data",
          "data": {
            "text/html": [
              ""
            ],
            "text/plain": [
              "<IPython.core.display.HTML object>"
            ]
          },
          "metadata": {
            "tags": []
          }
        },
        {
          "output_type": "display_data",
          "data": {
            "text/html": [
              "<style type=\"text/css\">table.blockgrid {border: none;} .blockgrid tr {border: none;} .blockgrid td {padding: 0px;} #blocks9f4d40e9-022a-4511-831a-fcafeb523d49 td {border: 1px solid white;}</style><table id=\"blocks9f4d40e9-022a-4511-831a-fcafeb523d49\" class=\"blockgrid\"><tbody><tr><td title=\"Index: [0, 0]&#10;Color: (200, 200, 200)\" style=\"width: 20px; height: 20px;background-color: rgb(200, 200, 200);\"></td><td title=\"Index: [0, 1]&#10;Color: (200, 200, 200)\" style=\"width: 20px; height: 20px;background-color: rgb(200, 200, 200);\"></td><td title=\"Index: [0, 2]&#10;Color: (200, 200, 200)\" style=\"width: 20px; height: 20px;background-color: rgb(200, 200, 200);\"></td><td title=\"Index: [0, 3]&#10;Color: (200, 200, 200)\" style=\"width: 20px; height: 20px;background-color: rgb(200, 200, 200);\"></td><td title=\"Index: [0, 4]&#10;Color: (200, 200, 200)\" style=\"width: 20px; height: 20px;background-color: rgb(200, 200, 200);\"></td></tr><tr><td title=\"Index: [1, 0]&#10;Color: (200, 200, 200)\" style=\"width: 20px; height: 20px;background-color: rgb(200, 200, 200);\"></td><td title=\"Index: [1, 1]&#10;Color: (200, 200, 200)\" style=\"width: 20px; height: 20px;background-color: rgb(200, 200, 200);\"></td><td title=\"Index: [1, 2]&#10;Color: (200, 200, 200)\" style=\"width: 20px; height: 20px;background-color: rgb(200, 200, 200);\"></td><td title=\"Index: [1, 3]&#10;Color: (200, 200, 200)\" style=\"width: 20px; height: 20px;background-color: rgb(200, 200, 200);\"></td><td title=\"Index: [1, 4]&#10;Color: (200, 200, 200)\" style=\"width: 20px; height: 20px;background-color: rgb(200, 200, 200);\"></td></tr><tr><td title=\"Index: [2, 0]&#10;Color: (200, 0, 0)\" style=\"width: 20px; height: 20px;background-color: rgb(200, 0, 0);\"></td><td title=\"Index: [2, 1]&#10;Color: (230, 115, 40)\" style=\"width: 20px; height: 20px;background-color: rgb(230, 115, 40);\"></td><td title=\"Index: [2, 2]&#10;Color: (200, 200, 200)\" style=\"width: 20px; height: 20px;background-color: rgb(200, 200, 200);\"></td><td title=\"Index: [2, 3]&#10;Color: (200, 200, 200)\" style=\"width: 20px; height: 20px;background-color: rgb(200, 200, 200);\"></td><td title=\"Index: [2, 4]&#10;Color: (200, 200, 200)\" style=\"width: 20px; height: 20px;background-color: rgb(200, 200, 200);\"></td></tr><tr><td title=\"Index: [3, 0]&#10;Color: (200, 200, 200)\" style=\"width: 20px; height: 20px;background-color: rgb(200, 200, 200);\"></td><td title=\"Index: [3, 1]&#10;Color: (200, 200, 200)\" style=\"width: 20px; height: 20px;background-color: rgb(200, 200, 200);\"></td><td title=\"Index: [3, 2]&#10;Color: (200, 200, 200)\" style=\"width: 20px; height: 20px;background-color: rgb(200, 200, 200);\"></td><td title=\"Index: [3, 3]&#10;Color: (200, 200, 200)\" style=\"width: 20px; height: 20px;background-color: rgb(200, 200, 200);\"></td><td title=\"Index: [3, 4]&#10;Color: (230, 115, 40)\" style=\"width: 20px; height: 20px;background-color: rgb(230, 115, 40);\"></td></tr><tr><td title=\"Index: [4, 0]&#10;Color: (200, 200, 200)\" style=\"width: 20px; height: 20px;background-color: rgb(200, 200, 200);\"></td><td title=\"Index: [4, 1]&#10;Color: (200, 200, 200)\" style=\"width: 20px; height: 20px;background-color: rgb(200, 200, 200);\"></td><td title=\"Index: [4, 2]&#10;Color: (0, 200, 200)\" style=\"width: 20px; height: 20px;background-color: rgb(0, 200, 200);\"></td><td title=\"Index: [4, 3]&#10;Color: (200, 200, 200)\" style=\"width: 20px; height: 20px;background-color: rgb(200, 200, 200);\"></td><td title=\"Index: [4, 4]&#10;Color: (200, 200, 200)\" style=\"width: 20px; height: 20px;background-color: rgb(200, 200, 200);\"></td></tr></tbody></table>"
            ],
            "text/plain": [
              "<IPython.core.display.HTML object>"
            ]
          },
          "metadata": {
            "tags": []
          }
        },
        {
          "output_type": "stream",
          "text": [
            "EnergeticBlindDog decided to move downwards at location: [0, 2]\n"
          ],
          "name": "stdout"
        },
        {
          "output_type": "display_data",
          "data": {
            "text/html": [
              ""
            ],
            "text/plain": [
              "<IPython.core.display.HTML object>"
            ]
          },
          "metadata": {
            "tags": []
          }
        },
        {
          "output_type": "display_data",
          "data": {
            "text/html": [
              "<style type=\"text/css\">table.blockgrid {border: none;} .blockgrid tr {border: none;} .blockgrid td {padding: 0px;} #blocks4aa500a1-3a02-4e51-8382-bf84a908412d td {border: 1px solid white;}</style><table id=\"blocks4aa500a1-3a02-4e51-8382-bf84a908412d\" class=\"blockgrid\"><tbody><tr><td title=\"Index: [0, 0]&#10;Color: (200, 200, 200)\" style=\"width: 20px; height: 20px;background-color: rgb(200, 200, 200);\"></td><td title=\"Index: [0, 1]&#10;Color: (200, 200, 200)\" style=\"width: 20px; height: 20px;background-color: rgb(200, 200, 200);\"></td><td title=\"Index: [0, 2]&#10;Color: (200, 200, 200)\" style=\"width: 20px; height: 20px;background-color: rgb(200, 200, 200);\"></td><td title=\"Index: [0, 3]&#10;Color: (200, 200, 200)\" style=\"width: 20px; height: 20px;background-color: rgb(200, 200, 200);\"></td><td title=\"Index: [0, 4]&#10;Color: (200, 200, 200)\" style=\"width: 20px; height: 20px;background-color: rgb(200, 200, 200);\"></td></tr><tr><td title=\"Index: [1, 0]&#10;Color: (200, 200, 200)\" style=\"width: 20px; height: 20px;background-color: rgb(200, 200, 200);\"></td><td title=\"Index: [1, 1]&#10;Color: (200, 200, 200)\" style=\"width: 20px; height: 20px;background-color: rgb(200, 200, 200);\"></td><td title=\"Index: [1, 2]&#10;Color: (200, 200, 200)\" style=\"width: 20px; height: 20px;background-color: rgb(200, 200, 200);\"></td><td title=\"Index: [1, 3]&#10;Color: (200, 200, 200)\" style=\"width: 20px; height: 20px;background-color: rgb(200, 200, 200);\"></td><td title=\"Index: [1, 4]&#10;Color: (200, 200, 200)\" style=\"width: 20px; height: 20px;background-color: rgb(200, 200, 200);\"></td></tr><tr><td title=\"Index: [2, 0]&#10;Color: (200, 200, 200)\" style=\"width: 20px; height: 20px;background-color: rgb(200, 200, 200);\"></td><td title=\"Index: [2, 1]&#10;Color: (230, 115, 40)\" style=\"width: 20px; height: 20px;background-color: rgb(230, 115, 40);\"></td><td title=\"Index: [2, 2]&#10;Color: (200, 200, 200)\" style=\"width: 20px; height: 20px;background-color: rgb(200, 200, 200);\"></td><td title=\"Index: [2, 3]&#10;Color: (200, 200, 200)\" style=\"width: 20px; height: 20px;background-color: rgb(200, 200, 200);\"></td><td title=\"Index: [2, 4]&#10;Color: (200, 200, 200)\" style=\"width: 20px; height: 20px;background-color: rgb(200, 200, 200);\"></td></tr><tr><td title=\"Index: [3, 0]&#10;Color: (200, 0, 0)\" style=\"width: 20px; height: 20px;background-color: rgb(200, 0, 0);\"></td><td title=\"Index: [3, 1]&#10;Color: (200, 200, 200)\" style=\"width: 20px; height: 20px;background-color: rgb(200, 200, 200);\"></td><td title=\"Index: [3, 2]&#10;Color: (200, 200, 200)\" style=\"width: 20px; height: 20px;background-color: rgb(200, 200, 200);\"></td><td title=\"Index: [3, 3]&#10;Color: (200, 200, 200)\" style=\"width: 20px; height: 20px;background-color: rgb(200, 200, 200);\"></td><td title=\"Index: [3, 4]&#10;Color: (230, 115, 40)\" style=\"width: 20px; height: 20px;background-color: rgb(230, 115, 40);\"></td></tr><tr><td title=\"Index: [4, 0]&#10;Color: (200, 200, 200)\" style=\"width: 20px; height: 20px;background-color: rgb(200, 200, 200);\"></td><td title=\"Index: [4, 1]&#10;Color: (200, 200, 200)\" style=\"width: 20px; height: 20px;background-color: rgb(200, 200, 200);\"></td><td title=\"Index: [4, 2]&#10;Color: (0, 200, 200)\" style=\"width: 20px; height: 20px;background-color: rgb(0, 200, 200);\"></td><td title=\"Index: [4, 3]&#10;Color: (200, 200, 200)\" style=\"width: 20px; height: 20px;background-color: rgb(200, 200, 200);\"></td><td title=\"Index: [4, 4]&#10;Color: (200, 200, 200)\" style=\"width: 20px; height: 20px;background-color: rgb(200, 200, 200);\"></td></tr></tbody></table>"
            ],
            "text/plain": [
              "<IPython.core.display.HTML object>"
            ]
          },
          "metadata": {
            "tags": []
          }
        },
        {
          "output_type": "stream",
          "text": [
            "EnergeticBlindDog decided to turnleft at location: [0, 3]\n"
          ],
          "name": "stdout"
        },
        {
          "output_type": "display_data",
          "data": {
            "text/html": [
              ""
            ],
            "text/plain": [
              "<IPython.core.display.HTML object>"
            ]
          },
          "metadata": {
            "tags": []
          }
        },
        {
          "output_type": "display_data",
          "data": {
            "text/html": [
              "<style type=\"text/css\">table.blockgrid {border: none;} .blockgrid tr {border: none;} .blockgrid td {padding: 0px;} #blocks13243508-2e71-41bd-8a9e-a6bcd099a82d td {border: 1px solid white;}</style><table id=\"blocks13243508-2e71-41bd-8a9e-a6bcd099a82d\" class=\"blockgrid\"><tbody><tr><td title=\"Index: [0, 0]&#10;Color: (200, 200, 200)\" style=\"width: 20px; height: 20px;background-color: rgb(200, 200, 200);\"></td><td title=\"Index: [0, 1]&#10;Color: (200, 200, 200)\" style=\"width: 20px; height: 20px;background-color: rgb(200, 200, 200);\"></td><td title=\"Index: [0, 2]&#10;Color: (200, 200, 200)\" style=\"width: 20px; height: 20px;background-color: rgb(200, 200, 200);\"></td><td title=\"Index: [0, 3]&#10;Color: (200, 200, 200)\" style=\"width: 20px; height: 20px;background-color: rgb(200, 200, 200);\"></td><td title=\"Index: [0, 4]&#10;Color: (200, 200, 200)\" style=\"width: 20px; height: 20px;background-color: rgb(200, 200, 200);\"></td></tr><tr><td title=\"Index: [1, 0]&#10;Color: (200, 200, 200)\" style=\"width: 20px; height: 20px;background-color: rgb(200, 200, 200);\"></td><td title=\"Index: [1, 1]&#10;Color: (200, 200, 200)\" style=\"width: 20px; height: 20px;background-color: rgb(200, 200, 200);\"></td><td title=\"Index: [1, 2]&#10;Color: (200, 200, 200)\" style=\"width: 20px; height: 20px;background-color: rgb(200, 200, 200);\"></td><td title=\"Index: [1, 3]&#10;Color: (200, 200, 200)\" style=\"width: 20px; height: 20px;background-color: rgb(200, 200, 200);\"></td><td title=\"Index: [1, 4]&#10;Color: (200, 200, 200)\" style=\"width: 20px; height: 20px;background-color: rgb(200, 200, 200);\"></td></tr><tr><td title=\"Index: [2, 0]&#10;Color: (200, 200, 200)\" style=\"width: 20px; height: 20px;background-color: rgb(200, 200, 200);\"></td><td title=\"Index: [2, 1]&#10;Color: (230, 115, 40)\" style=\"width: 20px; height: 20px;background-color: rgb(230, 115, 40);\"></td><td title=\"Index: [2, 2]&#10;Color: (200, 200, 200)\" style=\"width: 20px; height: 20px;background-color: rgb(200, 200, 200);\"></td><td title=\"Index: [2, 3]&#10;Color: (200, 200, 200)\" style=\"width: 20px; height: 20px;background-color: rgb(200, 200, 200);\"></td><td title=\"Index: [2, 4]&#10;Color: (200, 200, 200)\" style=\"width: 20px; height: 20px;background-color: rgb(200, 200, 200);\"></td></tr><tr><td title=\"Index: [3, 0]&#10;Color: (200, 0, 0)\" style=\"width: 20px; height: 20px;background-color: rgb(200, 0, 0);\"></td><td title=\"Index: [3, 1]&#10;Color: (200, 200, 200)\" style=\"width: 20px; height: 20px;background-color: rgb(200, 200, 200);\"></td><td title=\"Index: [3, 2]&#10;Color: (200, 200, 200)\" style=\"width: 20px; height: 20px;background-color: rgb(200, 200, 200);\"></td><td title=\"Index: [3, 3]&#10;Color: (200, 200, 200)\" style=\"width: 20px; height: 20px;background-color: rgb(200, 200, 200);\"></td><td title=\"Index: [3, 4]&#10;Color: (230, 115, 40)\" style=\"width: 20px; height: 20px;background-color: rgb(230, 115, 40);\"></td></tr><tr><td title=\"Index: [4, 0]&#10;Color: (200, 200, 200)\" style=\"width: 20px; height: 20px;background-color: rgb(200, 200, 200);\"></td><td title=\"Index: [4, 1]&#10;Color: (200, 200, 200)\" style=\"width: 20px; height: 20px;background-color: rgb(200, 200, 200);\"></td><td title=\"Index: [4, 2]&#10;Color: (0, 200, 200)\" style=\"width: 20px; height: 20px;background-color: rgb(0, 200, 200);\"></td><td title=\"Index: [4, 3]&#10;Color: (200, 200, 200)\" style=\"width: 20px; height: 20px;background-color: rgb(200, 200, 200);\"></td><td title=\"Index: [4, 4]&#10;Color: (200, 200, 200)\" style=\"width: 20px; height: 20px;background-color: rgb(200, 200, 200);\"></td></tr></tbody></table>"
            ],
            "text/plain": [
              "<IPython.core.display.HTML object>"
            ]
          },
          "metadata": {
            "tags": []
          }
        },
        {
          "output_type": "stream",
          "text": [
            "EnergeticBlindDog decided to turnright at location: [0, 3]\n"
          ],
          "name": "stdout"
        },
        {
          "output_type": "display_data",
          "data": {
            "text/html": [
              ""
            ],
            "text/plain": [
              "<IPython.core.display.HTML object>"
            ]
          },
          "metadata": {
            "tags": []
          }
        },
        {
          "output_type": "display_data",
          "data": {
            "text/html": [
              "<style type=\"text/css\">table.blockgrid {border: none;} .blockgrid tr {border: none;} .blockgrid td {padding: 0px;} #blocksde37e790-b61a-4581-8ef8-a4554cf5c980 td {border: 1px solid white;}</style><table id=\"blocksde37e790-b61a-4581-8ef8-a4554cf5c980\" class=\"blockgrid\"><tbody><tr><td title=\"Index: [0, 0]&#10;Color: (200, 200, 200)\" style=\"width: 20px; height: 20px;background-color: rgb(200, 200, 200);\"></td><td title=\"Index: [0, 1]&#10;Color: (200, 200, 200)\" style=\"width: 20px; height: 20px;background-color: rgb(200, 200, 200);\"></td><td title=\"Index: [0, 2]&#10;Color: (200, 200, 200)\" style=\"width: 20px; height: 20px;background-color: rgb(200, 200, 200);\"></td><td title=\"Index: [0, 3]&#10;Color: (200, 200, 200)\" style=\"width: 20px; height: 20px;background-color: rgb(200, 200, 200);\"></td><td title=\"Index: [0, 4]&#10;Color: (200, 200, 200)\" style=\"width: 20px; height: 20px;background-color: rgb(200, 200, 200);\"></td></tr><tr><td title=\"Index: [1, 0]&#10;Color: (200, 200, 200)\" style=\"width: 20px; height: 20px;background-color: rgb(200, 200, 200);\"></td><td title=\"Index: [1, 1]&#10;Color: (200, 200, 200)\" style=\"width: 20px; height: 20px;background-color: rgb(200, 200, 200);\"></td><td title=\"Index: [1, 2]&#10;Color: (200, 200, 200)\" style=\"width: 20px; height: 20px;background-color: rgb(200, 200, 200);\"></td><td title=\"Index: [1, 3]&#10;Color: (200, 200, 200)\" style=\"width: 20px; height: 20px;background-color: rgb(200, 200, 200);\"></td><td title=\"Index: [1, 4]&#10;Color: (200, 200, 200)\" style=\"width: 20px; height: 20px;background-color: rgb(200, 200, 200);\"></td></tr><tr><td title=\"Index: [2, 0]&#10;Color: (200, 200, 200)\" style=\"width: 20px; height: 20px;background-color: rgb(200, 200, 200);\"></td><td title=\"Index: [2, 1]&#10;Color: (230, 115, 40)\" style=\"width: 20px; height: 20px;background-color: rgb(230, 115, 40);\"></td><td title=\"Index: [2, 2]&#10;Color: (200, 200, 200)\" style=\"width: 20px; height: 20px;background-color: rgb(200, 200, 200);\"></td><td title=\"Index: [2, 3]&#10;Color: (200, 200, 200)\" style=\"width: 20px; height: 20px;background-color: rgb(200, 200, 200);\"></td><td title=\"Index: [2, 4]&#10;Color: (200, 200, 200)\" style=\"width: 20px; height: 20px;background-color: rgb(200, 200, 200);\"></td></tr><tr><td title=\"Index: [3, 0]&#10;Color: (200, 0, 0)\" style=\"width: 20px; height: 20px;background-color: rgb(200, 0, 0);\"></td><td title=\"Index: [3, 1]&#10;Color: (200, 200, 200)\" style=\"width: 20px; height: 20px;background-color: rgb(200, 200, 200);\"></td><td title=\"Index: [3, 2]&#10;Color: (200, 200, 200)\" style=\"width: 20px; height: 20px;background-color: rgb(200, 200, 200);\"></td><td title=\"Index: [3, 3]&#10;Color: (200, 200, 200)\" style=\"width: 20px; height: 20px;background-color: rgb(200, 200, 200);\"></td><td title=\"Index: [3, 4]&#10;Color: (230, 115, 40)\" style=\"width: 20px; height: 20px;background-color: rgb(230, 115, 40);\"></td></tr><tr><td title=\"Index: [4, 0]&#10;Color: (200, 200, 200)\" style=\"width: 20px; height: 20px;background-color: rgb(200, 200, 200);\"></td><td title=\"Index: [4, 1]&#10;Color: (200, 200, 200)\" style=\"width: 20px; height: 20px;background-color: rgb(200, 200, 200);\"></td><td title=\"Index: [4, 2]&#10;Color: (0, 200, 200)\" style=\"width: 20px; height: 20px;background-color: rgb(0, 200, 200);\"></td><td title=\"Index: [4, 3]&#10;Color: (200, 200, 200)\" style=\"width: 20px; height: 20px;background-color: rgb(200, 200, 200);\"></td><td title=\"Index: [4, 4]&#10;Color: (200, 200, 200)\" style=\"width: 20px; height: 20px;background-color: rgb(200, 200, 200);\"></td></tr></tbody></table>"
            ],
            "text/plain": [
              "<IPython.core.display.HTML object>"
            ]
          },
          "metadata": {
            "tags": []
          }
        },
        {
          "output_type": "stream",
          "text": [
            "EnergeticBlindDog decided to turnright at location: [0, 3]\n"
          ],
          "name": "stdout"
        },
        {
          "output_type": "display_data",
          "data": {
            "text/html": [
              ""
            ],
            "text/plain": [
              "<IPython.core.display.HTML object>"
            ]
          },
          "metadata": {
            "tags": []
          }
        },
        {
          "output_type": "display_data",
          "data": {
            "text/html": [
              "<style type=\"text/css\">table.blockgrid {border: none;} .blockgrid tr {border: none;} .blockgrid td {padding: 0px;} #blocksd93b2d72-ed6a-4e5f-9f40-42866cf84864 td {border: 1px solid white;}</style><table id=\"blocksd93b2d72-ed6a-4e5f-9f40-42866cf84864\" class=\"blockgrid\"><tbody><tr><td title=\"Index: [0, 0]&#10;Color: (200, 200, 200)\" style=\"width: 20px; height: 20px;background-color: rgb(200, 200, 200);\"></td><td title=\"Index: [0, 1]&#10;Color: (200, 200, 200)\" style=\"width: 20px; height: 20px;background-color: rgb(200, 200, 200);\"></td><td title=\"Index: [0, 2]&#10;Color: (200, 200, 200)\" style=\"width: 20px; height: 20px;background-color: rgb(200, 200, 200);\"></td><td title=\"Index: [0, 3]&#10;Color: (200, 200, 200)\" style=\"width: 20px; height: 20px;background-color: rgb(200, 200, 200);\"></td><td title=\"Index: [0, 4]&#10;Color: (200, 200, 200)\" style=\"width: 20px; height: 20px;background-color: rgb(200, 200, 200);\"></td></tr><tr><td title=\"Index: [1, 0]&#10;Color: (200, 200, 200)\" style=\"width: 20px; height: 20px;background-color: rgb(200, 200, 200);\"></td><td title=\"Index: [1, 1]&#10;Color: (200, 200, 200)\" style=\"width: 20px; height: 20px;background-color: rgb(200, 200, 200);\"></td><td title=\"Index: [1, 2]&#10;Color: (200, 200, 200)\" style=\"width: 20px; height: 20px;background-color: rgb(200, 200, 200);\"></td><td title=\"Index: [1, 3]&#10;Color: (200, 200, 200)\" style=\"width: 20px; height: 20px;background-color: rgb(200, 200, 200);\"></td><td title=\"Index: [1, 4]&#10;Color: (200, 200, 200)\" style=\"width: 20px; height: 20px;background-color: rgb(200, 200, 200);\"></td></tr><tr><td title=\"Index: [2, 0]&#10;Color: (200, 200, 200)\" style=\"width: 20px; height: 20px;background-color: rgb(200, 200, 200);\"></td><td title=\"Index: [2, 1]&#10;Color: (230, 115, 40)\" style=\"width: 20px; height: 20px;background-color: rgb(230, 115, 40);\"></td><td title=\"Index: [2, 2]&#10;Color: (200, 200, 200)\" style=\"width: 20px; height: 20px;background-color: rgb(200, 200, 200);\"></td><td title=\"Index: [2, 3]&#10;Color: (200, 200, 200)\" style=\"width: 20px; height: 20px;background-color: rgb(200, 200, 200);\"></td><td title=\"Index: [2, 4]&#10;Color: (200, 200, 200)\" style=\"width: 20px; height: 20px;background-color: rgb(200, 200, 200);\"></td></tr><tr><td title=\"Index: [3, 0]&#10;Color: (200, 0, 0)\" style=\"width: 20px; height: 20px;background-color: rgb(200, 0, 0);\"></td><td title=\"Index: [3, 1]&#10;Color: (200, 200, 200)\" style=\"width: 20px; height: 20px;background-color: rgb(200, 200, 200);\"></td><td title=\"Index: [3, 2]&#10;Color: (200, 200, 200)\" style=\"width: 20px; height: 20px;background-color: rgb(200, 200, 200);\"></td><td title=\"Index: [3, 3]&#10;Color: (200, 200, 200)\" style=\"width: 20px; height: 20px;background-color: rgb(200, 200, 200);\"></td><td title=\"Index: [3, 4]&#10;Color: (230, 115, 40)\" style=\"width: 20px; height: 20px;background-color: rgb(230, 115, 40);\"></td></tr><tr><td title=\"Index: [4, 0]&#10;Color: (200, 200, 200)\" style=\"width: 20px; height: 20px;background-color: rgb(200, 200, 200);\"></td><td title=\"Index: [4, 1]&#10;Color: (200, 200, 200)\" style=\"width: 20px; height: 20px;background-color: rgb(200, 200, 200);\"></td><td title=\"Index: [4, 2]&#10;Color: (0, 200, 200)\" style=\"width: 20px; height: 20px;background-color: rgb(0, 200, 200);\"></td><td title=\"Index: [4, 3]&#10;Color: (200, 200, 200)\" style=\"width: 20px; height: 20px;background-color: rgb(200, 200, 200);\"></td><td title=\"Index: [4, 4]&#10;Color: (200, 200, 200)\" style=\"width: 20px; height: 20px;background-color: rgb(200, 200, 200);\"></td></tr></tbody></table>"
            ],
            "text/plain": [
              "<IPython.core.display.HTML object>"
            ]
          },
          "metadata": {
            "tags": []
          }
        },
        {
          "output_type": "stream",
          "text": [
            "EnergeticBlindDog decided to turnright at location: [0, 3]\n"
          ],
          "name": "stdout"
        },
        {
          "output_type": "display_data",
          "data": {
            "text/html": [
              ""
            ],
            "text/plain": [
              "<IPython.core.display.HTML object>"
            ]
          },
          "metadata": {
            "tags": []
          }
        },
        {
          "output_type": "display_data",
          "data": {
            "text/html": [
              "<style type=\"text/css\">table.blockgrid {border: none;} .blockgrid tr {border: none;} .blockgrid td {padding: 0px;} #blocksd977d2cd-af7f-42b7-811f-41a8492e7d21 td {border: 1px solid white;}</style><table id=\"blocksd977d2cd-af7f-42b7-811f-41a8492e7d21\" class=\"blockgrid\"><tbody><tr><td title=\"Index: [0, 0]&#10;Color: (200, 200, 200)\" style=\"width: 20px; height: 20px;background-color: rgb(200, 200, 200);\"></td><td title=\"Index: [0, 1]&#10;Color: (200, 200, 200)\" style=\"width: 20px; height: 20px;background-color: rgb(200, 200, 200);\"></td><td title=\"Index: [0, 2]&#10;Color: (200, 200, 200)\" style=\"width: 20px; height: 20px;background-color: rgb(200, 200, 200);\"></td><td title=\"Index: [0, 3]&#10;Color: (200, 200, 200)\" style=\"width: 20px; height: 20px;background-color: rgb(200, 200, 200);\"></td><td title=\"Index: [0, 4]&#10;Color: (200, 200, 200)\" style=\"width: 20px; height: 20px;background-color: rgb(200, 200, 200);\"></td></tr><tr><td title=\"Index: [1, 0]&#10;Color: (200, 200, 200)\" style=\"width: 20px; height: 20px;background-color: rgb(200, 200, 200);\"></td><td title=\"Index: [1, 1]&#10;Color: (200, 200, 200)\" style=\"width: 20px; height: 20px;background-color: rgb(200, 200, 200);\"></td><td title=\"Index: [1, 2]&#10;Color: (200, 200, 200)\" style=\"width: 20px; height: 20px;background-color: rgb(200, 200, 200);\"></td><td title=\"Index: [1, 3]&#10;Color: (200, 200, 200)\" style=\"width: 20px; height: 20px;background-color: rgb(200, 200, 200);\"></td><td title=\"Index: [1, 4]&#10;Color: (200, 200, 200)\" style=\"width: 20px; height: 20px;background-color: rgb(200, 200, 200);\"></td></tr><tr><td title=\"Index: [2, 0]&#10;Color: (200, 200, 200)\" style=\"width: 20px; height: 20px;background-color: rgb(200, 200, 200);\"></td><td title=\"Index: [2, 1]&#10;Color: (230, 115, 40)\" style=\"width: 20px; height: 20px;background-color: rgb(230, 115, 40);\"></td><td title=\"Index: [2, 2]&#10;Color: (200, 200, 200)\" style=\"width: 20px; height: 20px;background-color: rgb(200, 200, 200);\"></td><td title=\"Index: [2, 3]&#10;Color: (200, 200, 200)\" style=\"width: 20px; height: 20px;background-color: rgb(200, 200, 200);\"></td><td title=\"Index: [2, 4]&#10;Color: (200, 200, 200)\" style=\"width: 20px; height: 20px;background-color: rgb(200, 200, 200);\"></td></tr><tr><td title=\"Index: [3, 0]&#10;Color: (200, 0, 0)\" style=\"width: 20px; height: 20px;background-color: rgb(200, 0, 0);\"></td><td title=\"Index: [3, 1]&#10;Color: (200, 200, 200)\" style=\"width: 20px; height: 20px;background-color: rgb(200, 200, 200);\"></td><td title=\"Index: [3, 2]&#10;Color: (200, 200, 200)\" style=\"width: 20px; height: 20px;background-color: rgb(200, 200, 200);\"></td><td title=\"Index: [3, 3]&#10;Color: (200, 200, 200)\" style=\"width: 20px; height: 20px;background-color: rgb(200, 200, 200);\"></td><td title=\"Index: [3, 4]&#10;Color: (230, 115, 40)\" style=\"width: 20px; height: 20px;background-color: rgb(230, 115, 40);\"></td></tr><tr><td title=\"Index: [4, 0]&#10;Color: (200, 200, 200)\" style=\"width: 20px; height: 20px;background-color: rgb(200, 200, 200);\"></td><td title=\"Index: [4, 1]&#10;Color: (200, 200, 200)\" style=\"width: 20px; height: 20px;background-color: rgb(200, 200, 200);\"></td><td title=\"Index: [4, 2]&#10;Color: (0, 200, 200)\" style=\"width: 20px; height: 20px;background-color: rgb(0, 200, 200);\"></td><td title=\"Index: [4, 3]&#10;Color: (200, 200, 200)\" style=\"width: 20px; height: 20px;background-color: rgb(200, 200, 200);\"></td><td title=\"Index: [4, 4]&#10;Color: (200, 200, 200)\" style=\"width: 20px; height: 20px;background-color: rgb(200, 200, 200);\"></td></tr></tbody></table>"
            ],
            "text/plain": [
              "<IPython.core.display.HTML object>"
            ]
          },
          "metadata": {
            "tags": []
          }
        },
        {
          "output_type": "stream",
          "text": [
            "EnergeticBlindDog decided to turnleft at location: [0, 3]\n"
          ],
          "name": "stdout"
        },
        {
          "output_type": "display_data",
          "data": {
            "text/html": [
              ""
            ],
            "text/plain": [
              "<IPython.core.display.HTML object>"
            ]
          },
          "metadata": {
            "tags": []
          }
        },
        {
          "output_type": "display_data",
          "data": {
            "text/html": [
              "<style type=\"text/css\">table.blockgrid {border: none;} .blockgrid tr {border: none;} .blockgrid td {padding: 0px;} #blocks16fcb863-8b11-4ffe-809a-b55f773279a3 td {border: 1px solid white;}</style><table id=\"blocks16fcb863-8b11-4ffe-809a-b55f773279a3\" class=\"blockgrid\"><tbody><tr><td title=\"Index: [0, 0]&#10;Color: (200, 200, 200)\" style=\"width: 20px; height: 20px;background-color: rgb(200, 200, 200);\"></td><td title=\"Index: [0, 1]&#10;Color: (200, 200, 200)\" style=\"width: 20px; height: 20px;background-color: rgb(200, 200, 200);\"></td><td title=\"Index: [0, 2]&#10;Color: (200, 200, 200)\" style=\"width: 20px; height: 20px;background-color: rgb(200, 200, 200);\"></td><td title=\"Index: [0, 3]&#10;Color: (200, 200, 200)\" style=\"width: 20px; height: 20px;background-color: rgb(200, 200, 200);\"></td><td title=\"Index: [0, 4]&#10;Color: (200, 200, 200)\" style=\"width: 20px; height: 20px;background-color: rgb(200, 200, 200);\"></td></tr><tr><td title=\"Index: [1, 0]&#10;Color: (200, 200, 200)\" style=\"width: 20px; height: 20px;background-color: rgb(200, 200, 200);\"></td><td title=\"Index: [1, 1]&#10;Color: (200, 200, 200)\" style=\"width: 20px; height: 20px;background-color: rgb(200, 200, 200);\"></td><td title=\"Index: [1, 2]&#10;Color: (200, 200, 200)\" style=\"width: 20px; height: 20px;background-color: rgb(200, 200, 200);\"></td><td title=\"Index: [1, 3]&#10;Color: (200, 200, 200)\" style=\"width: 20px; height: 20px;background-color: rgb(200, 200, 200);\"></td><td title=\"Index: [1, 4]&#10;Color: (200, 200, 200)\" style=\"width: 20px; height: 20px;background-color: rgb(200, 200, 200);\"></td></tr><tr><td title=\"Index: [2, 0]&#10;Color: (200, 200, 200)\" style=\"width: 20px; height: 20px;background-color: rgb(200, 200, 200);\"></td><td title=\"Index: [2, 1]&#10;Color: (230, 115, 40)\" style=\"width: 20px; height: 20px;background-color: rgb(230, 115, 40);\"></td><td title=\"Index: [2, 2]&#10;Color: (200, 200, 200)\" style=\"width: 20px; height: 20px;background-color: rgb(200, 200, 200);\"></td><td title=\"Index: [2, 3]&#10;Color: (200, 200, 200)\" style=\"width: 20px; height: 20px;background-color: rgb(200, 200, 200);\"></td><td title=\"Index: [2, 4]&#10;Color: (200, 200, 200)\" style=\"width: 20px; height: 20px;background-color: rgb(200, 200, 200);\"></td></tr><tr><td title=\"Index: [3, 0]&#10;Color: (200, 0, 0)\" style=\"width: 20px; height: 20px;background-color: rgb(200, 0, 0);\"></td><td title=\"Index: [3, 1]&#10;Color: (200, 200, 200)\" style=\"width: 20px; height: 20px;background-color: rgb(200, 200, 200);\"></td><td title=\"Index: [3, 2]&#10;Color: (200, 200, 200)\" style=\"width: 20px; height: 20px;background-color: rgb(200, 200, 200);\"></td><td title=\"Index: [3, 3]&#10;Color: (200, 200, 200)\" style=\"width: 20px; height: 20px;background-color: rgb(200, 200, 200);\"></td><td title=\"Index: [3, 4]&#10;Color: (230, 115, 40)\" style=\"width: 20px; height: 20px;background-color: rgb(230, 115, 40);\"></td></tr><tr><td title=\"Index: [4, 0]&#10;Color: (200, 200, 200)\" style=\"width: 20px; height: 20px;background-color: rgb(200, 200, 200);\"></td><td title=\"Index: [4, 1]&#10;Color: (200, 200, 200)\" style=\"width: 20px; height: 20px;background-color: rgb(200, 200, 200);\"></td><td title=\"Index: [4, 2]&#10;Color: (0, 200, 200)\" style=\"width: 20px; height: 20px;background-color: rgb(0, 200, 200);\"></td><td title=\"Index: [4, 3]&#10;Color: (200, 200, 200)\" style=\"width: 20px; height: 20px;background-color: rgb(200, 200, 200);\"></td><td title=\"Index: [4, 4]&#10;Color: (200, 200, 200)\" style=\"width: 20px; height: 20px;background-color: rgb(200, 200, 200);\"></td></tr></tbody></table>"
            ],
            "text/plain": [
              "<IPython.core.display.HTML object>"
            ]
          },
          "metadata": {
            "tags": []
          }
        },
        {
          "output_type": "stream",
          "text": [
            "EnergeticBlindDog decided to turnright at location: [0, 3]\n"
          ],
          "name": "stdout"
        },
        {
          "output_type": "display_data",
          "data": {
            "text/html": [
              ""
            ],
            "text/plain": [
              "<IPython.core.display.HTML object>"
            ]
          },
          "metadata": {
            "tags": []
          }
        },
        {
          "output_type": "display_data",
          "data": {
            "text/html": [
              "<style type=\"text/css\">table.blockgrid {border: none;} .blockgrid tr {border: none;} .blockgrid td {padding: 0px;} #blocks4005a51e-5efb-4e31-94db-401295e4032c td {border: 1px solid white;}</style><table id=\"blocks4005a51e-5efb-4e31-94db-401295e4032c\" class=\"blockgrid\"><tbody><tr><td title=\"Index: [0, 0]&#10;Color: (200, 200, 200)\" style=\"width: 20px; height: 20px;background-color: rgb(200, 200, 200);\"></td><td title=\"Index: [0, 1]&#10;Color: (200, 200, 200)\" style=\"width: 20px; height: 20px;background-color: rgb(200, 200, 200);\"></td><td title=\"Index: [0, 2]&#10;Color: (200, 200, 200)\" style=\"width: 20px; height: 20px;background-color: rgb(200, 200, 200);\"></td><td title=\"Index: [0, 3]&#10;Color: (200, 200, 200)\" style=\"width: 20px; height: 20px;background-color: rgb(200, 200, 200);\"></td><td title=\"Index: [0, 4]&#10;Color: (200, 200, 200)\" style=\"width: 20px; height: 20px;background-color: rgb(200, 200, 200);\"></td></tr><tr><td title=\"Index: [1, 0]&#10;Color: (200, 200, 200)\" style=\"width: 20px; height: 20px;background-color: rgb(200, 200, 200);\"></td><td title=\"Index: [1, 1]&#10;Color: (200, 200, 200)\" style=\"width: 20px; height: 20px;background-color: rgb(200, 200, 200);\"></td><td title=\"Index: [1, 2]&#10;Color: (200, 200, 200)\" style=\"width: 20px; height: 20px;background-color: rgb(200, 200, 200);\"></td><td title=\"Index: [1, 3]&#10;Color: (200, 200, 200)\" style=\"width: 20px; height: 20px;background-color: rgb(200, 200, 200);\"></td><td title=\"Index: [1, 4]&#10;Color: (200, 200, 200)\" style=\"width: 20px; height: 20px;background-color: rgb(200, 200, 200);\"></td></tr><tr><td title=\"Index: [2, 0]&#10;Color: (200, 200, 200)\" style=\"width: 20px; height: 20px;background-color: rgb(200, 200, 200);\"></td><td title=\"Index: [2, 1]&#10;Color: (230, 115, 40)\" style=\"width: 20px; height: 20px;background-color: rgb(230, 115, 40);\"></td><td title=\"Index: [2, 2]&#10;Color: (200, 200, 200)\" style=\"width: 20px; height: 20px;background-color: rgb(200, 200, 200);\"></td><td title=\"Index: [2, 3]&#10;Color: (200, 200, 200)\" style=\"width: 20px; height: 20px;background-color: rgb(200, 200, 200);\"></td><td title=\"Index: [2, 4]&#10;Color: (200, 200, 200)\" style=\"width: 20px; height: 20px;background-color: rgb(200, 200, 200);\"></td></tr><tr><td title=\"Index: [3, 0]&#10;Color: (200, 0, 0)\" style=\"width: 20px; height: 20px;background-color: rgb(200, 0, 0);\"></td><td title=\"Index: [3, 1]&#10;Color: (200, 200, 200)\" style=\"width: 20px; height: 20px;background-color: rgb(200, 200, 200);\"></td><td title=\"Index: [3, 2]&#10;Color: (200, 200, 200)\" style=\"width: 20px; height: 20px;background-color: rgb(200, 200, 200);\"></td><td title=\"Index: [3, 3]&#10;Color: (200, 200, 200)\" style=\"width: 20px; height: 20px;background-color: rgb(200, 200, 200);\"></td><td title=\"Index: [3, 4]&#10;Color: (230, 115, 40)\" style=\"width: 20px; height: 20px;background-color: rgb(230, 115, 40);\"></td></tr><tr><td title=\"Index: [4, 0]&#10;Color: (200, 200, 200)\" style=\"width: 20px; height: 20px;background-color: rgb(200, 200, 200);\"></td><td title=\"Index: [4, 1]&#10;Color: (200, 200, 200)\" style=\"width: 20px; height: 20px;background-color: rgb(200, 200, 200);\"></td><td title=\"Index: [4, 2]&#10;Color: (0, 200, 200)\" style=\"width: 20px; height: 20px;background-color: rgb(0, 200, 200);\"></td><td title=\"Index: [4, 3]&#10;Color: (200, 200, 200)\" style=\"width: 20px; height: 20px;background-color: rgb(200, 200, 200);\"></td><td title=\"Index: [4, 4]&#10;Color: (200, 200, 200)\" style=\"width: 20px; height: 20px;background-color: rgb(200, 200, 200);\"></td></tr></tbody></table>"
            ],
            "text/plain": [
              "<IPython.core.display.HTML object>"
            ]
          },
          "metadata": {
            "tags": []
          }
        },
        {
          "output_type": "stream",
          "text": [
            "EnergeticBlindDog decided to move upwards at location: [0, 3]\n"
          ],
          "name": "stdout"
        },
        {
          "output_type": "display_data",
          "data": {
            "text/html": [
              ""
            ],
            "text/plain": [
              "<IPython.core.display.HTML object>"
            ]
          },
          "metadata": {
            "tags": []
          }
        },
        {
          "output_type": "display_data",
          "data": {
            "text/html": [
              "<style type=\"text/css\">table.blockgrid {border: none;} .blockgrid tr {border: none;} .blockgrid td {padding: 0px;} #blocksceede9f8-29c1-400b-883a-ecf2ac69c374 td {border: 1px solid white;}</style><table id=\"blocksceede9f8-29c1-400b-883a-ecf2ac69c374\" class=\"blockgrid\"><tbody><tr><td title=\"Index: [0, 0]&#10;Color: (200, 200, 200)\" style=\"width: 20px; height: 20px;background-color: rgb(200, 200, 200);\"></td><td title=\"Index: [0, 1]&#10;Color: (200, 200, 200)\" style=\"width: 20px; height: 20px;background-color: rgb(200, 200, 200);\"></td><td title=\"Index: [0, 2]&#10;Color: (200, 200, 200)\" style=\"width: 20px; height: 20px;background-color: rgb(200, 200, 200);\"></td><td title=\"Index: [0, 3]&#10;Color: (200, 200, 200)\" style=\"width: 20px; height: 20px;background-color: rgb(200, 200, 200);\"></td><td title=\"Index: [0, 4]&#10;Color: (200, 200, 200)\" style=\"width: 20px; height: 20px;background-color: rgb(200, 200, 200);\"></td></tr><tr><td title=\"Index: [1, 0]&#10;Color: (200, 200, 200)\" style=\"width: 20px; height: 20px;background-color: rgb(200, 200, 200);\"></td><td title=\"Index: [1, 1]&#10;Color: (200, 200, 200)\" style=\"width: 20px; height: 20px;background-color: rgb(200, 200, 200);\"></td><td title=\"Index: [1, 2]&#10;Color: (200, 200, 200)\" style=\"width: 20px; height: 20px;background-color: rgb(200, 200, 200);\"></td><td title=\"Index: [1, 3]&#10;Color: (200, 200, 200)\" style=\"width: 20px; height: 20px;background-color: rgb(200, 200, 200);\"></td><td title=\"Index: [1, 4]&#10;Color: (200, 200, 200)\" style=\"width: 20px; height: 20px;background-color: rgb(200, 200, 200);\"></td></tr><tr><td title=\"Index: [2, 0]&#10;Color: (200, 0, 0)\" style=\"width: 20px; height: 20px;background-color: rgb(200, 0, 0);\"></td><td title=\"Index: [2, 1]&#10;Color: (230, 115, 40)\" style=\"width: 20px; height: 20px;background-color: rgb(230, 115, 40);\"></td><td title=\"Index: [2, 2]&#10;Color: (200, 200, 200)\" style=\"width: 20px; height: 20px;background-color: rgb(200, 200, 200);\"></td><td title=\"Index: [2, 3]&#10;Color: (200, 200, 200)\" style=\"width: 20px; height: 20px;background-color: rgb(200, 200, 200);\"></td><td title=\"Index: [2, 4]&#10;Color: (200, 200, 200)\" style=\"width: 20px; height: 20px;background-color: rgb(200, 200, 200);\"></td></tr><tr><td title=\"Index: [3, 0]&#10;Color: (200, 200, 200)\" style=\"width: 20px; height: 20px;background-color: rgb(200, 200, 200);\"></td><td title=\"Index: [3, 1]&#10;Color: (200, 200, 200)\" style=\"width: 20px; height: 20px;background-color: rgb(200, 200, 200);\"></td><td title=\"Index: [3, 2]&#10;Color: (200, 200, 200)\" style=\"width: 20px; height: 20px;background-color: rgb(200, 200, 200);\"></td><td title=\"Index: [3, 3]&#10;Color: (200, 200, 200)\" style=\"width: 20px; height: 20px;background-color: rgb(200, 200, 200);\"></td><td title=\"Index: [3, 4]&#10;Color: (230, 115, 40)\" style=\"width: 20px; height: 20px;background-color: rgb(230, 115, 40);\"></td></tr><tr><td title=\"Index: [4, 0]&#10;Color: (200, 200, 200)\" style=\"width: 20px; height: 20px;background-color: rgb(200, 200, 200);\"></td><td title=\"Index: [4, 1]&#10;Color: (200, 200, 200)\" style=\"width: 20px; height: 20px;background-color: rgb(200, 200, 200);\"></td><td title=\"Index: [4, 2]&#10;Color: (0, 200, 200)\" style=\"width: 20px; height: 20px;background-color: rgb(0, 200, 200);\"></td><td title=\"Index: [4, 3]&#10;Color: (200, 200, 200)\" style=\"width: 20px; height: 20px;background-color: rgb(200, 200, 200);\"></td><td title=\"Index: [4, 4]&#10;Color: (200, 200, 200)\" style=\"width: 20px; height: 20px;background-color: rgb(200, 200, 200);\"></td></tr></tbody></table>"
            ],
            "text/plain": [
              "<IPython.core.display.HTML object>"
            ]
          },
          "metadata": {
            "tags": []
          }
        },
        {
          "output_type": "stream",
          "text": [
            "EnergeticBlindDog decided to move upwards at location: [0, 2]\n"
          ],
          "name": "stdout"
        },
        {
          "output_type": "display_data",
          "data": {
            "text/html": [
              ""
            ],
            "text/plain": [
              "<IPython.core.display.HTML object>"
            ]
          },
          "metadata": {
            "tags": []
          }
        },
        {
          "output_type": "display_data",
          "data": {
            "text/html": [
              "<style type=\"text/css\">table.blockgrid {border: none;} .blockgrid tr {border: none;} .blockgrid td {padding: 0px;} #blocks755bafd2-17c6-47fe-b6e6-a7822a28db8f td {border: 1px solid white;}</style><table id=\"blocks755bafd2-17c6-47fe-b6e6-a7822a28db8f\" class=\"blockgrid\"><tbody><tr><td title=\"Index: [0, 0]&#10;Color: (200, 200, 200)\" style=\"width: 20px; height: 20px;background-color: rgb(200, 200, 200);\"></td><td title=\"Index: [0, 1]&#10;Color: (200, 200, 200)\" style=\"width: 20px; height: 20px;background-color: rgb(200, 200, 200);\"></td><td title=\"Index: [0, 2]&#10;Color: (200, 200, 200)\" style=\"width: 20px; height: 20px;background-color: rgb(200, 200, 200);\"></td><td title=\"Index: [0, 3]&#10;Color: (200, 200, 200)\" style=\"width: 20px; height: 20px;background-color: rgb(200, 200, 200);\"></td><td title=\"Index: [0, 4]&#10;Color: (200, 200, 200)\" style=\"width: 20px; height: 20px;background-color: rgb(200, 200, 200);\"></td></tr><tr><td title=\"Index: [1, 0]&#10;Color: (200, 0, 0)\" style=\"width: 20px; height: 20px;background-color: rgb(200, 0, 0);\"></td><td title=\"Index: [1, 1]&#10;Color: (200, 200, 200)\" style=\"width: 20px; height: 20px;background-color: rgb(200, 200, 200);\"></td><td title=\"Index: [1, 2]&#10;Color: (200, 200, 200)\" style=\"width: 20px; height: 20px;background-color: rgb(200, 200, 200);\"></td><td title=\"Index: [1, 3]&#10;Color: (200, 200, 200)\" style=\"width: 20px; height: 20px;background-color: rgb(200, 200, 200);\"></td><td title=\"Index: [1, 4]&#10;Color: (200, 200, 200)\" style=\"width: 20px; height: 20px;background-color: rgb(200, 200, 200);\"></td></tr><tr><td title=\"Index: [2, 0]&#10;Color: (200, 200, 200)\" style=\"width: 20px; height: 20px;background-color: rgb(200, 200, 200);\"></td><td title=\"Index: [2, 1]&#10;Color: (230, 115, 40)\" style=\"width: 20px; height: 20px;background-color: rgb(230, 115, 40);\"></td><td title=\"Index: [2, 2]&#10;Color: (200, 200, 200)\" style=\"width: 20px; height: 20px;background-color: rgb(200, 200, 200);\"></td><td title=\"Index: [2, 3]&#10;Color: (200, 200, 200)\" style=\"width: 20px; height: 20px;background-color: rgb(200, 200, 200);\"></td><td title=\"Index: [2, 4]&#10;Color: (200, 200, 200)\" style=\"width: 20px; height: 20px;background-color: rgb(200, 200, 200);\"></td></tr><tr><td title=\"Index: [3, 0]&#10;Color: (200, 200, 200)\" style=\"width: 20px; height: 20px;background-color: rgb(200, 200, 200);\"></td><td title=\"Index: [3, 1]&#10;Color: (200, 200, 200)\" style=\"width: 20px; height: 20px;background-color: rgb(200, 200, 200);\"></td><td title=\"Index: [3, 2]&#10;Color: (200, 200, 200)\" style=\"width: 20px; height: 20px;background-color: rgb(200, 200, 200);\"></td><td title=\"Index: [3, 3]&#10;Color: (200, 200, 200)\" style=\"width: 20px; height: 20px;background-color: rgb(200, 200, 200);\"></td><td title=\"Index: [3, 4]&#10;Color: (230, 115, 40)\" style=\"width: 20px; height: 20px;background-color: rgb(230, 115, 40);\"></td></tr><tr><td title=\"Index: [4, 0]&#10;Color: (200, 200, 200)\" style=\"width: 20px; height: 20px;background-color: rgb(200, 200, 200);\"></td><td title=\"Index: [4, 1]&#10;Color: (200, 200, 200)\" style=\"width: 20px; height: 20px;background-color: rgb(200, 200, 200);\"></td><td title=\"Index: [4, 2]&#10;Color: (0, 200, 200)\" style=\"width: 20px; height: 20px;background-color: rgb(0, 200, 200);\"></td><td title=\"Index: [4, 3]&#10;Color: (200, 200, 200)\" style=\"width: 20px; height: 20px;background-color: rgb(200, 200, 200);\"></td><td title=\"Index: [4, 4]&#10;Color: (200, 200, 200)\" style=\"width: 20px; height: 20px;background-color: rgb(200, 200, 200);\"></td></tr></tbody></table>"
            ],
            "text/plain": [
              "<IPython.core.display.HTML object>"
            ]
          },
          "metadata": {
            "tags": []
          }
        },
        {
          "output_type": "stream",
          "text": [
            "EnergeticBlindDog decided to move upwards at location: [0, 1]\n"
          ],
          "name": "stdout"
        },
        {
          "output_type": "display_data",
          "data": {
            "text/html": [
              ""
            ],
            "text/plain": [
              "<IPython.core.display.HTML object>"
            ]
          },
          "metadata": {
            "tags": []
          }
        },
        {
          "output_type": "display_data",
          "data": {
            "text/html": [
              "<style type=\"text/css\">table.blockgrid {border: none;} .blockgrid tr {border: none;} .blockgrid td {padding: 0px;} #blocks49a39dc2-4c93-4e81-9b50-f603f0a54a60 td {border: 1px solid white;}</style><table id=\"blocks49a39dc2-4c93-4e81-9b50-f603f0a54a60\" class=\"blockgrid\"><tbody><tr><td title=\"Index: [0, 0]&#10;Color: (200, 0, 0)\" style=\"width: 20px; height: 20px;background-color: rgb(200, 0, 0);\"></td><td title=\"Index: [0, 1]&#10;Color: (200, 200, 200)\" style=\"width: 20px; height: 20px;background-color: rgb(200, 200, 200);\"></td><td title=\"Index: [0, 2]&#10;Color: (200, 200, 200)\" style=\"width: 20px; height: 20px;background-color: rgb(200, 200, 200);\"></td><td title=\"Index: [0, 3]&#10;Color: (200, 200, 200)\" style=\"width: 20px; height: 20px;background-color: rgb(200, 200, 200);\"></td><td title=\"Index: [0, 4]&#10;Color: (200, 200, 200)\" style=\"width: 20px; height: 20px;background-color: rgb(200, 200, 200);\"></td></tr><tr><td title=\"Index: [1, 0]&#10;Color: (200, 200, 200)\" style=\"width: 20px; height: 20px;background-color: rgb(200, 200, 200);\"></td><td title=\"Index: [1, 1]&#10;Color: (200, 200, 200)\" style=\"width: 20px; height: 20px;background-color: rgb(200, 200, 200);\"></td><td title=\"Index: [1, 2]&#10;Color: (200, 200, 200)\" style=\"width: 20px; height: 20px;background-color: rgb(200, 200, 200);\"></td><td title=\"Index: [1, 3]&#10;Color: (200, 200, 200)\" style=\"width: 20px; height: 20px;background-color: rgb(200, 200, 200);\"></td><td title=\"Index: [1, 4]&#10;Color: (200, 200, 200)\" style=\"width: 20px; height: 20px;background-color: rgb(200, 200, 200);\"></td></tr><tr><td title=\"Index: [2, 0]&#10;Color: (200, 200, 200)\" style=\"width: 20px; height: 20px;background-color: rgb(200, 200, 200);\"></td><td title=\"Index: [2, 1]&#10;Color: (230, 115, 40)\" style=\"width: 20px; height: 20px;background-color: rgb(230, 115, 40);\"></td><td title=\"Index: [2, 2]&#10;Color: (200, 200, 200)\" style=\"width: 20px; height: 20px;background-color: rgb(200, 200, 200);\"></td><td title=\"Index: [2, 3]&#10;Color: (200, 200, 200)\" style=\"width: 20px; height: 20px;background-color: rgb(200, 200, 200);\"></td><td title=\"Index: [2, 4]&#10;Color: (200, 200, 200)\" style=\"width: 20px; height: 20px;background-color: rgb(200, 200, 200);\"></td></tr><tr><td title=\"Index: [3, 0]&#10;Color: (200, 200, 200)\" style=\"width: 20px; height: 20px;background-color: rgb(200, 200, 200);\"></td><td title=\"Index: [3, 1]&#10;Color: (200, 200, 200)\" style=\"width: 20px; height: 20px;background-color: rgb(200, 200, 200);\"></td><td title=\"Index: [3, 2]&#10;Color: (200, 200, 200)\" style=\"width: 20px; height: 20px;background-color: rgb(200, 200, 200);\"></td><td title=\"Index: [3, 3]&#10;Color: (200, 200, 200)\" style=\"width: 20px; height: 20px;background-color: rgb(200, 200, 200);\"></td><td title=\"Index: [3, 4]&#10;Color: (230, 115, 40)\" style=\"width: 20px; height: 20px;background-color: rgb(230, 115, 40);\"></td></tr><tr><td title=\"Index: [4, 0]&#10;Color: (200, 200, 200)\" style=\"width: 20px; height: 20px;background-color: rgb(200, 200, 200);\"></td><td title=\"Index: [4, 1]&#10;Color: (200, 200, 200)\" style=\"width: 20px; height: 20px;background-color: rgb(200, 200, 200);\"></td><td title=\"Index: [4, 2]&#10;Color: (0, 200, 200)\" style=\"width: 20px; height: 20px;background-color: rgb(0, 200, 200);\"></td><td title=\"Index: [4, 3]&#10;Color: (200, 200, 200)\" style=\"width: 20px; height: 20px;background-color: rgb(200, 200, 200);\"></td><td title=\"Index: [4, 4]&#10;Color: (200, 200, 200)\" style=\"width: 20px; height: 20px;background-color: rgb(200, 200, 200);\"></td></tr></tbody></table>"
            ],
            "text/plain": [
              "<IPython.core.display.HTML object>"
            ]
          },
          "metadata": {
            "tags": []
          }
        },
        {
          "output_type": "stream",
          "text": [
            "EnergeticBlindDog decided to turnright at location: [0, 0]\n"
          ],
          "name": "stdout"
        },
        {
          "output_type": "display_data",
          "data": {
            "text/html": [
              ""
            ],
            "text/plain": [
              "<IPython.core.display.HTML object>"
            ]
          },
          "metadata": {
            "tags": []
          }
        },
        {
          "output_type": "display_data",
          "data": {
            "text/html": [
              "<style type=\"text/css\">table.blockgrid {border: none;} .blockgrid tr {border: none;} .blockgrid td {padding: 0px;} #blocks0ee33650-e2eb-4816-a4b0-f3e621ef3b00 td {border: 1px solid white;}</style><table id=\"blocks0ee33650-e2eb-4816-a4b0-f3e621ef3b00\" class=\"blockgrid\"><tbody><tr><td title=\"Index: [0, 0]&#10;Color: (200, 0, 0)\" style=\"width: 20px; height: 20px;background-color: rgb(200, 0, 0);\"></td><td title=\"Index: [0, 1]&#10;Color: (200, 200, 200)\" style=\"width: 20px; height: 20px;background-color: rgb(200, 200, 200);\"></td><td title=\"Index: [0, 2]&#10;Color: (200, 200, 200)\" style=\"width: 20px; height: 20px;background-color: rgb(200, 200, 200);\"></td><td title=\"Index: [0, 3]&#10;Color: (200, 200, 200)\" style=\"width: 20px; height: 20px;background-color: rgb(200, 200, 200);\"></td><td title=\"Index: [0, 4]&#10;Color: (200, 200, 200)\" style=\"width: 20px; height: 20px;background-color: rgb(200, 200, 200);\"></td></tr><tr><td title=\"Index: [1, 0]&#10;Color: (200, 200, 200)\" style=\"width: 20px; height: 20px;background-color: rgb(200, 200, 200);\"></td><td title=\"Index: [1, 1]&#10;Color: (200, 200, 200)\" style=\"width: 20px; height: 20px;background-color: rgb(200, 200, 200);\"></td><td title=\"Index: [1, 2]&#10;Color: (200, 200, 200)\" style=\"width: 20px; height: 20px;background-color: rgb(200, 200, 200);\"></td><td title=\"Index: [1, 3]&#10;Color: (200, 200, 200)\" style=\"width: 20px; height: 20px;background-color: rgb(200, 200, 200);\"></td><td title=\"Index: [1, 4]&#10;Color: (200, 200, 200)\" style=\"width: 20px; height: 20px;background-color: rgb(200, 200, 200);\"></td></tr><tr><td title=\"Index: [2, 0]&#10;Color: (200, 200, 200)\" style=\"width: 20px; height: 20px;background-color: rgb(200, 200, 200);\"></td><td title=\"Index: [2, 1]&#10;Color: (230, 115, 40)\" style=\"width: 20px; height: 20px;background-color: rgb(230, 115, 40);\"></td><td title=\"Index: [2, 2]&#10;Color: (200, 200, 200)\" style=\"width: 20px; height: 20px;background-color: rgb(200, 200, 200);\"></td><td title=\"Index: [2, 3]&#10;Color: (200, 200, 200)\" style=\"width: 20px; height: 20px;background-color: rgb(200, 200, 200);\"></td><td title=\"Index: [2, 4]&#10;Color: (200, 200, 200)\" style=\"width: 20px; height: 20px;background-color: rgb(200, 200, 200);\"></td></tr><tr><td title=\"Index: [3, 0]&#10;Color: (200, 200, 200)\" style=\"width: 20px; height: 20px;background-color: rgb(200, 200, 200);\"></td><td title=\"Index: [3, 1]&#10;Color: (200, 200, 200)\" style=\"width: 20px; height: 20px;background-color: rgb(200, 200, 200);\"></td><td title=\"Index: [3, 2]&#10;Color: (200, 200, 200)\" style=\"width: 20px; height: 20px;background-color: rgb(200, 200, 200);\"></td><td title=\"Index: [3, 3]&#10;Color: (200, 200, 200)\" style=\"width: 20px; height: 20px;background-color: rgb(200, 200, 200);\"></td><td title=\"Index: [3, 4]&#10;Color: (230, 115, 40)\" style=\"width: 20px; height: 20px;background-color: rgb(230, 115, 40);\"></td></tr><tr><td title=\"Index: [4, 0]&#10;Color: (200, 200, 200)\" style=\"width: 20px; height: 20px;background-color: rgb(200, 200, 200);\"></td><td title=\"Index: [4, 1]&#10;Color: (200, 200, 200)\" style=\"width: 20px; height: 20px;background-color: rgb(200, 200, 200);\"></td><td title=\"Index: [4, 2]&#10;Color: (0, 200, 200)\" style=\"width: 20px; height: 20px;background-color: rgb(0, 200, 200);\"></td><td title=\"Index: [4, 3]&#10;Color: (200, 200, 200)\" style=\"width: 20px; height: 20px;background-color: rgb(200, 200, 200);\"></td><td title=\"Index: [4, 4]&#10;Color: (200, 200, 200)\" style=\"width: 20px; height: 20px;background-color: rgb(200, 200, 200);\"></td></tr></tbody></table>"
            ],
            "text/plain": [
              "<IPython.core.display.HTML object>"
            ]
          },
          "metadata": {
            "tags": []
          }
        },
        {
          "output_type": "stream",
          "text": [
            "EnergeticBlindDog decided to move rightwards at location: [0, 0]\n"
          ],
          "name": "stdout"
        },
        {
          "output_type": "display_data",
          "data": {
            "text/html": [
              ""
            ],
            "text/plain": [
              "<IPython.core.display.HTML object>"
            ]
          },
          "metadata": {
            "tags": []
          }
        },
        {
          "output_type": "display_data",
          "data": {
            "text/html": [
              "<style type=\"text/css\">table.blockgrid {border: none;} .blockgrid tr {border: none;} .blockgrid td {padding: 0px;} #blocksbe697050-8b9c-48b9-87a1-fa9491c03215 td {border: 1px solid white;}</style><table id=\"blocksbe697050-8b9c-48b9-87a1-fa9491c03215\" class=\"blockgrid\"><tbody><tr><td title=\"Index: [0, 0]&#10;Color: (200, 200, 200)\" style=\"width: 20px; height: 20px;background-color: rgb(200, 200, 200);\"></td><td title=\"Index: [0, 1]&#10;Color: (200, 0, 0)\" style=\"width: 20px; height: 20px;background-color: rgb(200, 0, 0);\"></td><td title=\"Index: [0, 2]&#10;Color: (200, 200, 200)\" style=\"width: 20px; height: 20px;background-color: rgb(200, 200, 200);\"></td><td title=\"Index: [0, 3]&#10;Color: (200, 200, 200)\" style=\"width: 20px; height: 20px;background-color: rgb(200, 200, 200);\"></td><td title=\"Index: [0, 4]&#10;Color: (200, 200, 200)\" style=\"width: 20px; height: 20px;background-color: rgb(200, 200, 200);\"></td></tr><tr><td title=\"Index: [1, 0]&#10;Color: (200, 200, 200)\" style=\"width: 20px; height: 20px;background-color: rgb(200, 200, 200);\"></td><td title=\"Index: [1, 1]&#10;Color: (200, 200, 200)\" style=\"width: 20px; height: 20px;background-color: rgb(200, 200, 200);\"></td><td title=\"Index: [1, 2]&#10;Color: (200, 200, 200)\" style=\"width: 20px; height: 20px;background-color: rgb(200, 200, 200);\"></td><td title=\"Index: [1, 3]&#10;Color: (200, 200, 200)\" style=\"width: 20px; height: 20px;background-color: rgb(200, 200, 200);\"></td><td title=\"Index: [1, 4]&#10;Color: (200, 200, 200)\" style=\"width: 20px; height: 20px;background-color: rgb(200, 200, 200);\"></td></tr><tr><td title=\"Index: [2, 0]&#10;Color: (200, 200, 200)\" style=\"width: 20px; height: 20px;background-color: rgb(200, 200, 200);\"></td><td title=\"Index: [2, 1]&#10;Color: (230, 115, 40)\" style=\"width: 20px; height: 20px;background-color: rgb(230, 115, 40);\"></td><td title=\"Index: [2, 2]&#10;Color: (200, 200, 200)\" style=\"width: 20px; height: 20px;background-color: rgb(200, 200, 200);\"></td><td title=\"Index: [2, 3]&#10;Color: (200, 200, 200)\" style=\"width: 20px; height: 20px;background-color: rgb(200, 200, 200);\"></td><td title=\"Index: [2, 4]&#10;Color: (200, 200, 200)\" style=\"width: 20px; height: 20px;background-color: rgb(200, 200, 200);\"></td></tr><tr><td title=\"Index: [3, 0]&#10;Color: (200, 200, 200)\" style=\"width: 20px; height: 20px;background-color: rgb(200, 200, 200);\"></td><td title=\"Index: [3, 1]&#10;Color: (200, 200, 200)\" style=\"width: 20px; height: 20px;background-color: rgb(200, 200, 200);\"></td><td title=\"Index: [3, 2]&#10;Color: (200, 200, 200)\" style=\"width: 20px; height: 20px;background-color: rgb(200, 200, 200);\"></td><td title=\"Index: [3, 3]&#10;Color: (200, 200, 200)\" style=\"width: 20px; height: 20px;background-color: rgb(200, 200, 200);\"></td><td title=\"Index: [3, 4]&#10;Color: (230, 115, 40)\" style=\"width: 20px; height: 20px;background-color: rgb(230, 115, 40);\"></td></tr><tr><td title=\"Index: [4, 0]&#10;Color: (200, 200, 200)\" style=\"width: 20px; height: 20px;background-color: rgb(200, 200, 200);\"></td><td title=\"Index: [4, 1]&#10;Color: (200, 200, 200)\" style=\"width: 20px; height: 20px;background-color: rgb(200, 200, 200);\"></td><td title=\"Index: [4, 2]&#10;Color: (0, 200, 200)\" style=\"width: 20px; height: 20px;background-color: rgb(0, 200, 200);\"></td><td title=\"Index: [4, 3]&#10;Color: (200, 200, 200)\" style=\"width: 20px; height: 20px;background-color: rgb(200, 200, 200);\"></td><td title=\"Index: [4, 4]&#10;Color: (200, 200, 200)\" style=\"width: 20px; height: 20px;background-color: rgb(200, 200, 200);\"></td></tr></tbody></table>"
            ],
            "text/plain": [
              "<IPython.core.display.HTML object>"
            ]
          },
          "metadata": {
            "tags": []
          }
        },
        {
          "output_type": "stream",
          "text": [
            "EnergeticBlindDog decided to turnright at location: [1, 0]\n"
          ],
          "name": "stdout"
        },
        {
          "output_type": "display_data",
          "data": {
            "text/html": [
              ""
            ],
            "text/plain": [
              "<IPython.core.display.HTML object>"
            ]
          },
          "metadata": {
            "tags": []
          }
        },
        {
          "output_type": "display_data",
          "data": {
            "text/html": [
              "<style type=\"text/css\">table.blockgrid {border: none;} .blockgrid tr {border: none;} .blockgrid td {padding: 0px;} #blocks8971d314-b315-4467-88cb-36d549b9a322 td {border: 1px solid white;}</style><table id=\"blocks8971d314-b315-4467-88cb-36d549b9a322\" class=\"blockgrid\"><tbody><tr><td title=\"Index: [0, 0]&#10;Color: (200, 200, 200)\" style=\"width: 20px; height: 20px;background-color: rgb(200, 200, 200);\"></td><td title=\"Index: [0, 1]&#10;Color: (200, 0, 0)\" style=\"width: 20px; height: 20px;background-color: rgb(200, 0, 0);\"></td><td title=\"Index: [0, 2]&#10;Color: (200, 200, 200)\" style=\"width: 20px; height: 20px;background-color: rgb(200, 200, 200);\"></td><td title=\"Index: [0, 3]&#10;Color: (200, 200, 200)\" style=\"width: 20px; height: 20px;background-color: rgb(200, 200, 200);\"></td><td title=\"Index: [0, 4]&#10;Color: (200, 200, 200)\" style=\"width: 20px; height: 20px;background-color: rgb(200, 200, 200);\"></td></tr><tr><td title=\"Index: [1, 0]&#10;Color: (200, 200, 200)\" style=\"width: 20px; height: 20px;background-color: rgb(200, 200, 200);\"></td><td title=\"Index: [1, 1]&#10;Color: (200, 200, 200)\" style=\"width: 20px; height: 20px;background-color: rgb(200, 200, 200);\"></td><td title=\"Index: [1, 2]&#10;Color: (200, 200, 200)\" style=\"width: 20px; height: 20px;background-color: rgb(200, 200, 200);\"></td><td title=\"Index: [1, 3]&#10;Color: (200, 200, 200)\" style=\"width: 20px; height: 20px;background-color: rgb(200, 200, 200);\"></td><td title=\"Index: [1, 4]&#10;Color: (200, 200, 200)\" style=\"width: 20px; height: 20px;background-color: rgb(200, 200, 200);\"></td></tr><tr><td title=\"Index: [2, 0]&#10;Color: (200, 200, 200)\" style=\"width: 20px; height: 20px;background-color: rgb(200, 200, 200);\"></td><td title=\"Index: [2, 1]&#10;Color: (230, 115, 40)\" style=\"width: 20px; height: 20px;background-color: rgb(230, 115, 40);\"></td><td title=\"Index: [2, 2]&#10;Color: (200, 200, 200)\" style=\"width: 20px; height: 20px;background-color: rgb(200, 200, 200);\"></td><td title=\"Index: [2, 3]&#10;Color: (200, 200, 200)\" style=\"width: 20px; height: 20px;background-color: rgb(200, 200, 200);\"></td><td title=\"Index: [2, 4]&#10;Color: (200, 200, 200)\" style=\"width: 20px; height: 20px;background-color: rgb(200, 200, 200);\"></td></tr><tr><td title=\"Index: [3, 0]&#10;Color: (200, 200, 200)\" style=\"width: 20px; height: 20px;background-color: rgb(200, 200, 200);\"></td><td title=\"Index: [3, 1]&#10;Color: (200, 200, 200)\" style=\"width: 20px; height: 20px;background-color: rgb(200, 200, 200);\"></td><td title=\"Index: [3, 2]&#10;Color: (200, 200, 200)\" style=\"width: 20px; height: 20px;background-color: rgb(200, 200, 200);\"></td><td title=\"Index: [3, 3]&#10;Color: (200, 200, 200)\" style=\"width: 20px; height: 20px;background-color: rgb(200, 200, 200);\"></td><td title=\"Index: [3, 4]&#10;Color: (230, 115, 40)\" style=\"width: 20px; height: 20px;background-color: rgb(230, 115, 40);\"></td></tr><tr><td title=\"Index: [4, 0]&#10;Color: (200, 200, 200)\" style=\"width: 20px; height: 20px;background-color: rgb(200, 200, 200);\"></td><td title=\"Index: [4, 1]&#10;Color: (200, 200, 200)\" style=\"width: 20px; height: 20px;background-color: rgb(200, 200, 200);\"></td><td title=\"Index: [4, 2]&#10;Color: (0, 200, 200)\" style=\"width: 20px; height: 20px;background-color: rgb(0, 200, 200);\"></td><td title=\"Index: [4, 3]&#10;Color: (200, 200, 200)\" style=\"width: 20px; height: 20px;background-color: rgb(200, 200, 200);\"></td><td title=\"Index: [4, 4]&#10;Color: (200, 200, 200)\" style=\"width: 20px; height: 20px;background-color: rgb(200, 200, 200);\"></td></tr></tbody></table>"
            ],
            "text/plain": [
              "<IPython.core.display.HTML object>"
            ]
          },
          "metadata": {
            "tags": []
          }
        },
        {
          "output_type": "stream",
          "text": [
            "EnergeticBlindDog decided to turnleft at location: [1, 0]\n"
          ],
          "name": "stdout"
        },
        {
          "output_type": "display_data",
          "data": {
            "text/html": [
              ""
            ],
            "text/plain": [
              "<IPython.core.display.HTML object>"
            ]
          },
          "metadata": {
            "tags": []
          }
        },
        {
          "output_type": "display_data",
          "data": {
            "text/html": [
              "<style type=\"text/css\">table.blockgrid {border: none;} .blockgrid tr {border: none;} .blockgrid td {padding: 0px;} #blocks676f334c-e55d-489c-8c9d-6288cc142a10 td {border: 1px solid white;}</style><table id=\"blocks676f334c-e55d-489c-8c9d-6288cc142a10\" class=\"blockgrid\"><tbody><tr><td title=\"Index: [0, 0]&#10;Color: (200, 200, 200)\" style=\"width: 20px; height: 20px;background-color: rgb(200, 200, 200);\"></td><td title=\"Index: [0, 1]&#10;Color: (200, 0, 0)\" style=\"width: 20px; height: 20px;background-color: rgb(200, 0, 0);\"></td><td title=\"Index: [0, 2]&#10;Color: (200, 200, 200)\" style=\"width: 20px; height: 20px;background-color: rgb(200, 200, 200);\"></td><td title=\"Index: [0, 3]&#10;Color: (200, 200, 200)\" style=\"width: 20px; height: 20px;background-color: rgb(200, 200, 200);\"></td><td title=\"Index: [0, 4]&#10;Color: (200, 200, 200)\" style=\"width: 20px; height: 20px;background-color: rgb(200, 200, 200);\"></td></tr><tr><td title=\"Index: [1, 0]&#10;Color: (200, 200, 200)\" style=\"width: 20px; height: 20px;background-color: rgb(200, 200, 200);\"></td><td title=\"Index: [1, 1]&#10;Color: (200, 200, 200)\" style=\"width: 20px; height: 20px;background-color: rgb(200, 200, 200);\"></td><td title=\"Index: [1, 2]&#10;Color: (200, 200, 200)\" style=\"width: 20px; height: 20px;background-color: rgb(200, 200, 200);\"></td><td title=\"Index: [1, 3]&#10;Color: (200, 200, 200)\" style=\"width: 20px; height: 20px;background-color: rgb(200, 200, 200);\"></td><td title=\"Index: [1, 4]&#10;Color: (200, 200, 200)\" style=\"width: 20px; height: 20px;background-color: rgb(200, 200, 200);\"></td></tr><tr><td title=\"Index: [2, 0]&#10;Color: (200, 200, 200)\" style=\"width: 20px; height: 20px;background-color: rgb(200, 200, 200);\"></td><td title=\"Index: [2, 1]&#10;Color: (230, 115, 40)\" style=\"width: 20px; height: 20px;background-color: rgb(230, 115, 40);\"></td><td title=\"Index: [2, 2]&#10;Color: (200, 200, 200)\" style=\"width: 20px; height: 20px;background-color: rgb(200, 200, 200);\"></td><td title=\"Index: [2, 3]&#10;Color: (200, 200, 200)\" style=\"width: 20px; height: 20px;background-color: rgb(200, 200, 200);\"></td><td title=\"Index: [2, 4]&#10;Color: (200, 200, 200)\" style=\"width: 20px; height: 20px;background-color: rgb(200, 200, 200);\"></td></tr><tr><td title=\"Index: [3, 0]&#10;Color: (200, 200, 200)\" style=\"width: 20px; height: 20px;background-color: rgb(200, 200, 200);\"></td><td title=\"Index: [3, 1]&#10;Color: (200, 200, 200)\" style=\"width: 20px; height: 20px;background-color: rgb(200, 200, 200);\"></td><td title=\"Index: [3, 2]&#10;Color: (200, 200, 200)\" style=\"width: 20px; height: 20px;background-color: rgb(200, 200, 200);\"></td><td title=\"Index: [3, 3]&#10;Color: (200, 200, 200)\" style=\"width: 20px; height: 20px;background-color: rgb(200, 200, 200);\"></td><td title=\"Index: [3, 4]&#10;Color: (230, 115, 40)\" style=\"width: 20px; height: 20px;background-color: rgb(230, 115, 40);\"></td></tr><tr><td title=\"Index: [4, 0]&#10;Color: (200, 200, 200)\" style=\"width: 20px; height: 20px;background-color: rgb(200, 200, 200);\"></td><td title=\"Index: [4, 1]&#10;Color: (200, 200, 200)\" style=\"width: 20px; height: 20px;background-color: rgb(200, 200, 200);\"></td><td title=\"Index: [4, 2]&#10;Color: (0, 200, 200)\" style=\"width: 20px; height: 20px;background-color: rgb(0, 200, 200);\"></td><td title=\"Index: [4, 3]&#10;Color: (200, 200, 200)\" style=\"width: 20px; height: 20px;background-color: rgb(200, 200, 200);\"></td><td title=\"Index: [4, 4]&#10;Color: (200, 200, 200)\" style=\"width: 20px; height: 20px;background-color: rgb(200, 200, 200);\"></td></tr></tbody></table>"
            ],
            "text/plain": [
              "<IPython.core.display.HTML object>"
            ]
          },
          "metadata": {
            "tags": []
          }
        },
        {
          "output_type": "stream",
          "text": [
            "EnergeticBlindDog decided to move rightwards at location: [1, 0]\n"
          ],
          "name": "stdout"
        },
        {
          "output_type": "display_data",
          "data": {
            "text/html": [
              ""
            ],
            "text/plain": [
              "<IPython.core.display.HTML object>"
            ]
          },
          "metadata": {
            "tags": []
          }
        },
        {
          "output_type": "display_data",
          "data": {
            "text/html": [
              "<style type=\"text/css\">table.blockgrid {border: none;} .blockgrid tr {border: none;} .blockgrid td {padding: 0px;} #blocks544c24eb-2929-4b8b-87e7-6fdd52878206 td {border: 1px solid white;}</style><table id=\"blocks544c24eb-2929-4b8b-87e7-6fdd52878206\" class=\"blockgrid\"><tbody><tr><td title=\"Index: [0, 0]&#10;Color: (200, 200, 200)\" style=\"width: 20px; height: 20px;background-color: rgb(200, 200, 200);\"></td><td title=\"Index: [0, 1]&#10;Color: (200, 200, 200)\" style=\"width: 20px; height: 20px;background-color: rgb(200, 200, 200);\"></td><td title=\"Index: [0, 2]&#10;Color: (200, 0, 0)\" style=\"width: 20px; height: 20px;background-color: rgb(200, 0, 0);\"></td><td title=\"Index: [0, 3]&#10;Color: (200, 200, 200)\" style=\"width: 20px; height: 20px;background-color: rgb(200, 200, 200);\"></td><td title=\"Index: [0, 4]&#10;Color: (200, 200, 200)\" style=\"width: 20px; height: 20px;background-color: rgb(200, 200, 200);\"></td></tr><tr><td title=\"Index: [1, 0]&#10;Color: (200, 200, 200)\" style=\"width: 20px; height: 20px;background-color: rgb(200, 200, 200);\"></td><td title=\"Index: [1, 1]&#10;Color: (200, 200, 200)\" style=\"width: 20px; height: 20px;background-color: rgb(200, 200, 200);\"></td><td title=\"Index: [1, 2]&#10;Color: (200, 200, 200)\" style=\"width: 20px; height: 20px;background-color: rgb(200, 200, 200);\"></td><td title=\"Index: [1, 3]&#10;Color: (200, 200, 200)\" style=\"width: 20px; height: 20px;background-color: rgb(200, 200, 200);\"></td><td title=\"Index: [1, 4]&#10;Color: (200, 200, 200)\" style=\"width: 20px; height: 20px;background-color: rgb(200, 200, 200);\"></td></tr><tr><td title=\"Index: [2, 0]&#10;Color: (200, 200, 200)\" style=\"width: 20px; height: 20px;background-color: rgb(200, 200, 200);\"></td><td title=\"Index: [2, 1]&#10;Color: (230, 115, 40)\" style=\"width: 20px; height: 20px;background-color: rgb(230, 115, 40);\"></td><td title=\"Index: [2, 2]&#10;Color: (200, 200, 200)\" style=\"width: 20px; height: 20px;background-color: rgb(200, 200, 200);\"></td><td title=\"Index: [2, 3]&#10;Color: (200, 200, 200)\" style=\"width: 20px; height: 20px;background-color: rgb(200, 200, 200);\"></td><td title=\"Index: [2, 4]&#10;Color: (200, 200, 200)\" style=\"width: 20px; height: 20px;background-color: rgb(200, 200, 200);\"></td></tr><tr><td title=\"Index: [3, 0]&#10;Color: (200, 200, 200)\" style=\"width: 20px; height: 20px;background-color: rgb(200, 200, 200);\"></td><td title=\"Index: [3, 1]&#10;Color: (200, 200, 200)\" style=\"width: 20px; height: 20px;background-color: rgb(200, 200, 200);\"></td><td title=\"Index: [3, 2]&#10;Color: (200, 200, 200)\" style=\"width: 20px; height: 20px;background-color: rgb(200, 200, 200);\"></td><td title=\"Index: [3, 3]&#10;Color: (200, 200, 200)\" style=\"width: 20px; height: 20px;background-color: rgb(200, 200, 200);\"></td><td title=\"Index: [3, 4]&#10;Color: (230, 115, 40)\" style=\"width: 20px; height: 20px;background-color: rgb(230, 115, 40);\"></td></tr><tr><td title=\"Index: [4, 0]&#10;Color: (200, 200, 200)\" style=\"width: 20px; height: 20px;background-color: rgb(200, 200, 200);\"></td><td title=\"Index: [4, 1]&#10;Color: (200, 200, 200)\" style=\"width: 20px; height: 20px;background-color: rgb(200, 200, 200);\"></td><td title=\"Index: [4, 2]&#10;Color: (0, 200, 200)\" style=\"width: 20px; height: 20px;background-color: rgb(0, 200, 200);\"></td><td title=\"Index: [4, 3]&#10;Color: (200, 200, 200)\" style=\"width: 20px; height: 20px;background-color: rgb(200, 200, 200);\"></td><td title=\"Index: [4, 4]&#10;Color: (200, 200, 200)\" style=\"width: 20px; height: 20px;background-color: rgb(200, 200, 200);\"></td></tr></tbody></table>"
            ],
            "text/plain": [
              "<IPython.core.display.HTML object>"
            ]
          },
          "metadata": {
            "tags": []
          }
        }
      ]
    },
    {
      "metadata": {
        "id": "s6l4BaZUh8qU",
        "colab_type": "text"
      },
      "cell_type": "markdown",
      "source": [
        "\n",
        "\n",
        "\n",
        "\n",
        "\n",
        "\n",
        "\n",
        "\n",
        "## Wumpus Environment"
      ]
    },
    {
      "metadata": {
        "id": "GXYao-L2h8qV",
        "colab_type": "code",
        "colab": {}
      },
      "cell_type": "code",
      "source": [
        "from ipythonblocks import BlockGrid\n",
        "from agents import *\n",
        "\n",
        "color = {\"Breeze\": (225, 225, 225),\n",
        "        \"Pit\": (0,0,0),\n",
        "        \"Gold\": (253, 208, 23),\n",
        "        \"Glitter\": (253, 208, 23),\n",
        "        \"Wumpus\": (43, 27, 23),\n",
        "        \"Stench\": (128, 128, 128),\n",
        "        \"Explorer\": (0, 0, 255),\n",
        "        \"Wall\": (44, 53, 57)\n",
        "        }\n",
        "\n",
        "def program(percepts):\n",
        "    '''Returns an action based on it's percepts'''\n",
        "    print(percepts)\n",
        "    return input()\n",
        "\n",
        "w = WumpusEnvironment(program, 7, 7)         \n",
        "grid = BlockGrid(w.width, w.height, fill=(123, 234, 123))\n",
        "\n",
        "def draw_grid(world):\n",
        "    global grid\n",
        "    grid[:] = (123, 234, 123)\n",
        "    for x in range(0, len(world)):\n",
        "        for y in range(0, len(world[x])):\n",
        "            if len(world[x][y]):\n",
        "                grid[y, x] = color[world[x][y][-1].__class__.__name__]\n",
        "\n",
        "def step():\n",
        "    global grid, w\n",
        "    draw_grid(w.get_world())\n",
        "    grid.show()\n",
        "    w.step()"
      ],
      "execution_count": 0,
      "outputs": []
    },
    {
      "metadata": {
        "id": "1Vq7xwuoh8qX",
        "colab_type": "code",
        "colab": {
          "base_uri": "https://localhost:8080/",
          "height": 222
        },
        "outputId": "b5025cff-f3c8-42f6-a7ec-ead4089e8238"
      },
      "cell_type": "code",
      "source": [
        "step()"
      ],
      "execution_count": 0,
      "outputs": [
        {
          "output_type": "display_data",
          "data": {
            "text/html": [
              "<style type=\"text/css\">table.blockgrid {border: none;} .blockgrid tr {border: none;} .blockgrid td {padding: 0px;} #blocks9271d849-bcf2-4924-8331-6e4c9da85579 td {border: 1px solid white;}</style><table id=\"blocks9271d849-bcf2-4924-8331-6e4c9da85579\" class=\"blockgrid\"><tbody><tr><td title=\"Index: [0, 0]&#10;Color: (44, 53, 57)\" style=\"width: 20px; height: 20px;background-color: rgb(44, 53, 57);\"></td><td title=\"Index: [0, 1]&#10;Color: (44, 53, 57)\" style=\"width: 20px; height: 20px;background-color: rgb(44, 53, 57);\"></td><td title=\"Index: [0, 2]&#10;Color: (44, 53, 57)\" style=\"width: 20px; height: 20px;background-color: rgb(44, 53, 57);\"></td><td title=\"Index: [0, 3]&#10;Color: (44, 53, 57)\" style=\"width: 20px; height: 20px;background-color: rgb(44, 53, 57);\"></td><td title=\"Index: [0, 4]&#10;Color: (44, 53, 57)\" style=\"width: 20px; height: 20px;background-color: rgb(44, 53, 57);\"></td><td title=\"Index: [0, 5]&#10;Color: (44, 53, 57)\" style=\"width: 20px; height: 20px;background-color: rgb(44, 53, 57);\"></td><td title=\"Index: [0, 6]&#10;Color: (44, 53, 57)\" style=\"width: 20px; height: 20px;background-color: rgb(44, 53, 57);\"></td></tr><tr><td title=\"Index: [1, 0]&#10;Color: (44, 53, 57)\" style=\"width: 20px; height: 20px;background-color: rgb(44, 53, 57);\"></td><td title=\"Index: [1, 1]&#10;Color: (0, 0, 255)\" style=\"width: 20px; height: 20px;background-color: rgb(0, 0, 255);\"></td><td title=\"Index: [1, 2]&#10;Color: (225, 225, 225)\" style=\"width: 20px; height: 20px;background-color: rgb(225, 225, 225);\"></td><td title=\"Index: [1, 3]&#10;Color: (123, 234, 123)\" style=\"width: 20px; height: 20px;background-color: rgb(123, 234, 123);\"></td><td title=\"Index: [1, 4]&#10;Color: (123, 234, 123)\" style=\"width: 20px; height: 20px;background-color: rgb(123, 234, 123);\"></td><td title=\"Index: [1, 5]&#10;Color: (123, 234, 123)\" style=\"width: 20px; height: 20px;background-color: rgb(123, 234, 123);\"></td><td title=\"Index: [1, 6]&#10;Color: (44, 53, 57)\" style=\"width: 20px; height: 20px;background-color: rgb(44, 53, 57);\"></td></tr><tr><td title=\"Index: [2, 0]&#10;Color: (44, 53, 57)\" style=\"width: 20px; height: 20px;background-color: rgb(44, 53, 57);\"></td><td title=\"Index: [2, 1]&#10;Color: (225, 225, 225)\" style=\"width: 20px; height: 20px;background-color: rgb(225, 225, 225);\"></td><td title=\"Index: [2, 2]&#10;Color: (0, 0, 0)\" style=\"width: 20px; height: 20px;background-color: rgb(0, 0, 0);\"></td><td title=\"Index: [2, 3]&#10;Color: (225, 225, 225)\" style=\"width: 20px; height: 20px;background-color: rgb(225, 225, 225);\"></td><td title=\"Index: [2, 4]&#10;Color: (123, 234, 123)\" style=\"width: 20px; height: 20px;background-color: rgb(123, 234, 123);\"></td><td title=\"Index: [2, 5]&#10;Color: (123, 234, 123)\" style=\"width: 20px; height: 20px;background-color: rgb(123, 234, 123);\"></td><td title=\"Index: [2, 6]&#10;Color: (44, 53, 57)\" style=\"width: 20px; height: 20px;background-color: rgb(44, 53, 57);\"></td></tr><tr><td title=\"Index: [3, 0]&#10;Color: (44, 53, 57)\" style=\"width: 20px; height: 20px;background-color: rgb(44, 53, 57);\"></td><td title=\"Index: [3, 1]&#10;Color: (123, 234, 123)\" style=\"width: 20px; height: 20px;background-color: rgb(123, 234, 123);\"></td><td title=\"Index: [3, 2]&#10;Color: (225, 225, 225)\" style=\"width: 20px; height: 20px;background-color: rgb(225, 225, 225);\"></td><td title=\"Index: [3, 3]&#10;Color: (225, 225, 225)\" style=\"width: 20px; height: 20px;background-color: rgb(225, 225, 225);\"></td><td title=\"Index: [3, 4]&#10;Color: (225, 225, 225)\" style=\"width: 20px; height: 20px;background-color: rgb(225, 225, 225);\"></td><td title=\"Index: [3, 5]&#10;Color: (123, 234, 123)\" style=\"width: 20px; height: 20px;background-color: rgb(123, 234, 123);\"></td><td title=\"Index: [3, 6]&#10;Color: (44, 53, 57)\" style=\"width: 20px; height: 20px;background-color: rgb(44, 53, 57);\"></td></tr><tr><td title=\"Index: [4, 0]&#10;Color: (44, 53, 57)\" style=\"width: 20px; height: 20px;background-color: rgb(44, 53, 57);\"></td><td title=\"Index: [4, 1]&#10;Color: (123, 234, 123)\" style=\"width: 20px; height: 20px;background-color: rgb(123, 234, 123);\"></td><td title=\"Index: [4, 2]&#10;Color: (128, 128, 128)\" style=\"width: 20px; height: 20px;background-color: rgb(128, 128, 128);\"></td><td title=\"Index: [4, 3]&#10;Color: (225, 225, 225)\" style=\"width: 20px; height: 20px;background-color: rgb(225, 225, 225);\"></td><td title=\"Index: [4, 4]&#10;Color: (0, 0, 0)\" style=\"width: 20px; height: 20px;background-color: rgb(0, 0, 0);\"></td><td title=\"Index: [4, 5]&#10;Color: (225, 225, 225)\" style=\"width: 20px; height: 20px;background-color: rgb(225, 225, 225);\"></td><td title=\"Index: [4, 6]&#10;Color: (44, 53, 57)\" style=\"width: 20px; height: 20px;background-color: rgb(44, 53, 57);\"></td></tr><tr><td title=\"Index: [5, 0]&#10;Color: (44, 53, 57)\" style=\"width: 20px; height: 20px;background-color: rgb(44, 53, 57);\"></td><td title=\"Index: [5, 1]&#10;Color: (128, 128, 128)\" style=\"width: 20px; height: 20px;background-color: rgb(128, 128, 128);\"></td><td title=\"Index: [5, 2]&#10;Color: (43, 27, 23)\" style=\"width: 20px; height: 20px;background-color: rgb(43, 27, 23);\"></td><td title=\"Index: [5, 3]&#10;Color: (128, 128, 128)\" style=\"width: 20px; height: 20px;background-color: rgb(128, 128, 128);\"></td><td title=\"Index: [5, 4]&#10;Color: (0, 0, 0)\" style=\"width: 20px; height: 20px;background-color: rgb(0, 0, 0);\"></td><td title=\"Index: [5, 5]&#10;Color: (225, 225, 225)\" style=\"width: 20px; height: 20px;background-color: rgb(225, 225, 225);\"></td><td title=\"Index: [5, 6]&#10;Color: (44, 53, 57)\" style=\"width: 20px; height: 20px;background-color: rgb(44, 53, 57);\"></td></tr><tr><td title=\"Index: [6, 0]&#10;Color: (44, 53, 57)\" style=\"width: 20px; height: 20px;background-color: rgb(44, 53, 57);\"></td><td title=\"Index: [6, 1]&#10;Color: (44, 53, 57)\" style=\"width: 20px; height: 20px;background-color: rgb(44, 53, 57);\"></td><td title=\"Index: [6, 2]&#10;Color: (44, 53, 57)\" style=\"width: 20px; height: 20px;background-color: rgb(44, 53, 57);\"></td><td title=\"Index: [6, 3]&#10;Color: (44, 53, 57)\" style=\"width: 20px; height: 20px;background-color: rgb(44, 53, 57);\"></td><td title=\"Index: [6, 4]&#10;Color: (44, 53, 57)\" style=\"width: 20px; height: 20px;background-color: rgb(44, 53, 57);\"></td><td title=\"Index: [6, 5]&#10;Color: (44, 53, 57)\" style=\"width: 20px; height: 20px;background-color: rgb(44, 53, 57);\"></td><td title=\"Index: [6, 6]&#10;Color: (44, 53, 57)\" style=\"width: 20px; height: 20px;background-color: rgb(44, 53, 57);\"></td></tr></tbody></table>"
            ],
            "text/plain": [
              "<IPython.core.display.HTML object>"
            ]
          },
          "metadata": {
            "tags": []
          }
        },
        {
          "output_type": "stream",
          "text": [
            "[[<Bump>], [<Breeze>], [<Bump>], [<Breeze>], [None]]\n"
          ],
          "name": "stdout"
        }
      ]
    },
    {
      "metadata": {
        "id": "lDiSfFpSh8qa",
        "colab_type": "code",
        "colab": {}
      },
      "cell_type": "code",
      "source": [
        ""
      ],
      "execution_count": 0,
      "outputs": []
    }
  ]
}