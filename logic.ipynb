{
  "nbformat": 4,
  "nbformat_minor": 0,
  "metadata": {
    "colab": {
      "name": "logic.ipynb",
      "version": "0.3.2",
      "provenance": [],
      "toc_visible": true,
      "include_colab_link": true
    },
    "kernelspec": {
      "display_name": "Python 3",
      "language": "python",
      "name": "python3"
    }
  },
  "cells": [
    {
      "cell_type": "markdown",
      "metadata": {
        "id": "view-in-github",
        "colab_type": "text"
      },
      "source": [
        "<a href=\"https://colab.research.google.com/github/tofighi/aima/blob/master/logic.ipynb\" target=\"_parent\"><img src=\"https://colab.research.google.com/assets/colab-badge.svg\" alt=\"Open In Colab\"/></a>"
      ]
    },
    {
      "metadata": {
        "collapsed": true,
        "id": "JemLqdP8WHiK",
        "colab_type": "text"
      },
      "cell_type": "markdown",
      "source": [
        "# Logic"
      ]
    },
    {
      "metadata": {
        "id": "qSMRWTSsWHiL",
        "colab_type": "text"
      },
      "cell_type": "markdown",
      "source": [
        "This Jupyter notebook acts as supporting material for topics covered in __Chapter 6 Logical Agents__, __Chapter 7 First-Order Logic__ and __Chapter 8 Inference in First-Order Logic__ of the book *[Artificial Intelligence: A Modern Approach](http://aima.cs.berkeley.edu)*. We make use of the implementations in the [logic.py](https://github.com/aimacode/aima-python/blob/master/logic.py) module. See the [intro notebook](https://github.com/aimacode/aima-python/blob/master/intro.ipynb) for instructions.\n",
        "\n",
        "Let's first import everything from the `logic` module."
      ]
    },
    {
      "metadata": {
        "id": "dnw4KfEAa2on",
        "colab_type": "code",
        "colab": {}
      },
      "cell_type": "code",
      "source": [
        "#Download and extract all necessary files\n",
        "!rm -rf /content/*\n",
        "!wget https://github.com/aimacode/aima-python/archive/master.zip 2>/dev/null\n",
        "!unzip -q master.zip \n",
        "!mv aima-python-master/* /content \n",
        "!wget https://github.com/aimacode/aima-data/archive/f6cbea61ad0c21c6b7be826d17af5a8d3a7c2c86.zip 2>/dev/null \n",
        "!unzip -q f6cbea61ad0c21c6b7be826d17af5a8d3a7c2c86.zip \n",
        "!rm -rf aima-data \n",
        "!mv aima-data-f6cbea61ad0c21c6b7be826d17af5a8d3a7c2c86 aima-data "
      ],
      "execution_count": 0,
      "outputs": []
    },
    {
      "metadata": {
        "id": "7O9k7gMSWHiM",
        "colab_type": "code",
        "colab": {}
      },
      "cell_type": "code",
      "source": [
        "from utils import *\n",
        "from logic import *\n",
        "from notebook import psource"
      ],
      "execution_count": 0,
      "outputs": []
    },
    {
      "metadata": {
        "id": "aBszPE21WHiP",
        "colab_type": "text"
      },
      "cell_type": "markdown",
      "source": [
        "## CONTENTS\n",
        "- Logical sentences\n",
        "    - Expr\n",
        "    - PropKB\n",
        "    - Knowledge-based agents\n",
        "    - Inference in propositional knowledge base\n",
        "        - Truth table enumeration\n",
        "        - Proof by resolution\n",
        "        - Forward and backward chaining\n",
        "        - DPLL\n",
        "        - WalkSAT\n",
        "        - SATPlan\n",
        "    - FolKB\n",
        "    - Inference in first order knowledge base\n",
        "        - Unification\n",
        "        - Forward chaining algorithm\n",
        "        - Backward chaining algorithm"
      ]
    },
    {
      "metadata": {
        "collapsed": true,
        "id": "BxTieD9IWHiP",
        "colab_type": "text"
      },
      "cell_type": "markdown",
      "source": [
        "## Logical Sentences"
      ]
    },
    {
      "metadata": {
        "id": "o4MuuGXMWHiQ",
        "colab_type": "text"
      },
      "cell_type": "markdown",
      "source": [
        "The `Expr` class is designed to represent any kind of mathematical expression. The simplest type of `Expr` is a symbol, which can be defined with the function `Symbol`:"
      ]
    },
    {
      "metadata": {
        "id": "fFaoKHaSWHiS",
        "colab_type": "code",
        "outputId": "8784f18f-134f-42c2-f86e-e3881cf59e31",
        "colab": {
          "base_uri": "https://localhost:8080/",
          "height": 34
        }
      },
      "cell_type": "code",
      "source": [
        "Symbol('x')"
      ],
      "execution_count": 3,
      "outputs": [
        {
          "output_type": "execute_result",
          "data": {
            "text/plain": [
              "x"
            ]
          },
          "metadata": {
            "tags": []
          },
          "execution_count": 3
        }
      ]
    },
    {
      "metadata": {
        "id": "xxXoJCDjWHiV",
        "colab_type": "text"
      },
      "cell_type": "markdown",
      "source": [
        "Or we can define multiple symbols at the same time with the function `symbols`:"
      ]
    },
    {
      "metadata": {
        "id": "zykYcr1PWHiW",
        "colab_type": "code",
        "colab": {}
      },
      "cell_type": "code",
      "source": [
        "(x, y, P, Q, f) = symbols('x, y, P, Q, f')"
      ],
      "execution_count": 0,
      "outputs": []
    },
    {
      "metadata": {
        "id": "k-49dHDZWHiZ",
        "colab_type": "code",
        "outputId": "c3ff78dc-f0e3-48cd-bda6-37c79f88b054",
        "colab": {
          "base_uri": "https://localhost:8080/",
          "height": 34
        }
      },
      "cell_type": "code",
      "source": [
        "P & ~Q"
      ],
      "execution_count": 5,
      "outputs": [
        {
          "output_type": "execute_result",
          "data": {
            "text/plain": [
              "(P & ~Q)"
            ]
          },
          "metadata": {
            "tags": []
          },
          "execution_count": 5
        }
      ]
    },
    {
      "metadata": {
        "id": "BSWR6mUJWHiY",
        "colab_type": "text"
      },
      "cell_type": "markdown",
      "source": [
        "We can combine `Expr`s with the regular Python infix and prefix operators. Here's how we would form the logical sentence \"P and not Q\":"
      ]
    },
    {
      "metadata": {
        "id": "ul7MukUJWHic",
        "colab_type": "text"
      },
      "cell_type": "markdown",
      "source": [
        "This works because the `Expr` class overloads the `&` operator with this definition:\n",
        "\n",
        "```python\n",
        "def __and__(self, other): return Expr('&',  self, other)```\n",
        "     \n",
        "and does similar overloads for the other operators. An `Expr` has two fields: `op` for the operator, which is always a string, and `args` for the arguments, which is a tuple of 0 or more expressions. By \"expression,\" I mean either an instance of `Expr`, or a number. Let's take a look at the fields for some `Expr` examples:"
      ]
    },
    {
      "metadata": {
        "id": "GRwR9cbGWHic",
        "colab_type": "code",
        "outputId": "94948a0d-55bd-48de-b4ac-d7a46807d2a3",
        "colab": {
          "base_uri": "https://localhost:8080/",
          "height": 34
        }
      },
      "cell_type": "code",
      "source": [
        "sentence = P & ~Q\n",
        "\n",
        "sentence.op"
      ],
      "execution_count": 6,
      "outputs": [
        {
          "output_type": "execute_result",
          "data": {
            "text/plain": [
              "'&'"
            ]
          },
          "metadata": {
            "tags": []
          },
          "execution_count": 6
        }
      ]
    },
    {
      "metadata": {
        "id": "TpXJcZbjWHig",
        "colab_type": "code",
        "outputId": "62f30a86-801b-4b7c-a44a-66b8415635c9",
        "colab": {
          "base_uri": "https://localhost:8080/",
          "height": 34
        }
      },
      "cell_type": "code",
      "source": [
        "sentence.args"
      ],
      "execution_count": 7,
      "outputs": [
        {
          "output_type": "execute_result",
          "data": {
            "text/plain": [
              "(P, ~Q)"
            ]
          },
          "metadata": {
            "tags": []
          },
          "execution_count": 7
        }
      ]
    },
    {
      "metadata": {
        "id": "1R3vnkQrWHii",
        "colab_type": "code",
        "outputId": "505613d7-b83c-4983-e67a-bc6a20f6bf96",
        "colab": {
          "base_uri": "https://localhost:8080/",
          "height": 34
        }
      },
      "cell_type": "code",
      "source": [
        "P.op"
      ],
      "execution_count": 8,
      "outputs": [
        {
          "output_type": "execute_result",
          "data": {
            "text/plain": [
              "'P'"
            ]
          },
          "metadata": {
            "tags": []
          },
          "execution_count": 8
        }
      ]
    },
    {
      "metadata": {
        "id": "Z8c_IdbqWHil",
        "colab_type": "code",
        "outputId": "34255e58-ac8a-4c21-f142-0ae647e93b2e",
        "colab": {
          "base_uri": "https://localhost:8080/",
          "height": 34
        }
      },
      "cell_type": "code",
      "source": [
        "P.args"
      ],
      "execution_count": 9,
      "outputs": [
        {
          "output_type": "execute_result",
          "data": {
            "text/plain": [
              "()"
            ]
          },
          "metadata": {
            "tags": []
          },
          "execution_count": 9
        }
      ]
    },
    {
      "metadata": {
        "id": "rNJHHRScWHin",
        "colab_type": "code",
        "outputId": "d39424e8-1368-4139-82f7-fa1732995fe5",
        "colab": {
          "base_uri": "https://localhost:8080/",
          "height": 34
        }
      },
      "cell_type": "code",
      "source": [
        "Pxy = P(x, y)\n",
        "\n",
        "Pxy.op"
      ],
      "execution_count": 10,
      "outputs": [
        {
          "output_type": "execute_result",
          "data": {
            "text/plain": [
              "'P'"
            ]
          },
          "metadata": {
            "tags": []
          },
          "execution_count": 10
        }
      ]
    },
    {
      "metadata": {
        "id": "rjq1ZrXiWHis",
        "colab_type": "code",
        "outputId": "cdeba2f1-380e-4de5-bdf0-0df9ca278888",
        "colab": {
          "base_uri": "https://localhost:8080/",
          "height": 34
        }
      },
      "cell_type": "code",
      "source": [
        "Pxy.args"
      ],
      "execution_count": 11,
      "outputs": [
        {
          "output_type": "execute_result",
          "data": {
            "text/plain": [
              "(x, y)"
            ]
          },
          "metadata": {
            "tags": []
          },
          "execution_count": 11
        }
      ]
    },
    {
      "metadata": {
        "id": "1YLWnMkeWHiu",
        "colab_type": "text"
      },
      "cell_type": "markdown",
      "source": [
        "It is important to note that the `Expr` class does not define the *logic* of Propositional Logic sentences; it just gives you a way to *represent* expressions. Think of an `Expr` as an [abstract syntax tree](https://en.wikipedia.org/wiki/Abstract_syntax_tree).  Each of the `args` in an `Expr` can be either a symbol, a number, or a nested `Expr`. We can nest these trees to any depth. Here is a deply nested `Expr`:"
      ]
    },
    {
      "metadata": {
        "id": "ZBmVcWxgWHiv",
        "colab_type": "code",
        "outputId": "4c041979-060a-49cf-a080-bffffafc0324",
        "colab": {
          "base_uri": "https://localhost:8080/",
          "height": 34
        }
      },
      "cell_type": "code",
      "source": [
        "3 * f(x, y) + P(y) / 2 + 1"
      ],
      "execution_count": 12,
      "outputs": [
        {
          "output_type": "execute_result",
          "data": {
            "text/plain": [
              "(((3 * f(x, y)) + (P(y) / 2)) + 1)"
            ]
          },
          "metadata": {
            "tags": []
          },
          "execution_count": 12
        }
      ]
    },
    {
      "metadata": {
        "id": "rAk-PGXxWHiz",
        "colab_type": "text"
      },
      "cell_type": "markdown",
      "source": [
        "## Operators for Constructing Logical Sentences\n",
        "\n",
        "Here is a table of the operators that can be used to form sentences. Note that we have a problem: we want to use Python operators to make sentences, so that our programs (and our interactive sessions like the one here) will show simple code. But Python does not allow implication arrows as operators, so for now we have to use a more verbose notation that Python does allow: `|'==>'|` instead of just `==>`. Alternately, you can always use the more verbose `Expr` constructor forms:\n",
        "\n",
        "| Operation                | Book | Python Infix Input | Python Output | Python `Expr` Input\n",
        "|--------------------------|----------------------|-------------------------|---|---|\n",
        "| Negation                 | &not; P      | `~P`                       | `~P` | `Expr('~', P)`\n",
        "| And                      | P &and; Q       | `P & Q`                     | `P & Q` | `Expr('&', P, Q)`\n",
        "| Or                       | P &or; Q | `P`<tt> &#124; </tt>`Q`| `P`<tt> &#124; </tt>`Q` | `Expr('`&#124;`', P, Q)`\n",
        "| Inequality (Xor)         | P &ne; Q     | `P ^ Q`                | `P ^ Q`  | `Expr('^', P, Q)`\n",
        "| Implication                  | P &rarr; Q    | `P` <tt>&#124;</tt>`'==>'`<tt>&#124;</tt> `Q`   | `P ==> Q` | `Expr('==>', P, Q)`\n",
        "| Reverse Implication      | Q &larr; P     | `Q` <tt>&#124;</tt>`'<=='`<tt>&#124;</tt> `P`  |`Q <== P` | `Expr('<==', Q, P)`\n",
        "| Equivalence            | P &harr; Q   | `P` <tt>&#124;</tt>`'<=>'`<tt>&#124;</tt> `Q`   |`P <=> Q` | `Expr('<=>', P, Q)`\n",
        "\n",
        "Here's an example of defining a sentence with an implication arrow:"
      ]
    },
    {
      "metadata": {
        "id": "tGfDyLXgWHiz",
        "colab_type": "code",
        "outputId": "66344b79-15fc-489d-e686-e79f5a3f6e7b",
        "colab": {
          "base_uri": "https://localhost:8080/",
          "height": 0
        }
      },
      "cell_type": "code",
      "source": [
        "~(P & Q)  |'==>'|  (~P | ~Q)"
      ],
      "execution_count": 13,
      "outputs": [
        {
          "output_type": "execute_result",
          "data": {
            "text/plain": [
              "(~(P & Q) ==> (~P | ~Q))"
            ]
          },
          "metadata": {
            "tags": []
          },
          "execution_count": 13
        }
      ]
    },
    {
      "metadata": {
        "id": "mIStLelGWHi2",
        "colab_type": "text"
      },
      "cell_type": "markdown",
      "source": [
        "## `expr`: a Shortcut for Constructing Sentences\n",
        "\n",
        "If the `|'==>'|` notation looks ugly to you, you can use the function `expr` instead:"
      ]
    },
    {
      "metadata": {
        "id": "MM1strZUWHi3",
        "colab_type": "code",
        "outputId": "aad98be1-9cb6-459d-f9eb-88e21b995ed4",
        "colab": {
          "base_uri": "https://localhost:8080/",
          "height": 0
        }
      },
      "cell_type": "code",
      "source": [
        "expr('~(P & Q)  ==>  (~P | ~Q)')"
      ],
      "execution_count": 14,
      "outputs": [
        {
          "output_type": "execute_result",
          "data": {
            "text/plain": [
              "(~(P & Q) ==> (~P | ~Q))"
            ]
          },
          "metadata": {
            "tags": []
          },
          "execution_count": 14
        }
      ]
    },
    {
      "metadata": {
        "id": "vh3UDUwXWHi8",
        "colab_type": "text"
      },
      "cell_type": "markdown",
      "source": [
        "`expr` takes a string as input, and parses it into an `Expr`. The string can contain arrow operators: `==>`, `<==`, or `<=>`, which are handled as if they were regular Python infix operators. And `expr` automatically defines any symbols, so you don't need to pre-define them:"
      ]
    },
    {
      "metadata": {
        "id": "q4pggZf9WHi-",
        "colab_type": "code",
        "outputId": "503d78d3-a122-47f1-91ac-5e96dee9ff88",
        "colab": {
          "base_uri": "https://localhost:8080/",
          "height": 0
        }
      },
      "cell_type": "code",
      "source": [
        "expr('sqrt(b ** 2 - 4 * a * c)')"
      ],
      "execution_count": 15,
      "outputs": [
        {
          "output_type": "execute_result",
          "data": {
            "text/plain": [
              "sqrt(((b ** 2) - ((4 * a) * c)))"
            ]
          },
          "metadata": {
            "tags": []
          },
          "execution_count": 15
        }
      ]
    },
    {
      "metadata": {
        "id": "FJuNWR9NWHjA",
        "colab_type": "text"
      },
      "cell_type": "markdown",
      "source": [
        "For now that's all you need to know about `expr`. If you are interested, we explain the messy details of how `expr` is implemented and how `|'==>'|` is handled in the appendix."
      ]
    },
    {
      "metadata": {
        "id": "o5kdNwr3WHjB",
        "colab_type": "text"
      },
      "cell_type": "markdown",
      "source": [
        "## Propositional Knowledge Bases: `PropKB`\n",
        "\n",
        "The class `PropKB` can be used to represent a knowledge base of propositional logic sentences.\n",
        "\n",
        "We see that the class `KB` has four methods, apart from `__init__`. A point to note here: the `ask` method simply calls the `ask_generator` method. Thus, this one has already been implemented, and what you'll have to actually implement when you create your own knowledge base class (though you'll probably never need to, considering the ones we've created for you) will be the `ask_generator` function and not the `ask` function itself.\n",
        "\n",
        "The class `PropKB` now.\n",
        "* `__init__(self, sentence=None)` : The constructor `__init__` creates a single field `clauses` which will be a list of all the sentences of the knowledge base. Note that each one of these sentences will be a 'clause' i.e. a sentence which is made up of only literals and `or`s.\n",
        "* `tell(self, sentence)` : When you want to add a sentence to the KB, you use the `tell` method. This method takes a sentence, converts it to its CNF, extracts all the clauses, and adds all these clauses to the `clauses` field. So, you need not worry about `tell`ing only clauses to the knowledge base. You can `tell` the knowledge base a sentence in any form that you wish; converting it to CNF and adding the resulting clauses will be handled by the `tell` method.\n",
        "* `ask_generator(self, query)` : The `ask_generator` function is used by the `ask` function. It calls the `tt_entails` function, which in turn returns `True` if the knowledge base entails query and `False` otherwise. The `ask_generator` itself returns an empty dict `{}` if the knowledge base entails query and `None` otherwise. This might seem a little bit weird to you. After all, it makes more sense just to return a `True` or a `False` instead of the `{}` or `None` But this is done to maintain consistency with the way things are in First-Order Logic, where an `ask_generator` function is supposed to return all the substitutions that make the query true. Hence the dict, to return all these substitutions. I will be mostly be using the `ask` function which returns a `{}` or a `False`, but if you don't like this, you can always use the `ask_if_true` function which returns a `True` or a `False`.\n",
        "* `retract(self, sentence)` : This function removes all the clauses of the sentence given, from the knowledge base. Like the `tell` function, you don't have to pass clauses to remove them from the knowledge base; any sentence will do fine. The function will take care of converting that sentence to clauses and then remove those."
      ]
    },
    {
      "metadata": {
        "id": "WvCiM9fRWHjC",
        "colab_type": "text"
      },
      "cell_type": "markdown",
      "source": [
        "## Wumpus World KB\n",
        "Let us create a `PropKB` for the wumpus world with the sentences mentioned in `section 7.4.3`."
      ]
    },
    {
      "metadata": {
        "id": "P16mU4jmWHjC",
        "colab_type": "code",
        "colab": {}
      },
      "cell_type": "code",
      "source": [
        "wumpus_kb = PropKB()"
      ],
      "execution_count": 0,
      "outputs": []
    },
    {
      "metadata": {
        "id": "lNVRWmouWHjE",
        "colab_type": "text"
      },
      "cell_type": "markdown",
      "source": [
        "We define the symbols we use in our clauses.<br/>\n",
        "$P_{x, y}$ is true if there is a pit in `[x, y]`.<br/>\n",
        "$B_{x, y}$ is true if the agent senses breeze in `[x, y]`.<br/>"
      ]
    },
    {
      "metadata": {
        "id": "N9_boB9rWHjF",
        "colab_type": "code",
        "colab": {}
      },
      "cell_type": "code",
      "source": [
        "P11, P12, P21, P22, P31, B11, B21 = expr('P11, P12, P21, P22, P31, B11, B21')"
      ],
      "execution_count": 0,
      "outputs": []
    },
    {
      "metadata": {
        "id": "CwNFxJhSWHjG",
        "colab_type": "text"
      },
      "cell_type": "markdown",
      "source": [
        "Now we tell sentences based on `section 7.4.3`.<br/>\n",
        "There is no pit in `[1,1]`."
      ]
    },
    {
      "metadata": {
        "id": "HbmH17oqWHjJ",
        "colab_type": "code",
        "colab": {}
      },
      "cell_type": "code",
      "source": [
        "wumpus_kb.tell(~P11)"
      ],
      "execution_count": 0,
      "outputs": []
    },
    {
      "metadata": {
        "id": "VUTYb70PWHjL",
        "colab_type": "text"
      },
      "cell_type": "markdown",
      "source": [
        "A square is breezy if and only if there is a pit in a neighboring square. This has to be stated for each square but for now, we include just the relevant squares."
      ]
    },
    {
      "metadata": {
        "id": "kgBSyCwUWHjL",
        "colab_type": "code",
        "colab": {}
      },
      "cell_type": "code",
      "source": [
        "wumpus_kb.tell(B11 | '<=>' | ((P12 | P21)))\n",
        "wumpus_kb.tell(B21 | '<=>' | ((P11 | P22 | P31)))"
      ],
      "execution_count": 0,
      "outputs": []
    },
    {
      "metadata": {
        "id": "GdBrcS0XWHjO",
        "colab_type": "text"
      },
      "cell_type": "markdown",
      "source": [
        "Now we include the breeze percepts for the first two squares leading up to the situation in `Figure 7.3(b)`"
      ]
    },
    {
      "metadata": {
        "id": "h6Ycb8k8WHjO",
        "colab_type": "code",
        "colab": {}
      },
      "cell_type": "code",
      "source": [
        "wumpus_kb.tell(~B11)\n",
        "wumpus_kb.tell(B21)"
      ],
      "execution_count": 0,
      "outputs": []
    },
    {
      "metadata": {
        "id": "Mxu-Og54WHjP",
        "colab_type": "text"
      },
      "cell_type": "markdown",
      "source": [
        "We can check the clauses stored in a `KB` by accessing its `clauses` variable"
      ]
    },
    {
      "metadata": {
        "id": "SyjKpfYKWHjQ",
        "colab_type": "code",
        "outputId": "3024a1bf-ae25-4ad7-a0fe-ed7e5e0df4fe",
        "colab": {
          "base_uri": "https://localhost:8080/",
          "height": 187
        }
      },
      "cell_type": "code",
      "source": [
        "wumpus_kb.clauses"
      ],
      "execution_count": 21,
      "outputs": [
        {
          "output_type": "execute_result",
          "data": {
            "text/plain": [
              "[~P11,\n",
              " (~P12 | B11),\n",
              " (~P21 | B11),\n",
              " (P12 | P21 | ~B11),\n",
              " (~P11 | B21),\n",
              " (~P22 | B21),\n",
              " (~P31 | B21),\n",
              " (P11 | P22 | P31 | ~B21),\n",
              " ~B11,\n",
              " B21]"
            ]
          },
          "metadata": {
            "tags": []
          },
          "execution_count": 21
        }
      ]
    },
    {
      "metadata": {
        "id": "jeGKGqViWHjS",
        "colab_type": "text"
      },
      "cell_type": "markdown",
      "source": [
        "We see that the equivalence $B_{1, 1} \\iff (P_{1, 2} \\lor P_{2, 1})$ was automatically converted to two implications which were inturn converted to CNF which is stored in the `KB`.<br/>\n",
        "$B_{1, 1} \\iff (P_{1, 2} \\lor P_{2, 1})$ was split into $B_{1, 1} \\implies (P_{1, 2} \\lor P_{2, 1})$ and $B_{1, 1} \\Longleftarrow (P_{1, 2} \\lor P_{2, 1})$.<br/>\n",
        "$B_{1, 1} \\implies (P_{1, 2} \\lor P_{2, 1})$ was converted to $P_{1, 2} \\lor P_{2, 1} \\lor \\neg B_{1, 1}$.<br/>\n",
        "$B_{1, 1} \\Longleftarrow (P_{1, 2} \\lor P_{2, 1})$ was converted to $\\neg (P_{1, 2} \\lor P_{2, 1}) \\lor B_{1, 1}$ which becomes $(\\neg P_{1, 2} \\lor B_{1, 1}) \\land (\\neg P_{2, 1} \\lor B_{1, 1})$ after applying De Morgan's laws and distributing the disjunction.<br/>\n",
        "$B_{2, 1} \\iff (P_{1, 1} \\lor P_{2, 2} \\lor P_{3, 2})$ is converted in similar manner."
      ]
    },
    {
      "metadata": {
        "id": "cVl_tf91WHjT",
        "colab_type": "text"
      },
      "cell_type": "markdown",
      "source": [
        "## Knowledge based agents"
      ]
    },
    {
      "metadata": {
        "id": "K6yrx4b2WHjU",
        "colab_type": "text"
      },
      "cell_type": "markdown",
      "source": [
        "A knowledge-based agent is a simple generic agent that maintains and handles a knowledge base.\n",
        "The knowledge base may initially contain some background knowledge.\n",
        "<br>\n",
        "The purpose of a KB agent is to provide a level of abstraction over knowledge-base manipulation and is to be used as a base class for agents that work on a knowledge base.\n",
        "<br>\n",
        "Given a percept, the KB agent adds the percept to its knowledge base, asks the knowledge base for the best action, and tells the knowledge base that it has in fact taken that action.\n",
        "<br>\n",
        "Our implementation of `KB-Agent` is encapsulated in a class `KB_AgentProgram` which inherits from the `KB` class.\n",
        "<br>\n",
        "Let's have a look."
      ]
    },
    {
      "metadata": {
        "id": "I5ssoFn_WHjU",
        "colab_type": "code",
        "outputId": "571f1bca-45c6-4715-f97f-1511697e886b",
        "colab": {
          "base_uri": "https://localhost:8080/",
          "height": 391
        }
      },
      "cell_type": "code",
      "source": [
        "psource(KB_AgentProgram)"
      ],
      "execution_count": 22,
      "outputs": [
        {
          "output_type": "display_data",
          "data": {
            "text/html": [
              "<!DOCTYPE html PUBLIC \"-//W3C//DTD HTML 4.01//EN\"\n",
              "   \"http://www.w3.org/TR/html4/strict.dtd\">\n",
              "\n",
              "<html>\n",
              "<head>\n",
              "  <title></title>\n",
              "  <meta http-equiv=\"content-type\" content=\"text/html; charset=None\">\n",
              "  <style type=\"text/css\">\n",
              "td.linenos { background-color: #f0f0f0; padding-right: 10px; }\n",
              "span.lineno { background-color: #f0f0f0; padding: 0 5px 0 5px; }\n",
              "pre { line-height: 125%; }\n",
              "body .hll { background-color: #ffffcc }\n",
              "body  { background: #f8f8f8; }\n",
              "body .c { color: #408080; font-style: italic } /* Comment */\n",
              "body .err { border: 1px solid #FF0000 } /* Error */\n",
              "body .k { color: #008000; font-weight: bold } /* Keyword */\n",
              "body .o { color: #666666 } /* Operator */\n",
              "body .ch { color: #408080; font-style: italic } /* Comment.Hashbang */\n",
              "body .cm { color: #408080; font-style: italic } /* Comment.Multiline */\n",
              "body .cp { color: #BC7A00 } /* Comment.Preproc */\n",
              "body .cpf { color: #408080; font-style: italic } /* Comment.PreprocFile */\n",
              "body .c1 { color: #408080; font-style: italic } /* Comment.Single */\n",
              "body .cs { color: #408080; font-style: italic } /* Comment.Special */\n",
              "body .gd { color: #A00000 } /* Generic.Deleted */\n",
              "body .ge { font-style: italic } /* Generic.Emph */\n",
              "body .gr { color: #FF0000 } /* Generic.Error */\n",
              "body .gh { color: #000080; font-weight: bold } /* Generic.Heading */\n",
              "body .gi { color: #00A000 } /* Generic.Inserted */\n",
              "body .go { color: #888888 } /* Generic.Output */\n",
              "body .gp { color: #000080; font-weight: bold } /* Generic.Prompt */\n",
              "body .gs { font-weight: bold } /* Generic.Strong */\n",
              "body .gu { color: #800080; font-weight: bold } /* Generic.Subheading */\n",
              "body .gt { color: #0044DD } /* Generic.Traceback */\n",
              "body .kc { color: #008000; font-weight: bold } /* Keyword.Constant */\n",
              "body .kd { color: #008000; font-weight: bold } /* Keyword.Declaration */\n",
              "body .kn { color: #008000; font-weight: bold } /* Keyword.Namespace */\n",
              "body .kp { color: #008000 } /* Keyword.Pseudo */\n",
              "body .kr { color: #008000; font-weight: bold } /* Keyword.Reserved */\n",
              "body .kt { color: #B00040 } /* Keyword.Type */\n",
              "body .m { color: #666666 } /* Literal.Number */\n",
              "body .s { color: #BA2121 } /* Literal.String */\n",
              "body .na { color: #7D9029 } /* Name.Attribute */\n",
              "body .nb { color: #008000 } /* Name.Builtin */\n",
              "body .nc { color: #0000FF; font-weight: bold } /* Name.Class */\n",
              "body .no { color: #880000 } /* Name.Constant */\n",
              "body .nd { color: #AA22FF } /* Name.Decorator */\n",
              "body .ni { color: #999999; font-weight: bold } /* Name.Entity */\n",
              "body .ne { color: #D2413A; font-weight: bold } /* Name.Exception */\n",
              "body .nf { color: #0000FF } /* Name.Function */\n",
              "body .nl { color: #A0A000 } /* Name.Label */\n",
              "body .nn { color: #0000FF; font-weight: bold } /* Name.Namespace */\n",
              "body .nt { color: #008000; font-weight: bold } /* Name.Tag */\n",
              "body .nv { color: #19177C } /* Name.Variable */\n",
              "body .ow { color: #AA22FF; font-weight: bold } /* Operator.Word */\n",
              "body .w { color: #bbbbbb } /* Text.Whitespace */\n",
              "body .mb { color: #666666 } /* Literal.Number.Bin */\n",
              "body .mf { color: #666666 } /* Literal.Number.Float */\n",
              "body .mh { color: #666666 } /* Literal.Number.Hex */\n",
              "body .mi { color: #666666 } /* Literal.Number.Integer */\n",
              "body .mo { color: #666666 } /* Literal.Number.Oct */\n",
              "body .sb { color: #BA2121 } /* Literal.String.Backtick */\n",
              "body .sc { color: #BA2121 } /* Literal.String.Char */\n",
              "body .sd { color: #BA2121; font-style: italic } /* Literal.String.Doc */\n",
              "body .s2 { color: #BA2121 } /* Literal.String.Double */\n",
              "body .se { color: #BB6622; font-weight: bold } /* Literal.String.Escape */\n",
              "body .sh { color: #BA2121 } /* Literal.String.Heredoc */\n",
              "body .si { color: #BB6688; font-weight: bold } /* Literal.String.Interpol */\n",
              "body .sx { color: #008000 } /* Literal.String.Other */\n",
              "body .sr { color: #BB6688 } /* Literal.String.Regex */\n",
              "body .s1 { color: #BA2121 } /* Literal.String.Single */\n",
              "body .ss { color: #19177C } /* Literal.String.Symbol */\n",
              "body .bp { color: #008000 } /* Name.Builtin.Pseudo */\n",
              "body .vc { color: #19177C } /* Name.Variable.Class */\n",
              "body .vg { color: #19177C } /* Name.Variable.Global */\n",
              "body .vi { color: #19177C } /* Name.Variable.Instance */\n",
              "body .il { color: #666666 } /* Literal.Number.Integer.Long */\n",
              "\n",
              "  </style>\n",
              "</head>\n",
              "<body>\n",
              "<h2></h2>\n",
              "\n",
              "<div class=\"highlight\"><pre><span></span><span class=\"k\">def</span> <span class=\"nf\">KB_AgentProgram</span><span class=\"p\">(</span><span class=\"n\">KB</span><span class=\"p\">):</span>\n",
              "    <span class=\"sd\">&quot;&quot;&quot;A generic logical knowledge-based agent program. [Figure 7.1]&quot;&quot;&quot;</span>\n",
              "    <span class=\"n\">steps</span> <span class=\"o\">=</span> <span class=\"n\">itertools</span><span class=\"o\">.</span><span class=\"n\">count</span><span class=\"p\">()</span>\n",
              "\n",
              "    <span class=\"k\">def</span> <span class=\"nf\">program</span><span class=\"p\">(</span><span class=\"n\">percept</span><span class=\"p\">):</span>\n",
              "        <span class=\"n\">t</span> <span class=\"o\">=</span> <span class=\"nb\">next</span><span class=\"p\">(</span><span class=\"n\">steps</span><span class=\"p\">)</span>\n",
              "        <span class=\"n\">KB</span><span class=\"o\">.</span><span class=\"n\">tell</span><span class=\"p\">(</span><span class=\"n\">make_percept_sentence</span><span class=\"p\">(</span><span class=\"n\">percept</span><span class=\"p\">,</span> <span class=\"n\">t</span><span class=\"p\">))</span>\n",
              "        <span class=\"n\">action</span> <span class=\"o\">=</span> <span class=\"n\">KB</span><span class=\"o\">.</span><span class=\"n\">ask</span><span class=\"p\">(</span><span class=\"n\">make_action_query</span><span class=\"p\">(</span><span class=\"n\">t</span><span class=\"p\">))</span>\n",
              "        <span class=\"n\">KB</span><span class=\"o\">.</span><span class=\"n\">tell</span><span class=\"p\">(</span><span class=\"n\">make_action_sentence</span><span class=\"p\">(</span><span class=\"n\">action</span><span class=\"p\">,</span> <span class=\"n\">t</span><span class=\"p\">))</span>\n",
              "        <span class=\"k\">return</span> <span class=\"n\">action</span>\n",
              "\n",
              "    <span class=\"k\">def</span> <span class=\"nf\">make_percept_sentence</span><span class=\"p\">(</span><span class=\"n\">percept</span><span class=\"p\">,</span> <span class=\"n\">t</span><span class=\"p\">):</span>\n",
              "        <span class=\"k\">return</span> <span class=\"n\">Expr</span><span class=\"p\">(</span><span class=\"s2\">&quot;Percept&quot;</span><span class=\"p\">)(</span><span class=\"n\">percept</span><span class=\"p\">,</span> <span class=\"n\">t</span><span class=\"p\">)</span>\n",
              "\n",
              "    <span class=\"k\">def</span> <span class=\"nf\">make_action_query</span><span class=\"p\">(</span><span class=\"n\">t</span><span class=\"p\">):</span>\n",
              "        <span class=\"k\">return</span> <span class=\"n\">expr</span><span class=\"p\">(</span><span class=\"s2\">&quot;ShouldDo(action, {})&quot;</span><span class=\"o\">.</span><span class=\"n\">format</span><span class=\"p\">(</span><span class=\"n\">t</span><span class=\"p\">))</span>\n",
              "\n",
              "    <span class=\"k\">def</span> <span class=\"nf\">make_action_sentence</span><span class=\"p\">(</span><span class=\"n\">action</span><span class=\"p\">,</span> <span class=\"n\">t</span><span class=\"p\">):</span>\n",
              "        <span class=\"k\">return</span> <span class=\"n\">Expr</span><span class=\"p\">(</span><span class=\"s2\">&quot;Did&quot;</span><span class=\"p\">)(</span><span class=\"n\">action</span><span class=\"p\">[</span><span class=\"n\">expr</span><span class=\"p\">(</span><span class=\"s1\">&#39;action&#39;</span><span class=\"p\">)],</span> <span class=\"n\">t</span><span class=\"p\">)</span>\n",
              "\n",
              "    <span class=\"k\">return</span> <span class=\"n\">program</span>\n",
              "</pre></div>\n",
              "</body>\n",
              "</html>\n"
            ],
            "text/plain": [
              "<IPython.core.display.HTML object>"
            ]
          },
          "metadata": {
            "tags": []
          }
        }
      ]
    },
    {
      "metadata": {
        "id": "_VM3rjfTWHjX",
        "colab_type": "text"
      },
      "cell_type": "markdown",
      "source": [
        "The helper functions `make_percept_sentence`, `make_action_query` and `make_action_sentence` are all aptly named and as expected,\n",
        "`make_percept_sentence` makes first-order logic sentences about percepts we want our agent to receive,\n",
        "`make_action_query` asks the underlying `KB` about the action that should be taken and\n",
        "`make_action_sentence` tells the underlying `KB` about the action it has just taken."
      ]
    },
    {
      "metadata": {
        "id": "SsnPqgv9WHjX",
        "colab_type": "text"
      },
      "cell_type": "markdown",
      "source": [
        "## Inference in Propositional Knowledge Base\n",
        "In this section we will look at two algorithms to check if a sentence is entailed by the `KB`. Our goal is to decide whether $\\text{KB} \\vDash \\alpha$ for some sentence $\\alpha$.\n",
        "### Truth Table Enumeration\n",
        "It is a model-checking approach which, as the name suggests, enumerates all possible models in which the `KB` is true and checks if $\\alpha$ is also true in these models. We list the $n$ symbols in the `KB` and enumerate the $2^{n}$ models in a depth-first manner and check the truth of `KB` and $\\alpha$."
      ]
    },
    {
      "metadata": {
        "id": "e0dQPEAPWHjY",
        "colab_type": "code",
        "outputId": "0449b3d6-a01e-4160-f938-0197c967ddd8",
        "colab": {
          "base_uri": "https://localhost:8080/",
          "height": 255
        }
      },
      "cell_type": "code",
      "source": [
        "psource(tt_check_all)"
      ],
      "execution_count": 23,
      "outputs": [
        {
          "output_type": "display_data",
          "data": {
            "text/html": [
              "<!DOCTYPE html PUBLIC \"-//W3C//DTD HTML 4.01//EN\"\n",
              "   \"http://www.w3.org/TR/html4/strict.dtd\">\n",
              "\n",
              "<html>\n",
              "<head>\n",
              "  <title></title>\n",
              "  <meta http-equiv=\"content-type\" content=\"text/html; charset=None\">\n",
              "  <style type=\"text/css\">\n",
              "td.linenos { background-color: #f0f0f0; padding-right: 10px; }\n",
              "span.lineno { background-color: #f0f0f0; padding: 0 5px 0 5px; }\n",
              "pre { line-height: 125%; }\n",
              "body .hll { background-color: #ffffcc }\n",
              "body  { background: #f8f8f8; }\n",
              "body .c { color: #408080; font-style: italic } /* Comment */\n",
              "body .err { border: 1px solid #FF0000 } /* Error */\n",
              "body .k { color: #008000; font-weight: bold } /* Keyword */\n",
              "body .o { color: #666666 } /* Operator */\n",
              "body .ch { color: #408080; font-style: italic } /* Comment.Hashbang */\n",
              "body .cm { color: #408080; font-style: italic } /* Comment.Multiline */\n",
              "body .cp { color: #BC7A00 } /* Comment.Preproc */\n",
              "body .cpf { color: #408080; font-style: italic } /* Comment.PreprocFile */\n",
              "body .c1 { color: #408080; font-style: italic } /* Comment.Single */\n",
              "body .cs { color: #408080; font-style: italic } /* Comment.Special */\n",
              "body .gd { color: #A00000 } /* Generic.Deleted */\n",
              "body .ge { font-style: italic } /* Generic.Emph */\n",
              "body .gr { color: #FF0000 } /* Generic.Error */\n",
              "body .gh { color: #000080; font-weight: bold } /* Generic.Heading */\n",
              "body .gi { color: #00A000 } /* Generic.Inserted */\n",
              "body .go { color: #888888 } /* Generic.Output */\n",
              "body .gp { color: #000080; font-weight: bold } /* Generic.Prompt */\n",
              "body .gs { font-weight: bold } /* Generic.Strong */\n",
              "body .gu { color: #800080; font-weight: bold } /* Generic.Subheading */\n",
              "body .gt { color: #0044DD } /* Generic.Traceback */\n",
              "body .kc { color: #008000; font-weight: bold } /* Keyword.Constant */\n",
              "body .kd { color: #008000; font-weight: bold } /* Keyword.Declaration */\n",
              "body .kn { color: #008000; font-weight: bold } /* Keyword.Namespace */\n",
              "body .kp { color: #008000 } /* Keyword.Pseudo */\n",
              "body .kr { color: #008000; font-weight: bold } /* Keyword.Reserved */\n",
              "body .kt { color: #B00040 } /* Keyword.Type */\n",
              "body .m { color: #666666 } /* Literal.Number */\n",
              "body .s { color: #BA2121 } /* Literal.String */\n",
              "body .na { color: #7D9029 } /* Name.Attribute */\n",
              "body .nb { color: #008000 } /* Name.Builtin */\n",
              "body .nc { color: #0000FF; font-weight: bold } /* Name.Class */\n",
              "body .no { color: #880000 } /* Name.Constant */\n",
              "body .nd { color: #AA22FF } /* Name.Decorator */\n",
              "body .ni { color: #999999; font-weight: bold } /* Name.Entity */\n",
              "body .ne { color: #D2413A; font-weight: bold } /* Name.Exception */\n",
              "body .nf { color: #0000FF } /* Name.Function */\n",
              "body .nl { color: #A0A000 } /* Name.Label */\n",
              "body .nn { color: #0000FF; font-weight: bold } /* Name.Namespace */\n",
              "body .nt { color: #008000; font-weight: bold } /* Name.Tag */\n",
              "body .nv { color: #19177C } /* Name.Variable */\n",
              "body .ow { color: #AA22FF; font-weight: bold } /* Operator.Word */\n",
              "body .w { color: #bbbbbb } /* Text.Whitespace */\n",
              "body .mb { color: #666666 } /* Literal.Number.Bin */\n",
              "body .mf { color: #666666 } /* Literal.Number.Float */\n",
              "body .mh { color: #666666 } /* Literal.Number.Hex */\n",
              "body .mi { color: #666666 } /* Literal.Number.Integer */\n",
              "body .mo { color: #666666 } /* Literal.Number.Oct */\n",
              "body .sb { color: #BA2121 } /* Literal.String.Backtick */\n",
              "body .sc { color: #BA2121 } /* Literal.String.Char */\n",
              "body .sd { color: #BA2121; font-style: italic } /* Literal.String.Doc */\n",
              "body .s2 { color: #BA2121 } /* Literal.String.Double */\n",
              "body .se { color: #BB6622; font-weight: bold } /* Literal.String.Escape */\n",
              "body .sh { color: #BA2121 } /* Literal.String.Heredoc */\n",
              "body .si { color: #BB6688; font-weight: bold } /* Literal.String.Interpol */\n",
              "body .sx { color: #008000 } /* Literal.String.Other */\n",
              "body .sr { color: #BB6688 } /* Literal.String.Regex */\n",
              "body .s1 { color: #BA2121 } /* Literal.String.Single */\n",
              "body .ss { color: #19177C } /* Literal.String.Symbol */\n",
              "body .bp { color: #008000 } /* Name.Builtin.Pseudo */\n",
              "body .vc { color: #19177C } /* Name.Variable.Class */\n",
              "body .vg { color: #19177C } /* Name.Variable.Global */\n",
              "body .vi { color: #19177C } /* Name.Variable.Instance */\n",
              "body .il { color: #666666 } /* Literal.Number.Integer.Long */\n",
              "\n",
              "  </style>\n",
              "</head>\n",
              "<body>\n",
              "<h2></h2>\n",
              "\n",
              "<div class=\"highlight\"><pre><span></span><span class=\"k\">def</span> <span class=\"nf\">tt_check_all</span><span class=\"p\">(</span><span class=\"n\">kb</span><span class=\"p\">,</span> <span class=\"n\">alpha</span><span class=\"p\">,</span> <span class=\"n\">symbols</span><span class=\"p\">,</span> <span class=\"n\">model</span><span class=\"p\">):</span>\n",
              "    <span class=\"sd\">&quot;&quot;&quot;Auxiliary routine to implement tt_entails.&quot;&quot;&quot;</span>\n",
              "    <span class=\"k\">if</span> <span class=\"ow\">not</span> <span class=\"n\">symbols</span><span class=\"p\">:</span>\n",
              "        <span class=\"k\">if</span> <span class=\"n\">pl_true</span><span class=\"p\">(</span><span class=\"n\">kb</span><span class=\"p\">,</span> <span class=\"n\">model</span><span class=\"p\">):</span>\n",
              "            <span class=\"n\">result</span> <span class=\"o\">=</span> <span class=\"n\">pl_true</span><span class=\"p\">(</span><span class=\"n\">alpha</span><span class=\"p\">,</span> <span class=\"n\">model</span><span class=\"p\">)</span>\n",
              "            <span class=\"k\">assert</span> <span class=\"n\">result</span> <span class=\"ow\">in</span> <span class=\"p\">(</span><span class=\"bp\">True</span><span class=\"p\">,</span> <span class=\"bp\">False</span><span class=\"p\">)</span>\n",
              "            <span class=\"k\">return</span> <span class=\"n\">result</span>\n",
              "        <span class=\"k\">else</span><span class=\"p\">:</span>\n",
              "            <span class=\"k\">return</span> <span class=\"bp\">True</span>\n",
              "    <span class=\"k\">else</span><span class=\"p\">:</span>\n",
              "        <span class=\"n\">P</span><span class=\"p\">,</span> <span class=\"n\">rest</span> <span class=\"o\">=</span> <span class=\"n\">symbols</span><span class=\"p\">[</span><span class=\"mi\">0</span><span class=\"p\">],</span> <span class=\"n\">symbols</span><span class=\"p\">[</span><span class=\"mi\">1</span><span class=\"p\">:]</span>\n",
              "        <span class=\"k\">return</span> <span class=\"p\">(</span><span class=\"n\">tt_check_all</span><span class=\"p\">(</span><span class=\"n\">kb</span><span class=\"p\">,</span> <span class=\"n\">alpha</span><span class=\"p\">,</span> <span class=\"n\">rest</span><span class=\"p\">,</span> <span class=\"n\">extend</span><span class=\"p\">(</span><span class=\"n\">model</span><span class=\"p\">,</span> <span class=\"n\">P</span><span class=\"p\">,</span> <span class=\"bp\">True</span><span class=\"p\">))</span> <span class=\"ow\">and</span>\n",
              "                <span class=\"n\">tt_check_all</span><span class=\"p\">(</span><span class=\"n\">kb</span><span class=\"p\">,</span> <span class=\"n\">alpha</span><span class=\"p\">,</span> <span class=\"n\">rest</span><span class=\"p\">,</span> <span class=\"n\">extend</span><span class=\"p\">(</span><span class=\"n\">model</span><span class=\"p\">,</span> <span class=\"n\">P</span><span class=\"p\">,</span> <span class=\"bp\">False</span><span class=\"p\">)))</span>\n",
              "</pre></div>\n",
              "</body>\n",
              "</html>\n"
            ],
            "text/plain": [
              "<IPython.core.display.HTML object>"
            ]
          },
          "metadata": {
            "tags": []
          }
        }
      ]
    },
    {
      "metadata": {
        "id": "gHJhlpKSWHja",
        "colab_type": "text"
      },
      "cell_type": "markdown",
      "source": [
        "The algorithm basically computes every line of the truth table $KB\\implies \\alpha$ and checks if it is true everywhere.\n",
        "<br>\n",
        "If symbols are defined, the routine recursively constructs every combination of truth values for the symbols and then, \n",
        "it checks whether `model` is consistent with `kb`.\n",
        "The given models correspond to the lines in the truth table,\n",
        "which have a `true` in the KB column, \n",
        "and for these lines it checks whether the query evaluates to true\n",
        "<br>\n",
        "`result = pl_true(alpha, model)`.\n",
        "<br>\n",
        "<br>\n",
        "In short, `tt_check_all` evaluates this logical expression for each `model`\n",
        "<br>\n",
        "`pl_true(kb, model) => pl_true(alpha, model)`\n",
        "<br>\n",
        "which is logically equivalent to\n",
        "<br>\n",
        "`pl_true(kb, model) & ~pl_true(alpha, model)` \n",
        "<br>\n",
        "that is, the knowledge base and the negation of the query are logically inconsistent.\n",
        "<br>\n",
        "<br>\n",
        "`tt_entails()` just extracts the symbols from the query and calls `tt_check_all()` with the proper parameters.\n"
      ]
    },
    {
      "metadata": {
        "id": "zGre0WOrWHjb",
        "colab_type": "code",
        "outputId": "9a44b549-51f6-4030-9370-7c29063da150",
        "colab": {
          "base_uri": "https://localhost:8080/",
          "height": 204
        }
      },
      "cell_type": "code",
      "source": [
        "psource(tt_entails)"
      ],
      "execution_count": 24,
      "outputs": [
        {
          "output_type": "display_data",
          "data": {
            "text/html": [
              "<!DOCTYPE html PUBLIC \"-//W3C//DTD HTML 4.01//EN\"\n",
              "   \"http://www.w3.org/TR/html4/strict.dtd\">\n",
              "\n",
              "<html>\n",
              "<head>\n",
              "  <title></title>\n",
              "  <meta http-equiv=\"content-type\" content=\"text/html; charset=None\">\n",
              "  <style type=\"text/css\">\n",
              "td.linenos { background-color: #f0f0f0; padding-right: 10px; }\n",
              "span.lineno { background-color: #f0f0f0; padding: 0 5px 0 5px; }\n",
              "pre { line-height: 125%; }\n",
              "body .hll { background-color: #ffffcc }\n",
              "body  { background: #f8f8f8; }\n",
              "body .c { color: #408080; font-style: italic } /* Comment */\n",
              "body .err { border: 1px solid #FF0000 } /* Error */\n",
              "body .k { color: #008000; font-weight: bold } /* Keyword */\n",
              "body .o { color: #666666 } /* Operator */\n",
              "body .ch { color: #408080; font-style: italic } /* Comment.Hashbang */\n",
              "body .cm { color: #408080; font-style: italic } /* Comment.Multiline */\n",
              "body .cp { color: #BC7A00 } /* Comment.Preproc */\n",
              "body .cpf { color: #408080; font-style: italic } /* Comment.PreprocFile */\n",
              "body .c1 { color: #408080; font-style: italic } /* Comment.Single */\n",
              "body .cs { color: #408080; font-style: italic } /* Comment.Special */\n",
              "body .gd { color: #A00000 } /* Generic.Deleted */\n",
              "body .ge { font-style: italic } /* Generic.Emph */\n",
              "body .gr { color: #FF0000 } /* Generic.Error */\n",
              "body .gh { color: #000080; font-weight: bold } /* Generic.Heading */\n",
              "body .gi { color: #00A000 } /* Generic.Inserted */\n",
              "body .go { color: #888888 } /* Generic.Output */\n",
              "body .gp { color: #000080; font-weight: bold } /* Generic.Prompt */\n",
              "body .gs { font-weight: bold } /* Generic.Strong */\n",
              "body .gu { color: #800080; font-weight: bold } /* Generic.Subheading */\n",
              "body .gt { color: #0044DD } /* Generic.Traceback */\n",
              "body .kc { color: #008000; font-weight: bold } /* Keyword.Constant */\n",
              "body .kd { color: #008000; font-weight: bold } /* Keyword.Declaration */\n",
              "body .kn { color: #008000; font-weight: bold } /* Keyword.Namespace */\n",
              "body .kp { color: #008000 } /* Keyword.Pseudo */\n",
              "body .kr { color: #008000; font-weight: bold } /* Keyword.Reserved */\n",
              "body .kt { color: #B00040 } /* Keyword.Type */\n",
              "body .m { color: #666666 } /* Literal.Number */\n",
              "body .s { color: #BA2121 } /* Literal.String */\n",
              "body .na { color: #7D9029 } /* Name.Attribute */\n",
              "body .nb { color: #008000 } /* Name.Builtin */\n",
              "body .nc { color: #0000FF; font-weight: bold } /* Name.Class */\n",
              "body .no { color: #880000 } /* Name.Constant */\n",
              "body .nd { color: #AA22FF } /* Name.Decorator */\n",
              "body .ni { color: #999999; font-weight: bold } /* Name.Entity */\n",
              "body .ne { color: #D2413A; font-weight: bold } /* Name.Exception */\n",
              "body .nf { color: #0000FF } /* Name.Function */\n",
              "body .nl { color: #A0A000 } /* Name.Label */\n",
              "body .nn { color: #0000FF; font-weight: bold } /* Name.Namespace */\n",
              "body .nt { color: #008000; font-weight: bold } /* Name.Tag */\n",
              "body .nv { color: #19177C } /* Name.Variable */\n",
              "body .ow { color: #AA22FF; font-weight: bold } /* Operator.Word */\n",
              "body .w { color: #bbbbbb } /* Text.Whitespace */\n",
              "body .mb { color: #666666 } /* Literal.Number.Bin */\n",
              "body .mf { color: #666666 } /* Literal.Number.Float */\n",
              "body .mh { color: #666666 } /* Literal.Number.Hex */\n",
              "body .mi { color: #666666 } /* Literal.Number.Integer */\n",
              "body .mo { color: #666666 } /* Literal.Number.Oct */\n",
              "body .sb { color: #BA2121 } /* Literal.String.Backtick */\n",
              "body .sc { color: #BA2121 } /* Literal.String.Char */\n",
              "body .sd { color: #BA2121; font-style: italic } /* Literal.String.Doc */\n",
              "body .s2 { color: #BA2121 } /* Literal.String.Double */\n",
              "body .se { color: #BB6622; font-weight: bold } /* Literal.String.Escape */\n",
              "body .sh { color: #BA2121 } /* Literal.String.Heredoc */\n",
              "body .si { color: #BB6688; font-weight: bold } /* Literal.String.Interpol */\n",
              "body .sx { color: #008000 } /* Literal.String.Other */\n",
              "body .sr { color: #BB6688 } /* Literal.String.Regex */\n",
              "body .s1 { color: #BA2121 } /* Literal.String.Single */\n",
              "body .ss { color: #19177C } /* Literal.String.Symbol */\n",
              "body .bp { color: #008000 } /* Name.Builtin.Pseudo */\n",
              "body .vc { color: #19177C } /* Name.Variable.Class */\n",
              "body .vg { color: #19177C } /* Name.Variable.Global */\n",
              "body .vi { color: #19177C } /* Name.Variable.Instance */\n",
              "body .il { color: #666666 } /* Literal.Number.Integer.Long */\n",
              "\n",
              "  </style>\n",
              "</head>\n",
              "<body>\n",
              "<h2></h2>\n",
              "\n",
              "<div class=\"highlight\"><pre><span></span><span class=\"k\">def</span> <span class=\"nf\">tt_entails</span><span class=\"p\">(</span><span class=\"n\">kb</span><span class=\"p\">,</span> <span class=\"n\">alpha</span><span class=\"p\">):</span>\n",
              "    <span class=\"sd\">&quot;&quot;&quot;Does kb entail the sentence alpha? Use truth tables. For propositional</span>\n",
              "<span class=\"sd\">    kb&#39;s and sentences. [Figure 7.10]. Note that the &#39;kb&#39; should be an</span>\n",
              "<span class=\"sd\">    Expr which is a conjunction of clauses.</span>\n",
              "<span class=\"sd\">    &gt;&gt;&gt; tt_entails(expr(&#39;P &amp; Q&#39;), expr(&#39;Q&#39;))</span>\n",
              "<span class=\"sd\">    True</span>\n",
              "<span class=\"sd\">    &quot;&quot;&quot;</span>\n",
              "    <span class=\"k\">assert</span> <span class=\"ow\">not</span> <span class=\"n\">variables</span><span class=\"p\">(</span><span class=\"n\">alpha</span><span class=\"p\">)</span>\n",
              "    <span class=\"n\">symbols</span> <span class=\"o\">=</span> <span class=\"nb\">list</span><span class=\"p\">(</span><span class=\"n\">prop_symbols</span><span class=\"p\">(</span><span class=\"n\">kb</span> <span class=\"o\">&amp;</span> <span class=\"n\">alpha</span><span class=\"p\">))</span>\n",
              "    <span class=\"k\">return</span> <span class=\"n\">tt_check_all</span><span class=\"p\">(</span><span class=\"n\">kb</span><span class=\"p\">,</span> <span class=\"n\">alpha</span><span class=\"p\">,</span> <span class=\"n\">symbols</span><span class=\"p\">,</span> <span class=\"p\">{})</span>\n",
              "</pre></div>\n",
              "</body>\n",
              "</html>\n"
            ],
            "text/plain": [
              "<IPython.core.display.HTML object>"
            ]
          },
          "metadata": {
            "tags": []
          }
        }
      ]
    },
    {
      "metadata": {
        "id": "Ic628wp1WHjd",
        "colab_type": "text"
      },
      "cell_type": "markdown",
      "source": [
        "Keep in mind that for two symbols P and Q, P => Q is false only when P is `True` and Q is `False`.\n",
        "Example usage of `tt_entails()`:"
      ]
    },
    {
      "metadata": {
        "id": "aFhOERcnWHjd",
        "colab_type": "code",
        "outputId": "d76f7b78-4e4e-4b2d-fee5-8b3a5513528b",
        "colab": {
          "base_uri": "https://localhost:8080/",
          "height": 34
        }
      },
      "cell_type": "code",
      "source": [
        "tt_entails(P & Q, Q)"
      ],
      "execution_count": 25,
      "outputs": [
        {
          "output_type": "execute_result",
          "data": {
            "text/plain": [
              "True"
            ]
          },
          "metadata": {
            "tags": []
          },
          "execution_count": 25
        }
      ]
    },
    {
      "metadata": {
        "id": "LsxAmuPRWHjg",
        "colab_type": "text"
      },
      "cell_type": "markdown",
      "source": [
        "P & Q is True only when both P and Q are True. Hence, (P & Q) => Q is True"
      ]
    },
    {
      "metadata": {
        "id": "DKHsVWREWHjh",
        "colab_type": "code",
        "outputId": "866ddca1-fe21-439a-d2ef-fcb8b9cb4e0a",
        "colab": {
          "base_uri": "https://localhost:8080/",
          "height": 34
        }
      },
      "cell_type": "code",
      "source": [
        "tt_entails(P | Q, Q)"
      ],
      "execution_count": 26,
      "outputs": [
        {
          "output_type": "execute_result",
          "data": {
            "text/plain": [
              "False"
            ]
          },
          "metadata": {
            "tags": []
          },
          "execution_count": 26
        }
      ]
    },
    {
      "metadata": {
        "id": "uMKf-sfBWHjj",
        "colab_type": "code",
        "outputId": "80d387b8-e6b1-4931-8498-a276be4cb611",
        "colab": {
          "base_uri": "https://localhost:8080/",
          "height": 34
        }
      },
      "cell_type": "code",
      "source": [
        "tt_entails(P | Q, P)"
      ],
      "execution_count": 27,
      "outputs": [
        {
          "output_type": "execute_result",
          "data": {
            "text/plain": [
              "False"
            ]
          },
          "metadata": {
            "tags": []
          },
          "execution_count": 27
        }
      ]
    },
    {
      "metadata": {
        "id": "QYX9Vz6yWHjl",
        "colab_type": "text"
      },
      "cell_type": "markdown",
      "source": [
        "If we know that P | Q is true, we cannot infer the truth values of P and Q. \n",
        "Hence (P | Q) => Q is False and so is (P | Q) => P."
      ]
    },
    {
      "metadata": {
        "id": "d38d2AbxWHjm",
        "colab_type": "code",
        "outputId": "2e4f6de3-af01-4bb5-a29d-3b8923dc4520",
        "colab": {
          "base_uri": "https://localhost:8080/",
          "height": 34
        }
      },
      "cell_type": "code",
      "source": [
        "(A, B, C, D, E, F, G) = symbols('A, B, C, D, E, F, G')\n",
        "tt_entails(A & (B | C) & D & E & ~(F | G), A & D & E & ~F & ~G)"
      ],
      "execution_count": 28,
      "outputs": [
        {
          "output_type": "execute_result",
          "data": {
            "text/plain": [
              "True"
            ]
          },
          "metadata": {
            "tags": []
          },
          "execution_count": 28
        }
      ]
    },
    {
      "metadata": {
        "id": "19EoXvVaWHjp",
        "colab_type": "text"
      },
      "cell_type": "markdown",
      "source": [
        "We can see that for the KB to be true, A, D, E have to be True and F and G have to be False.\n",
        "Nothing can be said about B or C."
      ]
    },
    {
      "metadata": {
        "id": "y25GXVULWHjp",
        "colab_type": "text"
      },
      "cell_type": "markdown",
      "source": [
        "Coming back to our problem, note that `tt_entails()` takes an `Expr` which is a conjunction of clauses as the input instead of the `KB` itself. \n",
        "You can use the `ask_if_true()` method of `PropKB` which does all the required conversions. \n",
        "Let's check what `wumpus_kb` tells us about $P_{1, 1}$."
      ]
    },
    {
      "metadata": {
        "id": "27ZfG5mXWHjp",
        "colab_type": "code",
        "outputId": "24e0d603-87ad-4eef-cca7-ab781272bd9f",
        "colab": {
          "base_uri": "https://localhost:8080/",
          "height": 34
        }
      },
      "cell_type": "code",
      "source": [
        "wumpus_kb.ask_if_true(~P11), wumpus_kb.ask_if_true(P11)"
      ],
      "execution_count": 29,
      "outputs": [
        {
          "output_type": "execute_result",
          "data": {
            "text/plain": [
              "(True, False)"
            ]
          },
          "metadata": {
            "tags": []
          },
          "execution_count": 29
        }
      ]
    },
    {
      "metadata": {
        "id": "HgeeDltMWHju",
        "colab_type": "text"
      },
      "cell_type": "markdown",
      "source": [
        "Looking at Figure 7.9 we see that in all models in which the knowledge base is `True`, $P_{1, 1}$ is `False`. It makes sense that `ask_if_true()` returns `True` for $\\alpha = \\neg P_{1, 1}$ and `False` for $\\alpha = P_{1, 1}$. This begs the question, what if $\\alpha$ is `True` in only a portion of all models. Do we return `True` or `False`? This doesn't rule out the possibility of $\\alpha$ being `True` but it is not entailed by the `KB` so we return `False` in such cases. We can see this is the case for $P_{2, 2}$ and $P_{3, 1}$."
      ]
    },
    {
      "metadata": {
        "id": "e0zXdpVVWHju",
        "colab_type": "code",
        "outputId": "a24afcd8-c3a2-40fb-a546-786de2a46689",
        "colab": {
          "base_uri": "https://localhost:8080/",
          "height": 34
        }
      },
      "cell_type": "code",
      "source": [
        "wumpus_kb.ask_if_true(~P22), wumpus_kb.ask_if_true(P22)"
      ],
      "execution_count": 30,
      "outputs": [
        {
          "output_type": "execute_result",
          "data": {
            "text/plain": [
              "(False, False)"
            ]
          },
          "metadata": {
            "tags": []
          },
          "execution_count": 30
        }
      ]
    },
    {
      "metadata": {
        "id": "cO_YafUWWHjw",
        "colab_type": "text"
      },
      "cell_type": "markdown",
      "source": [
        "### Proof by Resolution\n",
        "Recall that our goal is to check whether $\\text{KB} \\vDash \\alpha$ i.e. is $\\text{KB} \\implies \\alpha$ true in every model. Suppose we wanted to check if $P \\implies Q$ is valid. We check the satisfiability of $\\neg (P \\implies Q)$, which can be rewritten as $P \\land \\neg Q$. If $P \\land \\neg Q$ is unsatisfiable, then $P \\implies Q$ must be true in all models. This gives us the result \"$\\text{KB} \\vDash \\alpha$ <em>if and only if</em> $\\text{KB} \\land \\neg \\alpha$ is unsatisfiable\".<br/>\n",
        "This technique corresponds to <em>proof by <strong>contradiction</strong></em>, a standard mathematical proof technique. We assume $\\alpha$ to be false and show that this leads to a contradiction with known axioms in $\\text{KB}$. We obtain a contradiction by making valid inferences using inference rules. In this proof we use a single inference rule, <strong>resolution</strong> which states $(l_1 \\lor \\dots \\lor l_k) \\land (m_1 \\lor \\dots \\lor m_n) \\land (l_i \\iff \\neg m_j) \\implies l_1 \\lor \\dots \\lor l_{i - 1} \\lor l_{i + 1} \\lor \\dots \\lor l_k \\lor m_1 \\lor \\dots \\lor m_{j - 1} \\lor m_{j + 1} \\lor \\dots \\lor m_n$. Applying the resolution yields us a clause which we add to the KB. We keep doing this until:\n",
        "\n",
        "* There are no new clauses that can be added, in which case $\\text{KB} \\nvDash \\alpha$.\n",
        "* Two clauses resolve to yield the <em>empty clause</em>, in which case $\\text{KB} \\vDash \\alpha$.\n",
        "\n",
        "The <em>empty clause</em> is equivalent to <em>False</em> because it arises only from resolving two complementary\n",
        "unit clauses such as $P$ and $\\neg P$ which is a contradiction as both $P$ and $\\neg P$ can't be <em>True</em> at the same time."
      ]
    },
    {
      "metadata": {
        "id": "xWqutRydWHjw",
        "colab_type": "text"
      },
      "cell_type": "markdown",
      "source": [
        "There is  one catch however, the algorithm that implements proof by resolution cannot handle complex sentences. \n",
        "Implications and bi-implications have to be simplified into simpler clauses. \n",
        "We already know that *every sentence of a propositional logic is logically equivalent to a conjunction of clauses*.\n",
        "We will use this fact to our advantage and simplify the input sentence into the **conjunctive normal form** (CNF) which is a conjunction of disjunctions of literals.\n",
        "For eg:\n",
        "<br>\n",
        "$$(A\\lor B)\\land (\\neg B\\lor C\\lor\\neg D)\\land (D\\lor\\neg E)$$\n",
        "This is equivalent to the POS (Product of sums) form in digital electronics.\n",
        "<br>\n",
        "Here's an outline of how the conversion is done:\n",
        "1. Convert bi-implications to implications\n",
        "<br>\n",
        "$\\alpha\\iff\\beta$ can be written as $(\\alpha\\implies\\beta)\\land(\\beta\\implies\\alpha)$\n",
        "<br>\n",
        "This also applies to compound sentences\n",
        "<br>\n",
        "$\\alpha\\iff(\\beta\\lor\\gamma)$ can be written as $(\\alpha\\implies(\\beta\\lor\\gamma))\\land((\\beta\\lor\\gamma)\\implies\\alpha)$\n",
        "<br>\n",
        "2. Convert implications to their logical equivalents\n",
        "<br>\n",
        "$\\alpha\\implies\\beta$ can be written as $\\neg\\alpha\\lor\\beta$\n",
        "<br>\n",
        "3. Move negation inwards\n",
        "<br>\n",
        "CNF requires atomic literals. Hence, negation cannot appear on a compound statement.\n",
        "De Morgan's laws will be helpful here.\n",
        "<br>\n",
        "$\\neg(\\alpha\\land\\beta)\\equiv(\\neg\\alpha\\lor\\neg\\beta)$\n",
        "<br>\n",
        "$\\neg(\\alpha\\lor\\beta)\\equiv(\\neg\\alpha\\land\\neg\\beta)$\n",
        "<br>\n",
        "4. Distribute disjunction over conjunction\n",
        "<br>\n",
        "Disjunction and conjunction are distributive over each other.\n",
        "Now that we only have conjunctions, disjunctions and negations in our expression, \n",
        "we will distribute disjunctions over conjunctions wherever possible as this will give us a sentence which is a conjunction of simpler clauses, \n",
        "which is what we wanted in the first place.\n",
        "<br>\n",
        "We need a term of the form\n",
        "<br>\n",
        "$(\\alpha_{1}\\lor\\alpha_{2}\\lor\\alpha_{3}...)\\land(\\beta_{1}\\lor\\beta_{2}\\lor\\beta_{3}...)\\land(\\gamma_{1}\\lor\\gamma_{2}\\lor\\gamma_{3}...)\\land...$\n",
        "<br>\n",
        "<br>\n",
        "The `to_cnf` function executes this conversion using helper subroutines."
      ]
    },
    {
      "metadata": {
        "id": "REd0b1jMWHjx",
        "colab_type": "code",
        "outputId": "baf72ee5-5c5b-4393-83fa-305bc8cf7971",
        "colab": {
          "base_uri": "https://localhost:8080/",
          "height": 0
        }
      },
      "cell_type": "code",
      "source": [
        "psource(to_cnf)"
      ],
      "execution_count": 31,
      "outputs": [
        {
          "output_type": "display_data",
          "data": {
            "text/html": [
              "<!DOCTYPE html PUBLIC \"-//W3C//DTD HTML 4.01//EN\"\n",
              "   \"http://www.w3.org/TR/html4/strict.dtd\">\n",
              "\n",
              "<html>\n",
              "<head>\n",
              "  <title></title>\n",
              "  <meta http-equiv=\"content-type\" content=\"text/html; charset=None\">\n",
              "  <style type=\"text/css\">\n",
              "td.linenos { background-color: #f0f0f0; padding-right: 10px; }\n",
              "span.lineno { background-color: #f0f0f0; padding: 0 5px 0 5px; }\n",
              "pre { line-height: 125%; }\n",
              "body .hll { background-color: #ffffcc }\n",
              "body  { background: #f8f8f8; }\n",
              "body .c { color: #408080; font-style: italic } /* Comment */\n",
              "body .err { border: 1px solid #FF0000 } /* Error */\n",
              "body .k { color: #008000; font-weight: bold } /* Keyword */\n",
              "body .o { color: #666666 } /* Operator */\n",
              "body .ch { color: #408080; font-style: italic } /* Comment.Hashbang */\n",
              "body .cm { color: #408080; font-style: italic } /* Comment.Multiline */\n",
              "body .cp { color: #BC7A00 } /* Comment.Preproc */\n",
              "body .cpf { color: #408080; font-style: italic } /* Comment.PreprocFile */\n",
              "body .c1 { color: #408080; font-style: italic } /* Comment.Single */\n",
              "body .cs { color: #408080; font-style: italic } /* Comment.Special */\n",
              "body .gd { color: #A00000 } /* Generic.Deleted */\n",
              "body .ge { font-style: italic } /* Generic.Emph */\n",
              "body .gr { color: #FF0000 } /* Generic.Error */\n",
              "body .gh { color: #000080; font-weight: bold } /* Generic.Heading */\n",
              "body .gi { color: #00A000 } /* Generic.Inserted */\n",
              "body .go { color: #888888 } /* Generic.Output */\n",
              "body .gp { color: #000080; font-weight: bold } /* Generic.Prompt */\n",
              "body .gs { font-weight: bold } /* Generic.Strong */\n",
              "body .gu { color: #800080; font-weight: bold } /* Generic.Subheading */\n",
              "body .gt { color: #0044DD } /* Generic.Traceback */\n",
              "body .kc { color: #008000; font-weight: bold } /* Keyword.Constant */\n",
              "body .kd { color: #008000; font-weight: bold } /* Keyword.Declaration */\n",
              "body .kn { color: #008000; font-weight: bold } /* Keyword.Namespace */\n",
              "body .kp { color: #008000 } /* Keyword.Pseudo */\n",
              "body .kr { color: #008000; font-weight: bold } /* Keyword.Reserved */\n",
              "body .kt { color: #B00040 } /* Keyword.Type */\n",
              "body .m { color: #666666 } /* Literal.Number */\n",
              "body .s { color: #BA2121 } /* Literal.String */\n",
              "body .na { color: #7D9029 } /* Name.Attribute */\n",
              "body .nb { color: #008000 } /* Name.Builtin */\n",
              "body .nc { color: #0000FF; font-weight: bold } /* Name.Class */\n",
              "body .no { color: #880000 } /* Name.Constant */\n",
              "body .nd { color: #AA22FF } /* Name.Decorator */\n",
              "body .ni { color: #999999; font-weight: bold } /* Name.Entity */\n",
              "body .ne { color: #D2413A; font-weight: bold } /* Name.Exception */\n",
              "body .nf { color: #0000FF } /* Name.Function */\n",
              "body .nl { color: #A0A000 } /* Name.Label */\n",
              "body .nn { color: #0000FF; font-weight: bold } /* Name.Namespace */\n",
              "body .nt { color: #008000; font-weight: bold } /* Name.Tag */\n",
              "body .nv { color: #19177C } /* Name.Variable */\n",
              "body .ow { color: #AA22FF; font-weight: bold } /* Operator.Word */\n",
              "body .w { color: #bbbbbb } /* Text.Whitespace */\n",
              "body .mb { color: #666666 } /* Literal.Number.Bin */\n",
              "body .mf { color: #666666 } /* Literal.Number.Float */\n",
              "body .mh { color: #666666 } /* Literal.Number.Hex */\n",
              "body .mi { color: #666666 } /* Literal.Number.Integer */\n",
              "body .mo { color: #666666 } /* Literal.Number.Oct */\n",
              "body .sb { color: #BA2121 } /* Literal.String.Backtick */\n",
              "body .sc { color: #BA2121 } /* Literal.String.Char */\n",
              "body .sd { color: #BA2121; font-style: italic } /* Literal.String.Doc */\n",
              "body .s2 { color: #BA2121 } /* Literal.String.Double */\n",
              "body .se { color: #BB6622; font-weight: bold } /* Literal.String.Escape */\n",
              "body .sh { color: #BA2121 } /* Literal.String.Heredoc */\n",
              "body .si { color: #BB6688; font-weight: bold } /* Literal.String.Interpol */\n",
              "body .sx { color: #008000 } /* Literal.String.Other */\n",
              "body .sr { color: #BB6688 } /* Literal.String.Regex */\n",
              "body .s1 { color: #BA2121 } /* Literal.String.Single */\n",
              "body .ss { color: #19177C } /* Literal.String.Symbol */\n",
              "body .bp { color: #008000 } /* Name.Builtin.Pseudo */\n",
              "body .vc { color: #19177C } /* Name.Variable.Class */\n",
              "body .vg { color: #19177C } /* Name.Variable.Global */\n",
              "body .vi { color: #19177C } /* Name.Variable.Instance */\n",
              "body .il { color: #666666 } /* Literal.Number.Integer.Long */\n",
              "\n",
              "  </style>\n",
              "</head>\n",
              "<body>\n",
              "<h2></h2>\n",
              "\n",
              "<div class=\"highlight\"><pre><span></span><span class=\"k\">def</span> <span class=\"nf\">to_cnf</span><span class=\"p\">(</span><span class=\"n\">s</span><span class=\"p\">):</span>\n",
              "    <span class=\"sd\">&quot;&quot;&quot;Convert a propositional logical sentence to conjunctive normal form.</span>\n",
              "<span class=\"sd\">    That is, to the form ((A | ~B | ...) &amp; (B | C | ...) &amp; ...) [p. 253]</span>\n",
              "<span class=\"sd\">    &gt;&gt;&gt; to_cnf(&#39;~(B | C)&#39;)</span>\n",
              "<span class=\"sd\">    (~B &amp; ~C)</span>\n",
              "<span class=\"sd\">    &quot;&quot;&quot;</span>\n",
              "    <span class=\"n\">s</span> <span class=\"o\">=</span> <span class=\"n\">expr</span><span class=\"p\">(</span><span class=\"n\">s</span><span class=\"p\">)</span>\n",
              "    <span class=\"k\">if</span> <span class=\"nb\">isinstance</span><span class=\"p\">(</span><span class=\"n\">s</span><span class=\"p\">,</span> <span class=\"nb\">str</span><span class=\"p\">):</span>\n",
              "        <span class=\"n\">s</span> <span class=\"o\">=</span> <span class=\"n\">expr</span><span class=\"p\">(</span><span class=\"n\">s</span><span class=\"p\">)</span>\n",
              "    <span class=\"n\">s</span> <span class=\"o\">=</span> <span class=\"n\">eliminate_implications</span><span class=\"p\">(</span><span class=\"n\">s</span><span class=\"p\">)</span>  <span class=\"c1\"># Steps 1, 2 from p. 253</span>\n",
              "    <span class=\"n\">s</span> <span class=\"o\">=</span> <span class=\"n\">move_not_inwards</span><span class=\"p\">(</span><span class=\"n\">s</span><span class=\"p\">)</span>  <span class=\"c1\"># Step 3</span>\n",
              "    <span class=\"k\">return</span> <span class=\"n\">distribute_and_over_or</span><span class=\"p\">(</span><span class=\"n\">s</span><span class=\"p\">)</span>  <span class=\"c1\"># Step 4</span>\n",
              "</pre></div>\n",
              "</body>\n",
              "</html>\n"
            ],
            "text/plain": [
              "<IPython.core.display.HTML object>"
            ]
          },
          "metadata": {
            "tags": []
          }
        }
      ]
    },
    {
      "metadata": {
        "id": "GGjpjxcaWHjz",
        "colab_type": "text"
      },
      "cell_type": "markdown",
      "source": [
        "`to_cnf` calls three subroutines.\n",
        "<br>\n",
        "`eliminate_implications` converts bi-implications and implications to their logical equivalents.\n",
        "<br>\n",
        "`move_not_inwards` removes negations from compound statements and moves them inwards using De Morgan's laws.\n",
        "<br>\n",
        "`distribute_and_over_or` distributes disjunctions over conjunctions.\n",
        "<br>\n",
        "Run the cell below for implementation details."
      ]
    },
    {
      "metadata": {
        "id": "H3EXj6FdWHj0",
        "colab_type": "code",
        "outputId": "13c0244c-69f4-4ce1-a0ae-b6d10b83bbf4",
        "colab": {
          "base_uri": "https://localhost:8080/",
          "height": 0
        }
      },
      "cell_type": "code",
      "source": [
        "psource(eliminate_implications)\n",
        "psource(move_not_inwards)\n",
        "psource(distribute_and_over_or)"
      ],
      "execution_count": 32,
      "outputs": [
        {
          "output_type": "display_data",
          "data": {
            "text/html": [
              "<!DOCTYPE html PUBLIC \"-//W3C//DTD HTML 4.01//EN\"\n",
              "   \"http://www.w3.org/TR/html4/strict.dtd\">\n",
              "\n",
              "<html>\n",
              "<head>\n",
              "  <title></title>\n",
              "  <meta http-equiv=\"content-type\" content=\"text/html; charset=None\">\n",
              "  <style type=\"text/css\">\n",
              "td.linenos { background-color: #f0f0f0; padding-right: 10px; }\n",
              "span.lineno { background-color: #f0f0f0; padding: 0 5px 0 5px; }\n",
              "pre { line-height: 125%; }\n",
              "body .hll { background-color: #ffffcc }\n",
              "body  { background: #f8f8f8; }\n",
              "body .c { color: #408080; font-style: italic } /* Comment */\n",
              "body .err { border: 1px solid #FF0000 } /* Error */\n",
              "body .k { color: #008000; font-weight: bold } /* Keyword */\n",
              "body .o { color: #666666 } /* Operator */\n",
              "body .ch { color: #408080; font-style: italic } /* Comment.Hashbang */\n",
              "body .cm { color: #408080; font-style: italic } /* Comment.Multiline */\n",
              "body .cp { color: #BC7A00 } /* Comment.Preproc */\n",
              "body .cpf { color: #408080; font-style: italic } /* Comment.PreprocFile */\n",
              "body .c1 { color: #408080; font-style: italic } /* Comment.Single */\n",
              "body .cs { color: #408080; font-style: italic } /* Comment.Special */\n",
              "body .gd { color: #A00000 } /* Generic.Deleted */\n",
              "body .ge { font-style: italic } /* Generic.Emph */\n",
              "body .gr { color: #FF0000 } /* Generic.Error */\n",
              "body .gh { color: #000080; font-weight: bold } /* Generic.Heading */\n",
              "body .gi { color: #00A000 } /* Generic.Inserted */\n",
              "body .go { color: #888888 } /* Generic.Output */\n",
              "body .gp { color: #000080; font-weight: bold } /* Generic.Prompt */\n",
              "body .gs { font-weight: bold } /* Generic.Strong */\n",
              "body .gu { color: #800080; font-weight: bold } /* Generic.Subheading */\n",
              "body .gt { color: #0044DD } /* Generic.Traceback */\n",
              "body .kc { color: #008000; font-weight: bold } /* Keyword.Constant */\n",
              "body .kd { color: #008000; font-weight: bold } /* Keyword.Declaration */\n",
              "body .kn { color: #008000; font-weight: bold } /* Keyword.Namespace */\n",
              "body .kp { color: #008000 } /* Keyword.Pseudo */\n",
              "body .kr { color: #008000; font-weight: bold } /* Keyword.Reserved */\n",
              "body .kt { color: #B00040 } /* Keyword.Type */\n",
              "body .m { color: #666666 } /* Literal.Number */\n",
              "body .s { color: #BA2121 } /* Literal.String */\n",
              "body .na { color: #7D9029 } /* Name.Attribute */\n",
              "body .nb { color: #008000 } /* Name.Builtin */\n",
              "body .nc { color: #0000FF; font-weight: bold } /* Name.Class */\n",
              "body .no { color: #880000 } /* Name.Constant */\n",
              "body .nd { color: #AA22FF } /* Name.Decorator */\n",
              "body .ni { color: #999999; font-weight: bold } /* Name.Entity */\n",
              "body .ne { color: #D2413A; font-weight: bold } /* Name.Exception */\n",
              "body .nf { color: #0000FF } /* Name.Function */\n",
              "body .nl { color: #A0A000 } /* Name.Label */\n",
              "body .nn { color: #0000FF; font-weight: bold } /* Name.Namespace */\n",
              "body .nt { color: #008000; font-weight: bold } /* Name.Tag */\n",
              "body .nv { color: #19177C } /* Name.Variable */\n",
              "body .ow { color: #AA22FF; font-weight: bold } /* Operator.Word */\n",
              "body .w { color: #bbbbbb } /* Text.Whitespace */\n",
              "body .mb { color: #666666 } /* Literal.Number.Bin */\n",
              "body .mf { color: #666666 } /* Literal.Number.Float */\n",
              "body .mh { color: #666666 } /* Literal.Number.Hex */\n",
              "body .mi { color: #666666 } /* Literal.Number.Integer */\n",
              "body .mo { color: #666666 } /* Literal.Number.Oct */\n",
              "body .sb { color: #BA2121 } /* Literal.String.Backtick */\n",
              "body .sc { color: #BA2121 } /* Literal.String.Char */\n",
              "body .sd { color: #BA2121; font-style: italic } /* Literal.String.Doc */\n",
              "body .s2 { color: #BA2121 } /* Literal.String.Double */\n",
              "body .se { color: #BB6622; font-weight: bold } /* Literal.String.Escape */\n",
              "body .sh { color: #BA2121 } /* Literal.String.Heredoc */\n",
              "body .si { color: #BB6688; font-weight: bold } /* Literal.String.Interpol */\n",
              "body .sx { color: #008000 } /* Literal.String.Other */\n",
              "body .sr { color: #BB6688 } /* Literal.String.Regex */\n",
              "body .s1 { color: #BA2121 } /* Literal.String.Single */\n",
              "body .ss { color: #19177C } /* Literal.String.Symbol */\n",
              "body .bp { color: #008000 } /* Name.Builtin.Pseudo */\n",
              "body .vc { color: #19177C } /* Name.Variable.Class */\n",
              "body .vg { color: #19177C } /* Name.Variable.Global */\n",
              "body .vi { color: #19177C } /* Name.Variable.Instance */\n",
              "body .il { color: #666666 } /* Literal.Number.Integer.Long */\n",
              "\n",
              "  </style>\n",
              "</head>\n",
              "<body>\n",
              "<h2></h2>\n",
              "\n",
              "<div class=\"highlight\"><pre><span></span><span class=\"k\">def</span> <span class=\"nf\">eliminate_implications</span><span class=\"p\">(</span><span class=\"n\">s</span><span class=\"p\">):</span>\n",
              "    <span class=\"sd\">&quot;&quot;&quot;Change implications into equivalent form with only &amp;, |, and ~ as logical operators.&quot;&quot;&quot;</span>\n",
              "    <span class=\"n\">s</span> <span class=\"o\">=</span> <span class=\"n\">expr</span><span class=\"p\">(</span><span class=\"n\">s</span><span class=\"p\">)</span>\n",
              "    <span class=\"k\">if</span> <span class=\"ow\">not</span> <span class=\"n\">s</span><span class=\"o\">.</span><span class=\"n\">args</span> <span class=\"ow\">or</span> <span class=\"n\">is_symbol</span><span class=\"p\">(</span><span class=\"n\">s</span><span class=\"o\">.</span><span class=\"n\">op</span><span class=\"p\">):</span>\n",
              "        <span class=\"k\">return</span> <span class=\"n\">s</span>  <span class=\"c1\"># Atoms are unchanged.</span>\n",
              "    <span class=\"n\">args</span> <span class=\"o\">=</span> <span class=\"nb\">list</span><span class=\"p\">(</span><span class=\"nb\">map</span><span class=\"p\">(</span><span class=\"n\">eliminate_implications</span><span class=\"p\">,</span> <span class=\"n\">s</span><span class=\"o\">.</span><span class=\"n\">args</span><span class=\"p\">))</span>\n",
              "    <span class=\"n\">a</span><span class=\"p\">,</span> <span class=\"n\">b</span> <span class=\"o\">=</span> <span class=\"n\">args</span><span class=\"p\">[</span><span class=\"mi\">0</span><span class=\"p\">],</span> <span class=\"n\">args</span><span class=\"p\">[</span><span class=\"o\">-</span><span class=\"mi\">1</span><span class=\"p\">]</span>\n",
              "    <span class=\"k\">if</span> <span class=\"n\">s</span><span class=\"o\">.</span><span class=\"n\">op</span> <span class=\"o\">==</span> <span class=\"s1\">&#39;==&gt;&#39;</span><span class=\"p\">:</span>\n",
              "        <span class=\"k\">return</span> <span class=\"n\">b</span> <span class=\"o\">|</span> <span class=\"o\">~</span><span class=\"n\">a</span>\n",
              "    <span class=\"k\">elif</span> <span class=\"n\">s</span><span class=\"o\">.</span><span class=\"n\">op</span> <span class=\"o\">==</span> <span class=\"s1\">&#39;&lt;==&#39;</span><span class=\"p\">:</span>\n",
              "        <span class=\"k\">return</span> <span class=\"n\">a</span> <span class=\"o\">|</span> <span class=\"o\">~</span><span class=\"n\">b</span>\n",
              "    <span class=\"k\">elif</span> <span class=\"n\">s</span><span class=\"o\">.</span><span class=\"n\">op</span> <span class=\"o\">==</span> <span class=\"s1\">&#39;&lt;=&gt;&#39;</span><span class=\"p\">:</span>\n",
              "        <span class=\"k\">return</span> <span class=\"p\">(</span><span class=\"n\">a</span> <span class=\"o\">|</span> <span class=\"o\">~</span><span class=\"n\">b</span><span class=\"p\">)</span> <span class=\"o\">&amp;</span> <span class=\"p\">(</span><span class=\"n\">b</span> <span class=\"o\">|</span> <span class=\"o\">~</span><span class=\"n\">a</span><span class=\"p\">)</span>\n",
              "    <span class=\"k\">elif</span> <span class=\"n\">s</span><span class=\"o\">.</span><span class=\"n\">op</span> <span class=\"o\">==</span> <span class=\"s1\">&#39;^&#39;</span><span class=\"p\">:</span>\n",
              "        <span class=\"k\">assert</span> <span class=\"nb\">len</span><span class=\"p\">(</span><span class=\"n\">args</span><span class=\"p\">)</span> <span class=\"o\">==</span> <span class=\"mi\">2</span>  <span class=\"c1\"># TODO: relax this restriction</span>\n",
              "        <span class=\"k\">return</span> <span class=\"p\">(</span><span class=\"n\">a</span> <span class=\"o\">&amp;</span> <span class=\"o\">~</span><span class=\"n\">b</span><span class=\"p\">)</span> <span class=\"o\">|</span> <span class=\"p\">(</span><span class=\"o\">~</span><span class=\"n\">a</span> <span class=\"o\">&amp;</span> <span class=\"n\">b</span><span class=\"p\">)</span>\n",
              "    <span class=\"k\">else</span><span class=\"p\">:</span>\n",
              "        <span class=\"k\">assert</span> <span class=\"n\">s</span><span class=\"o\">.</span><span class=\"n\">op</span> <span class=\"ow\">in</span> <span class=\"p\">(</span><span class=\"s1\">&#39;&amp;&#39;</span><span class=\"p\">,</span> <span class=\"s1\">&#39;|&#39;</span><span class=\"p\">,</span> <span class=\"s1\">&#39;~&#39;</span><span class=\"p\">)</span>\n",
              "        <span class=\"k\">return</span> <span class=\"n\">Expr</span><span class=\"p\">(</span><span class=\"n\">s</span><span class=\"o\">.</span><span class=\"n\">op</span><span class=\"p\">,</span> <span class=\"o\">*</span><span class=\"n\">args</span><span class=\"p\">)</span>\n",
              "</pre></div>\n",
              "</body>\n",
              "</html>\n"
            ],
            "text/plain": [
              "<IPython.core.display.HTML object>"
            ]
          },
          "metadata": {
            "tags": []
          }
        },
        {
          "output_type": "display_data",
          "data": {
            "text/html": [
              "<!DOCTYPE html PUBLIC \"-//W3C//DTD HTML 4.01//EN\"\n",
              "   \"http://www.w3.org/TR/html4/strict.dtd\">\n",
              "\n",
              "<html>\n",
              "<head>\n",
              "  <title></title>\n",
              "  <meta http-equiv=\"content-type\" content=\"text/html; charset=None\">\n",
              "  <style type=\"text/css\">\n",
              "td.linenos { background-color: #f0f0f0; padding-right: 10px; }\n",
              "span.lineno { background-color: #f0f0f0; padding: 0 5px 0 5px; }\n",
              "pre { line-height: 125%; }\n",
              "body .hll { background-color: #ffffcc }\n",
              "body  { background: #f8f8f8; }\n",
              "body .c { color: #408080; font-style: italic } /* Comment */\n",
              "body .err { border: 1px solid #FF0000 } /* Error */\n",
              "body .k { color: #008000; font-weight: bold } /* Keyword */\n",
              "body .o { color: #666666 } /* Operator */\n",
              "body .ch { color: #408080; font-style: italic } /* Comment.Hashbang */\n",
              "body .cm { color: #408080; font-style: italic } /* Comment.Multiline */\n",
              "body .cp { color: #BC7A00 } /* Comment.Preproc */\n",
              "body .cpf { color: #408080; font-style: italic } /* Comment.PreprocFile */\n",
              "body .c1 { color: #408080; font-style: italic } /* Comment.Single */\n",
              "body .cs { color: #408080; font-style: italic } /* Comment.Special */\n",
              "body .gd { color: #A00000 } /* Generic.Deleted */\n",
              "body .ge { font-style: italic } /* Generic.Emph */\n",
              "body .gr { color: #FF0000 } /* Generic.Error */\n",
              "body .gh { color: #000080; font-weight: bold } /* Generic.Heading */\n",
              "body .gi { color: #00A000 } /* Generic.Inserted */\n",
              "body .go { color: #888888 } /* Generic.Output */\n",
              "body .gp { color: #000080; font-weight: bold } /* Generic.Prompt */\n",
              "body .gs { font-weight: bold } /* Generic.Strong */\n",
              "body .gu { color: #800080; font-weight: bold } /* Generic.Subheading */\n",
              "body .gt { color: #0044DD } /* Generic.Traceback */\n",
              "body .kc { color: #008000; font-weight: bold } /* Keyword.Constant */\n",
              "body .kd { color: #008000; font-weight: bold } /* Keyword.Declaration */\n",
              "body .kn { color: #008000; font-weight: bold } /* Keyword.Namespace */\n",
              "body .kp { color: #008000 } /* Keyword.Pseudo */\n",
              "body .kr { color: #008000; font-weight: bold } /* Keyword.Reserved */\n",
              "body .kt { color: #B00040 } /* Keyword.Type */\n",
              "body .m { color: #666666 } /* Literal.Number */\n",
              "body .s { color: #BA2121 } /* Literal.String */\n",
              "body .na { color: #7D9029 } /* Name.Attribute */\n",
              "body .nb { color: #008000 } /* Name.Builtin */\n",
              "body .nc { color: #0000FF; font-weight: bold } /* Name.Class */\n",
              "body .no { color: #880000 } /* Name.Constant */\n",
              "body .nd { color: #AA22FF } /* Name.Decorator */\n",
              "body .ni { color: #999999; font-weight: bold } /* Name.Entity */\n",
              "body .ne { color: #D2413A; font-weight: bold } /* Name.Exception */\n",
              "body .nf { color: #0000FF } /* Name.Function */\n",
              "body .nl { color: #A0A000 } /* Name.Label */\n",
              "body .nn { color: #0000FF; font-weight: bold } /* Name.Namespace */\n",
              "body .nt { color: #008000; font-weight: bold } /* Name.Tag */\n",
              "body .nv { color: #19177C } /* Name.Variable */\n",
              "body .ow { color: #AA22FF; font-weight: bold } /* Operator.Word */\n",
              "body .w { color: #bbbbbb } /* Text.Whitespace */\n",
              "body .mb { color: #666666 } /* Literal.Number.Bin */\n",
              "body .mf { color: #666666 } /* Literal.Number.Float */\n",
              "body .mh { color: #666666 } /* Literal.Number.Hex */\n",
              "body .mi { color: #666666 } /* Literal.Number.Integer */\n",
              "body .mo { color: #666666 } /* Literal.Number.Oct */\n",
              "body .sb { color: #BA2121 } /* Literal.String.Backtick */\n",
              "body .sc { color: #BA2121 } /* Literal.String.Char */\n",
              "body .sd { color: #BA2121; font-style: italic } /* Literal.String.Doc */\n",
              "body .s2 { color: #BA2121 } /* Literal.String.Double */\n",
              "body .se { color: #BB6622; font-weight: bold } /* Literal.String.Escape */\n",
              "body .sh { color: #BA2121 } /* Literal.String.Heredoc */\n",
              "body .si { color: #BB6688; font-weight: bold } /* Literal.String.Interpol */\n",
              "body .sx { color: #008000 } /* Literal.String.Other */\n",
              "body .sr { color: #BB6688 } /* Literal.String.Regex */\n",
              "body .s1 { color: #BA2121 } /* Literal.String.Single */\n",
              "body .ss { color: #19177C } /* Literal.String.Symbol */\n",
              "body .bp { color: #008000 } /* Name.Builtin.Pseudo */\n",
              "body .vc { color: #19177C } /* Name.Variable.Class */\n",
              "body .vg { color: #19177C } /* Name.Variable.Global */\n",
              "body .vi { color: #19177C } /* Name.Variable.Instance */\n",
              "body .il { color: #666666 } /* Literal.Number.Integer.Long */\n",
              "\n",
              "  </style>\n",
              "</head>\n",
              "<body>\n",
              "<h2></h2>\n",
              "\n",
              "<div class=\"highlight\"><pre><span></span><span class=\"k\">def</span> <span class=\"nf\">move_not_inwards</span><span class=\"p\">(</span><span class=\"n\">s</span><span class=\"p\">):</span>\n",
              "    <span class=\"sd\">&quot;&quot;&quot;Rewrite sentence s by moving negation sign inward.</span>\n",
              "<span class=\"sd\">    &gt;&gt;&gt; move_not_inwards(~(A | B))</span>\n",
              "<span class=\"sd\">    (~A &amp; ~B)</span>\n",
              "<span class=\"sd\">    &quot;&quot;&quot;</span>\n",
              "    <span class=\"n\">s</span> <span class=\"o\">=</span> <span class=\"n\">expr</span><span class=\"p\">(</span><span class=\"n\">s</span><span class=\"p\">)</span>\n",
              "    <span class=\"k\">if</span> <span class=\"n\">s</span><span class=\"o\">.</span><span class=\"n\">op</span> <span class=\"o\">==</span> <span class=\"s1\">&#39;~&#39;</span><span class=\"p\">:</span>\n",
              "        <span class=\"k\">def</span> <span class=\"nf\">NOT</span><span class=\"p\">(</span><span class=\"n\">b</span><span class=\"p\">):</span>\n",
              "            <span class=\"k\">return</span> <span class=\"n\">move_not_inwards</span><span class=\"p\">(</span><span class=\"o\">~</span><span class=\"n\">b</span><span class=\"p\">)</span>\n",
              "        <span class=\"n\">a</span> <span class=\"o\">=</span> <span class=\"n\">s</span><span class=\"o\">.</span><span class=\"n\">args</span><span class=\"p\">[</span><span class=\"mi\">0</span><span class=\"p\">]</span>\n",
              "        <span class=\"k\">if</span> <span class=\"n\">a</span><span class=\"o\">.</span><span class=\"n\">op</span> <span class=\"o\">==</span> <span class=\"s1\">&#39;~&#39;</span><span class=\"p\">:</span>\n",
              "            <span class=\"k\">return</span> <span class=\"n\">move_not_inwards</span><span class=\"p\">(</span><span class=\"n\">a</span><span class=\"o\">.</span><span class=\"n\">args</span><span class=\"p\">[</span><span class=\"mi\">0</span><span class=\"p\">])</span>  <span class=\"c1\"># ~~A ==&gt; A</span>\n",
              "        <span class=\"k\">if</span> <span class=\"n\">a</span><span class=\"o\">.</span><span class=\"n\">op</span> <span class=\"o\">==</span> <span class=\"s1\">&#39;&amp;&#39;</span><span class=\"p\">:</span>\n",
              "            <span class=\"k\">return</span> <span class=\"n\">associate</span><span class=\"p\">(</span><span class=\"s1\">&#39;|&#39;</span><span class=\"p\">,</span> <span class=\"nb\">list</span><span class=\"p\">(</span><span class=\"nb\">map</span><span class=\"p\">(</span><span class=\"n\">NOT</span><span class=\"p\">,</span> <span class=\"n\">a</span><span class=\"o\">.</span><span class=\"n\">args</span><span class=\"p\">)))</span>\n",
              "        <span class=\"k\">if</span> <span class=\"n\">a</span><span class=\"o\">.</span><span class=\"n\">op</span> <span class=\"o\">==</span> <span class=\"s1\">&#39;|&#39;</span><span class=\"p\">:</span>\n",
              "            <span class=\"k\">return</span> <span class=\"n\">associate</span><span class=\"p\">(</span><span class=\"s1\">&#39;&amp;&#39;</span><span class=\"p\">,</span> <span class=\"nb\">list</span><span class=\"p\">(</span><span class=\"nb\">map</span><span class=\"p\">(</span><span class=\"n\">NOT</span><span class=\"p\">,</span> <span class=\"n\">a</span><span class=\"o\">.</span><span class=\"n\">args</span><span class=\"p\">)))</span>\n",
              "        <span class=\"k\">return</span> <span class=\"n\">s</span>\n",
              "    <span class=\"k\">elif</span> <span class=\"n\">is_symbol</span><span class=\"p\">(</span><span class=\"n\">s</span><span class=\"o\">.</span><span class=\"n\">op</span><span class=\"p\">)</span> <span class=\"ow\">or</span> <span class=\"ow\">not</span> <span class=\"n\">s</span><span class=\"o\">.</span><span class=\"n\">args</span><span class=\"p\">:</span>\n",
              "        <span class=\"k\">return</span> <span class=\"n\">s</span>\n",
              "    <span class=\"k\">else</span><span class=\"p\">:</span>\n",
              "        <span class=\"k\">return</span> <span class=\"n\">Expr</span><span class=\"p\">(</span><span class=\"n\">s</span><span class=\"o\">.</span><span class=\"n\">op</span><span class=\"p\">,</span> <span class=\"o\">*</span><span class=\"nb\">list</span><span class=\"p\">(</span><span class=\"nb\">map</span><span class=\"p\">(</span><span class=\"n\">move_not_inwards</span><span class=\"p\">,</span> <span class=\"n\">s</span><span class=\"o\">.</span><span class=\"n\">args</span><span class=\"p\">)))</span>\n",
              "</pre></div>\n",
              "</body>\n",
              "</html>\n"
            ],
            "text/plain": [
              "<IPython.core.display.HTML object>"
            ]
          },
          "metadata": {
            "tags": []
          }
        },
        {
          "output_type": "display_data",
          "data": {
            "text/html": [
              "<!DOCTYPE html PUBLIC \"-//W3C//DTD HTML 4.01//EN\"\n",
              "   \"http://www.w3.org/TR/html4/strict.dtd\">\n",
              "\n",
              "<html>\n",
              "<head>\n",
              "  <title></title>\n",
              "  <meta http-equiv=\"content-type\" content=\"text/html; charset=None\">\n",
              "  <style type=\"text/css\">\n",
              "td.linenos { background-color: #f0f0f0; padding-right: 10px; }\n",
              "span.lineno { background-color: #f0f0f0; padding: 0 5px 0 5px; }\n",
              "pre { line-height: 125%; }\n",
              "body .hll { background-color: #ffffcc }\n",
              "body  { background: #f8f8f8; }\n",
              "body .c { color: #408080; font-style: italic } /* Comment */\n",
              "body .err { border: 1px solid #FF0000 } /* Error */\n",
              "body .k { color: #008000; font-weight: bold } /* Keyword */\n",
              "body .o { color: #666666 } /* Operator */\n",
              "body .ch { color: #408080; font-style: italic } /* Comment.Hashbang */\n",
              "body .cm { color: #408080; font-style: italic } /* Comment.Multiline */\n",
              "body .cp { color: #BC7A00 } /* Comment.Preproc */\n",
              "body .cpf { color: #408080; font-style: italic } /* Comment.PreprocFile */\n",
              "body .c1 { color: #408080; font-style: italic } /* Comment.Single */\n",
              "body .cs { color: #408080; font-style: italic } /* Comment.Special */\n",
              "body .gd { color: #A00000 } /* Generic.Deleted */\n",
              "body .ge { font-style: italic } /* Generic.Emph */\n",
              "body .gr { color: #FF0000 } /* Generic.Error */\n",
              "body .gh { color: #000080; font-weight: bold } /* Generic.Heading */\n",
              "body .gi { color: #00A000 } /* Generic.Inserted */\n",
              "body .go { color: #888888 } /* Generic.Output */\n",
              "body .gp { color: #000080; font-weight: bold } /* Generic.Prompt */\n",
              "body .gs { font-weight: bold } /* Generic.Strong */\n",
              "body .gu { color: #800080; font-weight: bold } /* Generic.Subheading */\n",
              "body .gt { color: #0044DD } /* Generic.Traceback */\n",
              "body .kc { color: #008000; font-weight: bold } /* Keyword.Constant */\n",
              "body .kd { color: #008000; font-weight: bold } /* Keyword.Declaration */\n",
              "body .kn { color: #008000; font-weight: bold } /* Keyword.Namespace */\n",
              "body .kp { color: #008000 } /* Keyword.Pseudo */\n",
              "body .kr { color: #008000; font-weight: bold } /* Keyword.Reserved */\n",
              "body .kt { color: #B00040 } /* Keyword.Type */\n",
              "body .m { color: #666666 } /* Literal.Number */\n",
              "body .s { color: #BA2121 } /* Literal.String */\n",
              "body .na { color: #7D9029 } /* Name.Attribute */\n",
              "body .nb { color: #008000 } /* Name.Builtin */\n",
              "body .nc { color: #0000FF; font-weight: bold } /* Name.Class */\n",
              "body .no { color: #880000 } /* Name.Constant */\n",
              "body .nd { color: #AA22FF } /* Name.Decorator */\n",
              "body .ni { color: #999999; font-weight: bold } /* Name.Entity */\n",
              "body .ne { color: #D2413A; font-weight: bold } /* Name.Exception */\n",
              "body .nf { color: #0000FF } /* Name.Function */\n",
              "body .nl { color: #A0A000 } /* Name.Label */\n",
              "body .nn { color: #0000FF; font-weight: bold } /* Name.Namespace */\n",
              "body .nt { color: #008000; font-weight: bold } /* Name.Tag */\n",
              "body .nv { color: #19177C } /* Name.Variable */\n",
              "body .ow { color: #AA22FF; font-weight: bold } /* Operator.Word */\n",
              "body .w { color: #bbbbbb } /* Text.Whitespace */\n",
              "body .mb { color: #666666 } /* Literal.Number.Bin */\n",
              "body .mf { color: #666666 } /* Literal.Number.Float */\n",
              "body .mh { color: #666666 } /* Literal.Number.Hex */\n",
              "body .mi { color: #666666 } /* Literal.Number.Integer */\n",
              "body .mo { color: #666666 } /* Literal.Number.Oct */\n",
              "body .sb { color: #BA2121 } /* Literal.String.Backtick */\n",
              "body .sc { color: #BA2121 } /* Literal.String.Char */\n",
              "body .sd { color: #BA2121; font-style: italic } /* Literal.String.Doc */\n",
              "body .s2 { color: #BA2121 } /* Literal.String.Double */\n",
              "body .se { color: #BB6622; font-weight: bold } /* Literal.String.Escape */\n",
              "body .sh { color: #BA2121 } /* Literal.String.Heredoc */\n",
              "body .si { color: #BB6688; font-weight: bold } /* Literal.String.Interpol */\n",
              "body .sx { color: #008000 } /* Literal.String.Other */\n",
              "body .sr { color: #BB6688 } /* Literal.String.Regex */\n",
              "body .s1 { color: #BA2121 } /* Literal.String.Single */\n",
              "body .ss { color: #19177C } /* Literal.String.Symbol */\n",
              "body .bp { color: #008000 } /* Name.Builtin.Pseudo */\n",
              "body .vc { color: #19177C } /* Name.Variable.Class */\n",
              "body .vg { color: #19177C } /* Name.Variable.Global */\n",
              "body .vi { color: #19177C } /* Name.Variable.Instance */\n",
              "body .il { color: #666666 } /* Literal.Number.Integer.Long */\n",
              "\n",
              "  </style>\n",
              "</head>\n",
              "<body>\n",
              "<h2></h2>\n",
              "\n",
              "<div class=\"highlight\"><pre><span></span><span class=\"k\">def</span> <span class=\"nf\">distribute_and_over_or</span><span class=\"p\">(</span><span class=\"n\">s</span><span class=\"p\">):</span>\n",
              "    <span class=\"sd\">&quot;&quot;&quot;Given a sentence s consisting of conjunctions and disjunctions</span>\n",
              "<span class=\"sd\">    of literals, return an equivalent sentence in CNF.</span>\n",
              "<span class=\"sd\">    &gt;&gt;&gt; distribute_and_over_or((A &amp; B) | C)</span>\n",
              "<span class=\"sd\">    ((A | C) &amp; (B | C))</span>\n",
              "<span class=\"sd\">    &quot;&quot;&quot;</span>\n",
              "    <span class=\"n\">s</span> <span class=\"o\">=</span> <span class=\"n\">expr</span><span class=\"p\">(</span><span class=\"n\">s</span><span class=\"p\">)</span>\n",
              "    <span class=\"k\">if</span> <span class=\"n\">s</span><span class=\"o\">.</span><span class=\"n\">op</span> <span class=\"o\">==</span> <span class=\"s1\">&#39;|&#39;</span><span class=\"p\">:</span>\n",
              "        <span class=\"n\">s</span> <span class=\"o\">=</span> <span class=\"n\">associate</span><span class=\"p\">(</span><span class=\"s1\">&#39;|&#39;</span><span class=\"p\">,</span> <span class=\"n\">s</span><span class=\"o\">.</span><span class=\"n\">args</span><span class=\"p\">)</span>\n",
              "        <span class=\"k\">if</span> <span class=\"n\">s</span><span class=\"o\">.</span><span class=\"n\">op</span> <span class=\"o\">!=</span> <span class=\"s1\">&#39;|&#39;</span><span class=\"p\">:</span>\n",
              "            <span class=\"k\">return</span> <span class=\"n\">distribute_and_over_or</span><span class=\"p\">(</span><span class=\"n\">s</span><span class=\"p\">)</span>\n",
              "        <span class=\"k\">if</span> <span class=\"nb\">len</span><span class=\"p\">(</span><span class=\"n\">s</span><span class=\"o\">.</span><span class=\"n\">args</span><span class=\"p\">)</span> <span class=\"o\">==</span> <span class=\"mi\">0</span><span class=\"p\">:</span>\n",
              "            <span class=\"k\">return</span> <span class=\"bp\">False</span>\n",
              "        <span class=\"k\">if</span> <span class=\"nb\">len</span><span class=\"p\">(</span><span class=\"n\">s</span><span class=\"o\">.</span><span class=\"n\">args</span><span class=\"p\">)</span> <span class=\"o\">==</span> <span class=\"mi\">1</span><span class=\"p\">:</span>\n",
              "            <span class=\"k\">return</span> <span class=\"n\">distribute_and_over_or</span><span class=\"p\">(</span><span class=\"n\">s</span><span class=\"o\">.</span><span class=\"n\">args</span><span class=\"p\">[</span><span class=\"mi\">0</span><span class=\"p\">])</span>\n",
              "        <span class=\"n\">conj</span> <span class=\"o\">=</span> <span class=\"n\">first</span><span class=\"p\">(</span><span class=\"n\">arg</span> <span class=\"k\">for</span> <span class=\"n\">arg</span> <span class=\"ow\">in</span> <span class=\"n\">s</span><span class=\"o\">.</span><span class=\"n\">args</span> <span class=\"k\">if</span> <span class=\"n\">arg</span><span class=\"o\">.</span><span class=\"n\">op</span> <span class=\"o\">==</span> <span class=\"s1\">&#39;&amp;&#39;</span><span class=\"p\">)</span>\n",
              "        <span class=\"k\">if</span> <span class=\"ow\">not</span> <span class=\"n\">conj</span><span class=\"p\">:</span>\n",
              "            <span class=\"k\">return</span> <span class=\"n\">s</span>\n",
              "        <span class=\"n\">others</span> <span class=\"o\">=</span> <span class=\"p\">[</span><span class=\"n\">a</span> <span class=\"k\">for</span> <span class=\"n\">a</span> <span class=\"ow\">in</span> <span class=\"n\">s</span><span class=\"o\">.</span><span class=\"n\">args</span> <span class=\"k\">if</span> <span class=\"n\">a</span> <span class=\"ow\">is</span> <span class=\"ow\">not</span> <span class=\"n\">conj</span><span class=\"p\">]</span>\n",
              "        <span class=\"n\">rest</span> <span class=\"o\">=</span> <span class=\"n\">associate</span><span class=\"p\">(</span><span class=\"s1\">&#39;|&#39;</span><span class=\"p\">,</span> <span class=\"n\">others</span><span class=\"p\">)</span>\n",
              "        <span class=\"k\">return</span> <span class=\"n\">associate</span><span class=\"p\">(</span><span class=\"s1\">&#39;&amp;&#39;</span><span class=\"p\">,</span> <span class=\"p\">[</span><span class=\"n\">distribute_and_over_or</span><span class=\"p\">(</span><span class=\"n\">c</span> <span class=\"o\">|</span> <span class=\"n\">rest</span><span class=\"p\">)</span>\n",
              "                               <span class=\"k\">for</span> <span class=\"n\">c</span> <span class=\"ow\">in</span> <span class=\"n\">conj</span><span class=\"o\">.</span><span class=\"n\">args</span><span class=\"p\">])</span>\n",
              "    <span class=\"k\">elif</span> <span class=\"n\">s</span><span class=\"o\">.</span><span class=\"n\">op</span> <span class=\"o\">==</span> <span class=\"s1\">&#39;&amp;&#39;</span><span class=\"p\">:</span>\n",
              "        <span class=\"k\">return</span> <span class=\"n\">associate</span><span class=\"p\">(</span><span class=\"s1\">&#39;&amp;&#39;</span><span class=\"p\">,</span> <span class=\"nb\">list</span><span class=\"p\">(</span><span class=\"nb\">map</span><span class=\"p\">(</span><span class=\"n\">distribute_and_over_or</span><span class=\"p\">,</span> <span class=\"n\">s</span><span class=\"o\">.</span><span class=\"n\">args</span><span class=\"p\">)))</span>\n",
              "    <span class=\"k\">else</span><span class=\"p\">:</span>\n",
              "        <span class=\"k\">return</span> <span class=\"n\">s</span>\n",
              "</pre></div>\n",
              "</body>\n",
              "</html>\n"
            ],
            "text/plain": [
              "<IPython.core.display.HTML object>"
            ]
          },
          "metadata": {
            "tags": []
          }
        }
      ]
    },
    {
      "metadata": {
        "id": "z0ISFUvnWHj3",
        "colab_type": "text"
      },
      "cell_type": "markdown",
      "source": [
        "Let's convert some sentences to see how it works\n"
      ]
    },
    {
      "metadata": {
        "id": "Lzyc7ao6WHj4",
        "colab_type": "code",
        "outputId": "da6a4f2e-dde9-4ff2-8c23-d31ef1cb94be",
        "colab": {
          "base_uri": "https://localhost:8080/",
          "height": 0
        }
      },
      "cell_type": "code",
      "source": [
        "A, B, C, D = expr('A, B, C, D')\n",
        "to_cnf(A |'<=>'| B)"
      ],
      "execution_count": 33,
      "outputs": [
        {
          "output_type": "execute_result",
          "data": {
            "text/plain": [
              "((A | ~B) & (B | ~A))"
            ]
          },
          "metadata": {
            "tags": []
          },
          "execution_count": 33
        }
      ]
    },
    {
      "metadata": {
        "id": "DC3PcGoeWHj6",
        "colab_type": "code",
        "outputId": "a5bfd2eb-a3a1-42ae-d263-dac3984f69b0",
        "colab": {
          "base_uri": "https://localhost:8080/",
          "height": 0
        }
      },
      "cell_type": "code",
      "source": [
        "to_cnf(A |'<=>'| (B & C))"
      ],
      "execution_count": 34,
      "outputs": [
        {
          "output_type": "execute_result",
          "data": {
            "text/plain": [
              "((A | ~B | ~C) & (B | ~A) & (C | ~A))"
            ]
          },
          "metadata": {
            "tags": []
          },
          "execution_count": 34
        }
      ]
    },
    {
      "metadata": {
        "id": "LLz8LpNMWHj-",
        "colab_type": "code",
        "outputId": "fd1b33e9-6ceb-46f1-9e80-877a500f76c4",
        "colab": {
          "base_uri": "https://localhost:8080/",
          "height": 0
        }
      },
      "cell_type": "code",
      "source": [
        "to_cnf(A & (B | (C & D)))"
      ],
      "execution_count": 35,
      "outputs": [
        {
          "output_type": "execute_result",
          "data": {
            "text/plain": [
              "(A & (C | B) & (D | B))"
            ]
          },
          "metadata": {
            "tags": []
          },
          "execution_count": 35
        }
      ]
    },
    {
      "metadata": {
        "id": "K5TLlkdMWHkA",
        "colab_type": "code",
        "outputId": "94c257a9-d20c-42c9-9bdc-a5f50ff887e0",
        "colab": {
          "base_uri": "https://localhost:8080/",
          "height": 0
        }
      },
      "cell_type": "code",
      "source": [
        "to_cnf((A |'<=>'| ~B) |'==>'| (C | ~D))"
      ],
      "execution_count": 36,
      "outputs": [
        {
          "output_type": "execute_result",
          "data": {
            "text/plain": [
              "((B | ~A | C | ~D) & (A | ~A | C | ~D) & (B | ~B | C | ~D) & (A | ~B | C | ~D))"
            ]
          },
          "metadata": {
            "tags": []
          },
          "execution_count": 36
        }
      ]
    },
    {
      "metadata": {
        "id": "T0oM_6tdWHkC",
        "colab_type": "text"
      },
      "cell_type": "markdown",
      "source": [
        "Coming back to our resolution problem, we can see how the `to_cnf` function is utilized here"
      ]
    },
    {
      "metadata": {
        "id": "aPie2x9CWHkD",
        "colab_type": "code",
        "outputId": "584709e7-386d-41fe-c52b-3da292dacfa4",
        "colab": {
          "base_uri": "https://localhost:8080/",
          "height": 0
        }
      },
      "cell_type": "code",
      "source": [
        "psource(pl_resolution)"
      ],
      "execution_count": 37,
      "outputs": [
        {
          "output_type": "display_data",
          "data": {
            "text/html": [
              "<!DOCTYPE html PUBLIC \"-//W3C//DTD HTML 4.01//EN\"\n",
              "   \"http://www.w3.org/TR/html4/strict.dtd\">\n",
              "\n",
              "<html>\n",
              "<head>\n",
              "  <title></title>\n",
              "  <meta http-equiv=\"content-type\" content=\"text/html; charset=None\">\n",
              "  <style type=\"text/css\">\n",
              "td.linenos { background-color: #f0f0f0; padding-right: 10px; }\n",
              "span.lineno { background-color: #f0f0f0; padding: 0 5px 0 5px; }\n",
              "pre { line-height: 125%; }\n",
              "body .hll { background-color: #ffffcc }\n",
              "body  { background: #f8f8f8; }\n",
              "body .c { color: #408080; font-style: italic } /* Comment */\n",
              "body .err { border: 1px solid #FF0000 } /* Error */\n",
              "body .k { color: #008000; font-weight: bold } /* Keyword */\n",
              "body .o { color: #666666 } /* Operator */\n",
              "body .ch { color: #408080; font-style: italic } /* Comment.Hashbang */\n",
              "body .cm { color: #408080; font-style: italic } /* Comment.Multiline */\n",
              "body .cp { color: #BC7A00 } /* Comment.Preproc */\n",
              "body .cpf { color: #408080; font-style: italic } /* Comment.PreprocFile */\n",
              "body .c1 { color: #408080; font-style: italic } /* Comment.Single */\n",
              "body .cs { color: #408080; font-style: italic } /* Comment.Special */\n",
              "body .gd { color: #A00000 } /* Generic.Deleted */\n",
              "body .ge { font-style: italic } /* Generic.Emph */\n",
              "body .gr { color: #FF0000 } /* Generic.Error */\n",
              "body .gh { color: #000080; font-weight: bold } /* Generic.Heading */\n",
              "body .gi { color: #00A000 } /* Generic.Inserted */\n",
              "body .go { color: #888888 } /* Generic.Output */\n",
              "body .gp { color: #000080; font-weight: bold } /* Generic.Prompt */\n",
              "body .gs { font-weight: bold } /* Generic.Strong */\n",
              "body .gu { color: #800080; font-weight: bold } /* Generic.Subheading */\n",
              "body .gt { color: #0044DD } /* Generic.Traceback */\n",
              "body .kc { color: #008000; font-weight: bold } /* Keyword.Constant */\n",
              "body .kd { color: #008000; font-weight: bold } /* Keyword.Declaration */\n",
              "body .kn { color: #008000; font-weight: bold } /* Keyword.Namespace */\n",
              "body .kp { color: #008000 } /* Keyword.Pseudo */\n",
              "body .kr { color: #008000; font-weight: bold } /* Keyword.Reserved */\n",
              "body .kt { color: #B00040 } /* Keyword.Type */\n",
              "body .m { color: #666666 } /* Literal.Number */\n",
              "body .s { color: #BA2121 } /* Literal.String */\n",
              "body .na { color: #7D9029 } /* Name.Attribute */\n",
              "body .nb { color: #008000 } /* Name.Builtin */\n",
              "body .nc { color: #0000FF; font-weight: bold } /* Name.Class */\n",
              "body .no { color: #880000 } /* Name.Constant */\n",
              "body .nd { color: #AA22FF } /* Name.Decorator */\n",
              "body .ni { color: #999999; font-weight: bold } /* Name.Entity */\n",
              "body .ne { color: #D2413A; font-weight: bold } /* Name.Exception */\n",
              "body .nf { color: #0000FF } /* Name.Function */\n",
              "body .nl { color: #A0A000 } /* Name.Label */\n",
              "body .nn { color: #0000FF; font-weight: bold } /* Name.Namespace */\n",
              "body .nt { color: #008000; font-weight: bold } /* Name.Tag */\n",
              "body .nv { color: #19177C } /* Name.Variable */\n",
              "body .ow { color: #AA22FF; font-weight: bold } /* Operator.Word */\n",
              "body .w { color: #bbbbbb } /* Text.Whitespace */\n",
              "body .mb { color: #666666 } /* Literal.Number.Bin */\n",
              "body .mf { color: #666666 } /* Literal.Number.Float */\n",
              "body .mh { color: #666666 } /* Literal.Number.Hex */\n",
              "body .mi { color: #666666 } /* Literal.Number.Integer */\n",
              "body .mo { color: #666666 } /* Literal.Number.Oct */\n",
              "body .sb { color: #BA2121 } /* Literal.String.Backtick */\n",
              "body .sc { color: #BA2121 } /* Literal.String.Char */\n",
              "body .sd { color: #BA2121; font-style: italic } /* Literal.String.Doc */\n",
              "body .s2 { color: #BA2121 } /* Literal.String.Double */\n",
              "body .se { color: #BB6622; font-weight: bold } /* Literal.String.Escape */\n",
              "body .sh { color: #BA2121 } /* Literal.String.Heredoc */\n",
              "body .si { color: #BB6688; font-weight: bold } /* Literal.String.Interpol */\n",
              "body .sx { color: #008000 } /* Literal.String.Other */\n",
              "body .sr { color: #BB6688 } /* Literal.String.Regex */\n",
              "body .s1 { color: #BA2121 } /* Literal.String.Single */\n",
              "body .ss { color: #19177C } /* Literal.String.Symbol */\n",
              "body .bp { color: #008000 } /* Name.Builtin.Pseudo */\n",
              "body .vc { color: #19177C } /* Name.Variable.Class */\n",
              "body .vg { color: #19177C } /* Name.Variable.Global */\n",
              "body .vi { color: #19177C } /* Name.Variable.Instance */\n",
              "body .il { color: #666666 } /* Literal.Number.Integer.Long */\n",
              "\n",
              "  </style>\n",
              "</head>\n",
              "<body>\n",
              "<h2></h2>\n",
              "\n",
              "<div class=\"highlight\"><pre><span></span><span class=\"k\">def</span> <span class=\"nf\">pl_resolution</span><span class=\"p\">(</span><span class=\"n\">KB</span><span class=\"p\">,</span> <span class=\"n\">alpha</span><span class=\"p\">):</span>\n",
              "    <span class=\"sd\">&quot;&quot;&quot;Propositional-logic resolution: say if alpha follows from KB. [Figure 7.12]</span>\n",
              "<span class=\"sd\">    &gt;&gt;&gt; pl_resolution(horn_clauses_KB, A)</span>\n",
              "<span class=\"sd\">    True</span>\n",
              "<span class=\"sd\">    &quot;&quot;&quot;</span>\n",
              "    <span class=\"n\">clauses</span> <span class=\"o\">=</span> <span class=\"n\">KB</span><span class=\"o\">.</span><span class=\"n\">clauses</span> <span class=\"o\">+</span> <span class=\"n\">conjuncts</span><span class=\"p\">(</span><span class=\"n\">to_cnf</span><span class=\"p\">(</span><span class=\"o\">~</span><span class=\"n\">alpha</span><span class=\"p\">))</span>\n",
              "    <span class=\"n\">new</span> <span class=\"o\">=</span> <span class=\"nb\">set</span><span class=\"p\">()</span>\n",
              "    <span class=\"k\">while</span> <span class=\"bp\">True</span><span class=\"p\">:</span>\n",
              "        <span class=\"n\">n</span> <span class=\"o\">=</span> <span class=\"nb\">len</span><span class=\"p\">(</span><span class=\"n\">clauses</span><span class=\"p\">)</span>\n",
              "        <span class=\"n\">pairs</span> <span class=\"o\">=</span> <span class=\"p\">[(</span><span class=\"n\">clauses</span><span class=\"p\">[</span><span class=\"n\">i</span><span class=\"p\">],</span> <span class=\"n\">clauses</span><span class=\"p\">[</span><span class=\"n\">j</span><span class=\"p\">])</span>\n",
              "                 <span class=\"k\">for</span> <span class=\"n\">i</span> <span class=\"ow\">in</span> <span class=\"nb\">range</span><span class=\"p\">(</span><span class=\"n\">n</span><span class=\"p\">)</span> <span class=\"k\">for</span> <span class=\"n\">j</span> <span class=\"ow\">in</span> <span class=\"nb\">range</span><span class=\"p\">(</span><span class=\"n\">i</span><span class=\"o\">+</span><span class=\"mi\">1</span><span class=\"p\">,</span> <span class=\"n\">n</span><span class=\"p\">)]</span>\n",
              "        <span class=\"k\">for</span> <span class=\"p\">(</span><span class=\"n\">ci</span><span class=\"p\">,</span> <span class=\"n\">cj</span><span class=\"p\">)</span> <span class=\"ow\">in</span> <span class=\"n\">pairs</span><span class=\"p\">:</span>\n",
              "            <span class=\"n\">resolvents</span> <span class=\"o\">=</span> <span class=\"n\">pl_resolve</span><span class=\"p\">(</span><span class=\"n\">ci</span><span class=\"p\">,</span> <span class=\"n\">cj</span><span class=\"p\">)</span>\n",
              "            <span class=\"k\">if</span> <span class=\"bp\">False</span> <span class=\"ow\">in</span> <span class=\"n\">resolvents</span><span class=\"p\">:</span>\n",
              "                <span class=\"k\">return</span> <span class=\"bp\">True</span>\n",
              "            <span class=\"n\">new</span> <span class=\"o\">=</span> <span class=\"n\">new</span><span class=\"o\">.</span><span class=\"n\">union</span><span class=\"p\">(</span><span class=\"nb\">set</span><span class=\"p\">(</span><span class=\"n\">resolvents</span><span class=\"p\">))</span>\n",
              "        <span class=\"k\">if</span> <span class=\"n\">new</span><span class=\"o\">.</span><span class=\"n\">issubset</span><span class=\"p\">(</span><span class=\"nb\">set</span><span class=\"p\">(</span><span class=\"n\">clauses</span><span class=\"p\">)):</span>\n",
              "            <span class=\"k\">return</span> <span class=\"bp\">False</span>\n",
              "        <span class=\"k\">for</span> <span class=\"n\">c</span> <span class=\"ow\">in</span> <span class=\"n\">new</span><span class=\"p\">:</span>\n",
              "            <span class=\"k\">if</span> <span class=\"n\">c</span> <span class=\"ow\">not</span> <span class=\"ow\">in</span> <span class=\"n\">clauses</span><span class=\"p\">:</span>\n",
              "                <span class=\"n\">clauses</span><span class=\"o\">.</span><span class=\"n\">append</span><span class=\"p\">(</span><span class=\"n\">c</span><span class=\"p\">)</span>\n",
              "</pre></div>\n",
              "</body>\n",
              "</html>\n"
            ],
            "text/plain": [
              "<IPython.core.display.HTML object>"
            ]
          },
          "metadata": {
            "tags": []
          }
        }
      ]
    },
    {
      "metadata": {
        "id": "RYkReKzdWHkH",
        "colab_type": "code",
        "outputId": "30283626-f286-4610-d258-1b6abfa3a920",
        "colab": {
          "base_uri": "https://localhost:8080/",
          "height": 0
        }
      },
      "cell_type": "code",
      "source": [
        "pl_resolution(wumpus_kb, ~P11), pl_resolution(wumpus_kb, P11)"
      ],
      "execution_count": 38,
      "outputs": [
        {
          "output_type": "execute_result",
          "data": {
            "text/plain": [
              "(True, False)"
            ]
          },
          "metadata": {
            "tags": []
          },
          "execution_count": 38
        }
      ]
    },
    {
      "metadata": {
        "id": "YgJMVzYcWHkJ",
        "colab_type": "code",
        "outputId": "5bae452b-ebb1-472d-e57c-785c65d1e4e5",
        "colab": {
          "base_uri": "https://localhost:8080/",
          "height": 0
        }
      },
      "cell_type": "code",
      "source": [
        "pl_resolution(wumpus_kb, ~P22), pl_resolution(wumpus_kb, P22)"
      ],
      "execution_count": 39,
      "outputs": [
        {
          "output_type": "execute_result",
          "data": {
            "text/plain": [
              "(False, False)"
            ]
          },
          "metadata": {
            "tags": []
          },
          "execution_count": 39
        }
      ]
    },
    {
      "metadata": {
        "id": "6t4cxg15WHkL",
        "colab_type": "text"
      },
      "cell_type": "markdown",
      "source": [
        "### Forward and backward chaining\n",
        "Previously, we said we will look at two algorithms to check if a sentence is entailed by the `KB`. Here's a third one. \n",
        "The difference here is that our goal now is to determine if a knowledge base of definite clauses entails a single proposition symbol *q* - the query.\n",
        "There is a catch however - the knowledge base can only contain **Horn clauses**.\n",
        "<br>\n",
        "#### Horn Clauses\n",
        "Horn clauses can be defined as a *disjunction* of *literals* with **at most** one positive literal. \n",
        "<br>\n",
        "A Horn clause with exactly one positive literal is called a *definite clause*.\n",
        "<br>\n",
        "A Horn clause might look like \n",
        "<br>\n",
        "$\\neg a\\lor\\neg b\\lor\\neg c\\lor\\neg d... \\lor z$\n",
        "<br>\n",
        "This, coincidentally, is also a definite clause.\n",
        "<br>\n",
        "Using De Morgan's laws, the example above can be simplified to \n",
        "<br>\n",
        "$a\\land b\\land c\\land d ... \\implies z$\n",
        "<br>\n",
        "This seems like a logical representation of how humans process known data and facts. \n",
        "Assuming percepts `a`, `b`, `c`, `d` ... to be true simultaneously, we can infer `z` to also be true at that point in time. \n",
        "There are some interesting aspects of Horn clauses that make algorithmic inference or *resolution* easier.\n",
        "- Definite clauses can be written as implications:\n",
        "<br>\n",
        "The most important simplification a definite clause provides is that it can be written as an implication.\n",
        "The premise (or the knowledge that leads to the implication) is a conjunction of positive literals.\n",
        "The conclusion (the implied statement) is also a positive literal.\n",
        "The sentence thus becomes easier to understand.\n",
        "The premise and the conclusion are conventionally called the *body* and the *head* respectively.\n",
        "A single positive literal is called a *fact*.\n",
        "- Forward chaining and backward chaining can be used for inference from Horn clauses:\n",
        "<br>\n",
        "Forward chaining is semantically identical to `AND-OR-Graph-Search` from the chapter on search algorithms.\n",
        "Implementational details will be explained shortly.\n",
        "- Deciding entailment with Horn clauses is linear in size of the knowledge base:\n",
        "<br>\n",
        "Surprisingly, the forward and backward chaining algorithms traverse each element of the knowledge base at most once, greatly simplifying the problem.\n",
        "<br>\n",
        "<br>\n",
        "The function `pl_fc_entails` implements forward chaining to see if a knowledge base `KB` entails a symbol `q`.\n",
        "<br>\n",
        "Before we proceed further, note that `pl_fc_entails` doesn't use an ordinary `KB` instance. \n",
        "The knowledge base here is an instance of the `PropDefiniteKB` class, derived from the `PropKB` class, \n",
        "but modified to store definite clauses.\n",
        "<br>\n",
        "The main point of difference arises in the inclusion of a helper method to `PropDefiniteKB` that returns a list of clauses in KB that have a given symbol `p` in their premise."
      ]
    },
    {
      "metadata": {
        "id": "tnEDHMhTWHkM",
        "colab_type": "code",
        "outputId": "4a478836-1e18-480a-aa94-926632d0b7b6",
        "colab": {
          "base_uri": "https://localhost:8080/",
          "height": 0
        }
      },
      "cell_type": "code",
      "source": [
        "psource(PropDefiniteKB.clauses_with_premise)"
      ],
      "execution_count": 40,
      "outputs": [
        {
          "output_type": "display_data",
          "data": {
            "text/html": [
              "<!DOCTYPE html PUBLIC \"-//W3C//DTD HTML 4.01//EN\"\n",
              "   \"http://www.w3.org/TR/html4/strict.dtd\">\n",
              "\n",
              "<html>\n",
              "<head>\n",
              "  <title></title>\n",
              "  <meta http-equiv=\"content-type\" content=\"text/html; charset=None\">\n",
              "  <style type=\"text/css\">\n",
              "td.linenos { background-color: #f0f0f0; padding-right: 10px; }\n",
              "span.lineno { background-color: #f0f0f0; padding: 0 5px 0 5px; }\n",
              "pre { line-height: 125%; }\n",
              "body .hll { background-color: #ffffcc }\n",
              "body  { background: #f8f8f8; }\n",
              "body .c { color: #408080; font-style: italic } /* Comment */\n",
              "body .err { border: 1px solid #FF0000 } /* Error */\n",
              "body .k { color: #008000; font-weight: bold } /* Keyword */\n",
              "body .o { color: #666666 } /* Operator */\n",
              "body .ch { color: #408080; font-style: italic } /* Comment.Hashbang */\n",
              "body .cm { color: #408080; font-style: italic } /* Comment.Multiline */\n",
              "body .cp { color: #BC7A00 } /* Comment.Preproc */\n",
              "body .cpf { color: #408080; font-style: italic } /* Comment.PreprocFile */\n",
              "body .c1 { color: #408080; font-style: italic } /* Comment.Single */\n",
              "body .cs { color: #408080; font-style: italic } /* Comment.Special */\n",
              "body .gd { color: #A00000 } /* Generic.Deleted */\n",
              "body .ge { font-style: italic } /* Generic.Emph */\n",
              "body .gr { color: #FF0000 } /* Generic.Error */\n",
              "body .gh { color: #000080; font-weight: bold } /* Generic.Heading */\n",
              "body .gi { color: #00A000 } /* Generic.Inserted */\n",
              "body .go { color: #888888 } /* Generic.Output */\n",
              "body .gp { color: #000080; font-weight: bold } /* Generic.Prompt */\n",
              "body .gs { font-weight: bold } /* Generic.Strong */\n",
              "body .gu { color: #800080; font-weight: bold } /* Generic.Subheading */\n",
              "body .gt { color: #0044DD } /* Generic.Traceback */\n",
              "body .kc { color: #008000; font-weight: bold } /* Keyword.Constant */\n",
              "body .kd { color: #008000; font-weight: bold } /* Keyword.Declaration */\n",
              "body .kn { color: #008000; font-weight: bold } /* Keyword.Namespace */\n",
              "body .kp { color: #008000 } /* Keyword.Pseudo */\n",
              "body .kr { color: #008000; font-weight: bold } /* Keyword.Reserved */\n",
              "body .kt { color: #B00040 } /* Keyword.Type */\n",
              "body .m { color: #666666 } /* Literal.Number */\n",
              "body .s { color: #BA2121 } /* Literal.String */\n",
              "body .na { color: #7D9029 } /* Name.Attribute */\n",
              "body .nb { color: #008000 } /* Name.Builtin */\n",
              "body .nc { color: #0000FF; font-weight: bold } /* Name.Class */\n",
              "body .no { color: #880000 } /* Name.Constant */\n",
              "body .nd { color: #AA22FF } /* Name.Decorator */\n",
              "body .ni { color: #999999; font-weight: bold } /* Name.Entity */\n",
              "body .ne { color: #D2413A; font-weight: bold } /* Name.Exception */\n",
              "body .nf { color: #0000FF } /* Name.Function */\n",
              "body .nl { color: #A0A000 } /* Name.Label */\n",
              "body .nn { color: #0000FF; font-weight: bold } /* Name.Namespace */\n",
              "body .nt { color: #008000; font-weight: bold } /* Name.Tag */\n",
              "body .nv { color: #19177C } /* Name.Variable */\n",
              "body .ow { color: #AA22FF; font-weight: bold } /* Operator.Word */\n",
              "body .w { color: #bbbbbb } /* Text.Whitespace */\n",
              "body .mb { color: #666666 } /* Literal.Number.Bin */\n",
              "body .mf { color: #666666 } /* Literal.Number.Float */\n",
              "body .mh { color: #666666 } /* Literal.Number.Hex */\n",
              "body .mi { color: #666666 } /* Literal.Number.Integer */\n",
              "body .mo { color: #666666 } /* Literal.Number.Oct */\n",
              "body .sb { color: #BA2121 } /* Literal.String.Backtick */\n",
              "body .sc { color: #BA2121 } /* Literal.String.Char */\n",
              "body .sd { color: #BA2121; font-style: italic } /* Literal.String.Doc */\n",
              "body .s2 { color: #BA2121 } /* Literal.String.Double */\n",
              "body .se { color: #BB6622; font-weight: bold } /* Literal.String.Escape */\n",
              "body .sh { color: #BA2121 } /* Literal.String.Heredoc */\n",
              "body .si { color: #BB6688; font-weight: bold } /* Literal.String.Interpol */\n",
              "body .sx { color: #008000 } /* Literal.String.Other */\n",
              "body .sr { color: #BB6688 } /* Literal.String.Regex */\n",
              "body .s1 { color: #BA2121 } /* Literal.String.Single */\n",
              "body .ss { color: #19177C } /* Literal.String.Symbol */\n",
              "body .bp { color: #008000 } /* Name.Builtin.Pseudo */\n",
              "body .vc { color: #19177C } /* Name.Variable.Class */\n",
              "body .vg { color: #19177C } /* Name.Variable.Global */\n",
              "body .vi { color: #19177C } /* Name.Variable.Instance */\n",
              "body .il { color: #666666 } /* Literal.Number.Integer.Long */\n",
              "\n",
              "  </style>\n",
              "</head>\n",
              "<body>\n",
              "<h2></h2>\n",
              "\n",
              "<div class=\"highlight\"><pre><span></span>    <span class=\"k\">def</span> <span class=\"nf\">clauses_with_premise</span><span class=\"p\">(</span><span class=\"bp\">self</span><span class=\"p\">,</span> <span class=\"n\">p</span><span class=\"p\">):</span>\n",
              "        <span class=\"sd\">&quot;&quot;&quot;Return a list of the clauses in KB that have p in their premise.</span>\n",
              "<span class=\"sd\">        This could be cached away for O(1) speed, but we&#39;ll recompute it.&quot;&quot;&quot;</span>\n",
              "        <span class=\"k\">return</span> <span class=\"p\">[</span><span class=\"n\">c</span> <span class=\"k\">for</span> <span class=\"n\">c</span> <span class=\"ow\">in</span> <span class=\"bp\">self</span><span class=\"o\">.</span><span class=\"n\">clauses</span>\n",
              "                <span class=\"k\">if</span> <span class=\"n\">c</span><span class=\"o\">.</span><span class=\"n\">op</span> <span class=\"o\">==</span> <span class=\"s1\">&#39;==&gt;&#39;</span> <span class=\"ow\">and</span> <span class=\"n\">p</span> <span class=\"ow\">in</span> <span class=\"n\">conjuncts</span><span class=\"p\">(</span><span class=\"n\">c</span><span class=\"o\">.</span><span class=\"n\">args</span><span class=\"p\">[</span><span class=\"mi\">0</span><span class=\"p\">])]</span>\n",
              "</pre></div>\n",
              "</body>\n",
              "</html>\n"
            ],
            "text/plain": [
              "<IPython.core.display.HTML object>"
            ]
          },
          "metadata": {
            "tags": []
          }
        }
      ]
    },
    {
      "metadata": {
        "id": "lbdHTk7aWHkM",
        "colab_type": "text"
      },
      "cell_type": "markdown",
      "source": [
        "Let's now have a look at the `pl_fc_entails` algorithm."
      ]
    },
    {
      "metadata": {
        "id": "itWV77dMWHkO",
        "colab_type": "code",
        "outputId": "c3334754-f331-4afb-acd9-24d41ffe1bf5",
        "colab": {
          "base_uri": "https://localhost:8080/",
          "height": 0
        }
      },
      "cell_type": "code",
      "source": [
        "psource(pl_fc_entails)"
      ],
      "execution_count": 41,
      "outputs": [
        {
          "output_type": "display_data",
          "data": {
            "text/html": [
              "<!DOCTYPE html PUBLIC \"-//W3C//DTD HTML 4.01//EN\"\n",
              "   \"http://www.w3.org/TR/html4/strict.dtd\">\n",
              "\n",
              "<html>\n",
              "<head>\n",
              "  <title></title>\n",
              "  <meta http-equiv=\"content-type\" content=\"text/html; charset=None\">\n",
              "  <style type=\"text/css\">\n",
              "td.linenos { background-color: #f0f0f0; padding-right: 10px; }\n",
              "span.lineno { background-color: #f0f0f0; padding: 0 5px 0 5px; }\n",
              "pre { line-height: 125%; }\n",
              "body .hll { background-color: #ffffcc }\n",
              "body  { background: #f8f8f8; }\n",
              "body .c { color: #408080; font-style: italic } /* Comment */\n",
              "body .err { border: 1px solid #FF0000 } /* Error */\n",
              "body .k { color: #008000; font-weight: bold } /* Keyword */\n",
              "body .o { color: #666666 } /* Operator */\n",
              "body .ch { color: #408080; font-style: italic } /* Comment.Hashbang */\n",
              "body .cm { color: #408080; font-style: italic } /* Comment.Multiline */\n",
              "body .cp { color: #BC7A00 } /* Comment.Preproc */\n",
              "body .cpf { color: #408080; font-style: italic } /* Comment.PreprocFile */\n",
              "body .c1 { color: #408080; font-style: italic } /* Comment.Single */\n",
              "body .cs { color: #408080; font-style: italic } /* Comment.Special */\n",
              "body .gd { color: #A00000 } /* Generic.Deleted */\n",
              "body .ge { font-style: italic } /* Generic.Emph */\n",
              "body .gr { color: #FF0000 } /* Generic.Error */\n",
              "body .gh { color: #000080; font-weight: bold } /* Generic.Heading */\n",
              "body .gi { color: #00A000 } /* Generic.Inserted */\n",
              "body .go { color: #888888 } /* Generic.Output */\n",
              "body .gp { color: #000080; font-weight: bold } /* Generic.Prompt */\n",
              "body .gs { font-weight: bold } /* Generic.Strong */\n",
              "body .gu { color: #800080; font-weight: bold } /* Generic.Subheading */\n",
              "body .gt { color: #0044DD } /* Generic.Traceback */\n",
              "body .kc { color: #008000; font-weight: bold } /* Keyword.Constant */\n",
              "body .kd { color: #008000; font-weight: bold } /* Keyword.Declaration */\n",
              "body .kn { color: #008000; font-weight: bold } /* Keyword.Namespace */\n",
              "body .kp { color: #008000 } /* Keyword.Pseudo */\n",
              "body .kr { color: #008000; font-weight: bold } /* Keyword.Reserved */\n",
              "body .kt { color: #B00040 } /* Keyword.Type */\n",
              "body .m { color: #666666 } /* Literal.Number */\n",
              "body .s { color: #BA2121 } /* Literal.String */\n",
              "body .na { color: #7D9029 } /* Name.Attribute */\n",
              "body .nb { color: #008000 } /* Name.Builtin */\n",
              "body .nc { color: #0000FF; font-weight: bold } /* Name.Class */\n",
              "body .no { color: #880000 } /* Name.Constant */\n",
              "body .nd { color: #AA22FF } /* Name.Decorator */\n",
              "body .ni { color: #999999; font-weight: bold } /* Name.Entity */\n",
              "body .ne { color: #D2413A; font-weight: bold } /* Name.Exception */\n",
              "body .nf { color: #0000FF } /* Name.Function */\n",
              "body .nl { color: #A0A000 } /* Name.Label */\n",
              "body .nn { color: #0000FF; font-weight: bold } /* Name.Namespace */\n",
              "body .nt { color: #008000; font-weight: bold } /* Name.Tag */\n",
              "body .nv { color: #19177C } /* Name.Variable */\n",
              "body .ow { color: #AA22FF; font-weight: bold } /* Operator.Word */\n",
              "body .w { color: #bbbbbb } /* Text.Whitespace */\n",
              "body .mb { color: #666666 } /* Literal.Number.Bin */\n",
              "body .mf { color: #666666 } /* Literal.Number.Float */\n",
              "body .mh { color: #666666 } /* Literal.Number.Hex */\n",
              "body .mi { color: #666666 } /* Literal.Number.Integer */\n",
              "body .mo { color: #666666 } /* Literal.Number.Oct */\n",
              "body .sb { color: #BA2121 } /* Literal.String.Backtick */\n",
              "body .sc { color: #BA2121 } /* Literal.String.Char */\n",
              "body .sd { color: #BA2121; font-style: italic } /* Literal.String.Doc */\n",
              "body .s2 { color: #BA2121 } /* Literal.String.Double */\n",
              "body .se { color: #BB6622; font-weight: bold } /* Literal.String.Escape */\n",
              "body .sh { color: #BA2121 } /* Literal.String.Heredoc */\n",
              "body .si { color: #BB6688; font-weight: bold } /* Literal.String.Interpol */\n",
              "body .sx { color: #008000 } /* Literal.String.Other */\n",
              "body .sr { color: #BB6688 } /* Literal.String.Regex */\n",
              "body .s1 { color: #BA2121 } /* Literal.String.Single */\n",
              "body .ss { color: #19177C } /* Literal.String.Symbol */\n",
              "body .bp { color: #008000 } /* Name.Builtin.Pseudo */\n",
              "body .vc { color: #19177C } /* Name.Variable.Class */\n",
              "body .vg { color: #19177C } /* Name.Variable.Global */\n",
              "body .vi { color: #19177C } /* Name.Variable.Instance */\n",
              "body .il { color: #666666 } /* Literal.Number.Integer.Long */\n",
              "\n",
              "  </style>\n",
              "</head>\n",
              "<body>\n",
              "<h2></h2>\n",
              "\n",
              "<div class=\"highlight\"><pre><span></span><span class=\"k\">def</span> <span class=\"nf\">pl_fc_entails</span><span class=\"p\">(</span><span class=\"n\">KB</span><span class=\"p\">,</span> <span class=\"n\">q</span><span class=\"p\">):</span>\n",
              "    <span class=\"sd\">&quot;&quot;&quot;Use forward chaining to see if a PropDefiniteKB entails symbol q.</span>\n",
              "<span class=\"sd\">    [Figure 7.15]</span>\n",
              "<span class=\"sd\">    &gt;&gt;&gt; pl_fc_entails(horn_clauses_KB, expr(&#39;Q&#39;))</span>\n",
              "<span class=\"sd\">    True</span>\n",
              "<span class=\"sd\">    &quot;&quot;&quot;</span>\n",
              "    <span class=\"n\">count</span> <span class=\"o\">=</span> <span class=\"p\">{</span><span class=\"n\">c</span><span class=\"p\">:</span> <span class=\"nb\">len</span><span class=\"p\">(</span><span class=\"n\">conjuncts</span><span class=\"p\">(</span><span class=\"n\">c</span><span class=\"o\">.</span><span class=\"n\">args</span><span class=\"p\">[</span><span class=\"mi\">0</span><span class=\"p\">]))</span>\n",
              "             <span class=\"k\">for</span> <span class=\"n\">c</span> <span class=\"ow\">in</span> <span class=\"n\">KB</span><span class=\"o\">.</span><span class=\"n\">clauses</span>\n",
              "             <span class=\"k\">if</span> <span class=\"n\">c</span><span class=\"o\">.</span><span class=\"n\">op</span> <span class=\"o\">==</span> <span class=\"s1\">&#39;==&gt;&#39;</span><span class=\"p\">}</span>\n",
              "    <span class=\"n\">inferred</span> <span class=\"o\">=</span> <span class=\"n\">defaultdict</span><span class=\"p\">(</span><span class=\"nb\">bool</span><span class=\"p\">)</span>\n",
              "    <span class=\"n\">agenda</span> <span class=\"o\">=</span> <span class=\"p\">[</span><span class=\"n\">s</span> <span class=\"k\">for</span> <span class=\"n\">s</span> <span class=\"ow\">in</span> <span class=\"n\">KB</span><span class=\"o\">.</span><span class=\"n\">clauses</span> <span class=\"k\">if</span> <span class=\"n\">is_prop_symbol</span><span class=\"p\">(</span><span class=\"n\">s</span><span class=\"o\">.</span><span class=\"n\">op</span><span class=\"p\">)]</span>\n",
              "    <span class=\"k\">while</span> <span class=\"n\">agenda</span><span class=\"p\">:</span>\n",
              "        <span class=\"n\">p</span> <span class=\"o\">=</span> <span class=\"n\">agenda</span><span class=\"o\">.</span><span class=\"n\">pop</span><span class=\"p\">()</span>\n",
              "        <span class=\"k\">if</span> <span class=\"n\">p</span> <span class=\"o\">==</span> <span class=\"n\">q</span><span class=\"p\">:</span>\n",
              "            <span class=\"k\">return</span> <span class=\"bp\">True</span>\n",
              "        <span class=\"k\">if</span> <span class=\"ow\">not</span> <span class=\"n\">inferred</span><span class=\"p\">[</span><span class=\"n\">p</span><span class=\"p\">]:</span>\n",
              "            <span class=\"n\">inferred</span><span class=\"p\">[</span><span class=\"n\">p</span><span class=\"p\">]</span> <span class=\"o\">=</span> <span class=\"bp\">True</span>\n",
              "            <span class=\"k\">for</span> <span class=\"n\">c</span> <span class=\"ow\">in</span> <span class=\"n\">KB</span><span class=\"o\">.</span><span class=\"n\">clauses_with_premise</span><span class=\"p\">(</span><span class=\"n\">p</span><span class=\"p\">):</span>\n",
              "                <span class=\"n\">count</span><span class=\"p\">[</span><span class=\"n\">c</span><span class=\"p\">]</span> <span class=\"o\">-=</span> <span class=\"mi\">1</span>\n",
              "                <span class=\"k\">if</span> <span class=\"n\">count</span><span class=\"p\">[</span><span class=\"n\">c</span><span class=\"p\">]</span> <span class=\"o\">==</span> <span class=\"mi\">0</span><span class=\"p\">:</span>\n",
              "                    <span class=\"n\">agenda</span><span class=\"o\">.</span><span class=\"n\">append</span><span class=\"p\">(</span><span class=\"n\">c</span><span class=\"o\">.</span><span class=\"n\">args</span><span class=\"p\">[</span><span class=\"mi\">1</span><span class=\"p\">])</span>\n",
              "    <span class=\"k\">return</span> <span class=\"bp\">False</span>\n",
              "</pre></div>\n",
              "</body>\n",
              "</html>\n"
            ],
            "text/plain": [
              "<IPython.core.display.HTML object>"
            ]
          },
          "metadata": {
            "tags": []
          }
        }
      ]
    },
    {
      "metadata": {
        "id": "YDUTOoKhWHkQ",
        "colab_type": "text"
      },
      "cell_type": "markdown",
      "source": [
        "The function accepts a knowledge base `KB` (an instance of `PropDefiniteKB`) and a query `q` as inputs.\n",
        "<br>\n",
        "<br>\n",
        "`count` initially stores the number of symbols in the premise of each sentence in the knowledge base.\n",
        "<br>\n",
        "The `conjuncts` helper function separates a given sentence at conjunctions.\n",
        "<br>\n",
        "`inferred` is initialized as a *boolean* defaultdict. \n",
        "This will be used later to check if we have inferred all premises of each clause of the agenda.\n",
        "<br>\n",
        "`agenda` initially stores a list of clauses that the knowledge base knows to be true.\n",
        "The `is_prop_symbol` helper function checks if the given symbol is a valid propositional logic symbol.\n",
        "<br>\n",
        "<br>\n",
        "We now iterate through `agenda`, popping a symbol `p` on each iteration.\n",
        "If the query `q` is the same as `p`, we know that entailment holds.\n",
        "<br>\n",
        "The agenda is processed, reducing `count` by one for each implication with a premise `p`.\n",
        "A conclusion is added to the agenda when `count` reaches zero. This means we know all the premises of that particular implication to be true.\n",
        "<br>\n",
        "`clauses_with_premise` is a helpful method of the `PropKB` class.\n",
        "It returns a list of clauses in the knowledge base that have `p` in their premise.\n",
        "<br>\n",
        "<br>\n",
        "Now that we have an idea of how this function works, let's see a few examples of its usage, but we first need to define our knowledge base. We assume we know the following clauses to be true."
      ]
    },
    {
      "metadata": {
        "id": "hvqe0xk5WHkQ",
        "colab_type": "code",
        "colab": {}
      },
      "cell_type": "code",
      "source": [
        "clauses = ['(B & F)==>E', \n",
        "           '(A & E & F)==>G', \n",
        "           '(B & C)==>F', \n",
        "           '(A & B)==>D', \n",
        "           '(E & F)==>H', \n",
        "           '(H & I)==>J',\n",
        "           'A', \n",
        "           'B', \n",
        "           'C']"
      ],
      "execution_count": 0,
      "outputs": []
    },
    {
      "metadata": {
        "id": "JN3-KzSYWHkR",
        "colab_type": "text"
      },
      "cell_type": "markdown",
      "source": [
        "We will now `tell` this information to our knowledge base."
      ]
    },
    {
      "metadata": {
        "id": "lQ2IwLfHWHkR",
        "colab_type": "code",
        "colab": {}
      },
      "cell_type": "code",
      "source": [
        "definite_clauses_KB = PropDefiniteKB()\n",
        "for clause in clauses:\n",
        "    definite_clauses_KB.tell(expr(clause))"
      ],
      "execution_count": 0,
      "outputs": []
    },
    {
      "metadata": {
        "id": "QUM0kNrQWHkT",
        "colab_type": "text"
      },
      "cell_type": "markdown",
      "source": [
        "We can now check if our knowledge base entails the following queries."
      ]
    },
    {
      "metadata": {
        "id": "UN4vD3BfWHkT",
        "colab_type": "code",
        "outputId": "a56d8f32-11f9-4a49-be52-046fe82331c5",
        "colab": {
          "base_uri": "https://localhost:8080/",
          "height": 0
        }
      },
      "cell_type": "code",
      "source": [
        "pl_fc_entails(definite_clauses_KB, expr('G'))"
      ],
      "execution_count": 44,
      "outputs": [
        {
          "output_type": "execute_result",
          "data": {
            "text/plain": [
              "True"
            ]
          },
          "metadata": {
            "tags": []
          },
          "execution_count": 44
        }
      ]
    },
    {
      "metadata": {
        "id": "e6GdyvADWHkW",
        "colab_type": "code",
        "outputId": "dd80ff68-3672-48a2-fbcb-bcc0c99751ca",
        "colab": {
          "base_uri": "https://localhost:8080/",
          "height": 0
        }
      },
      "cell_type": "code",
      "source": [
        "pl_fc_entails(definite_clauses_KB, expr('H'))"
      ],
      "execution_count": 45,
      "outputs": [
        {
          "output_type": "execute_result",
          "data": {
            "text/plain": [
              "True"
            ]
          },
          "metadata": {
            "tags": []
          },
          "execution_count": 45
        }
      ]
    },
    {
      "metadata": {
        "id": "Pl6eMxMzWHkX",
        "colab_type": "code",
        "outputId": "0fc2bce5-bca0-432a-ebdc-6524ffc9efd5",
        "colab": {
          "base_uri": "https://localhost:8080/",
          "height": 0
        }
      },
      "cell_type": "code",
      "source": [
        "pl_fc_entails(definite_clauses_KB, expr('I'))"
      ],
      "execution_count": 46,
      "outputs": [
        {
          "output_type": "execute_result",
          "data": {
            "text/plain": [
              "False"
            ]
          },
          "metadata": {
            "tags": []
          },
          "execution_count": 46
        }
      ]
    },
    {
      "metadata": {
        "id": "7I3Jt-SRWHkZ",
        "colab_type": "code",
        "outputId": "a234f96a-22f7-4816-ffaa-8d4056283aba",
        "colab": {
          "base_uri": "https://localhost:8080/",
          "height": 0
        }
      },
      "cell_type": "code",
      "source": [
        "pl_fc_entails(definite_clauses_KB, expr('J'))"
      ],
      "execution_count": 47,
      "outputs": [
        {
          "output_type": "execute_result",
          "data": {
            "text/plain": [
              "False"
            ]
          },
          "metadata": {
            "tags": []
          },
          "execution_count": 47
        }
      ]
    },
    {
      "metadata": {
        "id": "dp3gxHmSWHkb",
        "colab_type": "text"
      },
      "cell_type": "markdown",
      "source": [
        "### Effective Propositional Model Checking\n",
        "\n",
        "The previous segments elucidate the algorithmic procedure for model checking. \n",
        "In this segment, we look at ways of making them computationally efficient.\n",
        "<br>\n",
        "The problem we are trying to solve is conventionally called the _propositional satisfiability problem_, abbreviated as the _SAT_ problem.\n",
        "In layman terms, if there exists a model that satisfies a given Boolean formula, the formula is called satisfiable.\n",
        "<br>\n",
        "The SAT problem was the first problem to be proven _NP-complete_.\n",
        "The main characteristics of an NP-complete problem are:\n",
        "- Given a solution to such a problem, it is easy to verify if the solution solves the problem.\n",
        "- The time required to actually solve the problem using any known algorithm increases exponentially with respect to the size of the problem.\n",
        "<br>\n",
        "<br>\n",
        "Due to these properties, heuristic and approximational methods are often applied to find solutions to these problems.\n",
        "<br>\n",
        "It is extremely important to be able to solve large scale SAT problems efficiently because \n",
        "many combinatorial problems in computer science can be conveniently reduced to checking the satisfiability of a propositional sentence under some constraints.\n",
        "<br>\n",
        "We will introduce two new algorithms that perform propositional model checking in a computationally effective way.\n",
        "<br>\n"
      ]
    },
    {
      "metadata": {
        "id": "BJjLFbDfWHkc",
        "colab_type": "text"
      },
      "cell_type": "markdown",
      "source": [
        "### 1. DPLL (Davis-Putnam-Logeman-Loveland) algorithm\n",
        "This algorithm is very similar to Backtracking-Search.\n",
        "It recursively enumerates possible models in a depth-first fashion with the following improvements over algorithms like `tt_entails`:\n",
        "1. Early termination:\n",
        "<br>\n",
        "In certain cases, the algorithm can detect the truth value of a statement using just a partially completed model.\n",
        "For example, $(P\\lor Q)\\land(P\\lor R)$ is true if P is true, regardless of other variables.\n",
        "This reduces the search space significantly.\n",
        "2. Pure symbol heuristic:\n",
        "<br>\n",
        "A symbol that has the same sign (positive or negative) in all clauses is called a _pure symbol_.\n",
        "It isn't difficult to see that any satisfiable model will have the pure symbols assigned such that its parent clause becomes _true_.\n",
        "For example, $(P\\lor\\neg Q)\\land(\\neg Q\\lor\\neg R)\\land(R\\lor P)$ has P and Q as pure symbols\n",
        "and for the sentence to be true, P _has_ to be true and Q _has_ to be false.\n",
        "The pure symbol heuristic thus simplifies the problem a bit.\n",
        "3. Unit clause heuristic:\n",
        "<br>\n",
        "In the context of DPLL, clauses with just one literal and clauses with all but one _false_ literals are called unit clauses.\n",
        "If a clause is a unit clause, it can only be satisfied by assigning the necessary value to make the last literal true.\n",
        "We have no other choice.\n",
        "<br>\n",
        "Assigning one unit clause can create another unit clause.\n",
        "For example, when P is false, $(P\\lor Q)$ becomes a unit clause, causing _true_ to be assigned to Q.\n",
        "A series of forced assignments derived from previous unit clauses is called _unit propagation_.\n",
        "In this way, this heuristic simplifies the problem further.\n",
        "<br>\n",
        "The algorithm often employs other tricks to scale up to large problems.\n",
        "However, these tricks are currently out of the scope of this notebook. Refer to section 7.6 of the book for more details.\n",
        "<br>\n",
        "<br>\n",
        "Let's have a look at the algorithm."
      ]
    },
    {
      "metadata": {
        "id": "BAi2jZa4WHke",
        "colab_type": "code",
        "outputId": "4c61a709-e72c-4b10-a6d9-478de7373b9e",
        "colab": {
          "base_uri": "https://localhost:8080/",
          "height": 0
        }
      },
      "cell_type": "code",
      "source": [
        "psource(dpll)"
      ],
      "execution_count": 48,
      "outputs": [
        {
          "output_type": "display_data",
          "data": {
            "text/html": [
              "<!DOCTYPE html PUBLIC \"-//W3C//DTD HTML 4.01//EN\"\n",
              "   \"http://www.w3.org/TR/html4/strict.dtd\">\n",
              "\n",
              "<html>\n",
              "<head>\n",
              "  <title></title>\n",
              "  <meta http-equiv=\"content-type\" content=\"text/html; charset=None\">\n",
              "  <style type=\"text/css\">\n",
              "td.linenos { background-color: #f0f0f0; padding-right: 10px; }\n",
              "span.lineno { background-color: #f0f0f0; padding: 0 5px 0 5px; }\n",
              "pre { line-height: 125%; }\n",
              "body .hll { background-color: #ffffcc }\n",
              "body  { background: #f8f8f8; }\n",
              "body .c { color: #408080; font-style: italic } /* Comment */\n",
              "body .err { border: 1px solid #FF0000 } /* Error */\n",
              "body .k { color: #008000; font-weight: bold } /* Keyword */\n",
              "body .o { color: #666666 } /* Operator */\n",
              "body .ch { color: #408080; font-style: italic } /* Comment.Hashbang */\n",
              "body .cm { color: #408080; font-style: italic } /* Comment.Multiline */\n",
              "body .cp { color: #BC7A00 } /* Comment.Preproc */\n",
              "body .cpf { color: #408080; font-style: italic } /* Comment.PreprocFile */\n",
              "body .c1 { color: #408080; font-style: italic } /* Comment.Single */\n",
              "body .cs { color: #408080; font-style: italic } /* Comment.Special */\n",
              "body .gd { color: #A00000 } /* Generic.Deleted */\n",
              "body .ge { font-style: italic } /* Generic.Emph */\n",
              "body .gr { color: #FF0000 } /* Generic.Error */\n",
              "body .gh { color: #000080; font-weight: bold } /* Generic.Heading */\n",
              "body .gi { color: #00A000 } /* Generic.Inserted */\n",
              "body .go { color: #888888 } /* Generic.Output */\n",
              "body .gp { color: #000080; font-weight: bold } /* Generic.Prompt */\n",
              "body .gs { font-weight: bold } /* Generic.Strong */\n",
              "body .gu { color: #800080; font-weight: bold } /* Generic.Subheading */\n",
              "body .gt { color: #0044DD } /* Generic.Traceback */\n",
              "body .kc { color: #008000; font-weight: bold } /* Keyword.Constant */\n",
              "body .kd { color: #008000; font-weight: bold } /* Keyword.Declaration */\n",
              "body .kn { color: #008000; font-weight: bold } /* Keyword.Namespace */\n",
              "body .kp { color: #008000 } /* Keyword.Pseudo */\n",
              "body .kr { color: #008000; font-weight: bold } /* Keyword.Reserved */\n",
              "body .kt { color: #B00040 } /* Keyword.Type */\n",
              "body .m { color: #666666 } /* Literal.Number */\n",
              "body .s { color: #BA2121 } /* Literal.String */\n",
              "body .na { color: #7D9029 } /* Name.Attribute */\n",
              "body .nb { color: #008000 } /* Name.Builtin */\n",
              "body .nc { color: #0000FF; font-weight: bold } /* Name.Class */\n",
              "body .no { color: #880000 } /* Name.Constant */\n",
              "body .nd { color: #AA22FF } /* Name.Decorator */\n",
              "body .ni { color: #999999; font-weight: bold } /* Name.Entity */\n",
              "body .ne { color: #D2413A; font-weight: bold } /* Name.Exception */\n",
              "body .nf { color: #0000FF } /* Name.Function */\n",
              "body .nl { color: #A0A000 } /* Name.Label */\n",
              "body .nn { color: #0000FF; font-weight: bold } /* Name.Namespace */\n",
              "body .nt { color: #008000; font-weight: bold } /* Name.Tag */\n",
              "body .nv { color: #19177C } /* Name.Variable */\n",
              "body .ow { color: #AA22FF; font-weight: bold } /* Operator.Word */\n",
              "body .w { color: #bbbbbb } /* Text.Whitespace */\n",
              "body .mb { color: #666666 } /* Literal.Number.Bin */\n",
              "body .mf { color: #666666 } /* Literal.Number.Float */\n",
              "body .mh { color: #666666 } /* Literal.Number.Hex */\n",
              "body .mi { color: #666666 } /* Literal.Number.Integer */\n",
              "body .mo { color: #666666 } /* Literal.Number.Oct */\n",
              "body .sb { color: #BA2121 } /* Literal.String.Backtick */\n",
              "body .sc { color: #BA2121 } /* Literal.String.Char */\n",
              "body .sd { color: #BA2121; font-style: italic } /* Literal.String.Doc */\n",
              "body .s2 { color: #BA2121 } /* Literal.String.Double */\n",
              "body .se { color: #BB6622; font-weight: bold } /* Literal.String.Escape */\n",
              "body .sh { color: #BA2121 } /* Literal.String.Heredoc */\n",
              "body .si { color: #BB6688; font-weight: bold } /* Literal.String.Interpol */\n",
              "body .sx { color: #008000 } /* Literal.String.Other */\n",
              "body .sr { color: #BB6688 } /* Literal.String.Regex */\n",
              "body .s1 { color: #BA2121 } /* Literal.String.Single */\n",
              "body .ss { color: #19177C } /* Literal.String.Symbol */\n",
              "body .bp { color: #008000 } /* Name.Builtin.Pseudo */\n",
              "body .vc { color: #19177C } /* Name.Variable.Class */\n",
              "body .vg { color: #19177C } /* Name.Variable.Global */\n",
              "body .vi { color: #19177C } /* Name.Variable.Instance */\n",
              "body .il { color: #666666 } /* Literal.Number.Integer.Long */\n",
              "\n",
              "  </style>\n",
              "</head>\n",
              "<body>\n",
              "<h2></h2>\n",
              "\n",
              "<div class=\"highlight\"><pre><span></span><span class=\"k\">def</span> <span class=\"nf\">dpll</span><span class=\"p\">(</span><span class=\"n\">clauses</span><span class=\"p\">,</span> <span class=\"n\">symbols</span><span class=\"p\">,</span> <span class=\"n\">model</span><span class=\"p\">):</span>\n",
              "    <span class=\"sd\">&quot;&quot;&quot;See if the clauses are true in a partial model.&quot;&quot;&quot;</span>\n",
              "    <span class=\"n\">unknown_clauses</span> <span class=\"o\">=</span> <span class=\"p\">[]</span>  <span class=\"c1\"># clauses with an unknown truth value</span>\n",
              "    <span class=\"k\">for</span> <span class=\"n\">c</span> <span class=\"ow\">in</span> <span class=\"n\">clauses</span><span class=\"p\">:</span>\n",
              "        <span class=\"n\">val</span> <span class=\"o\">=</span> <span class=\"n\">pl_true</span><span class=\"p\">(</span><span class=\"n\">c</span><span class=\"p\">,</span> <span class=\"n\">model</span><span class=\"p\">)</span>\n",
              "        <span class=\"k\">if</span> <span class=\"n\">val</span> <span class=\"ow\">is</span> <span class=\"bp\">False</span><span class=\"p\">:</span>\n",
              "            <span class=\"k\">return</span> <span class=\"bp\">False</span>\n",
              "        <span class=\"k\">if</span> <span class=\"n\">val</span> <span class=\"ow\">is</span> <span class=\"ow\">not</span> <span class=\"bp\">True</span><span class=\"p\">:</span>\n",
              "            <span class=\"n\">unknown_clauses</span><span class=\"o\">.</span><span class=\"n\">append</span><span class=\"p\">(</span><span class=\"n\">c</span><span class=\"p\">)</span>\n",
              "    <span class=\"k\">if</span> <span class=\"ow\">not</span> <span class=\"n\">unknown_clauses</span><span class=\"p\">:</span>\n",
              "        <span class=\"k\">return</span> <span class=\"n\">model</span>\n",
              "    <span class=\"n\">P</span><span class=\"p\">,</span> <span class=\"n\">value</span> <span class=\"o\">=</span> <span class=\"n\">find_pure_symbol</span><span class=\"p\">(</span><span class=\"n\">symbols</span><span class=\"p\">,</span> <span class=\"n\">unknown_clauses</span><span class=\"p\">)</span>\n",
              "    <span class=\"k\">if</span> <span class=\"n\">P</span><span class=\"p\">:</span>\n",
              "        <span class=\"k\">return</span> <span class=\"n\">dpll</span><span class=\"p\">(</span><span class=\"n\">clauses</span><span class=\"p\">,</span> <span class=\"n\">removeall</span><span class=\"p\">(</span><span class=\"n\">P</span><span class=\"p\">,</span> <span class=\"n\">symbols</span><span class=\"p\">),</span> <span class=\"n\">extend</span><span class=\"p\">(</span><span class=\"n\">model</span><span class=\"p\">,</span> <span class=\"n\">P</span><span class=\"p\">,</span> <span class=\"n\">value</span><span class=\"p\">))</span>\n",
              "    <span class=\"n\">P</span><span class=\"p\">,</span> <span class=\"n\">value</span> <span class=\"o\">=</span> <span class=\"n\">find_unit_clause</span><span class=\"p\">(</span><span class=\"n\">clauses</span><span class=\"p\">,</span> <span class=\"n\">model</span><span class=\"p\">)</span>\n",
              "    <span class=\"k\">if</span> <span class=\"n\">P</span><span class=\"p\">:</span>\n",
              "        <span class=\"k\">return</span> <span class=\"n\">dpll</span><span class=\"p\">(</span><span class=\"n\">clauses</span><span class=\"p\">,</span> <span class=\"n\">removeall</span><span class=\"p\">(</span><span class=\"n\">P</span><span class=\"p\">,</span> <span class=\"n\">symbols</span><span class=\"p\">),</span> <span class=\"n\">extend</span><span class=\"p\">(</span><span class=\"n\">model</span><span class=\"p\">,</span> <span class=\"n\">P</span><span class=\"p\">,</span> <span class=\"n\">value</span><span class=\"p\">))</span>\n",
              "    <span class=\"k\">if</span> <span class=\"ow\">not</span> <span class=\"n\">symbols</span><span class=\"p\">:</span>\n",
              "        <span class=\"k\">raise</span> <span class=\"ne\">TypeError</span><span class=\"p\">(</span><span class=\"s2\">&quot;Argument should be of the type Expr.&quot;</span><span class=\"p\">)</span>\n",
              "    <span class=\"n\">P</span><span class=\"p\">,</span> <span class=\"n\">symbols</span> <span class=\"o\">=</span> <span class=\"n\">symbols</span><span class=\"p\">[</span><span class=\"mi\">0</span><span class=\"p\">],</span> <span class=\"n\">symbols</span><span class=\"p\">[</span><span class=\"mi\">1</span><span class=\"p\">:]</span>\n",
              "    <span class=\"k\">return</span> <span class=\"p\">(</span><span class=\"n\">dpll</span><span class=\"p\">(</span><span class=\"n\">clauses</span><span class=\"p\">,</span> <span class=\"n\">symbols</span><span class=\"p\">,</span> <span class=\"n\">extend</span><span class=\"p\">(</span><span class=\"n\">model</span><span class=\"p\">,</span> <span class=\"n\">P</span><span class=\"p\">,</span> <span class=\"bp\">True</span><span class=\"p\">))</span> <span class=\"ow\">or</span>\n",
              "            <span class=\"n\">dpll</span><span class=\"p\">(</span><span class=\"n\">clauses</span><span class=\"p\">,</span> <span class=\"n\">symbols</span><span class=\"p\">,</span> <span class=\"n\">extend</span><span class=\"p\">(</span><span class=\"n\">model</span><span class=\"p\">,</span> <span class=\"n\">P</span><span class=\"p\">,</span> <span class=\"bp\">False</span><span class=\"p\">)))</span>\n",
              "</pre></div>\n",
              "</body>\n",
              "</html>\n"
            ],
            "text/plain": [
              "<IPython.core.display.HTML object>"
            ]
          },
          "metadata": {
            "tags": []
          }
        }
      ]
    },
    {
      "metadata": {
        "id": "E8o1Q7TGWHkh",
        "colab_type": "text"
      },
      "cell_type": "markdown",
      "source": [
        "The algorithm uses the ideas described above to check satisfiability of a sentence in propositional logic.\n",
        "It recursively calls itself, simplifying the problem at each step. It also uses helper functions `find_pure_symbol` and `find_unit_clause` to carry out steps 2 and 3 above.\n",
        "<br>\n",
        "The `dpll_satisfiable` helper function converts the input clauses to _conjunctive normal form_ and calls the `dpll` function with the correct parameters."
      ]
    },
    {
      "metadata": {
        "id": "VjvvLb2HWHki",
        "colab_type": "code",
        "outputId": "5ad11148-bfa2-4e48-de6a-d0b96fd4bf35",
        "colab": {
          "base_uri": "https://localhost:8080/",
          "height": 0
        }
      },
      "cell_type": "code",
      "source": [
        "psource(dpll_satisfiable)"
      ],
      "execution_count": 49,
      "outputs": [
        {
          "output_type": "display_data",
          "data": {
            "text/html": [
              "<!DOCTYPE html PUBLIC \"-//W3C//DTD HTML 4.01//EN\"\n",
              "   \"http://www.w3.org/TR/html4/strict.dtd\">\n",
              "\n",
              "<html>\n",
              "<head>\n",
              "  <title></title>\n",
              "  <meta http-equiv=\"content-type\" content=\"text/html; charset=None\">\n",
              "  <style type=\"text/css\">\n",
              "td.linenos { background-color: #f0f0f0; padding-right: 10px; }\n",
              "span.lineno { background-color: #f0f0f0; padding: 0 5px 0 5px; }\n",
              "pre { line-height: 125%; }\n",
              "body .hll { background-color: #ffffcc }\n",
              "body  { background: #f8f8f8; }\n",
              "body .c { color: #408080; font-style: italic } /* Comment */\n",
              "body .err { border: 1px solid #FF0000 } /* Error */\n",
              "body .k { color: #008000; font-weight: bold } /* Keyword */\n",
              "body .o { color: #666666 } /* Operator */\n",
              "body .ch { color: #408080; font-style: italic } /* Comment.Hashbang */\n",
              "body .cm { color: #408080; font-style: italic } /* Comment.Multiline */\n",
              "body .cp { color: #BC7A00 } /* Comment.Preproc */\n",
              "body .cpf { color: #408080; font-style: italic } /* Comment.PreprocFile */\n",
              "body .c1 { color: #408080; font-style: italic } /* Comment.Single */\n",
              "body .cs { color: #408080; font-style: italic } /* Comment.Special */\n",
              "body .gd { color: #A00000 } /* Generic.Deleted */\n",
              "body .ge { font-style: italic } /* Generic.Emph */\n",
              "body .gr { color: #FF0000 } /* Generic.Error */\n",
              "body .gh { color: #000080; font-weight: bold } /* Generic.Heading */\n",
              "body .gi { color: #00A000 } /* Generic.Inserted */\n",
              "body .go { color: #888888 } /* Generic.Output */\n",
              "body .gp { color: #000080; font-weight: bold } /* Generic.Prompt */\n",
              "body .gs { font-weight: bold } /* Generic.Strong */\n",
              "body .gu { color: #800080; font-weight: bold } /* Generic.Subheading */\n",
              "body .gt { color: #0044DD } /* Generic.Traceback */\n",
              "body .kc { color: #008000; font-weight: bold } /* Keyword.Constant */\n",
              "body .kd { color: #008000; font-weight: bold } /* Keyword.Declaration */\n",
              "body .kn { color: #008000; font-weight: bold } /* Keyword.Namespace */\n",
              "body .kp { color: #008000 } /* Keyword.Pseudo */\n",
              "body .kr { color: #008000; font-weight: bold } /* Keyword.Reserved */\n",
              "body .kt { color: #B00040 } /* Keyword.Type */\n",
              "body .m { color: #666666 } /* Literal.Number */\n",
              "body .s { color: #BA2121 } /* Literal.String */\n",
              "body .na { color: #7D9029 } /* Name.Attribute */\n",
              "body .nb { color: #008000 } /* Name.Builtin */\n",
              "body .nc { color: #0000FF; font-weight: bold } /* Name.Class */\n",
              "body .no { color: #880000 } /* Name.Constant */\n",
              "body .nd { color: #AA22FF } /* Name.Decorator */\n",
              "body .ni { color: #999999; font-weight: bold } /* Name.Entity */\n",
              "body .ne { color: #D2413A; font-weight: bold } /* Name.Exception */\n",
              "body .nf { color: #0000FF } /* Name.Function */\n",
              "body .nl { color: #A0A000 } /* Name.Label */\n",
              "body .nn { color: #0000FF; font-weight: bold } /* Name.Namespace */\n",
              "body .nt { color: #008000; font-weight: bold } /* Name.Tag */\n",
              "body .nv { color: #19177C } /* Name.Variable */\n",
              "body .ow { color: #AA22FF; font-weight: bold } /* Operator.Word */\n",
              "body .w { color: #bbbbbb } /* Text.Whitespace */\n",
              "body .mb { color: #666666 } /* Literal.Number.Bin */\n",
              "body .mf { color: #666666 } /* Literal.Number.Float */\n",
              "body .mh { color: #666666 } /* Literal.Number.Hex */\n",
              "body .mi { color: #666666 } /* Literal.Number.Integer */\n",
              "body .mo { color: #666666 } /* Literal.Number.Oct */\n",
              "body .sb { color: #BA2121 } /* Literal.String.Backtick */\n",
              "body .sc { color: #BA2121 } /* Literal.String.Char */\n",
              "body .sd { color: #BA2121; font-style: italic } /* Literal.String.Doc */\n",
              "body .s2 { color: #BA2121 } /* Literal.String.Double */\n",
              "body .se { color: #BB6622; font-weight: bold } /* Literal.String.Escape */\n",
              "body .sh { color: #BA2121 } /* Literal.String.Heredoc */\n",
              "body .si { color: #BB6688; font-weight: bold } /* Literal.String.Interpol */\n",
              "body .sx { color: #008000 } /* Literal.String.Other */\n",
              "body .sr { color: #BB6688 } /* Literal.String.Regex */\n",
              "body .s1 { color: #BA2121 } /* Literal.String.Single */\n",
              "body .ss { color: #19177C } /* Literal.String.Symbol */\n",
              "body .bp { color: #008000 } /* Name.Builtin.Pseudo */\n",
              "body .vc { color: #19177C } /* Name.Variable.Class */\n",
              "body .vg { color: #19177C } /* Name.Variable.Global */\n",
              "body .vi { color: #19177C } /* Name.Variable.Instance */\n",
              "body .il { color: #666666 } /* Literal.Number.Integer.Long */\n",
              "\n",
              "  </style>\n",
              "</head>\n",
              "<body>\n",
              "<h2></h2>\n",
              "\n",
              "<div class=\"highlight\"><pre><span></span><span class=\"k\">def</span> <span class=\"nf\">dpll_satisfiable</span><span class=\"p\">(</span><span class=\"n\">s</span><span class=\"p\">):</span>\n",
              "    <span class=\"sd\">&quot;&quot;&quot;Check satisfiability of a propositional sentence.</span>\n",
              "<span class=\"sd\">    This differs from the book code in two ways: (1) it returns a model</span>\n",
              "<span class=\"sd\">    rather than True when it succeeds; this is more useful. (2) The</span>\n",
              "<span class=\"sd\">    function find_pure_symbol is passed a list of unknown clauses, rather</span>\n",
              "<span class=\"sd\">    than a list of all clauses and the model; this is more efficient.</span>\n",
              "<span class=\"sd\">    &gt;&gt;&gt; dpll_satisfiable(A |&#39;&lt;=&gt;&#39;| B) == {A: True, B: True}</span>\n",
              "<span class=\"sd\">    True</span>\n",
              "<span class=\"sd\">    &quot;&quot;&quot;</span>\n",
              "    <span class=\"n\">clauses</span> <span class=\"o\">=</span> <span class=\"n\">conjuncts</span><span class=\"p\">(</span><span class=\"n\">to_cnf</span><span class=\"p\">(</span><span class=\"n\">s</span><span class=\"p\">))</span>\n",
              "    <span class=\"n\">symbols</span> <span class=\"o\">=</span> <span class=\"nb\">list</span><span class=\"p\">(</span><span class=\"n\">prop_symbols</span><span class=\"p\">(</span><span class=\"n\">s</span><span class=\"p\">))</span>\n",
              "    <span class=\"k\">return</span> <span class=\"n\">dpll</span><span class=\"p\">(</span><span class=\"n\">clauses</span><span class=\"p\">,</span> <span class=\"n\">symbols</span><span class=\"p\">,</span> <span class=\"p\">{})</span>\n",
              "</pre></div>\n",
              "</body>\n",
              "</html>\n"
            ],
            "text/plain": [
              "<IPython.core.display.HTML object>"
            ]
          },
          "metadata": {
            "tags": []
          }
        }
      ]
    },
    {
      "metadata": {
        "id": "ph4K9Q8EWHkk",
        "colab_type": "text"
      },
      "cell_type": "markdown",
      "source": [
        "Let's see a few examples of usage."
      ]
    },
    {
      "metadata": {
        "id": "WvlfSKqhWHkk",
        "colab_type": "code",
        "colab": {}
      },
      "cell_type": "code",
      "source": [
        "A, B, C, D = expr('A, B, C, D')"
      ],
      "execution_count": 0,
      "outputs": []
    },
    {
      "metadata": {
        "id": "fZbaxKnfWHkm",
        "colab_type": "code",
        "outputId": "15cfb9c4-0cff-40b8-cead-aa02dd0fdfbd",
        "colab": {
          "base_uri": "https://localhost:8080/",
          "height": 0
        }
      },
      "cell_type": "code",
      "source": [
        "dpll_satisfiable(A & B & ~C & D)"
      ],
      "execution_count": 51,
      "outputs": [
        {
          "output_type": "execute_result",
          "data": {
            "text/plain": [
              "{A: True, B: True, C: False, D: True}"
            ]
          },
          "metadata": {
            "tags": []
          },
          "execution_count": 51
        }
      ]
    },
    {
      "metadata": {
        "id": "ARYVUg7KWHko",
        "colab_type": "text"
      },
      "cell_type": "markdown",
      "source": [
        "This is a simple case to highlight that the algorithm actually works."
      ]
    },
    {
      "metadata": {
        "id": "2UIr3VK0WHkq",
        "colab_type": "code",
        "outputId": "37a60c77-fb4e-4e42-d847-2d7aeca30bec",
        "colab": {
          "base_uri": "https://localhost:8080/",
          "height": 0
        }
      },
      "cell_type": "code",
      "source": [
        "dpll_satisfiable((A & B) | (C & ~A) | (B & ~D))"
      ],
      "execution_count": 52,
      "outputs": [
        {
          "output_type": "execute_result",
          "data": {
            "text/plain": [
              "{B: True, C: True, D: False}"
            ]
          },
          "metadata": {
            "tags": []
          },
          "execution_count": 52
        }
      ]
    },
    {
      "metadata": {
        "id": "wY7wHDj-WHks",
        "colab_type": "text"
      },
      "cell_type": "markdown",
      "source": [
        "If a particular symbol isn't present in the solution, \n",
        "it means that the solution is independent of the value of that symbol.\n",
        "In this case, the solution is independent of A."
      ]
    },
    {
      "metadata": {
        "id": "lu2EWmMKWHks",
        "colab_type": "code",
        "outputId": "18925333-018c-4fae-92bd-0770ffb3fa1b",
        "colab": {
          "base_uri": "https://localhost:8080/",
          "height": 0
        }
      },
      "cell_type": "code",
      "source": [
        "dpll_satisfiable(A |'<=>'| B)"
      ],
      "execution_count": 53,
      "outputs": [
        {
          "output_type": "execute_result",
          "data": {
            "text/plain": [
              "{A: True, B: True}"
            ]
          },
          "metadata": {
            "tags": []
          },
          "execution_count": 53
        }
      ]
    },
    {
      "metadata": {
        "id": "Yty3LEmgWHku",
        "colab_type": "code",
        "outputId": "72ecd893-6520-4e44-f321-4fa2fc6e0026",
        "colab": {
          "base_uri": "https://localhost:8080/",
          "height": 0
        }
      },
      "cell_type": "code",
      "source": [
        "dpll_satisfiable((A |'<=>'| B) |'==>'| (C & ~A))"
      ],
      "execution_count": 54,
      "outputs": [
        {
          "output_type": "execute_result",
          "data": {
            "text/plain": [
              "{A: True, B: False, C: True}"
            ]
          },
          "metadata": {
            "tags": []
          },
          "execution_count": 54
        }
      ]
    },
    {
      "metadata": {
        "id": "s7GA72y0WHkw",
        "colab_type": "code",
        "outputId": "58328d21-00cf-4ccd-fec1-4fdb0ef992c2",
        "colab": {
          "base_uri": "https://localhost:8080/",
          "height": 0
        }
      },
      "cell_type": "code",
      "source": [
        "dpll_satisfiable((A | (B & C)) |'<=>'| ((A | B) & (A | C)))"
      ],
      "execution_count": 55,
      "outputs": [
        {
          "output_type": "execute_result",
          "data": {
            "text/plain": [
              "{A: True, C: True}"
            ]
          },
          "metadata": {
            "tags": []
          },
          "execution_count": 55
        }
      ]
    },
    {
      "metadata": {
        "id": "F3HbTRkkWHky",
        "colab_type": "text"
      },
      "cell_type": "markdown",
      "source": [
        "### 2. WalkSAT algorithm\n",
        "This algorithm is very similar to Hill climbing.\n",
        "On every iteration, the algorithm picks an unsatisfied clause and flips a symbol in the clause.\n",
        "This is similar to finding a neighboring state in the `hill_climbing` algorithm.\n",
        "<br>\n",
        "The symbol to be flipped is decided by an evaluation function that counts the number of unsatisfied clauses.\n",
        "Sometimes, symbols are also flipped randomly to avoid local optima. A subtle balance between greediness and randomness is required. Alternatively, some versions of the algorithm restart with a completely new random assignment if no solution has been found for too long as a way of getting out of local minima of numbers of unsatisfied clauses.\n",
        "<br>\n",
        "<br>\n",
        "Let's have a look at the algorithm."
      ]
    },
    {
      "metadata": {
        "id": "-yfXjFuYWHky",
        "colab_type": "code",
        "outputId": "9bc09478-c785-46b9-c022-6a2c16672751",
        "colab": {
          "base_uri": "https://localhost:8080/",
          "height": 0
        }
      },
      "cell_type": "code",
      "source": [
        "psource(WalkSAT)"
      ],
      "execution_count": 56,
      "outputs": [
        {
          "output_type": "display_data",
          "data": {
            "text/html": [
              "<!DOCTYPE html PUBLIC \"-//W3C//DTD HTML 4.01//EN\"\n",
              "   \"http://www.w3.org/TR/html4/strict.dtd\">\n",
              "\n",
              "<html>\n",
              "<head>\n",
              "  <title></title>\n",
              "  <meta http-equiv=\"content-type\" content=\"text/html; charset=None\">\n",
              "  <style type=\"text/css\">\n",
              "td.linenos { background-color: #f0f0f0; padding-right: 10px; }\n",
              "span.lineno { background-color: #f0f0f0; padding: 0 5px 0 5px; }\n",
              "pre { line-height: 125%; }\n",
              "body .hll { background-color: #ffffcc }\n",
              "body  { background: #f8f8f8; }\n",
              "body .c { color: #408080; font-style: italic } /* Comment */\n",
              "body .err { border: 1px solid #FF0000 } /* Error */\n",
              "body .k { color: #008000; font-weight: bold } /* Keyword */\n",
              "body .o { color: #666666 } /* Operator */\n",
              "body .ch { color: #408080; font-style: italic } /* Comment.Hashbang */\n",
              "body .cm { color: #408080; font-style: italic } /* Comment.Multiline */\n",
              "body .cp { color: #BC7A00 } /* Comment.Preproc */\n",
              "body .cpf { color: #408080; font-style: italic } /* Comment.PreprocFile */\n",
              "body .c1 { color: #408080; font-style: italic } /* Comment.Single */\n",
              "body .cs { color: #408080; font-style: italic } /* Comment.Special */\n",
              "body .gd { color: #A00000 } /* Generic.Deleted */\n",
              "body .ge { font-style: italic } /* Generic.Emph */\n",
              "body .gr { color: #FF0000 } /* Generic.Error */\n",
              "body .gh { color: #000080; font-weight: bold } /* Generic.Heading */\n",
              "body .gi { color: #00A000 } /* Generic.Inserted */\n",
              "body .go { color: #888888 } /* Generic.Output */\n",
              "body .gp { color: #000080; font-weight: bold } /* Generic.Prompt */\n",
              "body .gs { font-weight: bold } /* Generic.Strong */\n",
              "body .gu { color: #800080; font-weight: bold } /* Generic.Subheading */\n",
              "body .gt { color: #0044DD } /* Generic.Traceback */\n",
              "body .kc { color: #008000; font-weight: bold } /* Keyword.Constant */\n",
              "body .kd { color: #008000; font-weight: bold } /* Keyword.Declaration */\n",
              "body .kn { color: #008000; font-weight: bold } /* Keyword.Namespace */\n",
              "body .kp { color: #008000 } /* Keyword.Pseudo */\n",
              "body .kr { color: #008000; font-weight: bold } /* Keyword.Reserved */\n",
              "body .kt { color: #B00040 } /* Keyword.Type */\n",
              "body .m { color: #666666 } /* Literal.Number */\n",
              "body .s { color: #BA2121 } /* Literal.String */\n",
              "body .na { color: #7D9029 } /* Name.Attribute */\n",
              "body .nb { color: #008000 } /* Name.Builtin */\n",
              "body .nc { color: #0000FF; font-weight: bold } /* Name.Class */\n",
              "body .no { color: #880000 } /* Name.Constant */\n",
              "body .nd { color: #AA22FF } /* Name.Decorator */\n",
              "body .ni { color: #999999; font-weight: bold } /* Name.Entity */\n",
              "body .ne { color: #D2413A; font-weight: bold } /* Name.Exception */\n",
              "body .nf { color: #0000FF } /* Name.Function */\n",
              "body .nl { color: #A0A000 } /* Name.Label */\n",
              "body .nn { color: #0000FF; font-weight: bold } /* Name.Namespace */\n",
              "body .nt { color: #008000; font-weight: bold } /* Name.Tag */\n",
              "body .nv { color: #19177C } /* Name.Variable */\n",
              "body .ow { color: #AA22FF; font-weight: bold } /* Operator.Word */\n",
              "body .w { color: #bbbbbb } /* Text.Whitespace */\n",
              "body .mb { color: #666666 } /* Literal.Number.Bin */\n",
              "body .mf { color: #666666 } /* Literal.Number.Float */\n",
              "body .mh { color: #666666 } /* Literal.Number.Hex */\n",
              "body .mi { color: #666666 } /* Literal.Number.Integer */\n",
              "body .mo { color: #666666 } /* Literal.Number.Oct */\n",
              "body .sb { color: #BA2121 } /* Literal.String.Backtick */\n",
              "body .sc { color: #BA2121 } /* Literal.String.Char */\n",
              "body .sd { color: #BA2121; font-style: italic } /* Literal.String.Doc */\n",
              "body .s2 { color: #BA2121 } /* Literal.String.Double */\n",
              "body .se { color: #BB6622; font-weight: bold } /* Literal.String.Escape */\n",
              "body .sh { color: #BA2121 } /* Literal.String.Heredoc */\n",
              "body .si { color: #BB6688; font-weight: bold } /* Literal.String.Interpol */\n",
              "body .sx { color: #008000 } /* Literal.String.Other */\n",
              "body .sr { color: #BB6688 } /* Literal.String.Regex */\n",
              "body .s1 { color: #BA2121 } /* Literal.String.Single */\n",
              "body .ss { color: #19177C } /* Literal.String.Symbol */\n",
              "body .bp { color: #008000 } /* Name.Builtin.Pseudo */\n",
              "body .vc { color: #19177C } /* Name.Variable.Class */\n",
              "body .vg { color: #19177C } /* Name.Variable.Global */\n",
              "body .vi { color: #19177C } /* Name.Variable.Instance */\n",
              "body .il { color: #666666 } /* Literal.Number.Integer.Long */\n",
              "\n",
              "  </style>\n",
              "</head>\n",
              "<body>\n",
              "<h2></h2>\n",
              "\n",
              "<div class=\"highlight\"><pre><span></span><span class=\"k\">def</span> <span class=\"nf\">WalkSAT</span><span class=\"p\">(</span><span class=\"n\">clauses</span><span class=\"p\">,</span> <span class=\"n\">p</span><span class=\"o\">=</span><span class=\"mf\">0.5</span><span class=\"p\">,</span> <span class=\"n\">max_flips</span><span class=\"o\">=</span><span class=\"mi\">10000</span><span class=\"p\">):</span>\n",
              "    <span class=\"sd\">&quot;&quot;&quot;Checks for satisfiability of all clauses by randomly flipping values of variables</span>\n",
              "<span class=\"sd\">    &gt;&gt;&gt; WalkSAT([A &amp; ~A], 0.5, 100) is None</span>\n",
              "<span class=\"sd\">    True</span>\n",
              "<span class=\"sd\">    &quot;&quot;&quot;</span>\n",
              "    <span class=\"c1\"># Set of all symbols in all clauses</span>\n",
              "    <span class=\"n\">symbols</span> <span class=\"o\">=</span> <span class=\"p\">{</span><span class=\"n\">sym</span> <span class=\"k\">for</span> <span class=\"n\">clause</span> <span class=\"ow\">in</span> <span class=\"n\">clauses</span> <span class=\"k\">for</span> <span class=\"n\">sym</span> <span class=\"ow\">in</span> <span class=\"n\">prop_symbols</span><span class=\"p\">(</span><span class=\"n\">clause</span><span class=\"p\">)}</span>\n",
              "    <span class=\"c1\"># model is a random assignment of true/false to the symbols in clauses</span>\n",
              "    <span class=\"n\">model</span> <span class=\"o\">=</span> <span class=\"p\">{</span><span class=\"n\">s</span><span class=\"p\">:</span> <span class=\"n\">random</span><span class=\"o\">.</span><span class=\"n\">choice</span><span class=\"p\">([</span><span class=\"bp\">True</span><span class=\"p\">,</span> <span class=\"bp\">False</span><span class=\"p\">])</span> <span class=\"k\">for</span> <span class=\"n\">s</span> <span class=\"ow\">in</span> <span class=\"n\">symbols</span><span class=\"p\">}</span>\n",
              "    <span class=\"k\">for</span> <span class=\"n\">i</span> <span class=\"ow\">in</span> <span class=\"nb\">range</span><span class=\"p\">(</span><span class=\"n\">max_flips</span><span class=\"p\">):</span>\n",
              "        <span class=\"n\">satisfied</span><span class=\"p\">,</span> <span class=\"n\">unsatisfied</span> <span class=\"o\">=</span> <span class=\"p\">[],</span> <span class=\"p\">[]</span>\n",
              "        <span class=\"k\">for</span> <span class=\"n\">clause</span> <span class=\"ow\">in</span> <span class=\"n\">clauses</span><span class=\"p\">:</span>\n",
              "            <span class=\"p\">(</span><span class=\"n\">satisfied</span> <span class=\"k\">if</span> <span class=\"n\">pl_true</span><span class=\"p\">(</span><span class=\"n\">clause</span><span class=\"p\">,</span> <span class=\"n\">model</span><span class=\"p\">)</span> <span class=\"k\">else</span> <span class=\"n\">unsatisfied</span><span class=\"p\">)</span><span class=\"o\">.</span><span class=\"n\">append</span><span class=\"p\">(</span><span class=\"n\">clause</span><span class=\"p\">)</span>\n",
              "        <span class=\"k\">if</span> <span class=\"ow\">not</span> <span class=\"n\">unsatisfied</span><span class=\"p\">:</span>  <span class=\"c1\"># if model satisfies all the clauses</span>\n",
              "            <span class=\"k\">return</span> <span class=\"n\">model</span>\n",
              "        <span class=\"n\">clause</span> <span class=\"o\">=</span> <span class=\"n\">random</span><span class=\"o\">.</span><span class=\"n\">choice</span><span class=\"p\">(</span><span class=\"n\">unsatisfied</span><span class=\"p\">)</span>\n",
              "        <span class=\"k\">if</span> <span class=\"n\">probability</span><span class=\"p\">(</span><span class=\"n\">p</span><span class=\"p\">):</span>\n",
              "            <span class=\"n\">sym</span> <span class=\"o\">=</span> <span class=\"n\">random</span><span class=\"o\">.</span><span class=\"n\">choice</span><span class=\"p\">(</span><span class=\"nb\">list</span><span class=\"p\">(</span><span class=\"n\">prop_symbols</span><span class=\"p\">(</span><span class=\"n\">clause</span><span class=\"p\">)))</span>\n",
              "        <span class=\"k\">else</span><span class=\"p\">:</span>\n",
              "            <span class=\"c1\"># Flip the symbol in clause that maximizes number of sat. clauses</span>\n",
              "            <span class=\"k\">def</span> <span class=\"nf\">sat_count</span><span class=\"p\">(</span><span class=\"n\">sym</span><span class=\"p\">):</span>\n",
              "                <span class=\"c1\"># Return the the number of clauses satisfied after flipping the symbol.</span>\n",
              "                <span class=\"n\">model</span><span class=\"p\">[</span><span class=\"n\">sym</span><span class=\"p\">]</span> <span class=\"o\">=</span> <span class=\"ow\">not</span> <span class=\"n\">model</span><span class=\"p\">[</span><span class=\"n\">sym</span><span class=\"p\">]</span>\n",
              "                <span class=\"n\">count</span> <span class=\"o\">=</span> <span class=\"nb\">len</span><span class=\"p\">([</span><span class=\"n\">clause</span> <span class=\"k\">for</span> <span class=\"n\">clause</span> <span class=\"ow\">in</span> <span class=\"n\">clauses</span> <span class=\"k\">if</span> <span class=\"n\">pl_true</span><span class=\"p\">(</span><span class=\"n\">clause</span><span class=\"p\">,</span> <span class=\"n\">model</span><span class=\"p\">)])</span>\n",
              "                <span class=\"n\">model</span><span class=\"p\">[</span><span class=\"n\">sym</span><span class=\"p\">]</span> <span class=\"o\">=</span> <span class=\"ow\">not</span> <span class=\"n\">model</span><span class=\"p\">[</span><span class=\"n\">sym</span><span class=\"p\">]</span>\n",
              "                <span class=\"k\">return</span> <span class=\"n\">count</span>\n",
              "            <span class=\"n\">sym</span> <span class=\"o\">=</span> <span class=\"n\">argmax</span><span class=\"p\">(</span><span class=\"n\">prop_symbols</span><span class=\"p\">(</span><span class=\"n\">clause</span><span class=\"p\">),</span> <span class=\"n\">key</span><span class=\"o\">=</span><span class=\"n\">sat_count</span><span class=\"p\">)</span>\n",
              "        <span class=\"n\">model</span><span class=\"p\">[</span><span class=\"n\">sym</span><span class=\"p\">]</span> <span class=\"o\">=</span> <span class=\"ow\">not</span> <span class=\"n\">model</span><span class=\"p\">[</span><span class=\"n\">sym</span><span class=\"p\">]</span>\n",
              "    <span class=\"c1\"># If no solution is found within the flip limit, we return failure</span>\n",
              "    <span class=\"k\">return</span> <span class=\"bp\">None</span>\n",
              "</pre></div>\n",
              "</body>\n",
              "</html>\n"
            ],
            "text/plain": [
              "<IPython.core.display.HTML object>"
            ]
          },
          "metadata": {
            "tags": []
          }
        }
      ]
    },
    {
      "metadata": {
        "id": "mkZsBaRbWHk3",
        "colab_type": "text"
      },
      "cell_type": "markdown",
      "source": [
        "The function takes three arguments:\n",
        "<br>\n",
        "1. The `clauses` we want to satisfy.\n",
        "<br>\n",
        "2. The probability `p` of randomly changing a symbol.\n",
        "<br>\n",
        "3. The maximum number of flips (`max_flips`) the algorithm will run for. If the clauses are still unsatisfied, the algorithm returns `None` to denote failure.\n",
        "<br>\n",
        "The algorithm is identical in concept to Hill climbing and the code isn't difficult to understand.\n",
        "<br>\n",
        "<br>\n",
        "Let's see a few examples of usage."
      ]
    },
    {
      "metadata": {
        "id": "NEyqEJJpWHk3",
        "colab_type": "code",
        "colab": {}
      },
      "cell_type": "code",
      "source": [
        "A, B, C, D = expr('A, B, C, D')"
      ],
      "execution_count": 0,
      "outputs": []
    },
    {
      "metadata": {
        "id": "AVxEUcGWWHk3",
        "colab_type": "code",
        "outputId": "b71466ec-6895-4fac-8165-e39991689818",
        "colab": {
          "base_uri": "https://localhost:8080/",
          "height": 0
        }
      },
      "cell_type": "code",
      "source": [
        "WalkSAT([A, B, ~C, D], 0.5, 100)"
      ],
      "execution_count": 58,
      "outputs": [
        {
          "output_type": "execute_result",
          "data": {
            "text/plain": [
              "{A: True, B: True, C: False, D: True}"
            ]
          },
          "metadata": {
            "tags": []
          },
          "execution_count": 58
        }
      ]
    },
    {
      "metadata": {
        "id": "mvKvoNKmWHk7",
        "colab_type": "text"
      },
      "cell_type": "markdown",
      "source": [
        "This is a simple case to show that the algorithm converges."
      ]
    },
    {
      "metadata": {
        "id": "H7OpuUFdWHk7",
        "colab_type": "code",
        "outputId": "5c1a72dd-72e9-4cb5-d9fa-358632fbec5e",
        "colab": {
          "base_uri": "https://localhost:8080/",
          "height": 0
        }
      },
      "cell_type": "code",
      "source": [
        "WalkSAT([A & B, A & C], 0.5, 100)"
      ],
      "execution_count": 59,
      "outputs": [
        {
          "output_type": "execute_result",
          "data": {
            "text/plain": [
              "{A: True, B: True, C: True}"
            ]
          },
          "metadata": {
            "tags": []
          },
          "execution_count": 59
        }
      ]
    },
    {
      "metadata": {
        "id": "Ev7hAaErWHk9",
        "colab_type": "code",
        "outputId": "9b546dfe-b579-4769-d251-840a94b24572",
        "colab": {
          "base_uri": "https://localhost:8080/",
          "height": 0
        }
      },
      "cell_type": "code",
      "source": [
        "WalkSAT([A & B, C & D, C & B], 0.5, 100)"
      ],
      "execution_count": 60,
      "outputs": [
        {
          "output_type": "execute_result",
          "data": {
            "text/plain": [
              "{A: True, B: True, C: True, D: True}"
            ]
          },
          "metadata": {
            "tags": []
          },
          "execution_count": 60
        }
      ]
    },
    {
      "metadata": {
        "id": "LXLrBhCcWHlA",
        "colab_type": "code",
        "colab": {}
      },
      "cell_type": "code",
      "source": [
        "WalkSAT([A & B, C | D, ~(D | B)], 0.5, 1000)"
      ],
      "execution_count": 0,
      "outputs": []
    },
    {
      "metadata": {
        "id": "SgginABmWHlA",
        "colab_type": "text"
      },
      "cell_type": "markdown",
      "source": [
        "This one doesn't give any output because WalkSAT did not find any model where these clauses hold. We can solve these clauses to see that they together form a contradiction and hence, it isn't supposed to have a solution."
      ]
    },
    {
      "metadata": {
        "id": "JdQKI49pWHlB",
        "colab_type": "text"
      },
      "cell_type": "markdown",
      "source": [
        "One point of difference between this algorithm and the `dpll_satisfiable` algorithms is that both these algorithms take inputs differently. \n",
        "For WalkSAT to take complete sentences as input, \n",
        "we can write a helper function that converts the input sentence into conjunctive normal form and then calls WalkSAT with the list of conjuncts of the CNF form of the sentence."
      ]
    },
    {
      "metadata": {
        "id": "yuZMnqNMWHlB",
        "colab_type": "code",
        "colab": {}
      },
      "cell_type": "code",
      "source": [
        "def WalkSAT_CNF(sentence, p=0.5, max_flips=10000):\n",
        "    return WalkSAT(conjuncts(to_cnf(sentence)), 0, max_flips)"
      ],
      "execution_count": 0,
      "outputs": []
    },
    {
      "metadata": {
        "id": "voV3O45sWHlC",
        "colab_type": "text"
      },
      "cell_type": "markdown",
      "source": [
        "Now we can call `WalkSAT_CNF` and `DPLL_Satisfiable` with the same arguments."
      ]
    },
    {
      "metadata": {
        "id": "ifyo_DibWHlC",
        "colab_type": "code",
        "outputId": "ae527a33-43e0-451b-f374-7c1b63ed546e",
        "colab": {
          "base_uri": "https://localhost:8080/",
          "height": 0
        }
      },
      "cell_type": "code",
      "source": [
        "WalkSAT_CNF((A & B) | (C & ~A) | (B & ~D), 0.5, 1000)"
      ],
      "execution_count": 63,
      "outputs": [
        {
          "output_type": "execute_result",
          "data": {
            "text/plain": [
              "{A: False, B: False, C: True, D: False}"
            ]
          },
          "metadata": {
            "tags": []
          },
          "execution_count": 63
        }
      ]
    },
    {
      "metadata": {
        "id": "Q-Vs1LV6WHlE",
        "colab_type": "text"
      },
      "cell_type": "markdown",
      "source": [
        "It works!\n",
        "<br>\n",
        "Notice that the solution generated by WalkSAT doesn't omit variables that the sentence doesn't depend upon. \n",
        "If the sentence is independent of a particular variable, the solution contains a random value for that variable because of the stochastic nature of the algorithm.\n",
        "<br>\n",
        "<br>\n",
        "Let's compare the runtime of WalkSAT and DPLL for a few cases. We will use the `%%timeit` magic to do this."
      ]
    },
    {
      "metadata": {
        "id": "QNPsCTz_WHlE",
        "colab_type": "code",
        "colab": {}
      },
      "cell_type": "code",
      "source": [
        "sentence_1 = A |'<=>'| B\n",
        "sentence_2 = (A & B) | (C & ~A) | (B & ~D)\n",
        "sentence_3 = (A | (B & C)) |'<=>'| ((A | B) & (A | C))"
      ],
      "execution_count": 0,
      "outputs": []
    },
    {
      "metadata": {
        "id": "dof2a4-aWHlE",
        "colab_type": "code",
        "outputId": "781b9c60-a9a9-466f-98e2-2ffcdbc691f1",
        "colab": {
          "base_uri": "https://localhost:8080/",
          "height": 0
        }
      },
      "cell_type": "code",
      "source": [
        "%%timeit\n",
        "dpll_satisfiable(sentence_1)\n",
        "dpll_satisfiable(sentence_2)\n",
        "dpll_satisfiable(sentence_3)"
      ],
      "execution_count": 65,
      "outputs": [
        {
          "output_type": "stream",
          "text": [
            "1000 loops, best of 3: 1.64 ms per loop\n"
          ],
          "name": "stdout"
        }
      ]
    },
    {
      "metadata": {
        "id": "WKr_Fr6fWHlF",
        "colab_type": "code",
        "outputId": "dd27261a-7bf1-4243-fc9b-ede4b175984e",
        "colab": {
          "base_uri": "https://localhost:8080/",
          "height": 0
        }
      },
      "cell_type": "code",
      "source": [
        "%%timeit\n",
        "WalkSAT_CNF(sentence_1)\n",
        "WalkSAT_CNF(sentence_2)\n",
        "WalkSAT_CNF(sentence_3)"
      ],
      "execution_count": 66,
      "outputs": [
        {
          "output_type": "stream",
          "text": [
            "1000 loops, best of 3: 1.09 ms per loop\n"
          ],
          "name": "stdout"
        }
      ]
    },
    {
      "metadata": {
        "id": "U385k21rWHlH",
        "colab_type": "text"
      },
      "cell_type": "markdown",
      "source": [
        "On an average, for solvable cases, `WalkSAT` is quite faster than `dpll` because, for a small number of variables, \n",
        "`WalkSAT` can reduce the search space significantly. \n",
        "Results can be different for sentences with more symbols though.\n",
        "Feel free to play around with this to understand the trade-offs of these algorithms better."
      ]
    },
    {
      "metadata": {
        "id": "LfrAYzC4WHlH",
        "colab_type": "text"
      },
      "cell_type": "markdown",
      "source": [
        "### SATPlan"
      ]
    },
    {
      "metadata": {
        "id": "yDtUEMu3WHlH",
        "colab_type": "text"
      },
      "cell_type": "markdown",
      "source": [
        "In this section we show how to make plans by logical inference. The basic idea is very simple. It includes the following three steps:\n",
        "1. Constuct a sentence that includes:\n",
        "    1. A colection of assertions about the initial state.\n",
        "    2. The successor-state axioms for all the possible actions at each time up to some maximum time t.\n",
        "    3. The assertion that the goal is achieved at time t.\n",
        "2. Present the whole sentence to a SAT solver.\n",
        "3. Assuming a model is found, extract from the model those variables that represent actions and are assigned true. Together they represent a plan to achieve the goals.\n",
        "\n",
        "\n",
        "Lets have a look at the algorithm"
      ]
    },
    {
      "metadata": {
        "id": "TOgz7HrQWHlI",
        "colab_type": "code",
        "outputId": "69f1591f-e2a1-4606-b9f0-af9e11d40ed8",
        "colab": {
          "base_uri": "https://localhost:8080/",
          "height": 0
        }
      },
      "cell_type": "code",
      "source": [
        "psource(SAT_plan)"
      ],
      "execution_count": 67,
      "outputs": [
        {
          "output_type": "display_data",
          "data": {
            "text/html": [
              "<!DOCTYPE html PUBLIC \"-//W3C//DTD HTML 4.01//EN\"\n",
              "   \"http://www.w3.org/TR/html4/strict.dtd\">\n",
              "\n",
              "<html>\n",
              "<head>\n",
              "  <title></title>\n",
              "  <meta http-equiv=\"content-type\" content=\"text/html; charset=None\">\n",
              "  <style type=\"text/css\">\n",
              "td.linenos { background-color: #f0f0f0; padding-right: 10px; }\n",
              "span.lineno { background-color: #f0f0f0; padding: 0 5px 0 5px; }\n",
              "pre { line-height: 125%; }\n",
              "body .hll { background-color: #ffffcc }\n",
              "body  { background: #f8f8f8; }\n",
              "body .c { color: #408080; font-style: italic } /* Comment */\n",
              "body .err { border: 1px solid #FF0000 } /* Error */\n",
              "body .k { color: #008000; font-weight: bold } /* Keyword */\n",
              "body .o { color: #666666 } /* Operator */\n",
              "body .ch { color: #408080; font-style: italic } /* Comment.Hashbang */\n",
              "body .cm { color: #408080; font-style: italic } /* Comment.Multiline */\n",
              "body .cp { color: #BC7A00 } /* Comment.Preproc */\n",
              "body .cpf { color: #408080; font-style: italic } /* Comment.PreprocFile */\n",
              "body .c1 { color: #408080; font-style: italic } /* Comment.Single */\n",
              "body .cs { color: #408080; font-style: italic } /* Comment.Special */\n",
              "body .gd { color: #A00000 } /* Generic.Deleted */\n",
              "body .ge { font-style: italic } /* Generic.Emph */\n",
              "body .gr { color: #FF0000 } /* Generic.Error */\n",
              "body .gh { color: #000080; font-weight: bold } /* Generic.Heading */\n",
              "body .gi { color: #00A000 } /* Generic.Inserted */\n",
              "body .go { color: #888888 } /* Generic.Output */\n",
              "body .gp { color: #000080; font-weight: bold } /* Generic.Prompt */\n",
              "body .gs { font-weight: bold } /* Generic.Strong */\n",
              "body .gu { color: #800080; font-weight: bold } /* Generic.Subheading */\n",
              "body .gt { color: #0044DD } /* Generic.Traceback */\n",
              "body .kc { color: #008000; font-weight: bold } /* Keyword.Constant */\n",
              "body .kd { color: #008000; font-weight: bold } /* Keyword.Declaration */\n",
              "body .kn { color: #008000; font-weight: bold } /* Keyword.Namespace */\n",
              "body .kp { color: #008000 } /* Keyword.Pseudo */\n",
              "body .kr { color: #008000; font-weight: bold } /* Keyword.Reserved */\n",
              "body .kt { color: #B00040 } /* Keyword.Type */\n",
              "body .m { color: #666666 } /* Literal.Number */\n",
              "body .s { color: #BA2121 } /* Literal.String */\n",
              "body .na { color: #7D9029 } /* Name.Attribute */\n",
              "body .nb { color: #008000 } /* Name.Builtin */\n",
              "body .nc { color: #0000FF; font-weight: bold } /* Name.Class */\n",
              "body .no { color: #880000 } /* Name.Constant */\n",
              "body .nd { color: #AA22FF } /* Name.Decorator */\n",
              "body .ni { color: #999999; font-weight: bold } /* Name.Entity */\n",
              "body .ne { color: #D2413A; font-weight: bold } /* Name.Exception */\n",
              "body .nf { color: #0000FF } /* Name.Function */\n",
              "body .nl { color: #A0A000 } /* Name.Label */\n",
              "body .nn { color: #0000FF; font-weight: bold } /* Name.Namespace */\n",
              "body .nt { color: #008000; font-weight: bold } /* Name.Tag */\n",
              "body .nv { color: #19177C } /* Name.Variable */\n",
              "body .ow { color: #AA22FF; font-weight: bold } /* Operator.Word */\n",
              "body .w { color: #bbbbbb } /* Text.Whitespace */\n",
              "body .mb { color: #666666 } /* Literal.Number.Bin */\n",
              "body .mf { color: #666666 } /* Literal.Number.Float */\n",
              "body .mh { color: #666666 } /* Literal.Number.Hex */\n",
              "body .mi { color: #666666 } /* Literal.Number.Integer */\n",
              "body .mo { color: #666666 } /* Literal.Number.Oct */\n",
              "body .sb { color: #BA2121 } /* Literal.String.Backtick */\n",
              "body .sc { color: #BA2121 } /* Literal.String.Char */\n",
              "body .sd { color: #BA2121; font-style: italic } /* Literal.String.Doc */\n",
              "body .s2 { color: #BA2121 } /* Literal.String.Double */\n",
              "body .se { color: #BB6622; font-weight: bold } /* Literal.String.Escape */\n",
              "body .sh { color: #BA2121 } /* Literal.String.Heredoc */\n",
              "body .si { color: #BB6688; font-weight: bold } /* Literal.String.Interpol */\n",
              "body .sx { color: #008000 } /* Literal.String.Other */\n",
              "body .sr { color: #BB6688 } /* Literal.String.Regex */\n",
              "body .s1 { color: #BA2121 } /* Literal.String.Single */\n",
              "body .ss { color: #19177C } /* Literal.String.Symbol */\n",
              "body .bp { color: #008000 } /* Name.Builtin.Pseudo */\n",
              "body .vc { color: #19177C } /* Name.Variable.Class */\n",
              "body .vg { color: #19177C } /* Name.Variable.Global */\n",
              "body .vi { color: #19177C } /* Name.Variable.Instance */\n",
              "body .il { color: #666666 } /* Literal.Number.Integer.Long */\n",
              "\n",
              "  </style>\n",
              "</head>\n",
              "<body>\n",
              "<h2></h2>\n",
              "\n",
              "<div class=\"highlight\"><pre><span></span><span class=\"k\">def</span> <span class=\"nf\">SAT_plan</span><span class=\"p\">(</span><span class=\"n\">init</span><span class=\"p\">,</span> <span class=\"n\">transition</span><span class=\"p\">,</span> <span class=\"n\">goal</span><span class=\"p\">,</span> <span class=\"n\">t_max</span><span class=\"p\">,</span> <span class=\"n\">SAT_solver</span><span class=\"o\">=</span><span class=\"n\">dpll_satisfiable</span><span class=\"p\">):</span>\n",
              "    <span class=\"sd\">&quot;&quot;&quot;Converts a planning problem to Satisfaction problem by translating it to a cnf sentence.</span>\n",
              "<span class=\"sd\">    [Figure 7.22]</span>\n",
              "<span class=\"sd\">    &gt;&gt;&gt; transition = {&#39;A&#39;: {&#39;Left&#39;: &#39;A&#39;, &#39;Right&#39;: &#39;B&#39;}, &#39;B&#39;: {&#39;Left&#39;: &#39;A&#39;, &#39;Right&#39;: &#39;C&#39;}, &#39;C&#39;: {&#39;Left&#39;: &#39;B&#39;, &#39;Right&#39;: &#39;C&#39;}}</span>\n",
              "<span class=\"sd\">    &gt;&gt;&gt; SAT_plan(&#39;A&#39;, transition, &#39;C&#39;, 2) is None</span>\n",
              "<span class=\"sd\">    True</span>\n",
              "<span class=\"sd\">    &quot;&quot;&quot;</span>\n",
              "\n",
              "    <span class=\"c1\"># Functions used by SAT_plan</span>\n",
              "    <span class=\"k\">def</span> <span class=\"nf\">translate_to_SAT</span><span class=\"p\">(</span><span class=\"n\">init</span><span class=\"p\">,</span> <span class=\"n\">transition</span><span class=\"p\">,</span> <span class=\"n\">goal</span><span class=\"p\">,</span> <span class=\"n\">time</span><span class=\"p\">):</span>\n",
              "        <span class=\"n\">clauses</span> <span class=\"o\">=</span> <span class=\"p\">[]</span>\n",
              "        <span class=\"n\">states</span> <span class=\"o\">=</span> <span class=\"p\">[</span><span class=\"n\">state</span> <span class=\"k\">for</span> <span class=\"n\">state</span> <span class=\"ow\">in</span> <span class=\"n\">transition</span><span class=\"p\">]</span>\n",
              "\n",
              "        <span class=\"c1\"># Symbol claiming state s at time t</span>\n",
              "        <span class=\"n\">state_counter</span> <span class=\"o\">=</span> <span class=\"n\">itertools</span><span class=\"o\">.</span><span class=\"n\">count</span><span class=\"p\">()</span>\n",
              "        <span class=\"k\">for</span> <span class=\"n\">s</span> <span class=\"ow\">in</span> <span class=\"n\">states</span><span class=\"p\">:</span>\n",
              "            <span class=\"k\">for</span> <span class=\"n\">t</span> <span class=\"ow\">in</span> <span class=\"nb\">range</span><span class=\"p\">(</span><span class=\"n\">time</span><span class=\"o\">+</span><span class=\"mi\">1</span><span class=\"p\">):</span>\n",
              "                <span class=\"n\">state_sym</span><span class=\"p\">[</span><span class=\"n\">s</span><span class=\"p\">,</span> <span class=\"n\">t</span><span class=\"p\">]</span> <span class=\"o\">=</span> <span class=\"n\">Expr</span><span class=\"p\">(</span><span class=\"s2\">&quot;State_{}&quot;</span><span class=\"o\">.</span><span class=\"n\">format</span><span class=\"p\">(</span><span class=\"nb\">next</span><span class=\"p\">(</span><span class=\"n\">state_counter</span><span class=\"p\">)))</span>\n",
              "\n",
              "        <span class=\"c1\"># Add initial state axiom</span>\n",
              "        <span class=\"n\">clauses</span><span class=\"o\">.</span><span class=\"n\">append</span><span class=\"p\">(</span><span class=\"n\">state_sym</span><span class=\"p\">[</span><span class=\"n\">init</span><span class=\"p\">,</span> <span class=\"mi\">0</span><span class=\"p\">])</span>\n",
              "\n",
              "        <span class=\"c1\"># Add goal state axiom</span>\n",
              "        <span class=\"n\">clauses</span><span class=\"o\">.</span><span class=\"n\">append</span><span class=\"p\">(</span><span class=\"n\">state_sym</span><span class=\"p\">[</span><span class=\"n\">goal</span><span class=\"p\">,</span> <span class=\"n\">time</span><span class=\"p\">])</span>\n",
              "\n",
              "        <span class=\"c1\"># All possible transitions</span>\n",
              "        <span class=\"n\">transition_counter</span> <span class=\"o\">=</span> <span class=\"n\">itertools</span><span class=\"o\">.</span><span class=\"n\">count</span><span class=\"p\">()</span>\n",
              "        <span class=\"k\">for</span> <span class=\"n\">s</span> <span class=\"ow\">in</span> <span class=\"n\">states</span><span class=\"p\">:</span>\n",
              "            <span class=\"k\">for</span> <span class=\"n\">action</span> <span class=\"ow\">in</span> <span class=\"n\">transition</span><span class=\"p\">[</span><span class=\"n\">s</span><span class=\"p\">]:</span>\n",
              "                <span class=\"n\">s_</span> <span class=\"o\">=</span> <span class=\"n\">transition</span><span class=\"p\">[</span><span class=\"n\">s</span><span class=\"p\">][</span><span class=\"n\">action</span><span class=\"p\">]</span>\n",
              "                <span class=\"k\">for</span> <span class=\"n\">t</span> <span class=\"ow\">in</span> <span class=\"nb\">range</span><span class=\"p\">(</span><span class=\"n\">time</span><span class=\"p\">):</span>\n",
              "                    <span class=\"c1\"># Action &#39;action&#39; taken from state &#39;s&#39; at time &#39;t&#39; to reach &#39;s_&#39;</span>\n",
              "                    <span class=\"n\">action_sym</span><span class=\"p\">[</span><span class=\"n\">s</span><span class=\"p\">,</span> <span class=\"n\">action</span><span class=\"p\">,</span> <span class=\"n\">t</span><span class=\"p\">]</span> <span class=\"o\">=</span> <span class=\"n\">Expr</span><span class=\"p\">(</span>\n",
              "                        <span class=\"s2\">&quot;Transition_{}&quot;</span><span class=\"o\">.</span><span class=\"n\">format</span><span class=\"p\">(</span><span class=\"nb\">next</span><span class=\"p\">(</span><span class=\"n\">transition_counter</span><span class=\"p\">)))</span>\n",
              "\n",
              "                    <span class=\"c1\"># Change the state from s to s_</span>\n",
              "                    <span class=\"n\">clauses</span><span class=\"o\">.</span><span class=\"n\">append</span><span class=\"p\">(</span><span class=\"n\">action_sym</span><span class=\"p\">[</span><span class=\"n\">s</span><span class=\"p\">,</span> <span class=\"n\">action</span><span class=\"p\">,</span> <span class=\"n\">t</span><span class=\"p\">]</span> <span class=\"o\">|</span><span class=\"s1\">&#39;==&gt;&#39;</span><span class=\"o\">|</span> <span class=\"n\">state_sym</span><span class=\"p\">[</span><span class=\"n\">s</span><span class=\"p\">,</span> <span class=\"n\">t</span><span class=\"p\">])</span>\n",
              "                    <span class=\"n\">clauses</span><span class=\"o\">.</span><span class=\"n\">append</span><span class=\"p\">(</span><span class=\"n\">action_sym</span><span class=\"p\">[</span><span class=\"n\">s</span><span class=\"p\">,</span> <span class=\"n\">action</span><span class=\"p\">,</span> <span class=\"n\">t</span><span class=\"p\">]</span> <span class=\"o\">|</span><span class=\"s1\">&#39;==&gt;&#39;</span><span class=\"o\">|</span> <span class=\"n\">state_sym</span><span class=\"p\">[</span><span class=\"n\">s_</span><span class=\"p\">,</span> <span class=\"n\">t</span> <span class=\"o\">+</span> <span class=\"mi\">1</span><span class=\"p\">])</span>\n",
              "\n",
              "        <span class=\"c1\"># Allow only one state at any time</span>\n",
              "        <span class=\"k\">for</span> <span class=\"n\">t</span> <span class=\"ow\">in</span> <span class=\"nb\">range</span><span class=\"p\">(</span><span class=\"n\">time</span><span class=\"o\">+</span><span class=\"mi\">1</span><span class=\"p\">):</span>\n",
              "            <span class=\"c1\"># must be a state at any time</span>\n",
              "            <span class=\"n\">clauses</span><span class=\"o\">.</span><span class=\"n\">append</span><span class=\"p\">(</span><span class=\"n\">associate</span><span class=\"p\">(</span><span class=\"s1\">&#39;|&#39;</span><span class=\"p\">,</span> <span class=\"p\">[</span><span class=\"n\">state_sym</span><span class=\"p\">[</span><span class=\"n\">s</span><span class=\"p\">,</span> <span class=\"n\">t</span><span class=\"p\">]</span> <span class=\"k\">for</span> <span class=\"n\">s</span> <span class=\"ow\">in</span> <span class=\"n\">states</span><span class=\"p\">]))</span>\n",
              "\n",
              "            <span class=\"k\">for</span> <span class=\"n\">s</span> <span class=\"ow\">in</span> <span class=\"n\">states</span><span class=\"p\">:</span>\n",
              "                <span class=\"k\">for</span> <span class=\"n\">s_</span> <span class=\"ow\">in</span> <span class=\"n\">states</span><span class=\"p\">[</span><span class=\"n\">states</span><span class=\"o\">.</span><span class=\"n\">index</span><span class=\"p\">(</span><span class=\"n\">s</span><span class=\"p\">)</span> <span class=\"o\">+</span> <span class=\"mi\">1</span><span class=\"p\">:]:</span>\n",
              "                    <span class=\"c1\"># for each pair of states s, s_ only one is possible at time t</span>\n",
              "                    <span class=\"n\">clauses</span><span class=\"o\">.</span><span class=\"n\">append</span><span class=\"p\">((</span><span class=\"o\">~</span><span class=\"n\">state_sym</span><span class=\"p\">[</span><span class=\"n\">s</span><span class=\"p\">,</span> <span class=\"n\">t</span><span class=\"p\">])</span> <span class=\"o\">|</span> <span class=\"p\">(</span><span class=\"o\">~</span><span class=\"n\">state_sym</span><span class=\"p\">[</span><span class=\"n\">s_</span><span class=\"p\">,</span> <span class=\"n\">t</span><span class=\"p\">]))</span>\n",
              "\n",
              "        <span class=\"c1\"># Restrict to one transition per timestep</span>\n",
              "        <span class=\"k\">for</span> <span class=\"n\">t</span> <span class=\"ow\">in</span> <span class=\"nb\">range</span><span class=\"p\">(</span><span class=\"n\">time</span><span class=\"p\">):</span>\n",
              "            <span class=\"c1\"># list of possible transitions at time t</span>\n",
              "            <span class=\"n\">transitions_t</span> <span class=\"o\">=</span> <span class=\"p\">[</span><span class=\"n\">tr</span> <span class=\"k\">for</span> <span class=\"n\">tr</span> <span class=\"ow\">in</span> <span class=\"n\">action_sym</span> <span class=\"k\">if</span> <span class=\"n\">tr</span><span class=\"p\">[</span><span class=\"mi\">2</span><span class=\"p\">]</span> <span class=\"o\">==</span> <span class=\"n\">t</span><span class=\"p\">]</span>\n",
              "\n",
              "            <span class=\"c1\"># make sure at least one of the transitions happens</span>\n",
              "            <span class=\"n\">clauses</span><span class=\"o\">.</span><span class=\"n\">append</span><span class=\"p\">(</span><span class=\"n\">associate</span><span class=\"p\">(</span><span class=\"s1\">&#39;|&#39;</span><span class=\"p\">,</span> <span class=\"p\">[</span><span class=\"n\">action_sym</span><span class=\"p\">[</span><span class=\"n\">tr</span><span class=\"p\">]</span> <span class=\"k\">for</span> <span class=\"n\">tr</span> <span class=\"ow\">in</span> <span class=\"n\">transitions_t</span><span class=\"p\">]))</span>\n",
              "\n",
              "            <span class=\"k\">for</span> <span class=\"n\">tr</span> <span class=\"ow\">in</span> <span class=\"n\">transitions_t</span><span class=\"p\">:</span>\n",
              "                <span class=\"k\">for</span> <span class=\"n\">tr_</span> <span class=\"ow\">in</span> <span class=\"n\">transitions_t</span><span class=\"p\">[</span><span class=\"n\">transitions_t</span><span class=\"o\">.</span><span class=\"n\">index</span><span class=\"p\">(</span><span class=\"n\">tr</span><span class=\"p\">)</span> <span class=\"o\">+</span> <span class=\"mi\">1</span><span class=\"p\">:]:</span>\n",
              "                    <span class=\"c1\"># there cannot be two transitions tr and tr_ at time t</span>\n",
              "                    <span class=\"n\">clauses</span><span class=\"o\">.</span><span class=\"n\">append</span><span class=\"p\">(</span><span class=\"o\">~</span><span class=\"n\">action_sym</span><span class=\"p\">[</span><span class=\"n\">tr</span><span class=\"p\">]</span> <span class=\"o\">|</span> <span class=\"o\">~</span><span class=\"n\">action_sym</span><span class=\"p\">[</span><span class=\"n\">tr_</span><span class=\"p\">])</span>\n",
              "\n",
              "        <span class=\"c1\"># Combine the clauses to form the cnf</span>\n",
              "        <span class=\"k\">return</span> <span class=\"n\">associate</span><span class=\"p\">(</span><span class=\"s1\">&#39;&amp;&#39;</span><span class=\"p\">,</span> <span class=\"n\">clauses</span><span class=\"p\">)</span>\n",
              "\n",
              "    <span class=\"k\">def</span> <span class=\"nf\">extract_solution</span><span class=\"p\">(</span><span class=\"n\">model</span><span class=\"p\">):</span>\n",
              "        <span class=\"n\">true_transitions</span> <span class=\"o\">=</span> <span class=\"p\">[</span><span class=\"n\">t</span> <span class=\"k\">for</span> <span class=\"n\">t</span> <span class=\"ow\">in</span> <span class=\"n\">action_sym</span> <span class=\"k\">if</span> <span class=\"n\">model</span><span class=\"p\">[</span><span class=\"n\">action_sym</span><span class=\"p\">[</span><span class=\"n\">t</span><span class=\"p\">]]]</span>\n",
              "        <span class=\"c1\"># Sort transitions based on time, which is the 3rd element of the tuple</span>\n",
              "        <span class=\"n\">true_transitions</span><span class=\"o\">.</span><span class=\"n\">sort</span><span class=\"p\">(</span><span class=\"n\">key</span><span class=\"o\">=</span><span class=\"k\">lambda</span> <span class=\"n\">x</span><span class=\"p\">:</span> <span class=\"n\">x</span><span class=\"p\">[</span><span class=\"mi\">2</span><span class=\"p\">])</span>\n",
              "        <span class=\"k\">return</span> <span class=\"p\">[</span><span class=\"n\">action</span> <span class=\"k\">for</span> <span class=\"n\">s</span><span class=\"p\">,</span> <span class=\"n\">action</span><span class=\"p\">,</span> <span class=\"n\">time</span> <span class=\"ow\">in</span> <span class=\"n\">true_transitions</span><span class=\"p\">]</span>\n",
              "\n",
              "    <span class=\"c1\"># Body of SAT_plan algorithm</span>\n",
              "    <span class=\"k\">for</span> <span class=\"n\">t</span> <span class=\"ow\">in</span> <span class=\"nb\">range</span><span class=\"p\">(</span><span class=\"n\">t_max</span><span class=\"p\">):</span>\n",
              "        <span class=\"c1\"># dictionaries to help extract the solution from model</span>\n",
              "        <span class=\"n\">state_sym</span> <span class=\"o\">=</span> <span class=\"p\">{}</span>\n",
              "        <span class=\"n\">action_sym</span> <span class=\"o\">=</span> <span class=\"p\">{}</span>\n",
              "\n",
              "        <span class=\"n\">cnf</span> <span class=\"o\">=</span> <span class=\"n\">translate_to_SAT</span><span class=\"p\">(</span><span class=\"n\">init</span><span class=\"p\">,</span> <span class=\"n\">transition</span><span class=\"p\">,</span> <span class=\"n\">goal</span><span class=\"p\">,</span> <span class=\"n\">t</span><span class=\"p\">)</span>\n",
              "        <span class=\"n\">model</span> <span class=\"o\">=</span> <span class=\"n\">SAT_solver</span><span class=\"p\">(</span><span class=\"n\">cnf</span><span class=\"p\">)</span>\n",
              "        <span class=\"k\">if</span> <span class=\"n\">model</span> <span class=\"ow\">is</span> <span class=\"ow\">not</span> <span class=\"bp\">False</span><span class=\"p\">:</span>\n",
              "            <span class=\"k\">return</span> <span class=\"n\">extract_solution</span><span class=\"p\">(</span><span class=\"n\">model</span><span class=\"p\">)</span>\n",
              "    <span class=\"k\">return</span> <span class=\"bp\">None</span>\n",
              "</pre></div>\n",
              "</body>\n",
              "</html>\n"
            ],
            "text/plain": [
              "<IPython.core.display.HTML object>"
            ]
          },
          "metadata": {
            "tags": []
          }
        }
      ]
    },
    {
      "metadata": {
        "id": "9R8dOmp-WHlI",
        "colab_type": "text"
      },
      "cell_type": "markdown",
      "source": [
        "Let's see few examples of its usage. First we define a transition and then call `SAT_plan`."
      ]
    },
    {
      "metadata": {
        "id": "mvxtDuWZWHlJ",
        "colab_type": "code",
        "outputId": "4ef42bad-5f66-4f63-ed77-bb64ff56e9c5",
        "colab": {
          "base_uri": "https://localhost:8080/",
          "height": 0
        }
      },
      "cell_type": "code",
      "source": [
        "transition = {'A': {'Left': 'A', 'Right': 'B'},\n",
        "            'B': {'Left': 'A', 'Right': 'C'},\n",
        "            'C': {'Left': 'B', 'Right': 'C'}}\n",
        "\n",
        "\n",
        "print(SAT_plan('A', transition, 'C', 2)) \n",
        "print(SAT_plan('A', transition, 'B', 3))\n",
        "print(SAT_plan('C', transition, 'A', 3))"
      ],
      "execution_count": 68,
      "outputs": [
        {
          "output_type": "stream",
          "text": [
            "None\n",
            "['Right']\n",
            "['Left', 'Left']\n"
          ],
          "name": "stdout"
        }
      ]
    },
    {
      "metadata": {
        "id": "XqdPKhXEWHlK",
        "colab_type": "text"
      },
      "cell_type": "markdown",
      "source": [
        "Let us do the same for another transition."
      ]
    },
    {
      "metadata": {
        "id": "S80xRYvEWHlK",
        "colab_type": "code",
        "outputId": "f6213c5c-deb8-4574-a5a7-62bb65b59aa1",
        "colab": {
          "base_uri": "https://localhost:8080/",
          "height": 0
        }
      },
      "cell_type": "code",
      "source": [
        "transition = {(0, 0): {'Right': (0, 1), 'Down': (1, 0)},\n",
        "            (0, 1): {'Left': (1, 0), 'Down': (1, 1)},\n",
        "            (1, 0): {'Right': (1, 0), 'Up': (1, 0), 'Left': (1, 0), 'Down': (1, 0)},\n",
        "            (1, 1): {'Left': (1, 0), 'Up': (0, 1)}}\n",
        "\n",
        "\n",
        "print(SAT_plan((0, 0), transition, (1, 1), 4))"
      ],
      "execution_count": 69,
      "outputs": [
        {
          "output_type": "stream",
          "text": [
            "['Right', 'Down']\n"
          ],
          "name": "stdout"
        }
      ]
    },
    {
      "metadata": {
        "id": "IUJCFCGuWHlM",
        "colab_type": "text"
      },
      "cell_type": "markdown",
      "source": [
        "## First-Order Logic Knowledge Bases: `FolKB`\n",
        "\n",
        "The class `FolKB` can be used to represent a knowledge base of First-order logic sentences. You would initialize and use it the same way as you would for `PropKB` except that the clauses are first-order definite clauses. We will see how to write such clauses to create a database and query them in the following sections."
      ]
    },
    {
      "metadata": {
        "id": "WQx-sh8wWHlN",
        "colab_type": "text"
      },
      "cell_type": "markdown",
      "source": [
        "## Criminal KB\n",
        "In this section we create a `FolKB` based on the following paragraph.<br/>\n",
        "<em>The law says that it is a crime for an American to sell weapons to hostile nations. The country Nono, an enemy of America, has some missiles, and all of its missiles were sold to it by Colonel West, who is American.</em><br/>\n",
        "The first step is to extract the facts and convert them into first-order definite clauses. Extracting the facts from data alone is a challenging task. Fortunately, we have a small paragraph and can do extraction and conversion manually. We'll store the clauses in list aptly named `clauses`."
      ]
    },
    {
      "metadata": {
        "id": "wmvkAqEYWHlO",
        "colab_type": "code",
        "colab": {}
      },
      "cell_type": "code",
      "source": [
        "clauses = []"
      ],
      "execution_count": 0,
      "outputs": []
    },
    {
      "metadata": {
        "id": "M1Nw5FJ9WHlO",
        "colab_type": "text"
      },
      "cell_type": "markdown",
      "source": [
        "<em>“... it is a crime for an American to sell weapons to hostile nations”</em><br/>\n",
        "The keywords to look for here are 'crime', 'American', 'sell', 'weapon' and 'hostile'. We use predicate symbols to make meaning of them.\n",
        "\n",
        "* `Criminal(x)`: `x` is a criminal\n",
        "* `American(x)`: `x` is an American\n",
        "* `Sells(x ,y, z)`: `x` sells `y` to `z`\n",
        "* `Weapon(x)`: `x` is a weapon\n",
        "* `Hostile(x)`: `x` is a hostile nation\n",
        "\n",
        "Let us now combine them with appropriate variable naming to depict the meaning of the sentence. The criminal `x` is also the American `x` who sells weapon `y` to `z`, which is a hostile nation.\n",
        "\n",
        "$\\text{American}(x) \\land \\text{Weapon}(y) \\land \\text{Sells}(x, y, z) \\land \\text{Hostile}(z) \\implies \\text{Criminal} (x)$"
      ]
    },
    {
      "metadata": {
        "id": "Pge_wdbXWHlQ",
        "colab_type": "code",
        "colab": {}
      },
      "cell_type": "code",
      "source": [
        "clauses.append(expr(\"(American(x) & Weapon(y) & Sells(x, y, z) & Hostile(z)) ==> Criminal(x)\"))"
      ],
      "execution_count": 0,
      "outputs": []
    },
    {
      "metadata": {
        "id": "qDYyfc9xWHlR",
        "colab_type": "text"
      },
      "cell_type": "markdown",
      "source": [
        "<em>\"The country Nono, an enemy of America\"</em><br/>\n",
        "We now know that Nono is an enemy of America. We represent these nations using the constant symbols `Nono` and `America`. the enemy relation is show using the predicate symbol `Enemy`.\n",
        "\n",
        "$\\text{Enemy}(\\text{Nono}, \\text{America})$"
      ]
    },
    {
      "metadata": {
        "id": "uKBoTv1UWHlR",
        "colab_type": "code",
        "colab": {}
      },
      "cell_type": "code",
      "source": [
        "clauses.append(expr(\"Enemy(Nono, America)\"))"
      ],
      "execution_count": 0,
      "outputs": []
    },
    {
      "metadata": {
        "id": "nXknx0YuWHlS",
        "colab_type": "text"
      },
      "cell_type": "markdown",
      "source": [
        "<em>\"Nono ... has some missiles\"</em><br/>\n",
        "This states the existence of some missile which is owned by Nono. $\\exists x \\text{Owns}(\\text{Nono}, x) \\land \\text{Missile}(x)$. We invoke existential instantiation to introduce a new constant `M1` which is the missile owned by Nono.\n",
        "\n",
        "$\\text{Owns}(\\text{Nono}, \\text{M1}), \\text{Missile}(\\text{M1})$"
      ]
    },
    {
      "metadata": {
        "id": "yNwDHR-YWHlS",
        "colab_type": "code",
        "colab": {}
      },
      "cell_type": "code",
      "source": [
        "clauses.append(expr(\"Owns(Nono, M1)\"))\n",
        "clauses.append(expr(\"Missile(M1)\"))"
      ],
      "execution_count": 0,
      "outputs": []
    },
    {
      "metadata": {
        "collapsed": true,
        "id": "h568sqmbWHlU",
        "colab_type": "text"
      },
      "cell_type": "markdown",
      "source": [
        "<em>\"All of its missiles were sold to it by Colonel West\"</em><br/>\n",
        "If Nono owns something and it classifies as a missile, then it was sold to Nono by West.\n",
        "\n",
        "$\\text{Missile}(x) \\land \\text{Owns}(\\text{Nono}, x) \\implies \\text{Sells}(\\text{West}, x, \\text{Nono})$"
      ]
    },
    {
      "metadata": {
        "id": "J6M-227hWHlU",
        "colab_type": "code",
        "colab": {}
      },
      "cell_type": "code",
      "source": [
        "clauses.append(expr(\"(Missile(x) & Owns(Nono, x)) ==> Sells(West, x, Nono)\"))"
      ],
      "execution_count": 0,
      "outputs": []
    },
    {
      "metadata": {
        "id": "luxlJmxJWHlV",
        "colab_type": "text"
      },
      "cell_type": "markdown",
      "source": [
        "<em>\"West, who is American\"</em><br/>\n",
        "West is an American.\n",
        "\n",
        "$\\text{American}(\\text{West})$"
      ]
    },
    {
      "metadata": {
        "id": "OUoCdTevWHlV",
        "colab_type": "code",
        "colab": {}
      },
      "cell_type": "code",
      "source": [
        "clauses.append(expr(\"American(West)\"))"
      ],
      "execution_count": 0,
      "outputs": []
    },
    {
      "metadata": {
        "id": "VbmcOrJ0WHlX",
        "colab_type": "text"
      },
      "cell_type": "markdown",
      "source": [
        "We also know, from our understanding of language, that missiles are weapons and that an enemy of America counts as “hostile”.\n",
        "\n",
        "$\\text{Missile}(x) \\implies \\text{Weapon}(x), \\text{Enemy}(x, \\text{America}) \\implies \\text{Hostile}(x)$"
      ]
    },
    {
      "metadata": {
        "id": "4YonGqPkWHlX",
        "colab_type": "code",
        "colab": {}
      },
      "cell_type": "code",
      "source": [
        "clauses.append(expr(\"Missile(x) ==> Weapon(x)\"))\n",
        "clauses.append(expr(\"Enemy(x, America) ==> Hostile(x)\"))"
      ],
      "execution_count": 0,
      "outputs": []
    },
    {
      "metadata": {
        "id": "1BP6mI9-WHlY",
        "colab_type": "text"
      },
      "cell_type": "markdown",
      "source": [
        "Now that we have converted the information into first-order definite clauses we can create our first-order logic knowledge base."
      ]
    },
    {
      "metadata": {
        "id": "FcVlKhydWHlY",
        "colab_type": "code",
        "colab": {}
      },
      "cell_type": "code",
      "source": [
        "crime_kb = FolKB(clauses)"
      ],
      "execution_count": 0,
      "outputs": []
    },
    {
      "metadata": {
        "id": "ZDu22ApbWHlZ",
        "colab_type": "text"
      },
      "cell_type": "markdown",
      "source": [
        "The `subst` helper function substitutes variables with given values in first-order logic statements.\n",
        "This will be useful in later algorithms.\n",
        "It's implementation is quite simple and self-explanatory."
      ]
    },
    {
      "metadata": {
        "id": "GcQhW3TFWHlZ",
        "colab_type": "code",
        "outputId": "2ee8b9b7-7236-44f7-8574-d293f90db8cb",
        "colab": {
          "base_uri": "https://localhost:8080/",
          "height": 0
        }
      },
      "cell_type": "code",
      "source": [
        "psource(subst)"
      ],
      "execution_count": 78,
      "outputs": [
        {
          "output_type": "display_data",
          "data": {
            "text/html": [
              "<!DOCTYPE html PUBLIC \"-//W3C//DTD HTML 4.01//EN\"\n",
              "   \"http://www.w3.org/TR/html4/strict.dtd\">\n",
              "\n",
              "<html>\n",
              "<head>\n",
              "  <title></title>\n",
              "  <meta http-equiv=\"content-type\" content=\"text/html; charset=None\">\n",
              "  <style type=\"text/css\">\n",
              "td.linenos { background-color: #f0f0f0; padding-right: 10px; }\n",
              "span.lineno { background-color: #f0f0f0; padding: 0 5px 0 5px; }\n",
              "pre { line-height: 125%; }\n",
              "body .hll { background-color: #ffffcc }\n",
              "body  { background: #f8f8f8; }\n",
              "body .c { color: #408080; font-style: italic } /* Comment */\n",
              "body .err { border: 1px solid #FF0000 } /* Error */\n",
              "body .k { color: #008000; font-weight: bold } /* Keyword */\n",
              "body .o { color: #666666 } /* Operator */\n",
              "body .ch { color: #408080; font-style: italic } /* Comment.Hashbang */\n",
              "body .cm { color: #408080; font-style: italic } /* Comment.Multiline */\n",
              "body .cp { color: #BC7A00 } /* Comment.Preproc */\n",
              "body .cpf { color: #408080; font-style: italic } /* Comment.PreprocFile */\n",
              "body .c1 { color: #408080; font-style: italic } /* Comment.Single */\n",
              "body .cs { color: #408080; font-style: italic } /* Comment.Special */\n",
              "body .gd { color: #A00000 } /* Generic.Deleted */\n",
              "body .ge { font-style: italic } /* Generic.Emph */\n",
              "body .gr { color: #FF0000 } /* Generic.Error */\n",
              "body .gh { color: #000080; font-weight: bold } /* Generic.Heading */\n",
              "body .gi { color: #00A000 } /* Generic.Inserted */\n",
              "body .go { color: #888888 } /* Generic.Output */\n",
              "body .gp { color: #000080; font-weight: bold } /* Generic.Prompt */\n",
              "body .gs { font-weight: bold } /* Generic.Strong */\n",
              "body .gu { color: #800080; font-weight: bold } /* Generic.Subheading */\n",
              "body .gt { color: #0044DD } /* Generic.Traceback */\n",
              "body .kc { color: #008000; font-weight: bold } /* Keyword.Constant */\n",
              "body .kd { color: #008000; font-weight: bold } /* Keyword.Declaration */\n",
              "body .kn { color: #008000; font-weight: bold } /* Keyword.Namespace */\n",
              "body .kp { color: #008000 } /* Keyword.Pseudo */\n",
              "body .kr { color: #008000; font-weight: bold } /* Keyword.Reserved */\n",
              "body .kt { color: #B00040 } /* Keyword.Type */\n",
              "body .m { color: #666666 } /* Literal.Number */\n",
              "body .s { color: #BA2121 } /* Literal.String */\n",
              "body .na { color: #7D9029 } /* Name.Attribute */\n",
              "body .nb { color: #008000 } /* Name.Builtin */\n",
              "body .nc { color: #0000FF; font-weight: bold } /* Name.Class */\n",
              "body .no { color: #880000 } /* Name.Constant */\n",
              "body .nd { color: #AA22FF } /* Name.Decorator */\n",
              "body .ni { color: #999999; font-weight: bold } /* Name.Entity */\n",
              "body .ne { color: #D2413A; font-weight: bold } /* Name.Exception */\n",
              "body .nf { color: #0000FF } /* Name.Function */\n",
              "body .nl { color: #A0A000 } /* Name.Label */\n",
              "body .nn { color: #0000FF; font-weight: bold } /* Name.Namespace */\n",
              "body .nt { color: #008000; font-weight: bold } /* Name.Tag */\n",
              "body .nv { color: #19177C } /* Name.Variable */\n",
              "body .ow { color: #AA22FF; font-weight: bold } /* Operator.Word */\n",
              "body .w { color: #bbbbbb } /* Text.Whitespace */\n",
              "body .mb { color: #666666 } /* Literal.Number.Bin */\n",
              "body .mf { color: #666666 } /* Literal.Number.Float */\n",
              "body .mh { color: #666666 } /* Literal.Number.Hex */\n",
              "body .mi { color: #666666 } /* Literal.Number.Integer */\n",
              "body .mo { color: #666666 } /* Literal.Number.Oct */\n",
              "body .sb { color: #BA2121 } /* Literal.String.Backtick */\n",
              "body .sc { color: #BA2121 } /* Literal.String.Char */\n",
              "body .sd { color: #BA2121; font-style: italic } /* Literal.String.Doc */\n",
              "body .s2 { color: #BA2121 } /* Literal.String.Double */\n",
              "body .se { color: #BB6622; font-weight: bold } /* Literal.String.Escape */\n",
              "body .sh { color: #BA2121 } /* Literal.String.Heredoc */\n",
              "body .si { color: #BB6688; font-weight: bold } /* Literal.String.Interpol */\n",
              "body .sx { color: #008000 } /* Literal.String.Other */\n",
              "body .sr { color: #BB6688 } /* Literal.String.Regex */\n",
              "body .s1 { color: #BA2121 } /* Literal.String.Single */\n",
              "body .ss { color: #19177C } /* Literal.String.Symbol */\n",
              "body .bp { color: #008000 } /* Name.Builtin.Pseudo */\n",
              "body .vc { color: #19177C } /* Name.Variable.Class */\n",
              "body .vg { color: #19177C } /* Name.Variable.Global */\n",
              "body .vi { color: #19177C } /* Name.Variable.Instance */\n",
              "body .il { color: #666666 } /* Literal.Number.Integer.Long */\n",
              "\n",
              "  </style>\n",
              "</head>\n",
              "<body>\n",
              "<h2></h2>\n",
              "\n",
              "<div class=\"highlight\"><pre><span></span><span class=\"k\">def</span> <span class=\"nf\">subst</span><span class=\"p\">(</span><span class=\"n\">s</span><span class=\"p\">,</span> <span class=\"n\">x</span><span class=\"p\">):</span>\n",
              "    <span class=\"sd\">&quot;&quot;&quot;Substitute the substitution s into the expression x.</span>\n",
              "<span class=\"sd\">    &gt;&gt;&gt; subst({x: 42, y:0}, F(x) + y)</span>\n",
              "<span class=\"sd\">    (F(42) + 0)</span>\n",
              "<span class=\"sd\">    &quot;&quot;&quot;</span>\n",
              "    <span class=\"k\">if</span> <span class=\"nb\">isinstance</span><span class=\"p\">(</span><span class=\"n\">x</span><span class=\"p\">,</span> <span class=\"nb\">list</span><span class=\"p\">):</span>\n",
              "        <span class=\"k\">return</span> <span class=\"p\">[</span><span class=\"n\">subst</span><span class=\"p\">(</span><span class=\"n\">s</span><span class=\"p\">,</span> <span class=\"n\">xi</span><span class=\"p\">)</span> <span class=\"k\">for</span> <span class=\"n\">xi</span> <span class=\"ow\">in</span> <span class=\"n\">x</span><span class=\"p\">]</span>\n",
              "    <span class=\"k\">elif</span> <span class=\"nb\">isinstance</span><span class=\"p\">(</span><span class=\"n\">x</span><span class=\"p\">,</span> <span class=\"nb\">tuple</span><span class=\"p\">):</span>\n",
              "        <span class=\"k\">return</span> <span class=\"nb\">tuple</span><span class=\"p\">([</span><span class=\"n\">subst</span><span class=\"p\">(</span><span class=\"n\">s</span><span class=\"p\">,</span> <span class=\"n\">xi</span><span class=\"p\">)</span> <span class=\"k\">for</span> <span class=\"n\">xi</span> <span class=\"ow\">in</span> <span class=\"n\">x</span><span class=\"p\">])</span>\n",
              "    <span class=\"k\">elif</span> <span class=\"ow\">not</span> <span class=\"nb\">isinstance</span><span class=\"p\">(</span><span class=\"n\">x</span><span class=\"p\">,</span> <span class=\"n\">Expr</span><span class=\"p\">):</span>\n",
              "        <span class=\"k\">return</span> <span class=\"n\">x</span>\n",
              "    <span class=\"k\">elif</span> <span class=\"n\">is_var_symbol</span><span class=\"p\">(</span><span class=\"n\">x</span><span class=\"o\">.</span><span class=\"n\">op</span><span class=\"p\">):</span>\n",
              "        <span class=\"k\">return</span> <span class=\"n\">s</span><span class=\"o\">.</span><span class=\"n\">get</span><span class=\"p\">(</span><span class=\"n\">x</span><span class=\"p\">,</span> <span class=\"n\">x</span><span class=\"p\">)</span>\n",
              "    <span class=\"k\">else</span><span class=\"p\">:</span>\n",
              "        <span class=\"k\">return</span> <span class=\"n\">Expr</span><span class=\"p\">(</span><span class=\"n\">x</span><span class=\"o\">.</span><span class=\"n\">op</span><span class=\"p\">,</span> <span class=\"o\">*</span><span class=\"p\">[</span><span class=\"n\">subst</span><span class=\"p\">(</span><span class=\"n\">s</span><span class=\"p\">,</span> <span class=\"n\">arg</span><span class=\"p\">)</span> <span class=\"k\">for</span> <span class=\"n\">arg</span> <span class=\"ow\">in</span> <span class=\"n\">x</span><span class=\"o\">.</span><span class=\"n\">args</span><span class=\"p\">])</span>\n",
              "</pre></div>\n",
              "</body>\n",
              "</html>\n"
            ],
            "text/plain": [
              "<IPython.core.display.HTML object>"
            ]
          },
          "metadata": {
            "tags": []
          }
        }
      ]
    },
    {
      "metadata": {
        "id": "Xm_yUb6UWHlb",
        "colab_type": "text"
      },
      "cell_type": "markdown",
      "source": [
        "Here's an example of how `subst` can be used."
      ]
    },
    {
      "metadata": {
        "id": "Niw0x67XWHlb",
        "colab_type": "code",
        "outputId": "640ece1f-9d94-4160-b742-427922027616",
        "colab": {
          "base_uri": "https://localhost:8080/",
          "height": 0
        }
      },
      "cell_type": "code",
      "source": [
        "subst({x: expr('Nono'), y: expr('M1')}, expr('Owns(x, y)'))"
      ],
      "execution_count": 79,
      "outputs": [
        {
          "output_type": "execute_result",
          "data": {
            "text/plain": [
              "Owns(Nono, M1)"
            ]
          },
          "metadata": {
            "tags": []
          },
          "execution_count": 79
        }
      ]
    },
    {
      "metadata": {
        "id": "FdXcKbhCWHlc",
        "colab_type": "text"
      },
      "cell_type": "markdown",
      "source": [
        "## Inference in First-Order Logic\n",
        "In this section we look at a forward chaining and a backward chaining algorithm for `FolKB`. Both aforementioned algorithms rely on a process called <strong>unification</strong>, a key component of all first-order inference algorithms."
      ]
    },
    {
      "metadata": {
        "id": "YGsEzYA8WHlc",
        "colab_type": "text"
      },
      "cell_type": "markdown",
      "source": [
        "### Unification\n",
        "We sometimes require finding substitutions that make different logical expressions look identical. This process, called unification, is done by the `unify` algorithm. It takes as input two sentences and returns a <em>unifier</em> for them if one exists. A unifier is a dictionary which stores the substitutions required to make the two sentences identical. It does so by recursively unifying the components of a sentence, where the unification of a variable symbol `var` with a constant symbol `Const` is the mapping `{var: Const}`. Let's look at a few examples."
      ]
    },
    {
      "metadata": {
        "id": "26GzzOl7WHld",
        "colab_type": "code",
        "outputId": "16565e61-2567-4ef9-e53a-bbda3c3afe97",
        "colab": {
          "base_uri": "https://localhost:8080/",
          "height": 0
        }
      },
      "cell_type": "code",
      "source": [
        "unify(expr('x'), 3)"
      ],
      "execution_count": 80,
      "outputs": [
        {
          "output_type": "execute_result",
          "data": {
            "text/plain": [
              "{x: 3}"
            ]
          },
          "metadata": {
            "tags": []
          },
          "execution_count": 80
        }
      ]
    },
    {
      "metadata": {
        "id": "NLirHRb2WHle",
        "colab_type": "code",
        "outputId": "f7beeea2-65db-499d-8cef-6aaa5fc8856d",
        "colab": {
          "base_uri": "https://localhost:8080/",
          "height": 0
        }
      },
      "cell_type": "code",
      "source": [
        "unify(expr('A(x)'), expr('A(B)'))"
      ],
      "execution_count": 81,
      "outputs": [
        {
          "output_type": "execute_result",
          "data": {
            "text/plain": [
              "{x: B}"
            ]
          },
          "metadata": {
            "tags": []
          },
          "execution_count": 81
        }
      ]
    },
    {
      "metadata": {
        "id": "PBzhgILTWHlh",
        "colab_type": "code",
        "outputId": "4a00f9a3-86be-420a-ecdb-04e244fcc62f",
        "colab": {
          "base_uri": "https://localhost:8080/",
          "height": 0
        }
      },
      "cell_type": "code",
      "source": [
        "unify(expr('Cat(x) & Dog(Dobby)'), expr('Cat(Bella) & Dog(y)'))"
      ],
      "execution_count": 82,
      "outputs": [
        {
          "output_type": "execute_result",
          "data": {
            "text/plain": [
              "{x: Bella, y: Dobby}"
            ]
          },
          "metadata": {
            "tags": []
          },
          "execution_count": 82
        }
      ]
    },
    {
      "metadata": {
        "id": "371F4zGXWHlk",
        "colab_type": "text"
      },
      "cell_type": "markdown",
      "source": [
        "In cases where there is no possible substitution that unifies the two sentences the function return `None`."
      ]
    },
    {
      "metadata": {
        "id": "HMFIUPChWHlk",
        "colab_type": "code",
        "outputId": "82f98ff6-fc3d-46aa-cde5-c7ff0b4cba3f",
        "colab": {
          "base_uri": "https://localhost:8080/",
          "height": 0
        }
      },
      "cell_type": "code",
      "source": [
        "print(unify(expr('Cat(x)'), expr('Dog(Dobby)')))"
      ],
      "execution_count": 83,
      "outputs": [
        {
          "output_type": "stream",
          "text": [
            "None\n"
          ],
          "name": "stdout"
        }
      ]
    },
    {
      "metadata": {
        "id": "vHnDJ6dYWHlk",
        "colab_type": "text"
      },
      "cell_type": "markdown",
      "source": [
        "We also need to take care we do not unintentionally use the same variable name. Unify treats them as a single variable which prevents it from taking multiple value."
      ]
    },
    {
      "metadata": {
        "id": "EilII0xpWHlk",
        "colab_type": "code",
        "outputId": "9794f428-bad1-4c58-9a9c-c32e6bc5345c",
        "colab": {
          "base_uri": "https://localhost:8080/",
          "height": 0
        }
      },
      "cell_type": "code",
      "source": [
        "print(unify(expr('Cat(x) & Dog(Dobby)'), expr('Cat(Bella) & Dog(x)')))"
      ],
      "execution_count": 84,
      "outputs": [
        {
          "output_type": "stream",
          "text": [
            "None\n"
          ],
          "name": "stdout"
        }
      ]
    },
    {
      "metadata": {
        "id": "LEya0MYHWHlm",
        "colab_type": "text"
      },
      "cell_type": "markdown",
      "source": [
        "### Forward Chaining Algorithm\n",
        "We consider the simple forward-chaining algorithm presented in <em>Figure 9.3</em>. We look at each rule in the knowledge base and see if the premises can be satisfied. This is done by finding a substitution which unifies each of the premise with a clause in the `KB`. If we are able to unify the premises, the conclusion (with the corresponding substitution) is added to the `KB`. This inferencing process is repeated until either the query can be answered or till no new sentences can be added. We test if the newly added clause unifies with the query in which case the substitution yielded by `unify` is an answer to the query. If we run out of sentences to infer, this means the query was a failure.\n",
        "\n",
        "The function `fol_fc_ask` is a generator which yields all substitutions which validate the query."
      ]
    },
    {
      "metadata": {
        "id": "BXhKfdN5WHlm",
        "colab_type": "code",
        "outputId": "24320fa3-be92-4aa6-ddd5-f23c4dd8918c",
        "colab": {
          "base_uri": "https://localhost:8080/",
          "height": 0
        }
      },
      "cell_type": "code",
      "source": [
        "psource(fol_fc_ask)"
      ],
      "execution_count": 85,
      "outputs": [
        {
          "output_type": "display_data",
          "data": {
            "text/html": [
              "<!DOCTYPE html PUBLIC \"-//W3C//DTD HTML 4.01//EN\"\n",
              "   \"http://www.w3.org/TR/html4/strict.dtd\">\n",
              "\n",
              "<html>\n",
              "<head>\n",
              "  <title></title>\n",
              "  <meta http-equiv=\"content-type\" content=\"text/html; charset=None\">\n",
              "  <style type=\"text/css\">\n",
              "td.linenos { background-color: #f0f0f0; padding-right: 10px; }\n",
              "span.lineno { background-color: #f0f0f0; padding: 0 5px 0 5px; }\n",
              "pre { line-height: 125%; }\n",
              "body .hll { background-color: #ffffcc }\n",
              "body  { background: #f8f8f8; }\n",
              "body .c { color: #408080; font-style: italic } /* Comment */\n",
              "body .err { border: 1px solid #FF0000 } /* Error */\n",
              "body .k { color: #008000; font-weight: bold } /* Keyword */\n",
              "body .o { color: #666666 } /* Operator */\n",
              "body .ch { color: #408080; font-style: italic } /* Comment.Hashbang */\n",
              "body .cm { color: #408080; font-style: italic } /* Comment.Multiline */\n",
              "body .cp { color: #BC7A00 } /* Comment.Preproc */\n",
              "body .cpf { color: #408080; font-style: italic } /* Comment.PreprocFile */\n",
              "body .c1 { color: #408080; font-style: italic } /* Comment.Single */\n",
              "body .cs { color: #408080; font-style: italic } /* Comment.Special */\n",
              "body .gd { color: #A00000 } /* Generic.Deleted */\n",
              "body .ge { font-style: italic } /* Generic.Emph */\n",
              "body .gr { color: #FF0000 } /* Generic.Error */\n",
              "body .gh { color: #000080; font-weight: bold } /* Generic.Heading */\n",
              "body .gi { color: #00A000 } /* Generic.Inserted */\n",
              "body .go { color: #888888 } /* Generic.Output */\n",
              "body .gp { color: #000080; font-weight: bold } /* Generic.Prompt */\n",
              "body .gs { font-weight: bold } /* Generic.Strong */\n",
              "body .gu { color: #800080; font-weight: bold } /* Generic.Subheading */\n",
              "body .gt { color: #0044DD } /* Generic.Traceback */\n",
              "body .kc { color: #008000; font-weight: bold } /* Keyword.Constant */\n",
              "body .kd { color: #008000; font-weight: bold } /* Keyword.Declaration */\n",
              "body .kn { color: #008000; font-weight: bold } /* Keyword.Namespace */\n",
              "body .kp { color: #008000 } /* Keyword.Pseudo */\n",
              "body .kr { color: #008000; font-weight: bold } /* Keyword.Reserved */\n",
              "body .kt { color: #B00040 } /* Keyword.Type */\n",
              "body .m { color: #666666 } /* Literal.Number */\n",
              "body .s { color: #BA2121 } /* Literal.String */\n",
              "body .na { color: #7D9029 } /* Name.Attribute */\n",
              "body .nb { color: #008000 } /* Name.Builtin */\n",
              "body .nc { color: #0000FF; font-weight: bold } /* Name.Class */\n",
              "body .no { color: #880000 } /* Name.Constant */\n",
              "body .nd { color: #AA22FF } /* Name.Decorator */\n",
              "body .ni { color: #999999; font-weight: bold } /* Name.Entity */\n",
              "body .ne { color: #D2413A; font-weight: bold } /* Name.Exception */\n",
              "body .nf { color: #0000FF } /* Name.Function */\n",
              "body .nl { color: #A0A000 } /* Name.Label */\n",
              "body .nn { color: #0000FF; font-weight: bold } /* Name.Namespace */\n",
              "body .nt { color: #008000; font-weight: bold } /* Name.Tag */\n",
              "body .nv { color: #19177C } /* Name.Variable */\n",
              "body .ow { color: #AA22FF; font-weight: bold } /* Operator.Word */\n",
              "body .w { color: #bbbbbb } /* Text.Whitespace */\n",
              "body .mb { color: #666666 } /* Literal.Number.Bin */\n",
              "body .mf { color: #666666 } /* Literal.Number.Float */\n",
              "body .mh { color: #666666 } /* Literal.Number.Hex */\n",
              "body .mi { color: #666666 } /* Literal.Number.Integer */\n",
              "body .mo { color: #666666 } /* Literal.Number.Oct */\n",
              "body .sb { color: #BA2121 } /* Literal.String.Backtick */\n",
              "body .sc { color: #BA2121 } /* Literal.String.Char */\n",
              "body .sd { color: #BA2121; font-style: italic } /* Literal.String.Doc */\n",
              "body .s2 { color: #BA2121 } /* Literal.String.Double */\n",
              "body .se { color: #BB6622; font-weight: bold } /* Literal.String.Escape */\n",
              "body .sh { color: #BA2121 } /* Literal.String.Heredoc */\n",
              "body .si { color: #BB6688; font-weight: bold } /* Literal.String.Interpol */\n",
              "body .sx { color: #008000 } /* Literal.String.Other */\n",
              "body .sr { color: #BB6688 } /* Literal.String.Regex */\n",
              "body .s1 { color: #BA2121 } /* Literal.String.Single */\n",
              "body .ss { color: #19177C } /* Literal.String.Symbol */\n",
              "body .bp { color: #008000 } /* Name.Builtin.Pseudo */\n",
              "body .vc { color: #19177C } /* Name.Variable.Class */\n",
              "body .vg { color: #19177C } /* Name.Variable.Global */\n",
              "body .vi { color: #19177C } /* Name.Variable.Instance */\n",
              "body .il { color: #666666 } /* Literal.Number.Integer.Long */\n",
              "\n",
              "  </style>\n",
              "</head>\n",
              "<body>\n",
              "<h2></h2>\n",
              "\n",
              "<div class=\"highlight\"><pre><span></span><span class=\"k\">def</span> <span class=\"nf\">fol_fc_ask</span><span class=\"p\">(</span><span class=\"n\">KB</span><span class=\"p\">,</span> <span class=\"n\">alpha</span><span class=\"p\">):</span>\n",
              "    <span class=\"sd\">&quot;&quot;&quot;A simple forward-chaining algorithm. [Figure 9.3]&quot;&quot;&quot;</span>\n",
              "    <span class=\"c1\"># TODO: Improve efficiency</span>\n",
              "    <span class=\"n\">kb_consts</span> <span class=\"o\">=</span> <span class=\"nb\">list</span><span class=\"p\">({</span><span class=\"n\">c</span> <span class=\"k\">for</span> <span class=\"n\">clause</span> <span class=\"ow\">in</span> <span class=\"n\">KB</span><span class=\"o\">.</span><span class=\"n\">clauses</span> <span class=\"k\">for</span> <span class=\"n\">c</span> <span class=\"ow\">in</span> <span class=\"n\">constant_symbols</span><span class=\"p\">(</span><span class=\"n\">clause</span><span class=\"p\">)})</span>\n",
              "    <span class=\"k\">def</span> <span class=\"nf\">enum_subst</span><span class=\"p\">(</span><span class=\"n\">p</span><span class=\"p\">):</span>\n",
              "        <span class=\"n\">query_vars</span> <span class=\"o\">=</span> <span class=\"nb\">list</span><span class=\"p\">({</span><span class=\"n\">v</span> <span class=\"k\">for</span> <span class=\"n\">clause</span> <span class=\"ow\">in</span> <span class=\"n\">p</span> <span class=\"k\">for</span> <span class=\"n\">v</span> <span class=\"ow\">in</span> <span class=\"n\">variables</span><span class=\"p\">(</span><span class=\"n\">clause</span><span class=\"p\">)})</span>\n",
              "        <span class=\"k\">for</span> <span class=\"n\">assignment_list</span> <span class=\"ow\">in</span> <span class=\"n\">itertools</span><span class=\"o\">.</span><span class=\"n\">product</span><span class=\"p\">(</span><span class=\"n\">kb_consts</span><span class=\"p\">,</span> <span class=\"n\">repeat</span><span class=\"o\">=</span><span class=\"nb\">len</span><span class=\"p\">(</span><span class=\"n\">query_vars</span><span class=\"p\">)):</span>\n",
              "            <span class=\"n\">theta</span> <span class=\"o\">=</span> <span class=\"p\">{</span><span class=\"n\">x</span><span class=\"p\">:</span> <span class=\"n\">y</span> <span class=\"k\">for</span> <span class=\"n\">x</span><span class=\"p\">,</span> <span class=\"n\">y</span> <span class=\"ow\">in</span> <span class=\"nb\">zip</span><span class=\"p\">(</span><span class=\"n\">query_vars</span><span class=\"p\">,</span> <span class=\"n\">assignment_list</span><span class=\"p\">)}</span>\n",
              "            <span class=\"k\">yield</span> <span class=\"n\">theta</span>\n",
              "\n",
              "    <span class=\"c1\"># check if we can answer without new inferences</span>\n",
              "    <span class=\"k\">for</span> <span class=\"n\">q</span> <span class=\"ow\">in</span> <span class=\"n\">KB</span><span class=\"o\">.</span><span class=\"n\">clauses</span><span class=\"p\">:</span>\n",
              "        <span class=\"n\">phi</span> <span class=\"o\">=</span> <span class=\"n\">unify</span><span class=\"p\">(</span><span class=\"n\">q</span><span class=\"p\">,</span> <span class=\"n\">alpha</span><span class=\"p\">,</span> <span class=\"p\">{})</span>\n",
              "        <span class=\"k\">if</span> <span class=\"n\">phi</span> <span class=\"ow\">is</span> <span class=\"ow\">not</span> <span class=\"bp\">None</span><span class=\"p\">:</span>\n",
              "            <span class=\"k\">yield</span> <span class=\"n\">phi</span>\n",
              "\n",
              "    <span class=\"k\">while</span> <span class=\"bp\">True</span><span class=\"p\">:</span>\n",
              "        <span class=\"n\">new</span> <span class=\"o\">=</span> <span class=\"p\">[]</span>\n",
              "        <span class=\"k\">for</span> <span class=\"n\">rule</span> <span class=\"ow\">in</span> <span class=\"n\">KB</span><span class=\"o\">.</span><span class=\"n\">clauses</span><span class=\"p\">:</span>\n",
              "            <span class=\"n\">p</span><span class=\"p\">,</span> <span class=\"n\">q</span> <span class=\"o\">=</span> <span class=\"n\">parse_definite_clause</span><span class=\"p\">(</span><span class=\"n\">rule</span><span class=\"p\">)</span>\n",
              "            <span class=\"k\">for</span> <span class=\"n\">theta</span> <span class=\"ow\">in</span> <span class=\"n\">enum_subst</span><span class=\"p\">(</span><span class=\"n\">p</span><span class=\"p\">):</span>\n",
              "                <span class=\"k\">if</span> <span class=\"nb\">set</span><span class=\"p\">(</span><span class=\"n\">subst</span><span class=\"p\">(</span><span class=\"n\">theta</span><span class=\"p\">,</span> <span class=\"n\">p</span><span class=\"p\">))</span><span class=\"o\">.</span><span class=\"n\">issubset</span><span class=\"p\">(</span><span class=\"nb\">set</span><span class=\"p\">(</span><span class=\"n\">KB</span><span class=\"o\">.</span><span class=\"n\">clauses</span><span class=\"p\">)):</span>\n",
              "                    <span class=\"n\">q_</span> <span class=\"o\">=</span> <span class=\"n\">subst</span><span class=\"p\">(</span><span class=\"n\">theta</span><span class=\"p\">,</span> <span class=\"n\">q</span><span class=\"p\">)</span>\n",
              "                    <span class=\"k\">if</span> <span class=\"nb\">all</span><span class=\"p\">([</span><span class=\"n\">unify</span><span class=\"p\">(</span><span class=\"n\">x</span><span class=\"p\">,</span> <span class=\"n\">q_</span><span class=\"p\">,</span> <span class=\"p\">{})</span> <span class=\"ow\">is</span> <span class=\"bp\">None</span> <span class=\"k\">for</span> <span class=\"n\">x</span> <span class=\"ow\">in</span> <span class=\"n\">KB</span><span class=\"o\">.</span><span class=\"n\">clauses</span> <span class=\"o\">+</span> <span class=\"n\">new</span><span class=\"p\">]):</span>\n",
              "                        <span class=\"n\">new</span><span class=\"o\">.</span><span class=\"n\">append</span><span class=\"p\">(</span><span class=\"n\">q_</span><span class=\"p\">)</span>\n",
              "                        <span class=\"n\">phi</span> <span class=\"o\">=</span> <span class=\"n\">unify</span><span class=\"p\">(</span><span class=\"n\">q_</span><span class=\"p\">,</span> <span class=\"n\">alpha</span><span class=\"p\">,</span> <span class=\"p\">{})</span>\n",
              "                        <span class=\"k\">if</span> <span class=\"n\">phi</span> <span class=\"ow\">is</span> <span class=\"ow\">not</span> <span class=\"bp\">None</span><span class=\"p\">:</span>\n",
              "                            <span class=\"k\">yield</span> <span class=\"n\">phi</span>\n",
              "        <span class=\"k\">if</span> <span class=\"ow\">not</span> <span class=\"n\">new</span><span class=\"p\">:</span>\n",
              "            <span class=\"k\">break</span>\n",
              "        <span class=\"k\">for</span> <span class=\"n\">clause</span> <span class=\"ow\">in</span> <span class=\"n\">new</span><span class=\"p\">:</span>\n",
              "            <span class=\"n\">KB</span><span class=\"o\">.</span><span class=\"n\">tell</span><span class=\"p\">(</span><span class=\"n\">clause</span><span class=\"p\">)</span>\n",
              "    <span class=\"k\">return</span> <span class=\"bp\">None</span>\n",
              "</pre></div>\n",
              "</body>\n",
              "</html>\n"
            ],
            "text/plain": [
              "<IPython.core.display.HTML object>"
            ]
          },
          "metadata": {
            "tags": []
          }
        }
      ]
    },
    {
      "metadata": {
        "id": "GZzuMSIIWHln",
        "colab_type": "text"
      },
      "cell_type": "markdown",
      "source": [
        "Let's find out all the hostile nations. Note that we only told the `KB` that Nono was an enemy of America, not that it was hostile."
      ]
    },
    {
      "metadata": {
        "id": "Z-0i8V7hWHln",
        "colab_type": "code",
        "outputId": "42089a7f-4e95-4022-a677-848f7cb3331a",
        "colab": {
          "base_uri": "https://localhost:8080/",
          "height": 0
        }
      },
      "cell_type": "code",
      "source": [
        "answer = fol_fc_ask(crime_kb, expr('Hostile(x)'))\n",
        "print(list(answer))"
      ],
      "execution_count": 86,
      "outputs": [
        {
          "output_type": "stream",
          "text": [
            "[{x: Nono}]\n"
          ],
          "name": "stdout"
        }
      ]
    },
    {
      "metadata": {
        "id": "I5s9oG-jWHlp",
        "colab_type": "text"
      },
      "cell_type": "markdown",
      "source": [
        "The generator returned a single substitution which says that Nono is a hostile nation. See how after adding another enemy nation the generator returns two substitutions."
      ]
    },
    {
      "metadata": {
        "id": "tij9LITvWHlq",
        "colab_type": "code",
        "outputId": "8c0c8b15-53d1-41d2-816e-d66afef24e63",
        "colab": {
          "base_uri": "https://localhost:8080/",
          "height": 0
        }
      },
      "cell_type": "code",
      "source": [
        "crime_kb.tell(expr('Enemy(JaJa, America)'))\n",
        "answer = fol_fc_ask(crime_kb, expr('Hostile(x)'))\n",
        "print(list(answer))"
      ],
      "execution_count": 87,
      "outputs": [
        {
          "output_type": "stream",
          "text": [
            "[{x: Nono}, {x: JaJa}]\n"
          ],
          "name": "stdout"
        }
      ]
    },
    {
      "metadata": {
        "id": "tiG9DsMyWHlr",
        "colab_type": "text"
      },
      "cell_type": "markdown",
      "source": [
        "<strong><em>Note</em>:</strong> `fol_fc_ask` makes changes to the `KB` by adding sentences to it."
      ]
    },
    {
      "metadata": {
        "id": "kguTNdNtWHls",
        "colab_type": "text"
      },
      "cell_type": "markdown",
      "source": [
        "### Backward Chaining Algorithm\n",
        "This algorithm works backward from the goal, chaining through rules to find known facts that support the proof. Suppose `goal` is the query we want to find the substitution for. We find rules of the form $\\text{lhs} \\implies \\text{goal}$ in the `KB` and try to prove `lhs`. There may be multiple clauses in the `KB` which give multiple `lhs`. It is sufficient to prove only one of these. But to prove a `lhs` all the conjuncts in the `lhs` of the clause must be proved. This makes it similar to <em>And/Or</em> search."
      ]
    },
    {
      "metadata": {
        "id": "XiUdYORKWHls",
        "colab_type": "text"
      },
      "cell_type": "markdown",
      "source": [
        "#### OR\n",
        "The <em>OR</em> part of the algorithm comes from our choice to select any clause of the form $\\text{lhs} \\implies \\text{goal}$. Looking at all rules's `lhs` whose `rhs` unify with the `goal`, we yield a substitution which proves all the conjuncts in the `lhs`. We use `parse_definite_clause` to attain `lhs` and `rhs` from a clause of the form $\\text{lhs} \\implies \\text{rhs}$. For atomic facts the `lhs` is an empty list."
      ]
    },
    {
      "metadata": {
        "id": "ua5uw4hIWHls",
        "colab_type": "code",
        "outputId": "81a92e75-350d-4de7-9c32-674b99348b8d",
        "colab": {
          "base_uri": "https://localhost:8080/",
          "height": 0
        }
      },
      "cell_type": "code",
      "source": [
        "psource(fol_bc_or)"
      ],
      "execution_count": 88,
      "outputs": [
        {
          "output_type": "display_data",
          "data": {
            "text/html": [
              "<!DOCTYPE html PUBLIC \"-//W3C//DTD HTML 4.01//EN\"\n",
              "   \"http://www.w3.org/TR/html4/strict.dtd\">\n",
              "\n",
              "<html>\n",
              "<head>\n",
              "  <title></title>\n",
              "  <meta http-equiv=\"content-type\" content=\"text/html; charset=None\">\n",
              "  <style type=\"text/css\">\n",
              "td.linenos { background-color: #f0f0f0; padding-right: 10px; }\n",
              "span.lineno { background-color: #f0f0f0; padding: 0 5px 0 5px; }\n",
              "pre { line-height: 125%; }\n",
              "body .hll { background-color: #ffffcc }\n",
              "body  { background: #f8f8f8; }\n",
              "body .c { color: #408080; font-style: italic } /* Comment */\n",
              "body .err { border: 1px solid #FF0000 } /* Error */\n",
              "body .k { color: #008000; font-weight: bold } /* Keyword */\n",
              "body .o { color: #666666 } /* Operator */\n",
              "body .ch { color: #408080; font-style: italic } /* Comment.Hashbang */\n",
              "body .cm { color: #408080; font-style: italic } /* Comment.Multiline */\n",
              "body .cp { color: #BC7A00 } /* Comment.Preproc */\n",
              "body .cpf { color: #408080; font-style: italic } /* Comment.PreprocFile */\n",
              "body .c1 { color: #408080; font-style: italic } /* Comment.Single */\n",
              "body .cs { color: #408080; font-style: italic } /* Comment.Special */\n",
              "body .gd { color: #A00000 } /* Generic.Deleted */\n",
              "body .ge { font-style: italic } /* Generic.Emph */\n",
              "body .gr { color: #FF0000 } /* Generic.Error */\n",
              "body .gh { color: #000080; font-weight: bold } /* Generic.Heading */\n",
              "body .gi { color: #00A000 } /* Generic.Inserted */\n",
              "body .go { color: #888888 } /* Generic.Output */\n",
              "body .gp { color: #000080; font-weight: bold } /* Generic.Prompt */\n",
              "body .gs { font-weight: bold } /* Generic.Strong */\n",
              "body .gu { color: #800080; font-weight: bold } /* Generic.Subheading */\n",
              "body .gt { color: #0044DD } /* Generic.Traceback */\n",
              "body .kc { color: #008000; font-weight: bold } /* Keyword.Constant */\n",
              "body .kd { color: #008000; font-weight: bold } /* Keyword.Declaration */\n",
              "body .kn { color: #008000; font-weight: bold } /* Keyword.Namespace */\n",
              "body .kp { color: #008000 } /* Keyword.Pseudo */\n",
              "body .kr { color: #008000; font-weight: bold } /* Keyword.Reserved */\n",
              "body .kt { color: #B00040 } /* Keyword.Type */\n",
              "body .m { color: #666666 } /* Literal.Number */\n",
              "body .s { color: #BA2121 } /* Literal.String */\n",
              "body .na { color: #7D9029 } /* Name.Attribute */\n",
              "body .nb { color: #008000 } /* Name.Builtin */\n",
              "body .nc { color: #0000FF; font-weight: bold } /* Name.Class */\n",
              "body .no { color: #880000 } /* Name.Constant */\n",
              "body .nd { color: #AA22FF } /* Name.Decorator */\n",
              "body .ni { color: #999999; font-weight: bold } /* Name.Entity */\n",
              "body .ne { color: #D2413A; font-weight: bold } /* Name.Exception */\n",
              "body .nf { color: #0000FF } /* Name.Function */\n",
              "body .nl { color: #A0A000 } /* Name.Label */\n",
              "body .nn { color: #0000FF; font-weight: bold } /* Name.Namespace */\n",
              "body .nt { color: #008000; font-weight: bold } /* Name.Tag */\n",
              "body .nv { color: #19177C } /* Name.Variable */\n",
              "body .ow { color: #AA22FF; font-weight: bold } /* Operator.Word */\n",
              "body .w { color: #bbbbbb } /* Text.Whitespace */\n",
              "body .mb { color: #666666 } /* Literal.Number.Bin */\n",
              "body .mf { color: #666666 } /* Literal.Number.Float */\n",
              "body .mh { color: #666666 } /* Literal.Number.Hex */\n",
              "body .mi { color: #666666 } /* Literal.Number.Integer */\n",
              "body .mo { color: #666666 } /* Literal.Number.Oct */\n",
              "body .sb { color: #BA2121 } /* Literal.String.Backtick */\n",
              "body .sc { color: #BA2121 } /* Literal.String.Char */\n",
              "body .sd { color: #BA2121; font-style: italic } /* Literal.String.Doc */\n",
              "body .s2 { color: #BA2121 } /* Literal.String.Double */\n",
              "body .se { color: #BB6622; font-weight: bold } /* Literal.String.Escape */\n",
              "body .sh { color: #BA2121 } /* Literal.String.Heredoc */\n",
              "body .si { color: #BB6688; font-weight: bold } /* Literal.String.Interpol */\n",
              "body .sx { color: #008000 } /* Literal.String.Other */\n",
              "body .sr { color: #BB6688 } /* Literal.String.Regex */\n",
              "body .s1 { color: #BA2121 } /* Literal.String.Single */\n",
              "body .ss { color: #19177C } /* Literal.String.Symbol */\n",
              "body .bp { color: #008000 } /* Name.Builtin.Pseudo */\n",
              "body .vc { color: #19177C } /* Name.Variable.Class */\n",
              "body .vg { color: #19177C } /* Name.Variable.Global */\n",
              "body .vi { color: #19177C } /* Name.Variable.Instance */\n",
              "body .il { color: #666666 } /* Literal.Number.Integer.Long */\n",
              "\n",
              "  </style>\n",
              "</head>\n",
              "<body>\n",
              "<h2></h2>\n",
              "\n",
              "<div class=\"highlight\"><pre><span></span><span class=\"k\">def</span> <span class=\"nf\">fol_bc_or</span><span class=\"p\">(</span><span class=\"n\">KB</span><span class=\"p\">,</span> <span class=\"n\">goal</span><span class=\"p\">,</span> <span class=\"n\">theta</span><span class=\"p\">):</span>\n",
              "    <span class=\"k\">for</span> <span class=\"n\">rule</span> <span class=\"ow\">in</span> <span class=\"n\">KB</span><span class=\"o\">.</span><span class=\"n\">fetch_rules_for_goal</span><span class=\"p\">(</span><span class=\"n\">goal</span><span class=\"p\">):</span>\n",
              "        <span class=\"n\">lhs</span><span class=\"p\">,</span> <span class=\"n\">rhs</span> <span class=\"o\">=</span> <span class=\"n\">parse_definite_clause</span><span class=\"p\">(</span><span class=\"n\">standardize_variables</span><span class=\"p\">(</span><span class=\"n\">rule</span><span class=\"p\">))</span>\n",
              "        <span class=\"k\">for</span> <span class=\"n\">theta1</span> <span class=\"ow\">in</span> <span class=\"n\">fol_bc_and</span><span class=\"p\">(</span><span class=\"n\">KB</span><span class=\"p\">,</span> <span class=\"n\">lhs</span><span class=\"p\">,</span> <span class=\"n\">unify</span><span class=\"p\">(</span><span class=\"n\">rhs</span><span class=\"p\">,</span> <span class=\"n\">goal</span><span class=\"p\">,</span> <span class=\"n\">theta</span><span class=\"p\">)):</span>\n",
              "            <span class=\"k\">yield</span> <span class=\"n\">theta1</span>\n",
              "</pre></div>\n",
              "</body>\n",
              "</html>\n"
            ],
            "text/plain": [
              "<IPython.core.display.HTML object>"
            ]
          },
          "metadata": {
            "tags": []
          }
        }
      ]
    },
    {
      "metadata": {
        "id": "NiYLjKx-WHlt",
        "colab_type": "text"
      },
      "cell_type": "markdown",
      "source": [
        "#### AND\n",
        "The <em>AND</em> corresponds to proving all the conjuncts in the `lhs`. We need to find a substitution which proves each <em>and</em> every clause in the list of conjuncts."
      ]
    },
    {
      "metadata": {
        "id": "Bpbv60LcWHlt",
        "colab_type": "code",
        "outputId": "aeaa54f9-162a-470d-ccbd-dafceb5105ce",
        "colab": {
          "base_uri": "https://localhost:8080/",
          "height": 0
        }
      },
      "cell_type": "code",
      "source": [
        "psource(fol_bc_and)"
      ],
      "execution_count": 89,
      "outputs": [
        {
          "output_type": "display_data",
          "data": {
            "text/html": [
              "<!DOCTYPE html PUBLIC \"-//W3C//DTD HTML 4.01//EN\"\n",
              "   \"http://www.w3.org/TR/html4/strict.dtd\">\n",
              "\n",
              "<html>\n",
              "<head>\n",
              "  <title></title>\n",
              "  <meta http-equiv=\"content-type\" content=\"text/html; charset=None\">\n",
              "  <style type=\"text/css\">\n",
              "td.linenos { background-color: #f0f0f0; padding-right: 10px; }\n",
              "span.lineno { background-color: #f0f0f0; padding: 0 5px 0 5px; }\n",
              "pre { line-height: 125%; }\n",
              "body .hll { background-color: #ffffcc }\n",
              "body  { background: #f8f8f8; }\n",
              "body .c { color: #408080; font-style: italic } /* Comment */\n",
              "body .err { border: 1px solid #FF0000 } /* Error */\n",
              "body .k { color: #008000; font-weight: bold } /* Keyword */\n",
              "body .o { color: #666666 } /* Operator */\n",
              "body .ch { color: #408080; font-style: italic } /* Comment.Hashbang */\n",
              "body .cm { color: #408080; font-style: italic } /* Comment.Multiline */\n",
              "body .cp { color: #BC7A00 } /* Comment.Preproc */\n",
              "body .cpf { color: #408080; font-style: italic } /* Comment.PreprocFile */\n",
              "body .c1 { color: #408080; font-style: italic } /* Comment.Single */\n",
              "body .cs { color: #408080; font-style: italic } /* Comment.Special */\n",
              "body .gd { color: #A00000 } /* Generic.Deleted */\n",
              "body .ge { font-style: italic } /* Generic.Emph */\n",
              "body .gr { color: #FF0000 } /* Generic.Error */\n",
              "body .gh { color: #000080; font-weight: bold } /* Generic.Heading */\n",
              "body .gi { color: #00A000 } /* Generic.Inserted */\n",
              "body .go { color: #888888 } /* Generic.Output */\n",
              "body .gp { color: #000080; font-weight: bold } /* Generic.Prompt */\n",
              "body .gs { font-weight: bold } /* Generic.Strong */\n",
              "body .gu { color: #800080; font-weight: bold } /* Generic.Subheading */\n",
              "body .gt { color: #0044DD } /* Generic.Traceback */\n",
              "body .kc { color: #008000; font-weight: bold } /* Keyword.Constant */\n",
              "body .kd { color: #008000; font-weight: bold } /* Keyword.Declaration */\n",
              "body .kn { color: #008000; font-weight: bold } /* Keyword.Namespace */\n",
              "body .kp { color: #008000 } /* Keyword.Pseudo */\n",
              "body .kr { color: #008000; font-weight: bold } /* Keyword.Reserved */\n",
              "body .kt { color: #B00040 } /* Keyword.Type */\n",
              "body .m { color: #666666 } /* Literal.Number */\n",
              "body .s { color: #BA2121 } /* Literal.String */\n",
              "body .na { color: #7D9029 } /* Name.Attribute */\n",
              "body .nb { color: #008000 } /* Name.Builtin */\n",
              "body .nc { color: #0000FF; font-weight: bold } /* Name.Class */\n",
              "body .no { color: #880000 } /* Name.Constant */\n",
              "body .nd { color: #AA22FF } /* Name.Decorator */\n",
              "body .ni { color: #999999; font-weight: bold } /* Name.Entity */\n",
              "body .ne { color: #D2413A; font-weight: bold } /* Name.Exception */\n",
              "body .nf { color: #0000FF } /* Name.Function */\n",
              "body .nl { color: #A0A000 } /* Name.Label */\n",
              "body .nn { color: #0000FF; font-weight: bold } /* Name.Namespace */\n",
              "body .nt { color: #008000; font-weight: bold } /* Name.Tag */\n",
              "body .nv { color: #19177C } /* Name.Variable */\n",
              "body .ow { color: #AA22FF; font-weight: bold } /* Operator.Word */\n",
              "body .w { color: #bbbbbb } /* Text.Whitespace */\n",
              "body .mb { color: #666666 } /* Literal.Number.Bin */\n",
              "body .mf { color: #666666 } /* Literal.Number.Float */\n",
              "body .mh { color: #666666 } /* Literal.Number.Hex */\n",
              "body .mi { color: #666666 } /* Literal.Number.Integer */\n",
              "body .mo { color: #666666 } /* Literal.Number.Oct */\n",
              "body .sb { color: #BA2121 } /* Literal.String.Backtick */\n",
              "body .sc { color: #BA2121 } /* Literal.String.Char */\n",
              "body .sd { color: #BA2121; font-style: italic } /* Literal.String.Doc */\n",
              "body .s2 { color: #BA2121 } /* Literal.String.Double */\n",
              "body .se { color: #BB6622; font-weight: bold } /* Literal.String.Escape */\n",
              "body .sh { color: #BA2121 } /* Literal.String.Heredoc */\n",
              "body .si { color: #BB6688; font-weight: bold } /* Literal.String.Interpol */\n",
              "body .sx { color: #008000 } /* Literal.String.Other */\n",
              "body .sr { color: #BB6688 } /* Literal.String.Regex */\n",
              "body .s1 { color: #BA2121 } /* Literal.String.Single */\n",
              "body .ss { color: #19177C } /* Literal.String.Symbol */\n",
              "body .bp { color: #008000 } /* Name.Builtin.Pseudo */\n",
              "body .vc { color: #19177C } /* Name.Variable.Class */\n",
              "body .vg { color: #19177C } /* Name.Variable.Global */\n",
              "body .vi { color: #19177C } /* Name.Variable.Instance */\n",
              "body .il { color: #666666 } /* Literal.Number.Integer.Long */\n",
              "\n",
              "  </style>\n",
              "</head>\n",
              "<body>\n",
              "<h2></h2>\n",
              "\n",
              "<div class=\"highlight\"><pre><span></span><span class=\"k\">def</span> <span class=\"nf\">fol_bc_and</span><span class=\"p\">(</span><span class=\"n\">KB</span><span class=\"p\">,</span> <span class=\"n\">goals</span><span class=\"p\">,</span> <span class=\"n\">theta</span><span class=\"p\">):</span>\n",
              "    <span class=\"k\">if</span> <span class=\"n\">theta</span> <span class=\"ow\">is</span> <span class=\"bp\">None</span><span class=\"p\">:</span>\n",
              "        <span class=\"k\">pass</span>\n",
              "    <span class=\"k\">elif</span> <span class=\"ow\">not</span> <span class=\"n\">goals</span><span class=\"p\">:</span>\n",
              "        <span class=\"k\">yield</span> <span class=\"n\">theta</span>\n",
              "    <span class=\"k\">else</span><span class=\"p\">:</span>\n",
              "        <span class=\"n\">first</span><span class=\"p\">,</span> <span class=\"n\">rest</span> <span class=\"o\">=</span> <span class=\"n\">goals</span><span class=\"p\">[</span><span class=\"mi\">0</span><span class=\"p\">],</span> <span class=\"n\">goals</span><span class=\"p\">[</span><span class=\"mi\">1</span><span class=\"p\">:]</span>\n",
              "        <span class=\"k\">for</span> <span class=\"n\">theta1</span> <span class=\"ow\">in</span> <span class=\"n\">fol_bc_or</span><span class=\"p\">(</span><span class=\"n\">KB</span><span class=\"p\">,</span> <span class=\"n\">subst</span><span class=\"p\">(</span><span class=\"n\">theta</span><span class=\"p\">,</span> <span class=\"n\">first</span><span class=\"p\">),</span> <span class=\"n\">theta</span><span class=\"p\">):</span>\n",
              "            <span class=\"k\">for</span> <span class=\"n\">theta2</span> <span class=\"ow\">in</span> <span class=\"n\">fol_bc_and</span><span class=\"p\">(</span><span class=\"n\">KB</span><span class=\"p\">,</span> <span class=\"n\">rest</span><span class=\"p\">,</span> <span class=\"n\">theta1</span><span class=\"p\">):</span>\n",
              "                <span class=\"k\">yield</span> <span class=\"n\">theta2</span>\n",
              "</pre></div>\n",
              "</body>\n",
              "</html>\n"
            ],
            "text/plain": [
              "<IPython.core.display.HTML object>"
            ]
          },
          "metadata": {
            "tags": []
          }
        }
      ]
    },
    {
      "metadata": {
        "id": "O083gskyWHlw",
        "colab_type": "text"
      },
      "cell_type": "markdown",
      "source": [
        "Now the main function `fl_bc_ask` calls `fol_bc_or` with substitution initialized as empty. The `ask` method of `FolKB` uses `fol_bc_ask` and fetches the first substitution returned by the generator to answer query. Let's query the knowledge base we created from `clauses` to find hostile nations."
      ]
    },
    {
      "metadata": {
        "id": "j9YSXbeeWHlw",
        "colab_type": "code",
        "colab": {}
      },
      "cell_type": "code",
      "source": [
        "# Rebuild KB because running fol_fc_ask would add new facts to the KB\n",
        "crime_kb = FolKB(clauses)"
      ],
      "execution_count": 0,
      "outputs": []
    },
    {
      "metadata": {
        "id": "BL7Ph8Y9WHly",
        "colab_type": "code",
        "outputId": "2e00d0d1-e384-42e1-ed09-b6471fa6bd1f",
        "colab": {
          "base_uri": "https://localhost:8080/",
          "height": 0
        }
      },
      "cell_type": "code",
      "source": [
        "crime_kb.ask(expr('Hostile(x)'))"
      ],
      "execution_count": 91,
      "outputs": [
        {
          "output_type": "execute_result",
          "data": {
            "text/plain": [
              "{v_5: x, x: Nono}"
            ]
          },
          "metadata": {
            "tags": []
          },
          "execution_count": 91
        }
      ]
    },
    {
      "metadata": {
        "id": "RuuSPGJ5WHlz",
        "colab_type": "text"
      },
      "cell_type": "markdown",
      "source": [
        "You may notice some new variables in the substitution. They are introduced to standardize the variable names to prevent naming problems as discussed in the [Unification section](#Unification)"
      ]
    },
    {
      "metadata": {
        "id": "CVjmrKjXWHlz",
        "colab_type": "text"
      },
      "cell_type": "markdown",
      "source": [
        "## Appendix: The Implementation of `|'==>'|`\n",
        "\n",
        "Consider the `Expr` formed by this syntax:"
      ]
    },
    {
      "metadata": {
        "id": "QxIDt1V_WHlz",
        "colab_type": "code",
        "outputId": "0c36fd46-9084-4c47-e73b-292771765f78",
        "colab": {
          "base_uri": "https://localhost:8080/",
          "height": 0
        }
      },
      "cell_type": "code",
      "source": [
        "P |'==>'| ~Q"
      ],
      "execution_count": 92,
      "outputs": [
        {
          "output_type": "execute_result",
          "data": {
            "text/plain": [
              "(P ==> ~Q)"
            ]
          },
          "metadata": {
            "tags": []
          },
          "execution_count": 92
        }
      ]
    },
    {
      "metadata": {
        "id": "2vv1U3MnWHl3",
        "colab_type": "text"
      },
      "cell_type": "markdown",
      "source": [
        "What is the funny `|'==>'|` syntax? The trick is that \"`|`\" is just the regular Python or-operator, and so is exactly equivalent to this: "
      ]
    },
    {
      "metadata": {
        "id": "AqTXyEdsWHl3",
        "colab_type": "code",
        "outputId": "b37364f7-5621-4610-ead1-95901e0292d6",
        "colab": {
          "base_uri": "https://localhost:8080/",
          "height": 0
        }
      },
      "cell_type": "code",
      "source": [
        "(P | '==>') | ~Q"
      ],
      "execution_count": 93,
      "outputs": [
        {
          "output_type": "execute_result",
          "data": {
            "text/plain": [
              "(P ==> ~Q)"
            ]
          },
          "metadata": {
            "tags": []
          },
          "execution_count": 93
        }
      ]
    },
    {
      "metadata": {
        "id": "pgVRz4eBWHl4",
        "colab_type": "text"
      },
      "cell_type": "markdown",
      "source": [
        "In other words, there are two applications of or-operators. Here's the first one:"
      ]
    },
    {
      "metadata": {
        "id": "BEjE1c90WHl4",
        "colab_type": "code",
        "outputId": "452f4b97-5b42-43b2-dbde-0c57ac7ee802",
        "colab": {
          "base_uri": "https://localhost:8080/",
          "height": 0
        }
      },
      "cell_type": "code",
      "source": [
        "P | '==>'"
      ],
      "execution_count": 94,
      "outputs": [
        {
          "output_type": "execute_result",
          "data": {
            "text/plain": [
              "PartialExpr('==>', P)"
            ]
          },
          "metadata": {
            "tags": []
          },
          "execution_count": 94
        }
      ]
    },
    {
      "metadata": {
        "id": "n_uElGzNWHl5",
        "colab_type": "text"
      },
      "cell_type": "markdown",
      "source": [
        "What is going on here is that the `__or__` method of `Expr` serves a dual purpose. If the right-hand-side is another `Expr` (or a number), then the result is an `Expr`, as in `(P | Q)`. But if the right-hand-side is a string, then the string is taken to be an operator, and we create a node in the abstract syntax tree corresponding to a partially-filled  `Expr`, one where we know the left-hand-side is `P` and the operator is `==>`, but we don't yet know the right-hand-side.\n",
        "\n",
        "The `PartialExpr` class has an `__or__` method that says to create an `Expr` node with the right-hand-side filled in. Here we can see the combination of the `PartialExpr` with `Q` to create a complete `Expr`:"
      ]
    },
    {
      "metadata": {
        "id": "EkViEdCOWHl5",
        "colab_type": "code",
        "outputId": "5adf7946-d757-4708-da6a-04eb3ccfa9d5",
        "colab": {
          "base_uri": "https://localhost:8080/",
          "height": 0
        }
      },
      "cell_type": "code",
      "source": [
        "partial = PartialExpr('==>', P) \n",
        "partial | ~Q"
      ],
      "execution_count": 95,
      "outputs": [
        {
          "output_type": "execute_result",
          "data": {
            "text/plain": [
              "(P ==> ~Q)"
            ]
          },
          "metadata": {
            "tags": []
          },
          "execution_count": 95
        }
      ]
    },
    {
      "metadata": {
        "id": "yieca4qDWHl8",
        "colab_type": "text"
      },
      "cell_type": "markdown",
      "source": [
        "This  [trick](http://code.activestate.com/recipes/384122-infix-operators/) is due to [Ferdinand Jamitzky](http://code.activestate.com/recipes/users/98863/), with a modification by [C. G. Vedant](https://github.com/Chipe1),\n",
        "who suggested using a string inside the or-bars.\n",
        "\n",
        "## Appendix: The Implementation of `expr`\n",
        "\n",
        "How does `expr` parse a string into an `Expr`? It turns out there are two tricks (besides the Jamitzky/Vedant trick):\n",
        "\n",
        "1. We do a string substitution, replacing \"`==>`\" with \"`|'==>'|`\" (and likewise for other operators).\n",
        "2. We `eval` the resulting string in an environment in which every identifier\n",
        "is bound to a symbol with that identifier as the `op`.\n",
        "\n",
        "In other words,"
      ]
    },
    {
      "metadata": {
        "id": "-OEjhCilWHl8",
        "colab_type": "code",
        "outputId": "88f8ebd9-ded8-4da2-c1c1-a3a7d13f7586",
        "colab": {
          "base_uri": "https://localhost:8080/",
          "height": 34
        }
      },
      "cell_type": "code",
      "source": [
        "expr('~(P & Q)  ==>  (~P | ~Q)')"
      ],
      "execution_count": 96,
      "outputs": [
        {
          "output_type": "execute_result",
          "data": {
            "text/plain": [
              "(~(P & Q) ==> (~P | ~Q))"
            ]
          },
          "metadata": {
            "tags": []
          },
          "execution_count": 96
        }
      ]
    },
    {
      "metadata": {
        "id": "t_KfvAEVWHl9",
        "colab_type": "text"
      },
      "cell_type": "markdown",
      "source": [
        "is equivalent to doing:"
      ]
    },
    {
      "metadata": {
        "id": "Vp1WPi09WHl9",
        "colab_type": "code",
        "outputId": "8156bd14-0b5c-4950-8c76-58bb59efc8dc",
        "colab": {
          "base_uri": "https://localhost:8080/",
          "height": 34
        }
      },
      "cell_type": "code",
      "source": [
        "P, Q = symbols('P, Q')\n",
        "~(P & Q)  |'==>'|  (~P | ~Q)"
      ],
      "execution_count": 97,
      "outputs": [
        {
          "output_type": "execute_result",
          "data": {
            "text/plain": [
              "(~(P & Q) ==> (~P | ~Q))"
            ]
          },
          "metadata": {
            "tags": []
          },
          "execution_count": 97
        }
      ]
    },
    {
      "metadata": {
        "id": "R73DTFDmWHl-",
        "colab_type": "text"
      },
      "cell_type": "markdown",
      "source": [
        "One thing to beware of: this puts `==>` at the same precedence level as `\"|\"`, which is not quite right. For example, we get this:"
      ]
    },
    {
      "metadata": {
        "id": "M6w-pEw_WHl-",
        "colab_type": "code",
        "outputId": "ddb27cf1-bac9-48d9-c897-faca5b089dc5",
        "colab": {
          "base_uri": "https://localhost:8080/",
          "height": 34
        }
      },
      "cell_type": "code",
      "source": [
        "P & Q  |'==>'|  P | Q"
      ],
      "execution_count": 98,
      "outputs": [
        {
          "output_type": "execute_result",
          "data": {
            "text/plain": [
              "(((P & Q) ==> P) | Q)"
            ]
          },
          "metadata": {
            "tags": []
          },
          "execution_count": 98
        }
      ]
    },
    {
      "metadata": {
        "id": "E4lg3v68WHl_",
        "colab_type": "text"
      },
      "cell_type": "markdown",
      "source": [
        "which is probably not what we meant; when in doubt, put in extra parens:"
      ]
    },
    {
      "metadata": {
        "id": "VZksi3viWHl_",
        "colab_type": "code",
        "outputId": "9ca537f0-9e46-4ece-de7a-3e94778fee7c",
        "colab": {
          "base_uri": "https://localhost:8080/",
          "height": 34
        }
      },
      "cell_type": "code",
      "source": [
        "(P & Q)  |'==>'|  (P | Q)"
      ],
      "execution_count": 99,
      "outputs": [
        {
          "output_type": "execute_result",
          "data": {
            "text/plain": [
              "((P & Q) ==> (P | Q))"
            ]
          },
          "metadata": {
            "tags": []
          },
          "execution_count": 99
        }
      ]
    },
    {
      "metadata": {
        "id": "gDDNWQfLWHmA",
        "colab_type": "code",
        "outputId": "4e0ed4b1-33ff-4f12-b596-42ab93ae3163",
        "colab": {
          "resources": {
            "http://localhost:8080/js/canvas.js": {
              "data": "CjwhRE9DVFlQRSBodG1sPgo8aHRtbCBsYW5nPWVuPgogIDxtZXRhIGNoYXJzZXQ9dXRmLTg+CiAgPG1ldGEgbmFtZT12aWV3cG9ydCBjb250ZW50PSJpbml0aWFsLXNjYWxlPTEsIG1pbmltdW0tc2NhbGU9MSwgd2lkdGg9ZGV2aWNlLXdpZHRoIj4KICA8dGl0bGU+RXJyb3IgNDA0IChOb3QgRm91bmQpISExPC90aXRsZT4KICA8c3R5bGU+CiAgICAqe21hcmdpbjowO3BhZGRpbmc6MH1odG1sLGNvZGV7Zm9udDoxNXB4LzIycHggYXJpYWwsc2Fucy1zZXJpZn1odG1se2JhY2tncm91bmQ6I2ZmZjtjb2xvcjojMjIyO3BhZGRpbmc6MTVweH1ib2R5e21hcmdpbjo3JSBhdXRvIDA7bWF4LXdpZHRoOjM5MHB4O21pbi1oZWlnaHQ6MTgwcHg7cGFkZGluZzozMHB4IDAgMTVweH0qID4gYm9keXtiYWNrZ3JvdW5kOnVybCgvL3d3dy5nb29nbGUuY29tL2ltYWdlcy9lcnJvcnMvcm9ib3QucG5nKSAxMDAlIDVweCBuby1yZXBlYXQ7cGFkZGluZy1yaWdodDoyMDVweH1we21hcmdpbjoxMXB4IDAgMjJweDtvdmVyZmxvdzpoaWRkZW59aW5ze2NvbG9yOiM3Nzc7dGV4dC1kZWNvcmF0aW9uOm5vbmV9YSBpbWd7Ym9yZGVyOjB9QG1lZGlhIHNjcmVlbiBhbmQgKG1heC13aWR0aDo3NzJweCl7Ym9keXtiYWNrZ3JvdW5kOm5vbmU7bWFyZ2luLXRvcDowO21heC13aWR0aDpub25lO3BhZGRpbmctcmlnaHQ6MH19I2xvZ297YmFja2dyb3VuZDp1cmwoLy93d3cuZ29vZ2xlLmNvbS9pbWFnZXMvbG9nb3MvZXJyb3JwYWdlL2Vycm9yX2xvZ28tMTUweDU0LnBuZykgbm8tcmVwZWF0O21hcmdpbi1sZWZ0Oi01cHh9QG1lZGlhIG9ubHkgc2NyZWVuIGFuZCAobWluLXJlc29sdXRpb246MTkyZHBpKXsjbG9nb3tiYWNrZ3JvdW5kOnVybCgvL3d3dy5nb29nbGUuY29tL2ltYWdlcy9sb2dvcy9lcnJvcnBhZ2UvZXJyb3JfbG9nby0xNTB4NTQtMngucG5nKSBuby1yZXBlYXQgMCUgMCUvMTAwJSAxMDAlOy1tb3otYm9yZGVyLWltYWdlOnVybCgvL3d3dy5nb29nbGUuY29tL2ltYWdlcy9sb2dvcy9lcnJvcnBhZ2UvZXJyb3JfbG9nby0xNTB4NTQtMngucG5nKSAwfX1AbWVkaWEgb25seSBzY3JlZW4gYW5kICgtd2Via2l0LW1pbi1kZXZpY2UtcGl4ZWwtcmF0aW86Mil7I2xvZ297YmFja2dyb3VuZDp1cmwoLy93d3cuZ29vZ2xlLmNvbS9pbWFnZXMvbG9nb3MvZXJyb3JwYWdlL2Vycm9yX2xvZ28tMTUweDU0LTJ4LnBuZykgbm8tcmVwZWF0Oy13ZWJraXQtYmFja2dyb3VuZC1zaXplOjEwMCUgMTAwJX19I2xvZ297ZGlzcGxheTppbmxpbmUtYmxvY2s7aGVpZ2h0OjU0cHg7d2lkdGg6MTUwcHh9CiAgPC9zdHlsZT4KICA8YSBocmVmPS8vd3d3Lmdvb2dsZS5jb20vPjxzcGFuIGlkPWxvZ28gYXJpYS1sYWJlbD1Hb29nbGU+PC9zcGFuPjwvYT4KICA8cD48Yj40MDQuPC9iPiA8aW5zPlRoYXTigJlzIGFuIGVycm9yLjwvaW5zPgogIDxwPiAgPGlucz5UaGF04oCZcyBhbGwgd2Uga25vdy48L2lucz4K",
              "ok": false,
              "headers": [
                [
                  "content-length",
                  "1449"
                ],
                [
                  "content-type",
                  "text/html; charset=utf-8"
                ]
              ],
              "status": 404,
              "status_text": ""
            }
          },
          "base_uri": "https://localhost:8080/",
          "height": 621
        }
      },
      "cell_type": "code",
      "source": [
        "from notebook import Canvas_fol_bc_ask\n",
        "canvas_bc_ask = Canvas_fol_bc_ask('canvas_bc_ask', crime_kb, expr('Criminal(x)'))"
      ],
      "execution_count": 100,
      "outputs": [
        {
          "output_type": "display_data",
          "data": {
            "text/html": [
              "\n",
              "<script type=\"text/javascript\" src=\"./js/canvas.js\"></script>\n",
              "<div>\n",
              "<canvas id=\"canvas_bc_ask\" width=\"800\" height=\"600\" style=\"background:rgba(158, 167, 184, 0.2);\" onclick='click_callback(this, event, \"canvas_bc_ask\")'></canvas>\n",
              "</div>\n",
              "\n",
              "<script> var canvas_bc_ask_canvas_object = new Canvas(\"canvas_bc_ask\");</script>\n"
            ],
            "text/plain": [
              "<IPython.core.display.HTML object>"
            ]
          },
          "metadata": {
            "tags": []
          }
        },
        {
          "output_type": "display_data",
          "data": {
            "text/html": [
              "<script>\n",
              "canvas_bc_ask_canvas_object.clear();\n",
              "canvas_bc_ask_canvas_object.strokeWidth(3);\n",
              "canvas_bc_ask_canvas_object.stroke(0, 0, 0);\n",
              "canvas_bc_ask_canvas_object.font(\"12px Arial\");\n",
              "canvas_bc_ask_canvas_object.fill(200, 200, 200);\n",
              "canvas_bc_ask_canvas_object.rect(340, 85, 120, 30);\n",
              "canvas_bc_ask_canvas_object.line(340, 85, 460, 85);\n",
              "canvas_bc_ask_canvas_object.line(340, 85, 340, 115);\n",
              "canvas_bc_ask_canvas_object.line(460, 85, 460, 115);\n",
              "canvas_bc_ask_canvas_object.line(340, 115, 460, 115);\n",
              "canvas_bc_ask_canvas_object.fill(0, 0, 0);\n",
              "canvas_bc_ask_canvas_object.fill_text(\"Criminal(West)\", 348, 109);\n",
              "canvas_bc_ask_canvas_object.fill(200, 200, 200);\n",
              "canvas_bc_ask_canvas_object.rect(55, 255, 120, 30);\n",
              "canvas_bc_ask_canvas_object.line(55, 255, 175, 255);\n",
              "canvas_bc_ask_canvas_object.line(55, 255, 55, 285);\n",
              "canvas_bc_ask_canvas_object.line(175, 255, 175, 285);\n",
              "canvas_bc_ask_canvas_object.line(55, 285, 175, 285);\n",
              "canvas_bc_ask_canvas_object.fill(0, 0, 0);\n",
              "canvas_bc_ask_canvas_object.fill_text(\"American(West)\", 63, 279);\n",
              "canvas_bc_ask_canvas_object.fill(200, 200, 200);\n",
              "canvas_bc_ask_canvas_object.rect(245, 255, 120, 30);\n",
              "canvas_bc_ask_canvas_object.line(245, 255, 365, 255);\n",
              "canvas_bc_ask_canvas_object.line(245, 255, 245, 285);\n",
              "canvas_bc_ask_canvas_object.line(365, 255, 365, 285);\n",
              "canvas_bc_ask_canvas_object.line(245, 285, 365, 285);\n",
              "canvas_bc_ask_canvas_object.fill(0, 0, 0);\n",
              "canvas_bc_ask_canvas_object.fill_text(\"Weapon(M1)\", 253, 279);\n",
              "canvas_bc_ask_canvas_object.fill(200, 200, 200);\n",
              "canvas_bc_ask_canvas_object.rect(435, 255, 120, 30);\n",
              "canvas_bc_ask_canvas_object.line(435, 255, 555, 255);\n",
              "canvas_bc_ask_canvas_object.line(435, 255, 435, 285);\n",
              "canvas_bc_ask_canvas_object.line(555, 255, 555, 285);\n",
              "canvas_bc_ask_canvas_object.line(435, 285, 555, 285);\n",
              "canvas_bc_ask_canvas_object.fill(0, 0, 0);\n",
              "canvas_bc_ask_canvas_object.fill_text(\"Sells(West, M1, Nono)\", 443, 279);\n",
              "canvas_bc_ask_canvas_object.fill(200, 200, 200);\n",
              "canvas_bc_ask_canvas_object.rect(625, 255, 120, 30);\n",
              "canvas_bc_ask_canvas_object.line(625, 255, 745, 255);\n",
              "canvas_bc_ask_canvas_object.line(625, 255, 625, 285);\n",
              "canvas_bc_ask_canvas_object.line(745, 255, 745, 285);\n",
              "canvas_bc_ask_canvas_object.line(625, 285, 745, 285);\n",
              "canvas_bc_ask_canvas_object.fill(0, 0, 0);\n",
              "canvas_bc_ask_canvas_object.fill_text(\"Hostile(Nono)\", 633, 279);\n",
              "canvas_bc_ask_canvas_object.fill(200, 200, 200);\n",
              "canvas_bc_ask_canvas_object.rect(55, 425, 120, 30);\n",
              "canvas_bc_ask_canvas_object.line(55, 425, 175, 425);\n",
              "canvas_bc_ask_canvas_object.line(55, 425, 55, 455);\n",
              "canvas_bc_ask_canvas_object.line(175, 425, 175, 455);\n",
              "canvas_bc_ask_canvas_object.line(55, 455, 175, 455);\n",
              "canvas_bc_ask_canvas_object.fill(0, 0, 0);\n",
              "canvas_bc_ask_canvas_object.fill_text(\"Missile(M1)\", 63, 449);\n",
              "canvas_bc_ask_canvas_object.fill(200, 200, 200);\n",
              "canvas_bc_ask_canvas_object.rect(245, 425, 120, 30);\n",
              "canvas_bc_ask_canvas_object.line(245, 425, 365, 425);\n",
              "canvas_bc_ask_canvas_object.line(245, 425, 245, 455);\n",
              "canvas_bc_ask_canvas_object.line(365, 425, 365, 455);\n",
              "canvas_bc_ask_canvas_object.line(245, 455, 365, 455);\n",
              "canvas_bc_ask_canvas_object.fill(0, 0, 0);\n",
              "canvas_bc_ask_canvas_object.fill_text(\"Missile(M1)\", 253, 449);\n",
              "canvas_bc_ask_canvas_object.fill(200, 200, 200);\n",
              "canvas_bc_ask_canvas_object.rect(435, 425, 120, 30);\n",
              "canvas_bc_ask_canvas_object.line(435, 425, 555, 425);\n",
              "canvas_bc_ask_canvas_object.line(435, 425, 435, 455);\n",
              "canvas_bc_ask_canvas_object.line(555, 425, 555, 455);\n",
              "canvas_bc_ask_canvas_object.line(435, 455, 555, 455);\n",
              "canvas_bc_ask_canvas_object.fill(0, 0, 0);\n",
              "canvas_bc_ask_canvas_object.fill_text(\"Owns(Nono, M1)\", 443, 449);\n",
              "canvas_bc_ask_canvas_object.fill(200, 200, 200);\n",
              "canvas_bc_ask_canvas_object.rect(625, 425, 120, 30);\n",
              "canvas_bc_ask_canvas_object.line(625, 425, 745, 425);\n",
              "canvas_bc_ask_canvas_object.line(625, 425, 625, 455);\n",
              "canvas_bc_ask_canvas_object.line(745, 425, 745, 455);\n",
              "canvas_bc_ask_canvas_object.line(625, 455, 745, 455);\n",
              "canvas_bc_ask_canvas_object.fill(0, 0, 0);\n",
              "canvas_bc_ask_canvas_object.fill_text(\"Enemy(Nono, America)\", 633, 449);\n",
              "canvas_bc_ask_canvas_object.line(400, 115, 495, 255);\n",
              "canvas_bc_ask_canvas_object.line(305, 285, 115, 425);\n",
              "canvas_bc_ask_canvas_object.line(495, 285, 305, 425);\n",
              "canvas_bc_ask_canvas_object.line(685, 285, 685, 425);\n",
              "canvas_bc_ask_canvas_object.line(400, 115, 685, 255);\n",
              "canvas_bc_ask_canvas_object.line(400, 115, 305, 255);\n",
              "canvas_bc_ask_canvas_object.line(400, 115, 115, 255);\n",
              "canvas_bc_ask_canvas_object.line(495, 285, 495, 425);\n",
              "canvas_bc_ask_canvas_object.fill(255, 255, 255);\n",
              "canvas_bc_ask_canvas_object.rect(0, 540, 800, 60);\n",
              "canvas_bc_ask_canvas_object.strokeWidth(5);\n",
              "canvas_bc_ask_canvas_object.stroke(0, 0, 0);\n",
              "canvas_bc_ask_canvas_object.line(0, 540, 800, 540);\n",
              "canvas_bc_ask_canvas_object.font(\"22px Arial\");\n",
              "canvas_bc_ask_canvas_object.fill(0, 0, 0);\n",
              "canvas_bc_ask_canvas_object.fill_text(\"Click for text\", 20, 585);\n",
              "</script>"
            ],
            "text/plain": [
              "<IPython.core.display.HTML object>"
            ]
          },
          "metadata": {
            "tags": []
          }
        }
      ]
    },
    {
      "metadata": {
        "id": "CkZcnDqfWHmA",
        "colab_type": "text"
      },
      "cell_type": "markdown",
      "source": [
        "## Examples"
      ]
    },
    {
      "metadata": {
        "collapsed": true,
        "id": "jDGcEtOjWHmB",
        "colab_type": "text"
      },
      "cell_type": "markdown",
      "source": [
        "# Authors\n",
        "\n",
        "This notebook by [Chirag Vartak](https://github.com/chiragvartak) and [Peter Norvig](https://github.com/norvig).\n",
        "\n",
        "Colab edition by [Ghassem Tofighi](https://ghassem.com)"
      ]
    }
  ]
}